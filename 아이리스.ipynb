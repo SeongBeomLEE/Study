{
  "nbformat": 4,
  "nbformat_minor": 0,
  "metadata": {
    "colab": {
      "name": "아이리스.ipynb",
      "provenance": [],
      "collapsed_sections": [],
      "authorship_tag": "ABX9TyPghZbHoGM79N5Y2xepHzip"
    },
    "kernelspec": {
      "name": "python3",
      "display_name": "Python 3"
    }
  },
  "cells": [
    {
      "cell_type": "code",
      "metadata": {
        "id": "mkxI35srRAve"
      },
      "source": [
        "import numpy as np\r\n",
        "import pandas as pd\r\n",
        "import matplotlib.pyplot as plt\r\n",
        "import matplotlib as mpl\r\n",
        "import scipy\r\n",
        " \r\n",
        " # 데이터셋 라이브러리 로드\r\n",
        "from sklearn.datasets import load_iris\r\n",
        "# 의사결정나무 라이브러리 로드\r\n",
        "from sklearn.tree import DecisionTreeClassifier\r\n",
        "# 데이터 분리 라이브러리 로드\r\n",
        "from sklearn.model_selection import train_test_split\r\n",
        "from sklearn.model_selection import KFold\r\n",
        "from sklearn.model_selection import StratifiedKFold\r\n",
        "# 정확도 예측 라이브러리 로드\r\n",
        "from sklearn.metrics import accuracy_score"
      ],
      "execution_count": 20,
      "outputs": []
    },
    {
      "cell_type": "code",
      "metadata": {
        "id": "0oDJwYPyR_r-"
      },
      "source": [
        "# 데이터셋 로드\r\n",
        "iris = load_iris()"
      ],
      "execution_count": 21,
      "outputs": []
    },
    {
      "cell_type": "code",
      "metadata": {
        "id": "WDqorsEUWEIx"
      },
      "source": [
        "# target\r\n",
        "iris_label = iris.target\r\n",
        "\r\n",
        "# features\r\n",
        "iris_features = iris.data"
      ],
      "execution_count": 22,
      "outputs": []
    },
    {
      "cell_type": "code",
      "metadata": {
        "colab": {
          "base_uri": "https://localhost:8080/",
          "height": 419
        },
        "id": "O44a4hrwWXoF",
        "outputId": "1426178a-6627-491a-8602-6a1ca8a259f1"
      },
      "source": [
        "# 데이터 확인\r\n",
        "df = pd.DataFrame(iris_features, columns=iris.feature_names)\r\n",
        "df['label'] = iris_label\r\n",
        "df"
      ],
      "execution_count": 23,
      "outputs": [
        {
          "output_type": "execute_result",
          "data": {
            "text/html": [
              "<div>\n",
              "<style scoped>\n",
              "    .dataframe tbody tr th:only-of-type {\n",
              "        vertical-align: middle;\n",
              "    }\n",
              "\n",
              "    .dataframe tbody tr th {\n",
              "        vertical-align: top;\n",
              "    }\n",
              "\n",
              "    .dataframe thead th {\n",
              "        text-align: right;\n",
              "    }\n",
              "</style>\n",
              "<table border=\"1\" class=\"dataframe\">\n",
              "  <thead>\n",
              "    <tr style=\"text-align: right;\">\n",
              "      <th></th>\n",
              "      <th>sepal length (cm)</th>\n",
              "      <th>sepal width (cm)</th>\n",
              "      <th>petal length (cm)</th>\n",
              "      <th>petal width (cm)</th>\n",
              "      <th>label</th>\n",
              "    </tr>\n",
              "  </thead>\n",
              "  <tbody>\n",
              "    <tr>\n",
              "      <th>0</th>\n",
              "      <td>5.1</td>\n",
              "      <td>3.5</td>\n",
              "      <td>1.4</td>\n",
              "      <td>0.2</td>\n",
              "      <td>0</td>\n",
              "    </tr>\n",
              "    <tr>\n",
              "      <th>1</th>\n",
              "      <td>4.9</td>\n",
              "      <td>3.0</td>\n",
              "      <td>1.4</td>\n",
              "      <td>0.2</td>\n",
              "      <td>0</td>\n",
              "    </tr>\n",
              "    <tr>\n",
              "      <th>2</th>\n",
              "      <td>4.7</td>\n",
              "      <td>3.2</td>\n",
              "      <td>1.3</td>\n",
              "      <td>0.2</td>\n",
              "      <td>0</td>\n",
              "    </tr>\n",
              "    <tr>\n",
              "      <th>3</th>\n",
              "      <td>4.6</td>\n",
              "      <td>3.1</td>\n",
              "      <td>1.5</td>\n",
              "      <td>0.2</td>\n",
              "      <td>0</td>\n",
              "    </tr>\n",
              "    <tr>\n",
              "      <th>4</th>\n",
              "      <td>5.0</td>\n",
              "      <td>3.6</td>\n",
              "      <td>1.4</td>\n",
              "      <td>0.2</td>\n",
              "      <td>0</td>\n",
              "    </tr>\n",
              "    <tr>\n",
              "      <th>...</th>\n",
              "      <td>...</td>\n",
              "      <td>...</td>\n",
              "      <td>...</td>\n",
              "      <td>...</td>\n",
              "      <td>...</td>\n",
              "    </tr>\n",
              "    <tr>\n",
              "      <th>145</th>\n",
              "      <td>6.7</td>\n",
              "      <td>3.0</td>\n",
              "      <td>5.2</td>\n",
              "      <td>2.3</td>\n",
              "      <td>2</td>\n",
              "    </tr>\n",
              "    <tr>\n",
              "      <th>146</th>\n",
              "      <td>6.3</td>\n",
              "      <td>2.5</td>\n",
              "      <td>5.0</td>\n",
              "      <td>1.9</td>\n",
              "      <td>2</td>\n",
              "    </tr>\n",
              "    <tr>\n",
              "      <th>147</th>\n",
              "      <td>6.5</td>\n",
              "      <td>3.0</td>\n",
              "      <td>5.2</td>\n",
              "      <td>2.0</td>\n",
              "      <td>2</td>\n",
              "    </tr>\n",
              "    <tr>\n",
              "      <th>148</th>\n",
              "      <td>6.2</td>\n",
              "      <td>3.4</td>\n",
              "      <td>5.4</td>\n",
              "      <td>2.3</td>\n",
              "      <td>2</td>\n",
              "    </tr>\n",
              "    <tr>\n",
              "      <th>149</th>\n",
              "      <td>5.9</td>\n",
              "      <td>3.0</td>\n",
              "      <td>5.1</td>\n",
              "      <td>1.8</td>\n",
              "      <td>2</td>\n",
              "    </tr>\n",
              "  </tbody>\n",
              "</table>\n",
              "<p>150 rows × 5 columns</p>\n",
              "</div>"
            ],
            "text/plain": [
              "     sepal length (cm)  sepal width (cm)  ...  petal width (cm)  label\n",
              "0                  5.1               3.5  ...               0.2      0\n",
              "1                  4.9               3.0  ...               0.2      0\n",
              "2                  4.7               3.2  ...               0.2      0\n",
              "3                  4.6               3.1  ...               0.2      0\n",
              "4                  5.0               3.6  ...               0.2      0\n",
              "..                 ...               ...  ...               ...    ...\n",
              "145                6.7               3.0  ...               2.3      2\n",
              "146                6.3               2.5  ...               1.9      2\n",
              "147                6.5               3.0  ...               2.0      2\n",
              "148                6.2               3.4  ...               2.3      2\n",
              "149                5.9               3.0  ...               1.8      2\n",
              "\n",
              "[150 rows x 5 columns]"
            ]
          },
          "metadata": {
            "tags": []
          },
          "execution_count": 23
        }
      ]
    },
    {
      "cell_type": "code",
      "metadata": {
        "id": "4kme83SrXANu"
      },
      "source": [
        "# DecisionTreeClassifier 모델 구축\r\n",
        "dt_clf = DecisionTreeClassifier(random_state=22)"
      ],
      "execution_count": 6,
      "outputs": []
    },
    {
      "cell_type": "markdown",
      "metadata": {
        "id": "tiNw-_auTdVJ"
      },
      "source": [
        "# 교차검증"
      ]
    },
    {
      "cell_type": "code",
      "metadata": {
        "id": "R2R-MhuvWp_9"
      },
      "source": [
        "# 데이터셋을 트레인 데이터와 테스트 데이터로 분리\r\n",
        "# test_size는 테스트 데이터의 전체 데이터 대비 비율\r\n",
        "# random_state는 seed 값\r\n",
        "x_train, x_test, y_train, y_test = train_test_split(iris_features, iris_label, random_state=22, test_size=0.2)"
      ],
      "execution_count": 5,
      "outputs": []
    },
    {
      "cell_type": "code",
      "metadata": {
        "id": "7ABVsvSZXl08"
      },
      "source": [
        "# 모델 학습\r\n",
        "dt_clf.fit(x_train, y_train)\r\n",
        "\r\n",
        "# 모델 예측\r\n",
        "pred = dt_clf.predict(x_test)"
      ],
      "execution_count": 7,
      "outputs": []
    },
    {
      "cell_type": "code",
      "metadata": {
        "colab": {
          "base_uri": "https://localhost:8080/"
        },
        "id": "yLYQS0AbXlVE",
        "outputId": "bf3cde02-cf98-457b-b4b2-55ddbb1291d8"
      },
      "source": [
        "# 모델 정확도 측정\r\n",
        "print(\"DecisionTreeClassifier의 정확도 : {0:.4f}\".format(accuracy_score(y_test, pred)))"
      ],
      "execution_count": 8,
      "outputs": [
        {
          "output_type": "stream",
          "text": [
            "DecisionTreeClassifier의 정화도 : 0.9000\n"
          ],
          "name": "stdout"
        }
      ]
    },
    {
      "cell_type": "markdown",
      "metadata": {
        "id": "OnTlzKbKTilo"
      },
      "source": [
        "# KFold 교차검증 방법\r\n",
        "\r\n",
        "파쳐 값을 기준으로 데이터를 나눠서 검증을 해줌\r\n",
        "\r\n",
        "따라서 일반적으로 회귀문제에서 사용됨"
      ]
    },
    {
      "cell_type": "code",
      "metadata": {
        "colab": {
          "base_uri": "https://localhost:8080/"
        },
        "id": "SuazXP42ToKI",
        "outputId": "2fef89a3-83e1-4910-b8d8-56df13b14efa"
      },
      "source": [
        "df_cif_oof = np.zeros_like(iris_label)\r\n",
        "n_iter = 0\r\n",
        "kFold = KFold(n_splits=5)\r\n",
        "\r\n",
        "for train_index, test_index in kFold.split(iris_features):\r\n",
        "  x_train, x_test = iris_features[train_index], iris_features[test_index]\r\n",
        "  y_train, y_test = iris_label[train_index], iris_label[test_index]\r\n",
        "\r\n",
        "  dt_clf.fit(x_train, y_train)\r\n",
        "  pred = dt_clf.predict(x_test)\r\n",
        "  n_iter += 1\r\n",
        "\r\n",
        "  # 모델 정확도 측정\r\n",
        "  print(\"{0}번째 DecisionTreeClassifier의 정확도 : {1:.3f}, 학습 데이터의 크기: {2}, 검증데이터의 크기: {3}\".format(n_iter ,accuracy_score(y_test, pred), x_train.shape[0], x_test.shape[0]))\r\n",
        "  print(\"{0}번째 검증 세트의 라벨: {1}\".format(n_iter, y_test))\r\n",
        "\r\n",
        "  df_cif_oof[test_index] = pred\r\n",
        "\r\n",
        "# 모델 정확도 측정\r\n",
        "print(\"DecisionTreeClassifier의 정확도 : {0:.4f}\".format(accuracy_score(iris_label, df_cif_oof)))"
      ],
      "execution_count": 36,
      "outputs": [
        {
          "output_type": "stream",
          "text": [
            "1번째 DecisionTreeClassifier의 정확도 : 1.000, 학습 데이터의 크기: 120, 검증데이터의 크기: 30\n",
            "1번째 검증 세트의 라벨: [0 0 0 0 0 0 0 0 0 0 0 0 0 0 0 0 0 0 0 0 0 0 0 0 0 0 0 0 0 0]\n",
            "2번째 DecisionTreeClassifier의 정확도 : 0.967, 학습 데이터의 크기: 120, 검증데이터의 크기: 30\n",
            "2번째 검증 세트의 라벨: [0 0 0 0 0 0 0 0 0 0 0 0 0 0 0 0 0 0 0 0 1 1 1 1 1 1 1 1 1 1]\n",
            "3번째 DecisionTreeClassifier의 정확도 : 0.900, 학습 데이터의 크기: 120, 검증데이터의 크기: 30\n",
            "3번째 검증 세트의 라벨: [1 1 1 1 1 1 1 1 1 1 1 1 1 1 1 1 1 1 1 1 1 1 1 1 1 1 1 1 1 1]\n",
            "4번째 DecisionTreeClassifier의 정확도 : 0.933, 학습 데이터의 크기: 120, 검증데이터의 크기: 30\n",
            "4번째 검증 세트의 라벨: [1 1 1 1 1 1 1 1 1 1 2 2 2 2 2 2 2 2 2 2 2 2 2 2 2 2 2 2 2 2]\n",
            "5번째 DecisionTreeClassifier의 정확도 : 0.733, 학습 데이터의 크기: 120, 검증데이터의 크기: 30\n",
            "5번째 검증 세트의 라벨: [2 2 2 2 2 2 2 2 2 2 2 2 2 2 2 2 2 2 2 2 2 2 2 2 2 2 2 2 2 2]\n",
            "DecisionTreeClassifier의 정확도 : 0.9067\n"
          ],
          "name": "stdout"
        }
      ]
    },
    {
      "cell_type": "markdown",
      "metadata": {
        "id": "wDvYp5luTqbh"
      },
      "source": [
        "# Stratified KFold 교차검증 방법\r\n",
        "\r\n",
        "타겟 값이 불균형 할 때 최대한 비율을 맞춰서 검증을 해줌\r\n",
        "\r\n",
        "따라서 일반적으로 분류문제에서 사용됨"
      ]
    },
    {
      "cell_type": "code",
      "metadata": {
        "colab": {
          "base_uri": "https://localhost:8080/"
        },
        "id": "dRMnGsrNTpyY",
        "outputId": "da5372f5-8629-4e3d-f893-f2a79052fb94"
      },
      "source": [
        "df_cif_oof = np.zeros_like(iris_label)\r\n",
        "n_iter = 0\r\n",
        "skf = StratifiedKFold(n_splits=5)\r\n",
        "\r\n",
        "for train_index, test_index in skf.split(iris_features, iris_label):\r\n",
        "  x_train, x_test = iris_features[train_index], iris_features[test_index]\r\n",
        "  y_train, y_test = iris_label[train_index], iris_label[test_index]\r\n",
        "\r\n",
        "  dt_clf.fit(x_train, y_train)\r\n",
        "  pred = dt_clf.predict(x_test)\r\n",
        "  n_iter += 1\r\n",
        "\r\n",
        "  # 모델 정확도 측정\r\n",
        "  print(\"{0}번째 DecisionTreeClassifier의 정확도 : {1:.3f}, 학습 데이터의 크기: {2}, 검증데이터의 크기: {3}\".format(n_iter ,accuracy_score(y_test, pred), x_train.shape[0], x_test.shape[0]))\r\n",
        "  print(\"{0}번째 검증 세트의 라벨: {1}\".format(n_iter, y_test))\r\n",
        "\r\n",
        "  df_cif_oof[test_index] = pred\r\n",
        "\r\n",
        "# 모델 정확도 측정\r\n",
        "print(\"DecisionTreeClassifier의 정확도 : {0:.4f}\".format(accuracy_score(iris_label, df_cif_oof)))"
      ],
      "execution_count": 35,
      "outputs": [
        {
          "output_type": "stream",
          "text": [
            "1번째 DecisionTreeClassifier의 정확도 : 0.967, 학습 데이터의 크기: 120, 검증데이터의 크기: 30\n",
            "1번째 검증 세트의 라벨: [0 0 0 0 0 0 0 0 0 0 1 1 1 1 1 1 1 1 1 1 2 2 2 2 2 2 2 2 2 2]\n",
            "2번째 DecisionTreeClassifier의 정확도 : 0.967, 학습 데이터의 크기: 120, 검증데이터의 크기: 30\n",
            "2번째 검증 세트의 라벨: [0 0 0 0 0 0 0 0 0 0 1 1 1 1 1 1 1 1 1 1 2 2 2 2 2 2 2 2 2 2]\n",
            "3번째 DecisionTreeClassifier의 정확도 : 0.900, 학습 데이터의 크기: 120, 검증데이터의 크기: 30\n",
            "3번째 검증 세트의 라벨: [0 0 0 0 0 0 0 0 0 0 1 1 1 1 1 1 1 1 1 1 2 2 2 2 2 2 2 2 2 2]\n",
            "4번째 DecisionTreeClassifier의 정확도 : 0.933, 학습 데이터의 크기: 120, 검증데이터의 크기: 30\n",
            "4번째 검증 세트의 라벨: [0 0 0 0 0 0 0 0 0 0 1 1 1 1 1 1 1 1 1 1 2 2 2 2 2 2 2 2 2 2]\n",
            "5번째 DecisionTreeClassifier의 정확도 : 1.000, 학습 데이터의 크기: 120, 검증데이터의 크기: 30\n",
            "5번째 검증 세트의 라벨: [0 0 0 0 0 0 0 0 0 0 1 1 1 1 1 1 1 1 1 1 2 2 2 2 2 2 2 2 2 2]\n",
            "DecisionTreeClassifier의 정확도 : 0.9533\n"
          ],
          "name": "stdout"
        }
      ]
    },
    {
      "cell_type": "markdown",
      "metadata": {
        "id": "eG5thZ2wYKsw"
      },
      "source": [
        "# feature 중요도 출력"
      ]
    },
    {
      "cell_type": "code",
      "metadata": {
        "colab": {
          "base_uri": "https://localhost:8080/",
          "height": 338
        },
        "id": "z24VfYz7Mak3",
        "outputId": "da0a8572-2e78-4cf6-bddf-b160aa31566d"
      },
      "source": [
        "# 모델에서 중요하게 여기는 feature를 출력\r\n",
        "plt.figure(figsize=(12,5))\r\n",
        "plt.bar(x=iris.feature_names, height=dt_clf.feature_importances_)"
      ],
      "execution_count": 37,
      "outputs": [
        {
          "output_type": "execute_result",
          "data": {
            "text/plain": [
              "<BarContainer object of 4 artists>"
            ]
          },
          "metadata": {
            "tags": []
          },
          "execution_count": 37
        },
        {
          "output_type": "display_data",
          "data": {
            "image/png": "[encoded data removed]",
            "text/plain": [
              "<Figure size 864x360 with 1 Axes>"
            ]
          },
          "metadata": {
            "tags": [],
            "needs_background": "light"
          }
        }
      ]
    }
  ]
}