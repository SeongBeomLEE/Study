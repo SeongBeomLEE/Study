{
  "nbformat": 4,
  "nbformat_minor": 0,
  "metadata": {
    "colab": {
      "name": "Pytorch StratifiedSampler.ipynb",
      "provenance": [],
      "collapsed_sections": [],
      "authorship_tag": "ABX9TyOqgGetJr5BVo/uuQRS5RTn",
      "include_colab_link": true
    },
    "kernelspec": {
      "name": "python3",
      "display_name": "Python 3"
    },
    "language_info": {
      "name": "python"
    }
  },
  "cells": [
    {
      "cell_type": "markdown",
      "metadata": {
        "id": "view-in-github",
        "colab_type": "text"
      },
      "source": [
        "<a href=\"https://colab.research.google.com/github/SeongBeomLEE/Study/blob/main/Experiment/Pytorch_StratifiedSampler.ipynb\" target=\"_parent\"><img src=\"https://colab.research.google.com/assets/colab-badge.svg\" alt=\"Open In Colab\"/></a>"
      ]
    },
    {
      "cell_type": "markdown",
      "source": [
        "Pytorch StratifiedSampler 사용법"
      ],
      "metadata": {
        "id": "tXJVS_n_Fesv"
      }
    },
    {
      "cell_type": "markdown",
      "source": [
        "https://discuss.pytorch.org/t/how-to-enable-the-dataloader-to-sample-from-each-class-with-equal-probability/911/7"
      ],
      "metadata": {
        "id": "iHpcnw2uuVwE"
      }
    },
    {
      "cell_type": "code",
      "source": [
        "import matplotlib.pyplot as plt\n",
        "import numpy as np\n",
        "\n",
        "import torch\n",
        "import torchvision\n",
        "import torchvision.transforms as transforms\n",
        "\n",
        "import torch.nn as nn\n",
        "import torch.nn.functional as F\n",
        "import torch.optim as optim\n",
        "\n",
        "import os\n",
        "\n",
        "import warnings\n",
        "warnings.filterwarnings(action='ignore')"
      ],
      "metadata": {
        "id": "Bk9tFC4cucUB"
      },
      "execution_count": 31,
      "outputs": []
    },
    {
      "cell_type": "code",
      "execution_count": 32,
      "metadata": {
        "id": "ca4b8iUotolF"
      },
      "outputs": [],
      "source": [
        "from sklearn.model_selection import StratifiedKFold\n",
        "\n",
        "class StratifiedSampler(torch.utils.data.Sampler):\n",
        "    \"\"\"Stratified batch sampling\n",
        "    Provides equal representation of target classes in each batch\n",
        "    \"\"\"\n",
        "    def __init__(self, y, batch_size, shuffle=True):\n",
        "        if torch.is_tensor(y):\n",
        "            y = y.cpu().numpy()\n",
        "        assert len(y.shape) == 1, 'label array must be 1D'\n",
        "        n_batches = int(len(y) / batch_size)\n",
        "        self.skf = StratifiedKFold(n_splits=n_batches, shuffle=shuffle)\n",
        "        self.X = torch.randn(len(y),1).numpy()\n",
        "        self.y = y\n",
        "        self.shuffle = shuffle\n",
        "\n",
        "    def __iter__(self):\n",
        "        if self.shuffle:\n",
        "            self.skf.random_state = torch.randint(0,int(1e8),size=()).item()\n",
        "        for train_idx, test_idx in self.skf.split(self.X, self.y):\n",
        "            yield test_idx\n",
        "\n",
        "    def __len__(self):\n",
        "        return len(self.y)"
      ]
    },
    {
      "cell_type": "code",
      "source": [
        "common_transform = torchvision.transforms.Compose(\n",
        "  [\n",
        "    torchvision.transforms.ToTensor()\n",
        "  ]\n",
        ")\n",
        "\n",
        "fashion_train_transformed = torchvision.datasets.FashionMNIST(root='./fashion', train=True, download=True, transform=common_transform)\n",
        "fashion_test_transformed = torchvision.datasets.FashionMNIST(root='./fashion', train=False, download=True, transform=common_transform)"
      ],
      "metadata": {
        "id": "Ui9wwgAJuu-t"
      },
      "execution_count": 33,
      "outputs": []
    },
    {
      "cell_type": "code",
      "source": [
        "BATCH_SIZE = 128"
      ],
      "metadata": {
        "id": "AMZETgMvvhGm"
      },
      "execution_count": 48,
      "outputs": []
    },
    {
      "cell_type": "code",
      "source": [
        "from torch.utils.data import Dataset\n",
        "\n",
        "class TrainDataset(Dataset):\n",
        "    def __init__(self, x, y, train = False):\n",
        "        self.X = x\n",
        "        self.y = y\n",
        "\n",
        "    def __len__(self):\n",
        "        len_dataset= len(self.X)\n",
        "        return len_dataset\n",
        "\n",
        "    def __getitem__(self, idx):\n",
        "        X = torch.tensor(self.X[idx])\n",
        "        y = torch.tensor(self.y[idx])\n",
        "        return X, y"
      ],
      "metadata": {
        "id": "JjmPi8LpDIL8"
      },
      "execution_count": 89,
      "outputs": []
    },
    {
      "cell_type": "code",
      "source": [
        "x = torch.arange(len(fashion_train_transformed))\n",
        "y = fashion_train_transformed.targets\n",
        "x_dataset = TrainDataset(x, y)"
      ],
      "metadata": {
        "id": "6jnKEs7jCLmA"
      },
      "execution_count": 90,
      "outputs": []
    },
    {
      "cell_type": "code",
      "source": [
        "arr = fashion_train_transformed.targets.numpy()\n",
        "unique, counts = np.unique(arr, return_counts = True)\n",
        "uniq_cnt_dict = dict(zip(unique, counts))\n",
        "uniq_cnt_dict"
      ],
      "metadata": {
        "colab": {
          "base_uri": "https://localhost:8080/"
        },
        "id": "Saiay2xRyOZO",
        "outputId": "bb8e0aab-3879-46d8-dd65-7418e6ada784"
      },
      "execution_count": 92,
      "outputs": [
        {
          "output_type": "execute_result",
          "data": {
            "text/plain": [
              "{0: 6000,\n",
              " 1: 6000,\n",
              " 2: 6000,\n",
              " 3: 6000,\n",
              " 4: 6000,\n",
              " 5: 6000,\n",
              " 6: 6000,\n",
              " 7: 6000,\n",
              " 8: 6000,\n",
              " 9: 6000}"
            ]
          },
          "metadata": {},
          "execution_count": 92
        }
      ]
    },
    {
      "cell_type": "code",
      "source": [
        "not_stratify_fashion_train_dataloader = torch.utils.data.DataLoader(x_dataset, batch_size=BATCH_SIZE, shuffle = False, num_workers=2)\n",
        "\n",
        "arr = next(iter(not_stratify_fashion_train_dataloader))[1].numpy()\n",
        "unique, counts = np.unique(arr, return_counts = True)\n",
        "uniq_cnt_dict = dict(zip(unique, counts))\n",
        "uniq_cnt_dict"
      ],
      "metadata": {
        "colab": {
          "base_uri": "https://localhost:8080/"
        },
        "id": "oZd-Qms3vTAZ",
        "outputId": "aa62a6a3-739a-426f-f7af-4f60e3947744"
      },
      "execution_count": 111,
      "outputs": [
        {
          "output_type": "execute_result",
          "data": {
            "text/plain": [
              "{0: 13, 1: 15, 2: 12, 3: 16, 4: 10, 5: 14, 6: 15, 7: 11, 8: 8, 9: 14}"
            ]
          },
          "metadata": {},
          "execution_count": 111
        }
      ]
    },
    {
      "cell_type": "code",
      "source": [
        "for i in not_stratify_fashion_train_dataloader:\n",
        "    arr = i[1].numpy()\n",
        "    unique, counts = np.unique(arr, return_counts = True)\n",
        "    uniq_cnt_dict = dict(zip(unique, counts))\n",
        "    print(i[0], uniq_cnt_dict)"
      ],
      "metadata": {
        "id": "kjb4PP9_EkEX"
      },
      "execution_count": null,
      "outputs": []
    },
    {
      "cell_type": "code",
      "source": [
        "arr = x_dataset.y[i[0]].numpy()\n",
        "unique, counts = np.unique(arr, return_counts = True)\n",
        "uniq_cnt_dict = dict(zip(unique, counts))\n",
        "print(uniq_cnt_dict)"
      ],
      "metadata": {
        "colab": {
          "base_uri": "https://localhost:8080/"
        },
        "id": "z1CbZ9k8FQAy",
        "outputId": "3ab553bb-74aa-44fb-91b0-20b353cd23a9"
      },
      "execution_count": 113,
      "outputs": [
        {
          "output_type": "stream",
          "name": "stdout",
          "text": [
            "{0: 12, 1: 12, 2: 14, 3: 11, 4: 11, 5: 7, 6: 8, 7: 5, 8: 10, 9: 6}\n"
          ]
        }
      ]
    },
    {
      "cell_type": "code",
      "source": [
        "sampler = StratifiedSampler(y = x_dataset.y, batch_size = BATCH_SIZE, shuffle = False)\n",
        "\n",
        "stratify_fashion_train_dataloader = torch.utils.data.DataLoader(x_dataset, num_workers=2, batch_sampler = sampler)\n",
        "\n",
        "arr = next(iter(stratify_fashion_train_dataloader))[1].numpy()\n",
        "unique, counts = np.unique(arr, return_counts = True)\n",
        "uniq_cnt_dict = dict(zip(unique, counts))\n",
        "uniq_cnt_dict"
      ],
      "metadata": {
        "colab": {
          "base_uri": "https://localhost:8080/"
        },
        "id": "0STZccvIv7jv",
        "outputId": "4ed973d0-1c4e-46db-cd48-0cd3d193971c"
      },
      "execution_count": 114,
      "outputs": [
        {
          "output_type": "execute_result",
          "data": {
            "text/plain": [
              "{0: 13, 1: 13, 2: 13, 3: 13, 4: 13, 5: 12, 6: 13, 7: 13, 8: 13, 9: 13}"
            ]
          },
          "metadata": {},
          "execution_count": 114
        }
      ]
    },
    {
      "cell_type": "code",
      "source": [
        "for i in stratify_fashion_train_dataloader:\n",
        "    arr = i[1].numpy()\n",
        "    unique, counts = np.unique(arr, return_counts = True)\n",
        "    uniq_cnt_dict = dict(zip(unique, counts))\n",
        "    print(i[0], uniq_cnt_dict)"
      ],
      "metadata": {
        "id": "FGBAAa3FBuD3"
      },
      "execution_count": null,
      "outputs": []
    },
    {
      "cell_type": "code",
      "source": [
        "arr = x_dataset.y[i[0]].numpy()\n",
        "unique, counts = np.unique(arr, return_counts = True)\n",
        "uniq_cnt_dict = dict(zip(unique, counts))\n",
        "print(uniq_cnt_dict)"
      ],
      "metadata": {
        "id": "3w1iHiUm2lDB",
        "colab": {
          "base_uri": "https://localhost:8080/"
        },
        "outputId": "daaef275-893f-41db-cebf-0de4f2f9e0f9"
      },
      "execution_count": 116,
      "outputs": [
        {
          "output_type": "stream",
          "name": "stdout",
          "text": [
            "{0: 13, 1: 13, 2: 13, 3: 13, 4: 13, 5: 12, 6: 13, 7: 13, 8: 13, 9: 12}\n"
          ]
        }
      ]
    },
    {
      "cell_type": "code",
      "source": [
        ""
      ],
      "metadata": {
        "id": "z4oMvpnNFDGN"
      },
      "execution_count": null,
      "outputs": []
    }
  ]
}