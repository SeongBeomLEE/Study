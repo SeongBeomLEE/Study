{
  "nbformat": 4,
  "nbformat_minor": 0,
  "metadata": {
    "colab": {
      "name": "Feature Selction 기법.ipynb",
      "provenance": [],
      "collapsed_sections": [],
      "mount_file_id": "1Yraxg43HLaaZ8QAEZEbr0UFSuGc6Hdzt",
      "authorship_tag": "ABX9TyOGjJa3rEkpDOXUBvvVZzxI"
    },
    "kernelspec": {
      "name": "python3",
      "display_name": "Python 3"
    }
  },
  "cells": [
    {
      "cell_type": "markdown",
      "metadata": {
        "id": "R9rdtfIM1ULD"
      },
      "source": [
        "Recursive Feature Elimination\r\n",
        "\r\n",
        "- feaure 중요도가 낮은 속성들을 차례로 제거해 가면서 반복적으로 학습 / 평가를 수행하여 최적 feature 추출\r\n",
        "\r\n",
        "- 수행시간이 오래 걸리고, 낮은 속성들을 제거해 나가는 메커니즘이 정확한 Feature Selection을 찾는 목표에 정확히 부합하지 않을 수 있음"
      ]
    },
    {
      "cell_type": "code",
      "metadata": {
        "id": "h7ZGJosq1sea"
      },
      "source": [
        "import matplotlib.pyplot as plt\r\n",
        "from sklearn.svm import SVC\r\n",
        "from sklearn.model_selection import StratifiedKFold\r\n",
        "from sklearn.feature_selection import RFECV, RFE\r\n",
        "from sklearn.datasets import make_classification"
      ],
      "execution_count": null,
      "outputs": []
    },
    {
      "cell_type": "code",
      "metadata": {
        "colab": {
          "base_uri": "https://localhost:8080/",
          "height": 1000
        },
        "id": "WKzVBhOa2PS5",
        "outputId": "bf32c64b-e7d2-498a-a426-6028206e4b2b"
      },
      "source": [
        "X, y = make_classification(n_samples=1000, n_features=25, n_informative=3, n_redundant=2, n_repeated=0,\r\n",
        "                          n_classes=8, n_clusters_per_class = 1, random_state=0)\r\n",
        "\r\n",
        "svc = SVC(kernel='linear')\r\n",
        "rfecv = RFECV(estimator=svc, step=1, cv=StratifiedKFold(2), scoring='accuracy', verbose=2)\r\n",
        "rfecv.fit(X, y)\r\n",
        "\r\n",
        "print(\"features : \", rfecv.n_features_)\r\n",
        "\r\n",
        "plt.figure()\r\n",
        "plt.xlabel('Number of feactures selected')\r\n",
        "plt.ylabel('Cross validation score')\r\n",
        "plt.plot(range(1, len(rfecv.grid_scores_) + 1), rfecv.grid_scores_)\r\n",
        "plt.show()"
      ],
      "execution_count": null,
      "outputs": [
        {
          "output_type": "stream",
          "text": [
            "Fitting estimator with 25 features.\n",
            "Fitting estimator with 24 features.\n",
            "Fitting estimator with 23 features.\n",
            "Fitting estimator with 22 features.\n",
            "Fitting estimator with 21 features.\n",
            "Fitting estimator with 20 features.\n",
            "Fitting estimator with 19 features.\n",
            "Fitting estimator with 18 features.\n",
            "Fitting estimator with 17 features.\n",
            "Fitting estimator with 16 features.\n",
            "Fitting estimator with 15 features.\n",
            "Fitting estimator with 14 features.\n",
            "Fitting estimator with 13 features.\n",
            "Fitting estimator with 12 features.\n",
            "Fitting estimator with 11 features.\n",
            "Fitting estimator with 10 features.\n",
            "Fitting estimator with 9 features.\n",
            "Fitting estimator with 8 features.\n",
            "Fitting estimator with 7 features.\n",
            "Fitting estimator with 6 features.\n",
            "Fitting estimator with 5 features.\n",
            "Fitting estimator with 4 features.\n",
            "Fitting estimator with 3 features.\n",
            "Fitting estimator with 2 features.\n",
            "Fitting estimator with 25 features.\n",
            "Fitting estimator with 24 features.\n",
            "Fitting estimator with 23 features.\n",
            "Fitting estimator with 22 features.\n",
            "Fitting estimator with 21 features.\n",
            "Fitting estimator with 20 features.\n",
            "Fitting estimator with 19 features.\n",
            "Fitting estimator with 18 features.\n",
            "Fitting estimator with 17 features.\n",
            "Fitting estimator with 16 features.\n",
            "Fitting estimator with 15 features.\n",
            "Fitting estimator with 14 features.\n",
            "Fitting estimator with 13 features.\n",
            "Fitting estimator with 12 features.\n",
            "Fitting estimator with 11 features.\n",
            "Fitting estimator with 10 features.\n",
            "Fitting estimator with 9 features.\n",
            "Fitting estimator with 8 features.\n",
            "Fitting estimator with 7 features.\n",
            "Fitting estimator with 6 features.\n",
            "Fitting estimator with 5 features.\n",
            "Fitting estimator with 4 features.\n",
            "Fitting estimator with 3 features.\n",
            "Fitting estimator with 2 features.\n",
            "Fitting estimator with 25 features.\n",
            "Fitting estimator with 24 features.\n",
            "Fitting estimator with 23 features.\n",
            "Fitting estimator with 22 features.\n",
            "Fitting estimator with 21 features.\n",
            "Fitting estimator with 20 features.\n",
            "Fitting estimator with 19 features.\n",
            "Fitting estimator with 18 features.\n",
            "Fitting estimator with 17 features.\n",
            "Fitting estimator with 16 features.\n",
            "Fitting estimator with 15 features.\n",
            "Fitting estimator with 14 features.\n",
            "Fitting estimator with 13 features.\n",
            "Fitting estimator with 12 features.\n",
            "Fitting estimator with 11 features.\n",
            "Fitting estimator with 10 features.\n",
            "Fitting estimator with 9 features.\n",
            "Fitting estimator with 8 features.\n",
            "Fitting estimator with 7 features.\n",
            "Fitting estimator with 6 features.\n",
            "Fitting estimator with 5 features.\n",
            "Fitting estimator with 4 features.\n",
            "features :  3\n"
          ],
          "name": "stdout"
        },
        {
          "output_type": "display_data",
          "data": {
            "image/png": "[encoded data removed]",
            "text/plain": [
              "<Figure size 432x288 with 1 Axes>"
            ]
          },
          "metadata": {
            "tags": [],
            "needs_background": "light"
          }
        }
      ]
    },
    {
      "cell_type": "markdown",
      "metadata": {
        "id": "1KUk0PWZ4fHH"
      },
      "source": [
        "# SelcetFromModel"
      ]
    },
    {
      "cell_type": "code",
      "metadata": {
        "colab": {
          "base_uri": "https://localhost:8080/"
        },
        "id": "ZHEPCFCr39Ay",
        "outputId": "ba8b1be2-3de3-491a-8d10-fd4bf8447b70"
      },
      "source": [
        "from sklearn.datasets import load_diabetes\r\n",
        "\r\n",
        "diabetes = load_diabetes()\r\n",
        "\r\n",
        "X, y = diabetes.data, diabetes.target\r\n",
        "\r\n",
        "print(diabetes.DESCR)"
      ],
      "execution_count": null,
      "outputs": [
        {
          "output_type": "stream",
          "text": [
            ".. _diabetes_dataset:\n",
            "\n",
            "Diabetes dataset\n",
            "----------------\n",
            "\n",
            "Ten baseline variables, age, sex, body mass index, average blood\n",
            "pressure, and six blood serum measurements were obtained for each of n =\n",
            "442 diabetes patients, as well as the response of interest, a\n",
            "quantitative measure of disease progression one year after baseline.\n",
            "\n",
            "**Data Set Characteristics:**\n",
            "\n",
            "  :Number of Instances: 442\n",
            "\n",
            "  :Number of Attributes: First 10 columns are numeric predictive values\n",
            "\n",
            "  :Target: Column 11 is a quantitative measure of disease progression one year after baseline\n",
            "\n",
            "  :Attribute Information:\n",
            "      - Age\n",
            "      - Sex\n",
            "      - Body mass index\n",
            "      - Average blood pressure\n",
            "      - S1\n",
            "      - S2\n",
            "      - S3\n",
            "      - S4\n",
            "      - S5\n",
            "      - S6\n",
            "\n",
            "Note: Each of these 10 feature variables have been mean centered and scaled by the standard deviation times `n_samples` (i.e. the sum of squares of each column totals 1).\n",
            "\n",
            "Source URL:\n",
            "https://www4.stat.ncsu.edu/~boos/var.select/diabetes.html\n",
            "\n",
            "For more information see:\n",
            "Bradley Efron, Trevor Hastie, Iain Johnstone and Robert Tibshirani (2004) \"Least Angle Regression,\" Annals of Statistics (with discussion), 407-499.\n",
            "(https://web.stanford.edu/~hastie/Papers/LARS/LeastAngle_2002.pdf)\n"
          ],
          "name": "stdout"
        }
      ]
    },
    {
      "cell_type": "code",
      "metadata": {
        "id": "4b_zQaHN5Kgn"
      },
      "source": [
        "import matplotlib.pyplot as plt\r\n",
        "import numpy as np\r\n",
        "from sklearn.linear_model import LassoCV"
      ],
      "execution_count": null,
      "outputs": []
    },
    {
      "cell_type": "code",
      "metadata": {
        "colab": {
          "base_uri": "https://localhost:8080/",
          "height": 280
        },
        "id": "PF0en5eS5ZLF",
        "outputId": "a009ea62-3327-4aee-b120-c7103f2a316b"
      },
      "source": [
        "lasso = LassoCV().fit(X, y)\r\n",
        "importace = np.abs(lasso.coef_)\r\n",
        "feature_names = np.array(diabetes.feature_names)\r\n",
        "\r\n",
        "plt.bar(height=importace, x=feature_names)\r\n",
        "plt.title('Feature Importance Lassso')\r\n",
        "plt.show()"
      ],
      "execution_count": null,
      "outputs": [
        {
          "output_type": "display_data",
          "data": {
            "image/png": "[encoded data removed]",
            "text/plain": [
              "<Figure size 432x288 with 1 Axes>"
            ]
          },
          "metadata": {
            "tags": [],
            "needs_background": "light"
          }
        }
      ]
    },
    {
      "cell_type": "code",
      "metadata": {
        "colab": {
          "base_uri": "https://localhost:8080/"
        },
        "id": "1k_unu3q52r_",
        "outputId": "790d9202-24eb-4c06-ab36-47e09bf63b6c"
      },
      "source": [
        "from sklearn.feature_selection import SelectFromModel\r\n",
        "from time import time\r\n",
        "threshold = np.sort(importace)[-3] + 0.01\r\n",
        "print('threshold :', threshold)\r\n",
        "\r\n",
        "sfm = SelectFromModel(lasso, threshold=threshold).fit(X, y)\r\n",
        "\r\n",
        "sfm = SelectFromModel(lasso, threshold='median').fit(X, y)\r\n",
        "\r\n",
        "print('Feature Select', feature_names[sfm.get_support()])"
      ],
      "execution_count": null,
      "outputs": [
        {
          "output_type": "stream",
          "text": [
            "threshold : 521.748542606749\n",
            "Feature Select ['bmi' 'bp' 's1' 's2' 's5']\n"
          ],
          "name": "stdout"
        }
      ]
    },
    {
      "cell_type": "markdown",
      "metadata": {
        "id": "CWhiHcNJ6-mw"
      },
      "source": [
        "# Permutation(순열) importace\r\n",
        "- 특정 피처들의 값을 완전히 변조했을 때 모델 성능이 얼마나 저하되는지를 기준으로 해당 피처의 중요도를 산정\r\n",
        "\r\n",
        "- 학습 데이터를 제거하거나 변조하면 다시 제 학습을 수행해야 하므로 수행시간이 오래 걸림\r\n",
        "\r\n",
        "- 일반적으로 테스트 데이터에 특정 피처들을 반복적으로 변존한 뒤 해당 피처의 중요도를 평균적으로 산정\r\n",
        "\r\n",
        "https://scikit-learn.org/stable/modules/permutation_importance.html"
      ]
    },
    {
      "cell_type": "code",
      "metadata": {
        "id": "99uRhuGR7Yok"
      },
      "source": [
        "from sklearn.datasets import load_diabetes\r\n",
        "from sklearn.model_selection import train_test_split\r\n",
        "from sklearn.linear_model import Ridge\r\n",
        "from sklearn.metrics import r2_score"
      ],
      "execution_count": null,
      "outputs": []
    },
    {
      "cell_type": "code",
      "metadata": {
        "colab": {
          "base_uri": "https://localhost:8080/"
        },
        "id": "tVi9euA18dxk",
        "outputId": "c7fd7d7b-dea3-41cf-b8c5-28e6fae6998a"
      },
      "source": [
        "X_train, X_test, y_train, y_test = train_test_split(diabetes.data, diabetes.target, random_state=0)\r\n",
        "\r\n",
        "model = Ridge(alpha=1e-2).fit(X_train, y_train)\r\n",
        "y_pred = model.predict(X_test)\r\n",
        "print('r2_score', r2_score(y_test, y_pred))"
      ],
      "execution_count": null,
      "outputs": [
        {
          "output_type": "stream",
          "text": [
            "r2_score 0.35666062386954556\n"
          ],
          "name": "stdout"
        }
      ]
    },
    {
      "cell_type": "code",
      "metadata": {
        "colab": {
          "base_uri": "https://localhost:8080/"
        },
        "id": "IeTk-DtI83eo",
        "outputId": "876629de-2960-48c7-aa8b-a60d5104d9ce"
      },
      "source": [
        "from sklearn.inspection import permutation_importance\r\n",
        "r = permutation_importance(model, X_test, y_test, n_repeats=30, random_state=0)\r\n",
        "\r\n",
        "# 가장 평균 permutation_importance가 높은 순으로 내림차순으로 정렬 후 평균 permutation_importance값과 표준 편차 출력\r\n",
        "for i in r.importances_mean.argsort()[::-1]:\r\n",
        "  if r.importances_mean[i] - 2 * r.importances_std[i] > 0:\r\n",
        "    print(diabetes.feature_names[i], \" \", np.round(r.importances_mean[i], 4),' +/-', np.round(r.importances_std[i], 4))"
      ],
      "execution_count": null,
      "outputs": [
        {
          "output_type": "stream",
          "text": [
            "s5   0.2042  +/- 0.0496\n",
            "bmi   0.1758  +/- 0.0484\n",
            "bp   0.0884  +/- 0.0328\n",
            "sex   0.0559  +/- 0.0232\n"
          ],
          "name": "stdout"
        }
      ]
    },
    {
      "cell_type": "code",
      "metadata": {
        "colab": {
          "base_uri": "https://localhost:8080/"
        },
        "id": "TcHEh4Rp-Otk",
        "outputId": "9766ecba-aa72-43bf-c175-1d2accc7285f"
      },
      "source": [
        "print(diabetes.feature_names)\r\n",
        "print(r.importances_mean.tolist())"
      ],
      "execution_count": null,
      "outputs": [
        {
          "output_type": "stream",
          "text": [
            "['age', 'sex', 'bmi', 'bp', 's1', 's2', 's3', 's4', 's5', 's6']\n",
            "[-0.001992665521383626, 0.055874066190552574, 0.175790002055375, 0.08836512662857325, 0.04221133518249829, 0.0020362558443757155, 0.0020375366229764473, 0.00318695340309784, 0.2042341215487485, 0.0027868301016924944]\n"
          ],
          "name": "stdout"
        }
      ]
    },
    {
      "cell_type": "markdown",
      "metadata": {
        "id": "DMlk3upD-f1-"
      },
      "source": [
        "# 왜 featrue importance는 절대적인 feature slection 기준이 될 수 없는가?\r\n",
        "\r\n",
        "- Featrue importance는 최적 tree 구조를 만들기 위한 피처들의 impurity가 중요 기준임, 결정 값과 관련이 없어도 Featrue importance가 높아 질 수 있음.\r\n",
        "- Featrue importance는 학습 데이터를 기반으로 생성됨, 테스트 데이터 에서는 달라질 수 있음\r\n",
        "- Featrue importance number형의 높은 cardinality feature에 biased 되어 있음\r\n"
      ]
    },
    {
      "cell_type": "markdown",
      "metadata": {
        "id": "EyI49C3__MMt"
      },
      "source": [
        "## Permutation(순열) importace VS Random Forest Features Importance\r\n",
        "\r\n",
        "https://scikit-learn.org/stable/auto_examples/inspection/plot_permutation_importance.html\r\n",
        "\r\n",
        "https://tootouch.github.io/IML/permutation_feature_importance/\r\n",
        "\r\n",
        "데이터의 구성에 따라 중요 픽쳐가 달라지기 때문에 픽쳐를 선택하는 절대적인 방법은 아님 "
      ]
    },
    {
      "cell_type": "code",
      "metadata": {
        "id": "IdZyHOkBD_11"
      },
      "source": [
        "import pandas as pd\r\n",
        "import numpy as np\r\n",
        "import matplotlib.pyplot as plt\r\n",
        "import matplotlib as mpl\r\n",
        "import seaborn as sns\r\n",
        "\r\n",
        "# 경고무시\r\n",
        "import warnings\r\n",
        "warnings.filterwarnings(action='ignore')\r\n",
        "\r\n",
        "%matplotlib inline\r\n",
        "\r\n",
        "from sklearn.ensemble import RandomForestClassifier\r\n",
        "from sklearn.inspection import permutation_importance\r\n",
        "from sklearn.model_selection import train_test_split\r\n",
        "from sklearn.preprocessing import LabelEncoder"
      ],
      "execution_count": null,
      "outputs": []
    },
    {
      "cell_type": "code",
      "metadata": {
        "colab": {
          "base_uri": "https://localhost:8080/"
        },
        "id": "EGsIToZLGVF2",
        "outputId": "866f53f9-5b2b-4087-dbe7-86b93863e45d"
      },
      "source": [
        "df = pd.read_csv('/content/drive/MyDrive/Study/파이썬 머신러닝 완벽가이드/data/titanic_train.csv')\r\n",
        "df.info()"
      ],
      "execution_count": null,
      "outputs": [
        {
          "output_type": "stream",
          "text": [
            "<class 'pandas.core.frame.DataFrame'>\n",
            "RangeIndex: 891 entries, 0 to 890\n",
            "Data columns (total 12 columns):\n",
            " #   Column       Non-Null Count  Dtype  \n",
            "---  ------       --------------  -----  \n",
            " 0   PassengerId  891 non-null    int64  \n",
            " 1   Survived     891 non-null    int64  \n",
            " 2   Pclass       891 non-null    int64  \n",
            " 3   Name         891 non-null    object \n",
            " 4   Sex          891 non-null    object \n",
            " 5   Age          714 non-null    float64\n",
            " 6   SibSp        891 non-null    int64  \n",
            " 7   Parch        891 non-null    int64  \n",
            " 8   Ticket       891 non-null    object \n",
            " 9   Fare         891 non-null    float64\n",
            " 10  Cabin        204 non-null    object \n",
            " 11  Embarked     889 non-null    object \n",
            "dtypes: float64(2), int64(5), object(5)\n",
            "memory usage: 83.7+ KB\n"
          ],
          "name": "stdout"
        }
      ]
    },
    {
      "cell_type": "code",
      "metadata": {
        "colab": {
          "base_uri": "https://localhost:8080/"
        },
        "id": "4qFidUzqIFQ5",
        "outputId": "02946220-f9a2-4000-cd58-b5e89d11891f"
      },
      "source": [
        "df['Age'].fillna(df['Age'].mean(), inplace = True)\r\n",
        "df['Embarked'].fillna('S', inplace = True)\r\n",
        "df['Cabin'].fillna('N', inplace = True)\r\n",
        "\r\n",
        "print('* 결측치의 개수 *')\r\n",
        "df.isna().sum()"
      ],
      "execution_count": null,
      "outputs": [
        {
          "output_type": "stream",
          "text": [
            "* 결측치의 개수 *\n"
          ],
          "name": "stdout"
        },
        {
          "output_type": "execute_result",
          "data": {
            "text/plain": [
              "PassengerId    0\n",
              "Survived       0\n",
              "Pclass         0\n",
              "Name           0\n",
              "Sex            0\n",
              "Age            0\n",
              "SibSp          0\n",
              "Parch          0\n",
              "Ticket         0\n",
              "Fare           0\n",
              "Cabin          0\n",
              "Embarked       0\n",
              "dtype: int64"
            ]
          },
          "metadata": {
            "tags": []
          },
          "execution_count": 13
        }
      ]
    },
    {
      "cell_type": "code",
      "metadata": {
        "colab": {
          "base_uri": "https://localhost:8080/",
          "height": 190
        },
        "id": "kedlmUWtV4-A",
        "outputId": "b51b55b7-3eea-4949-f2ee-1fe6b5eb78d7"
      },
      "source": [
        "rng = np.random.RandomState(seed=42)\r\n",
        "# 3가지 값으로 caltegory 값 random 결정\r\n",
        "df['random_cat'] = rng.randint(3, size=df.shape[0])\r\n",
        "# X건수만큼 고유한 random값 결정\r\n",
        "df['random_num'] = rng.randn(df.shape[0])\r\n",
        "df.head()"
      ],
      "execution_count": null,
      "outputs": [
        {
          "output_type": "execute_result",
          "data": {
            "text/html": [
              "<div>\n",
              "<style scoped>\n",
              "    .dataframe tbody tr th:only-of-type {\n",
              "        vertical-align: middle;\n",
              "    }\n",
              "\n",
              "    .dataframe tbody tr th {\n",
              "        vertical-align: top;\n",
              "    }\n",
              "\n",
              "    .dataframe thead th {\n",
              "        text-align: right;\n",
              "    }\n",
              "</style>\n",
              "<table border=\"1\" class=\"dataframe\">\n",
              "  <thead>\n",
              "    <tr style=\"text-align: right;\">\n",
              "      <th></th>\n",
              "      <th>PassengerId</th>\n",
              "      <th>Survived</th>\n",
              "      <th>Pclass</th>\n",
              "      <th>Name</th>\n",
              "      <th>Sex</th>\n",
              "      <th>Age</th>\n",
              "      <th>SibSp</th>\n",
              "      <th>Parch</th>\n",
              "      <th>Ticket</th>\n",
              "      <th>Fare</th>\n",
              "      <th>Cabin</th>\n",
              "      <th>Embarked</th>\n",
              "      <th>random_cat</th>\n",
              "      <th>random_num</th>\n",
              "    </tr>\n",
              "  </thead>\n",
              "  <tbody>\n",
              "    <tr>\n",
              "      <th>0</th>\n",
              "      <td>1</td>\n",
              "      <td>0</td>\n",
              "      <td>3</td>\n",
              "      <td>Braund, Mr. Owen Harris</td>\n",
              "      <td>male</td>\n",
              "      <td>22.0</td>\n",
              "      <td>1</td>\n",
              "      <td>0</td>\n",
              "      <td>A/5 21171</td>\n",
              "      <td>7.2500</td>\n",
              "      <td>N</td>\n",
              "      <td>S</td>\n",
              "      <td>2</td>\n",
              "      <td>-2.145857</td>\n",
              "    </tr>\n",
              "    <tr>\n",
              "      <th>1</th>\n",
              "      <td>2</td>\n",
              "      <td>1</td>\n",
              "      <td>1</td>\n",
              "      <td>Cumings, Mrs. John Bradley (Florence Briggs Th...</td>\n",
              "      <td>female</td>\n",
              "      <td>38.0</td>\n",
              "      <td>1</td>\n",
              "      <td>0</td>\n",
              "      <td>PC 17599</td>\n",
              "      <td>71.2833</td>\n",
              "      <td>C85</td>\n",
              "      <td>C</td>\n",
              "      <td>0</td>\n",
              "      <td>0.512941</td>\n",
              "    </tr>\n",
              "    <tr>\n",
              "      <th>2</th>\n",
              "      <td>3</td>\n",
              "      <td>1</td>\n",
              "      <td>3</td>\n",
              "      <td>Heikkinen, Miss. Laina</td>\n",
              "      <td>female</td>\n",
              "      <td>26.0</td>\n",
              "      <td>0</td>\n",
              "      <td>0</td>\n",
              "      <td>STON/O2. 3101282</td>\n",
              "      <td>7.9250</td>\n",
              "      <td>N</td>\n",
              "      <td>S</td>\n",
              "      <td>2</td>\n",
              "      <td>-1.218490</td>\n",
              "    </tr>\n",
              "    <tr>\n",
              "      <th>3</th>\n",
              "      <td>4</td>\n",
              "      <td>1</td>\n",
              "      <td>1</td>\n",
              "      <td>Futrelle, Mrs. Jacques Heath (Lily May Peel)</td>\n",
              "      <td>female</td>\n",
              "      <td>35.0</td>\n",
              "      <td>1</td>\n",
              "      <td>0</td>\n",
              "      <td>113803</td>\n",
              "      <td>53.1000</td>\n",
              "      <td>C123</td>\n",
              "      <td>S</td>\n",
              "      <td>2</td>\n",
              "      <td>-1.160325</td>\n",
              "    </tr>\n",
              "    <tr>\n",
              "      <th>4</th>\n",
              "      <td>5</td>\n",
              "      <td>0</td>\n",
              "      <td>3</td>\n",
              "      <td>Allen, Mr. William Henry</td>\n",
              "      <td>male</td>\n",
              "      <td>35.0</td>\n",
              "      <td>0</td>\n",
              "      <td>0</td>\n",
              "      <td>373450</td>\n",
              "      <td>8.0500</td>\n",
              "      <td>N</td>\n",
              "      <td>S</td>\n",
              "      <td>0</td>\n",
              "      <td>-0.041626</td>\n",
              "    </tr>\n",
              "  </tbody>\n",
              "</table>\n",
              "</div>"
            ],
            "text/plain": [
              "   PassengerId  Survived  Pclass  ... Embarked random_cat  random_num\n",
              "0            1         0       3  ...        S          2   -2.145857\n",
              "1            2         1       1  ...        C          0    0.512941\n",
              "2            3         1       3  ...        S          2   -1.218490\n",
              "3            4         1       1  ...        S          2   -1.160325\n",
              "4            5         0       3  ...        S          0   -0.041626\n",
              "\n",
              "[5 rows x 14 columns]"
            ]
          },
          "metadata": {
            "tags": []
          },
          "execution_count": 14
        }
      ]
    },
    {
      "cell_type": "code",
      "metadata": {
        "id": "k3bDo1fvWwsi"
      },
      "source": [
        "cols = ['Pclass','Sex',\t'Age',\t'SibSp',\t'Parch',\t'Fare',\t'Cabin',\t'Embarked',\t'random_cat',\t'random_num']\r\n",
        "target = 'Survived'"
      ],
      "execution_count": null,
      "outputs": []
    },
    {
      "cell_type": "code",
      "metadata": {
        "colab": {
          "base_uri": "https://localhost:8080/",
          "height": 190
        },
        "id": "2icda27BWQsg",
        "outputId": "211bba5c-10f5-461a-801c-872a72516031"
      },
      "source": [
        "for col in cols:\r\n",
        "  le = LabelEncoder()\r\n",
        "  le = le.fit(df[col])\r\n",
        "  df[col] = le.transform(df[col])\r\n",
        "\r\n",
        "df.head()"
      ],
      "execution_count": null,
      "outputs": [
        {
          "output_type": "execute_result",
          "data": {
            "text/html": [
              "<div>\n",
              "<style scoped>\n",
              "    .dataframe tbody tr th:only-of-type {\n",
              "        vertical-align: middle;\n",
              "    }\n",
              "\n",
              "    .dataframe tbody tr th {\n",
              "        vertical-align: top;\n",
              "    }\n",
              "\n",
              "    .dataframe thead th {\n",
              "        text-align: right;\n",
              "    }\n",
              "</style>\n",
              "<table border=\"1\" class=\"dataframe\">\n",
              "  <thead>\n",
              "    <tr style=\"text-align: right;\">\n",
              "      <th></th>\n",
              "      <th>PassengerId</th>\n",
              "      <th>Survived</th>\n",
              "      <th>Pclass</th>\n",
              "      <th>Name</th>\n",
              "      <th>Sex</th>\n",
              "      <th>Age</th>\n",
              "      <th>SibSp</th>\n",
              "      <th>Parch</th>\n",
              "      <th>Ticket</th>\n",
              "      <th>Fare</th>\n",
              "      <th>Cabin</th>\n",
              "      <th>Embarked</th>\n",
              "      <th>random_cat</th>\n",
              "      <th>random_num</th>\n",
              "    </tr>\n",
              "  </thead>\n",
              "  <tbody>\n",
              "    <tr>\n",
              "      <th>0</th>\n",
              "      <td>1</td>\n",
              "      <td>0</td>\n",
              "      <td>2</td>\n",
              "      <td>Braund, Mr. Owen Harris</td>\n",
              "      <td>1</td>\n",
              "      <td>28</td>\n",
              "      <td>1</td>\n",
              "      <td>0</td>\n",
              "      <td>A/5 21171</td>\n",
              "      <td>18</td>\n",
              "      <td>146</td>\n",
              "      <td>2</td>\n",
              "      <td>2</td>\n",
              "      <td>11</td>\n",
              "    </tr>\n",
              "    <tr>\n",
              "      <th>1</th>\n",
              "      <td>2</td>\n",
              "      <td>1</td>\n",
              "      <td>0</td>\n",
              "      <td>Cumings, Mrs. John Bradley (Florence Briggs Th...</td>\n",
              "      <td>0</td>\n",
              "      <td>52</td>\n",
              "      <td>1</td>\n",
              "      <td>0</td>\n",
              "      <td>PC 17599</td>\n",
              "      <td>207</td>\n",
              "      <td>81</td>\n",
              "      <td>0</td>\n",
              "      <td>0</td>\n",
              "      <td>589</td>\n",
              "    </tr>\n",
              "    <tr>\n",
              "      <th>2</th>\n",
              "      <td>3</td>\n",
              "      <td>1</td>\n",
              "      <td>2</td>\n",
              "      <td>Heikkinen, Miss. Laina</td>\n",
              "      <td>0</td>\n",
              "      <td>34</td>\n",
              "      <td>0</td>\n",
              "      <td>0</td>\n",
              "      <td>STON/O2. 3101282</td>\n",
              "      <td>41</td>\n",
              "      <td>146</td>\n",
              "      <td>2</td>\n",
              "      <td>2</td>\n",
              "      <td>111</td>\n",
              "    </tr>\n",
              "    <tr>\n",
              "      <th>3</th>\n",
              "      <td>4</td>\n",
              "      <td>1</td>\n",
              "      <td>0</td>\n",
              "      <td>Futrelle, Mrs. Jacques Heath (Lily May Peel)</td>\n",
              "      <td>0</td>\n",
              "      <td>48</td>\n",
              "      <td>1</td>\n",
              "      <td>0</td>\n",
              "      <td>113803</td>\n",
              "      <td>189</td>\n",
              "      <td>55</td>\n",
              "      <td>2</td>\n",
              "      <td>2</td>\n",
              "      <td>122</td>\n",
              "    </tr>\n",
              "    <tr>\n",
              "      <th>4</th>\n",
              "      <td>5</td>\n",
              "      <td>0</td>\n",
              "      <td>2</td>\n",
              "      <td>Allen, Mr. William Henry</td>\n",
              "      <td>1</td>\n",
              "      <td>48</td>\n",
              "      <td>0</td>\n",
              "      <td>0</td>\n",
              "      <td>373450</td>\n",
              "      <td>43</td>\n",
              "      <td>146</td>\n",
              "      <td>2</td>\n",
              "      <td>0</td>\n",
              "      <td>407</td>\n",
              "    </tr>\n",
              "  </tbody>\n",
              "</table>\n",
              "</div>"
            ],
            "text/plain": [
              "   PassengerId  Survived  Pclass  ... Embarked  random_cat  random_num\n",
              "0            1         0       2  ...        2           2          11\n",
              "1            2         1       0  ...        0           0         589\n",
              "2            3         1       2  ...        2           2         111\n",
              "3            4         1       0  ...        2           2         122\n",
              "4            5         0       2  ...        2           0         407\n",
              "\n",
              "[5 rows x 14 columns]"
            ]
          },
          "metadata": {
            "tags": []
          },
          "execution_count": 16
        }
      ]
    },
    {
      "cell_type": "code",
      "metadata": {
        "id": "sg-SrbjeW3ZJ"
      },
      "source": [
        "X = df[cols]\r\n",
        "y = df[target]"
      ],
      "execution_count": null,
      "outputs": []
    },
    {
      "cell_type": "code",
      "metadata": {
        "id": "SnfLtTFXV8Sy"
      },
      "source": [
        "X_train, X_test, y_train, y_test = train_test_split(X, y, stratify=y, random_state=42)"
      ],
      "execution_count": null,
      "outputs": []
    },
    {
      "cell_type": "code",
      "metadata": {
        "colab": {
          "base_uri": "https://localhost:8080/"
        },
        "id": "nOAq8c3G_uCy",
        "outputId": "2556bd84-592e-4ce6-f170-1fc7abb34f8b"
      },
      "source": [
        "rf = RandomForestClassifier(random_state=42)\r\n",
        "\r\n",
        "rf.fit(X_train, y_train)\r\n",
        "\r\n",
        "print(\"RF train accuracy: %0.3f\" % rf.score(X_train, y_train))\r\n",
        "print(\"RF test accuracy: %0.3f\" % rf.score(X_test, y_test))"
      ],
      "execution_count": null,
      "outputs": [
        {
          "output_type": "stream",
          "text": [
            "RF train accuracy: 1.000\n",
            "RF test accuracy: 0.758\n"
          ],
          "name": "stdout"
        }
      ]
    },
    {
      "cell_type": "code",
      "metadata": {
        "colab": {
          "base_uri": "https://localhost:8080/",
          "height": 283
        },
        "id": "hriRVCHaXvi5",
        "outputId": "9e441838-0a8e-4efb-d75c-8d256b7d44cc"
      },
      "source": [
        "pd.Series(index = X_train.columns, data = rf.feature_importances_).sort_values().plot.barh()"
      ],
      "execution_count": null,
      "outputs": [
        {
          "output_type": "execute_result",
          "data": {
            "text/plain": [
              "<matplotlib.axes._subplots.AxesSubplot at 0x7f02f7ddb5c0>"
            ]
          },
          "metadata": {
            "tags": []
          },
          "execution_count": 20
        },
        {
          "output_type": "display_data",
          "data": {
            "image/png": "[encoded data removed]",
            "text/plain": [
              "<Figure size 432x288 with 1 Axes>"
            ]
          },
          "metadata": {
            "tags": [],
            "needs_background": "light"
          }
        }
      ]
    },
    {
      "cell_type": "code",
      "metadata": {
        "colab": {
          "base_uri": "https://localhost:8080/",
          "height": 296
        },
        "id": "B3VKH4BE_ya8",
        "outputId": "d442a97e-5e47-4fa8-85e7-e79107c84497"
      },
      "source": [
        "result = permutation_importance(rf, X_test, y_test, n_repeats=10,\r\n",
        "                                random_state=42, n_jobs=2)\r\n",
        "sorted_idx = result.importances_mean.argsort()\r\n",
        "\r\n",
        "fig, ax = plt.subplots()\r\n",
        "ax.boxplot(result.importances[sorted_idx].T,\r\n",
        "           vert=False, labels=X_test.columns[sorted_idx])\r\n",
        "ax.set_title(\"Permutation Importances (test set)\")\r\n",
        "fig.tight_layout()\r\n",
        "plt.show()"
      ],
      "execution_count": null,
      "outputs": [
        {
          "output_type": "display_data",
          "data": {
            "image/png": "[encoded data removed]",
            "text/plain": [
              "<Figure size 432x288 with 1 Axes>"
            ]
          },
          "metadata": {
            "tags": [],
            "needs_background": "light"
          }
        }
      ]
    },
    {
      "cell_type": "code",
      "metadata": {
        "id": "-EBi7IdJ_0n8",
        "colab": {
          "base_uri": "https://localhost:8080/",
          "height": 296
        },
        "outputId": "81864b48-bc90-4866-afdd-2c331e2fd5c7"
      },
      "source": [
        "result = permutation_importance(rf, X_train, y_train, n_repeats=10,\r\n",
        "                                random_state=42, n_jobs=2)\r\n",
        "sorted_idx = result.importances_mean.argsort()\r\n",
        "\r\n",
        "fig, ax = plt.subplots()\r\n",
        "ax.boxplot(result.importances[sorted_idx].T,\r\n",
        "           vert=False, labels=X_train.columns[sorted_idx])\r\n",
        "ax.set_title(\"Permutation Importances (train set)\")\r\n",
        "fig.tight_layout()\r\n",
        "plt.show()"
      ],
      "execution_count": null,
      "outputs": [
        {
          "output_type": "display_data",
          "data": {
            "image/png": "[encoded data removed]",
            "text/plain": [
              "<Figure size 432x288 with 1 Axes>"
            ]
          },
          "metadata": {
            "tags": [],
            "needs_background": "light"
          }
        }
      ]
    }
  ]
}