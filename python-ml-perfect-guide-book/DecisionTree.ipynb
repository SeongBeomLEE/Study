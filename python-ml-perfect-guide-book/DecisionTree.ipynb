{
  "nbformat": 4,
  "nbformat_minor": 0,
  "metadata": {
    "colab": {
      "name": "DecisionTree.ipynb",
      "provenance": [],
      "collapsed_sections": [],
      "mount_file_id": "1UupQKvxwJ4OGFl1jxbVFW4YS55SzwPDD",
      "authorship_tag": "ABX9TyPMC5uoFdgLvFDh6DLVtAOT"
    },
    "kernelspec": {
      "name": "python3",
      "display_name": "Python 3"
    }
  },
  "cells": [
    {
      "cell_type": "code",
      "metadata": {
        "id": "AURuFGBXya15"
      },
      "source": [
        "from sklearn.metrics import accuracy_score, precision_score, recall_score, confusion_matrix, f1_score, roc_auc_score\r\n",
        "\r\n",
        "def get_clf_eval(y_test, pred = None, pred_proba = None):\r\n",
        "  confusion = confusion_matrix(y_test, pred)\r\n",
        "  accuracy = accuracy_score(y_test, pred)\r\n",
        "  precision = precision_score(y_test, pred)\r\n",
        "  recall = recall_score(y_test, pred)\r\n",
        "  f1 = f1_score(y_test, pred)\r\n",
        "  roc_auc = roc_auc_score(y_test, pred_proba)\r\n",
        "  print('오차 행렬')\r\n",
        "  print(confusion)\r\n",
        "  print('정확도 : {0:.4f}, 정밀도 : {1:.4f}, 재현율 : {2:.4f}, F1 스코어: {3:.4f}, AUC: {4:.4f}'.format(accuracy, precision, recall, f1, roc_auc))"
      ],
      "execution_count": 2,
      "outputs": []
    },
    {
      "cell_type": "code",
      "metadata": {
        "id": "xFLFywgQAvFr"
      },
      "source": [
        "import pandas as pd\r\n",
        "import numpy as np\r\n",
        "import matplotlib.pyplot as plt\r\n",
        "import matplotlib as mpl\r\n",
        "import seaborn as sns\r\n",
        "\r\n",
        "from sklearn.tree import DecisionTreeClassifier\r\n",
        "from sklearn.datasets import load_iris\r\n",
        "from sklearn.model_selection import train_test_split\r\n",
        "import warnings\r\n",
        "warnings.filterwarnings('ignore')"
      ],
      "execution_count": 3,
      "outputs": []
    },
    {
      "cell_type": "markdown",
      "metadata": {
        "id": "mvouhBhuxlPU"
      },
      "source": [
        "# DecisionTree\r\n",
        "\r\n",
        "사이킷런의 DecisionTree은 CART 알고리즘 기반이기 때문에 회귀에서도 사용할 수 있다. "
      ]
    },
    {
      "cell_type": "markdown",
      "metadata": {
        "id": "8HZm8Z-ryF08"
      },
      "source": [
        "## 파라미터\r\n",
        "\r\n",
        "- 'max_depth' : 트리의 최대 깊이를 규정\r\n",
        "- 'min_samples_split' : 노드를 분활하기 위한 최소한의 샘플 수 \r\n",
        "- 'min_samples_leaf' : 말단 노드가 되기 위한 최소한의 샘플 수\r\n",
        "- 'max_features' : 최적의 분할을 위해 고려할 최대 피쳐 개수\r\n",
        "- 'max_leaf_nodes' : 말단 노드의 최대 개수\r\n",
        "- 'random_state' : seed 값 설정 \r\n",
        "\r\n",
        "random_state를 제외한 파라미터를 수정하면서 모델의 과적합을 방지하고 모델의 성능을 향상 시킬 수 있음"
      ]
    },
    {
      "cell_type": "markdown",
      "metadata": {
        "id": "mKIadmBM2wAx"
      },
      "source": [
        "## 기본 값으로 만든 모델"
      ]
    },
    {
      "cell_type": "code",
      "metadata": {
        "id": "C62krpATyKR5"
      },
      "source": [
        "params = {\r\n",
        "    'max_depth' : None, \r\n",
        "    'min_samples_split' : 2, \r\n",
        "    'min_samples_leaf' : 1, \r\n",
        "    'max_features' : None, \r\n",
        "    'max_leaf_nodes' : None, \r\n",
        "    'random_state' : 156\r\n",
        "    }"
      ],
      "execution_count": 4,
      "outputs": []
    },
    {
      "cell_type": "code",
      "metadata": {
        "id": "kvjoqRtm0DBq"
      },
      "source": [
        "dt_clf = DecisionTreeClassifier(**params)\r\n",
        "\r\n",
        "iris_data = load_iris()\r\n",
        "x_train, x_test, y_train, y_test = train_test_split(iris_data.data, iris_data.target, test_size=0.2, random_state = 156)\r\n",
        "\r\n",
        "dt_clf.fit(x_train, y_train)\r\n",
        "pred = dt_clf.predict(x_test)"
      ],
      "execution_count": 5,
      "outputs": []
    },
    {
      "cell_type": "code",
      "metadata": {
        "colab": {
          "base_uri": "https://localhost:8080/"
        },
        "id": "RZQ5BJOV3eV_",
        "outputId": "e9cb6366-4506-42c3-faa9-1d941a687102"
      },
      "source": [
        "from sklearn.metrics import accuracy_score\r\n",
        "accuracy_score(y_test, pred)"
      ],
      "execution_count": 6,
      "outputs": [
        {
          "output_type": "execute_result",
          "data": {
            "text/plain": [
              "0.9666666666666667"
            ]
          },
          "metadata": {
            "tags": []
          },
          "execution_count": 6
        }
      ]
    },
    {
      "cell_type": "code",
      "metadata": {
        "id": "Lp91ir0AylTS"
      },
      "source": [
        "from sklearn.tree import export_graphviz\r\n",
        "\r\n",
        "export_graphviz(dt_clf, out_file='tree.dot', class_names=iris_data.target_names, feature_names= iris_data.feature_names, impurity=True, filled=True)"
      ],
      "execution_count": 7,
      "outputs": []
    },
    {
      "cell_type": "code",
      "metadata": {
        "colab": {
          "base_uri": "https://localhost:8080/",
          "height": 1000
        },
        "id": "X2qC-tYG1VbA",
        "outputId": "b5d8680b-ae8b-46de-ccb9-4cefe81929df"
      },
      "source": [
        "import graphviz\r\n",
        "with open('tree.dot') as f:\r\n",
        "  dot_graph = f.read()\r\n",
        "\r\n",
        "graphviz.Source(dot_graph)"
      ],
      "execution_count": 8,
      "outputs": [
        {
          "output_type": "execute_result",
          "data": {
            "text/plain": [
              "<graphviz.files.Source at 0x7f3aa3392b38>"
            ],
            "image/svg+xml": "<?xml version=\"1.0\" encoding=\"UTF-8\" standalone=\"no\"?>\n<!DOCTYPE svg PUBLIC \"-//W3C//DTD SVG 1.1//EN\"\n \"http://www.w3.org/Graphics/SVG/1.1/DTD/svg11.dtd\">\n<!-- Generated by graphviz version 2.40.1 (20161225.0304)\n -->\n<!-- Title: Tree Pages: 1 -->\n<svg width=\"765pt\" height=\"790pt\"\n viewBox=\"0.00 0.00 764.50 790.00\" xmlns=\"http://www.w3.org/2000/svg\" xmlns:xlink=\"http://www.w3.org/1999/xlink\">\n<g id=\"graph0\" class=\"graph\" transform=\"scale(1 1) rotate(0) translate(4 786)\">\n<title>Tree</title>\n<polygon fill=\"#ffffff\" stroke=\"transparent\" points=\"-4,4 -4,-786 760.5,-786 760.5,4 -4,4\"/>\n<!-- 0 -->\n<g id=\"node1\" class=\"node\">\n<title>0</title>\n<polygon fill=\"#ffffff\" stroke=\"#000000\" points=\"269,-782 113,-782 113,-699 269,-699 269,-782\"/>\n<text text-anchor=\"middle\" x=\"191\" y=\"-766.8\" font-family=\"Times,serif\" font-size=\"14.00\" fill=\"#000000\">petal length (cm) &lt;= 2.6</text>\n<text text-anchor=\"middle\" x=\"191\" y=\"-751.8\" font-family=\"Times,serif\" font-size=\"14.00\" fill=\"#000000\">gini = 0.666</text>\n<text text-anchor=\"middle\" x=\"191\" y=\"-736.8\" font-family=\"Times,serif\" font-size=\"14.00\" fill=\"#000000\">samples = 120</text>\n<text text-anchor=\"middle\" x=\"191\" y=\"-721.8\" font-family=\"Times,serif\" font-size=\"14.00\" fill=\"#000000\">value = [41, 41, 38]</text>\n<text text-anchor=\"middle\" x=\"191\" y=\"-706.8\" font-family=\"Times,serif\" font-size=\"14.00\" fill=\"#000000\">class = setosa</text>\n</g>\n<!-- 1 -->\n<g id=\"node2\" class=\"node\">\n<title>1</title>\n<polygon fill=\"#e58139\" stroke=\"#000000\" points=\"170.5,-655.5 53.5,-655.5 53.5,-587.5 170.5,-587.5 170.5,-655.5\"/>\n<text text-anchor=\"middle\" x=\"112\" y=\"-640.3\" font-family=\"Times,serif\" font-size=\"14.00\" fill=\"#000000\">gini = 0.0</text>\n<text text-anchor=\"middle\" x=\"112\" y=\"-625.3\" font-family=\"Times,serif\" font-size=\"14.00\" fill=\"#000000\">samples = 41</text>\n<text text-anchor=\"middle\" x=\"112\" y=\"-610.3\" font-family=\"Times,serif\" font-size=\"14.00\" fill=\"#000000\">value = [41, 0, 0]</text>\n<text text-anchor=\"middle\" x=\"112\" y=\"-595.3\" font-family=\"Times,serif\" font-size=\"14.00\" fill=\"#000000\">class = setosa</text>\n</g>\n<!-- 0&#45;&gt;1 -->\n<g id=\"edge1\" class=\"edge\">\n<title>0&#45;&gt;1</title>\n<path fill=\"none\" stroke=\"#000000\" d=\"M163.3696,-698.8796C155.9237,-687.6636 147.8575,-675.5131 140.3718,-664.2372\"/>\n<polygon fill=\"#000000\" stroke=\"#000000\" points=\"143.2273,-662.2104 134.7805,-655.8149 137.3954,-666.082 143.2273,-662.2104\"/>\n<text text-anchor=\"middle\" x=\"129.83\" y=\"-676.6199\" font-family=\"Times,serif\" font-size=\"14.00\" fill=\"#000000\">True</text>\n</g>\n<!-- 2 -->\n<g id=\"node3\" class=\"node\">\n<title>2</title>\n<polygon fill=\"#f1fdf6\" stroke=\"#000000\" points=\"353,-663 189,-663 189,-580 353,-580 353,-663\"/>\n<text text-anchor=\"middle\" x=\"271\" y=\"-647.8\" font-family=\"Times,serif\" font-size=\"14.00\" fill=\"#000000\">petal length (cm) &lt;= 4.75</text>\n<text text-anchor=\"middle\" x=\"271\" y=\"-632.8\" font-family=\"Times,serif\" font-size=\"14.00\" fill=\"#000000\">gini = 0.499</text>\n<text text-anchor=\"middle\" x=\"271\" y=\"-617.8\" font-family=\"Times,serif\" font-size=\"14.00\" fill=\"#000000\">samples = 79</text>\n<text text-anchor=\"middle\" x=\"271\" y=\"-602.8\" font-family=\"Times,serif\" font-size=\"14.00\" fill=\"#000000\">value = [0, 41, 38]</text>\n<text text-anchor=\"middle\" x=\"271\" y=\"-587.8\" font-family=\"Times,serif\" font-size=\"14.00\" fill=\"#000000\">class = versicolor</text>\n</g>\n<!-- 0&#45;&gt;2 -->\n<g id=\"edge2\" class=\"edge\">\n<title>0&#45;&gt;2</title>\n<path fill=\"none\" stroke=\"#000000\" d=\"M218.9801,-698.8796C224.8531,-690.1434 231.1073,-680.8404 237.1679,-671.8253\"/>\n<polygon fill=\"#000000\" stroke=\"#000000\" points=\"240.2259,-673.5498 242.9005,-663.2981 234.4166,-669.6444 240.2259,-673.5498\"/>\n<text text-anchor=\"middle\" x=\"247.7085\" y=\"-684.1314\" font-family=\"Times,serif\" font-size=\"14.00\" fill=\"#000000\">False</text>\n</g>\n<!-- 3 -->\n<g id=\"node4\" class=\"node\">\n<title>3</title>\n<polygon fill=\"#3ee684\" stroke=\"#000000\" points=\"263.5,-544 98.5,-544 98.5,-461 263.5,-461 263.5,-544\"/>\n<text text-anchor=\"middle\" x=\"181\" y=\"-528.8\" font-family=\"Times,serif\" font-size=\"14.00\" fill=\"#000000\">sepal length (cm) &lt;= 4.95</text>\n<text text-anchor=\"middle\" x=\"181\" y=\"-513.8\" font-family=\"Times,serif\" font-size=\"14.00\" fill=\"#000000\">gini = 0.053</text>\n<text text-anchor=\"middle\" x=\"181\" y=\"-498.8\" font-family=\"Times,serif\" font-size=\"14.00\" fill=\"#000000\">samples = 37</text>\n<text text-anchor=\"middle\" x=\"181\" y=\"-483.8\" font-family=\"Times,serif\" font-size=\"14.00\" fill=\"#000000\">value = [0, 36, 1]</text>\n<text text-anchor=\"middle\" x=\"181\" y=\"-468.8\" font-family=\"Times,serif\" font-size=\"14.00\" fill=\"#000000\">class = versicolor</text>\n</g>\n<!-- 2&#45;&gt;3 -->\n<g id=\"edge3\" class=\"edge\">\n<title>2&#45;&gt;3</title>\n<path fill=\"none\" stroke=\"#000000\" d=\"M239.5224,-579.8796C232.8471,-571.0534 225.7342,-561.6485 218.8504,-552.5466\"/>\n<polygon fill=\"#000000\" stroke=\"#000000\" points=\"221.4357,-550.1626 212.612,-544.2981 215.8526,-554.3852 221.4357,-550.1626\"/>\n</g>\n<!-- 6 -->\n<g id=\"node7\" class=\"node\">\n<title>6</title>\n<polygon fill=\"#9254e9\" stroke=\"#000000\" points=\"442.5,-544 281.5,-544 281.5,-461 442.5,-461 442.5,-544\"/>\n<text text-anchor=\"middle\" x=\"362\" y=\"-528.8\" font-family=\"Times,serif\" font-size=\"14.00\" fill=\"#000000\">petal width (cm) &lt;= 1.75</text>\n<text text-anchor=\"middle\" x=\"362\" y=\"-513.8\" font-family=\"Times,serif\" font-size=\"14.00\" fill=\"#000000\">gini = 0.21</text>\n<text text-anchor=\"middle\" x=\"362\" y=\"-498.8\" font-family=\"Times,serif\" font-size=\"14.00\" fill=\"#000000\">samples = 42</text>\n<text text-anchor=\"middle\" x=\"362\" y=\"-483.8\" font-family=\"Times,serif\" font-size=\"14.00\" fill=\"#000000\">value = [0, 5, 37]</text>\n<text text-anchor=\"middle\" x=\"362\" y=\"-468.8\" font-family=\"Times,serif\" font-size=\"14.00\" fill=\"#000000\">class = virginica</text>\n</g>\n<!-- 2&#45;&gt;6 -->\n<g id=\"edge6\" class=\"edge\">\n<title>2&#45;&gt;6</title>\n<path fill=\"none\" stroke=\"#000000\" d=\"M302.8274,-579.8796C309.6457,-570.9633 316.9156,-561.4565 323.9421,-552.268\"/>\n<polygon fill=\"#000000\" stroke=\"#000000\" points=\"326.7425,-554.3678 330.0368,-544.2981 321.182,-550.1156 326.7425,-554.3678\"/>\n</g>\n<!-- 4 -->\n<g id=\"node5\" class=\"node\">\n<title>4</title>\n<polygon fill=\"#8139e5\" stroke=\"#000000\" points=\"110,-417.5 0,-417.5 0,-349.5 110,-349.5 110,-417.5\"/>\n<text text-anchor=\"middle\" x=\"55\" y=\"-402.3\" font-family=\"Times,serif\" font-size=\"14.00\" fill=\"#000000\">gini = 0.0</text>\n<text text-anchor=\"middle\" x=\"55\" y=\"-387.3\" font-family=\"Times,serif\" font-size=\"14.00\" fill=\"#000000\">samples = 1</text>\n<text text-anchor=\"middle\" x=\"55\" y=\"-372.3\" font-family=\"Times,serif\" font-size=\"14.00\" fill=\"#000000\">value = [0, 0, 1]</text>\n<text text-anchor=\"middle\" x=\"55\" y=\"-357.3\" font-family=\"Times,serif\" font-size=\"14.00\" fill=\"#000000\">class = virginica</text>\n</g>\n<!-- 3&#45;&gt;4 -->\n<g id=\"edge4\" class=\"edge\">\n<title>3&#45;&gt;4</title>\n<path fill=\"none\" stroke=\"#000000\" d=\"M136.9313,-460.8796C124.5898,-449.2237 111.1798,-436.5587 98.851,-424.9148\"/>\n<polygon fill=\"#000000\" stroke=\"#000000\" points=\"101.0068,-422.1366 91.3335,-417.8149 96.2004,-427.2258 101.0068,-422.1366\"/>\n</g>\n<!-- 5 -->\n<g id=\"node6\" class=\"node\">\n<title>5</title>\n<polygon fill=\"#39e581\" stroke=\"#000000\" points=\"245.5,-417.5 128.5,-417.5 128.5,-349.5 245.5,-349.5 245.5,-417.5\"/>\n<text text-anchor=\"middle\" x=\"187\" y=\"-402.3\" font-family=\"Times,serif\" font-size=\"14.00\" fill=\"#000000\">gini = 0.0</text>\n<text text-anchor=\"middle\" x=\"187\" y=\"-387.3\" font-family=\"Times,serif\" font-size=\"14.00\" fill=\"#000000\">samples = 36</text>\n<text text-anchor=\"middle\" x=\"187\" y=\"-372.3\" font-family=\"Times,serif\" font-size=\"14.00\" fill=\"#000000\">value = [0, 36, 0]</text>\n<text text-anchor=\"middle\" x=\"187\" y=\"-357.3\" font-family=\"Times,serif\" font-size=\"14.00\" fill=\"#000000\">class = versicolor</text>\n</g>\n<!-- 3&#45;&gt;5 -->\n<g id=\"edge5\" class=\"edge\">\n<title>3&#45;&gt;5</title>\n<path fill=\"none\" stroke=\"#000000\" d=\"M183.0985,-460.8796C183.6363,-450.2134 184.2167,-438.7021 184.7613,-427.9015\"/>\n<polygon fill=\"#000000\" stroke=\"#000000\" points=\"188.2617,-427.9785 185.2698,-417.8149 181.2706,-427.626 188.2617,-427.9785\"/>\n</g>\n<!-- 7 -->\n<g id=\"node8\" class=\"node\">\n<title>7</title>\n<polygon fill=\"#ffffff\" stroke=\"#000000\" points=\"439,-425 275,-425 275,-342 439,-342 439,-425\"/>\n<text text-anchor=\"middle\" x=\"357\" y=\"-409.8\" font-family=\"Times,serif\" font-size=\"14.00\" fill=\"#000000\">petal length (cm) &lt;= 4.95</text>\n<text text-anchor=\"middle\" x=\"357\" y=\"-394.8\" font-family=\"Times,serif\" font-size=\"14.00\" fill=\"#000000\">gini = 0.5</text>\n<text text-anchor=\"middle\" x=\"357\" y=\"-379.8\" font-family=\"Times,serif\" font-size=\"14.00\" fill=\"#000000\">samples = 8</text>\n<text text-anchor=\"middle\" x=\"357\" y=\"-364.8\" font-family=\"Times,serif\" font-size=\"14.00\" fill=\"#000000\">value = [0, 4, 4]</text>\n<text text-anchor=\"middle\" x=\"357\" y=\"-349.8\" font-family=\"Times,serif\" font-size=\"14.00\" fill=\"#000000\">class = versicolor</text>\n</g>\n<!-- 6&#45;&gt;7 -->\n<g id=\"edge7\" class=\"edge\">\n<title>6&#45;&gt;7</title>\n<path fill=\"none\" stroke=\"#000000\" d=\"M360.2512,-460.8796C359.9069,-452.6838 359.5416,-443.9891 359.1849,-435.5013\"/>\n<polygon fill=\"#000000\" stroke=\"#000000\" points=\"362.673,-435.1423 358.7562,-425.2981 355.6792,-435.4362 362.673,-435.1423\"/>\n</g>\n<!-- 14 -->\n<g id=\"node15\" class=\"node\">\n<title>14</title>\n<polygon fill=\"#853fe6\" stroke=\"#000000\" points=\"621,-425 457,-425 457,-342 621,-342 621,-425\"/>\n<text text-anchor=\"middle\" x=\"539\" y=\"-409.8\" font-family=\"Times,serif\" font-size=\"14.00\" fill=\"#000000\">petal length (cm) &lt;= 4.85</text>\n<text text-anchor=\"middle\" x=\"539\" y=\"-394.8\" font-family=\"Times,serif\" font-size=\"14.00\" fill=\"#000000\">gini = 0.057</text>\n<text text-anchor=\"middle\" x=\"539\" y=\"-379.8\" font-family=\"Times,serif\" font-size=\"14.00\" fill=\"#000000\">samples = 34</text>\n<text text-anchor=\"middle\" x=\"539\" y=\"-364.8\" font-family=\"Times,serif\" font-size=\"14.00\" fill=\"#000000\">value = [0, 1, 33]</text>\n<text text-anchor=\"middle\" x=\"539\" y=\"-349.8\" font-family=\"Times,serif\" font-size=\"14.00\" fill=\"#000000\">class = virginica</text>\n</g>\n<!-- 6&#45;&gt;14 -->\n<g id=\"edge14\" class=\"edge\">\n<title>6&#45;&gt;14</title>\n<path fill=\"none\" stroke=\"#000000\" d=\"M423.906,-460.8796C438.323,-451.1868 453.778,-440.7961 468.5344,-430.8752\"/>\n<polygon fill=\"#000000\" stroke=\"#000000\" points=\"470.7829,-433.581 477.1289,-425.0969 466.8773,-427.7718 470.7829,-433.581\"/>\n</g>\n<!-- 8 -->\n<g id=\"node9\" class=\"node\">\n<title>8</title>\n<polygon fill=\"#39e581\" stroke=\"#000000\" points=\"258.5,-298.5 143.5,-298.5 143.5,-230.5 258.5,-230.5 258.5,-298.5\"/>\n<text text-anchor=\"middle\" x=\"201\" y=\"-283.3\" font-family=\"Times,serif\" font-size=\"14.00\" fill=\"#000000\">gini = 0.0</text>\n<text text-anchor=\"middle\" x=\"201\" y=\"-268.3\" font-family=\"Times,serif\" font-size=\"14.00\" fill=\"#000000\">samples = 2</text>\n<text text-anchor=\"middle\" x=\"201\" y=\"-253.3\" font-family=\"Times,serif\" font-size=\"14.00\" fill=\"#000000\">value = [0, 2, 0]</text>\n<text text-anchor=\"middle\" x=\"201\" y=\"-238.3\" font-family=\"Times,serif\" font-size=\"14.00\" fill=\"#000000\">class = versicolor</text>\n</g>\n<!-- 7&#45;&gt;8 -->\n<g id=\"edge8\" class=\"edge\">\n<title>7&#45;&gt;8</title>\n<path fill=\"none\" stroke=\"#000000\" d=\"M302.4388,-341.8796C286.6516,-329.8368 269.4521,-316.7167 253.7759,-304.7586\"/>\n<polygon fill=\"#000000\" stroke=\"#000000\" points=\"255.8063,-301.9053 245.7327,-298.623 251.5608,-307.4709 255.8063,-301.9053\"/>\n</g>\n<!-- 9 -->\n<g id=\"node10\" class=\"node\">\n<title>9</title>\n<polygon fill=\"#c09cf2\" stroke=\"#000000\" points=\"437.5,-306 276.5,-306 276.5,-223 437.5,-223 437.5,-306\"/>\n<text text-anchor=\"middle\" x=\"357\" y=\"-290.8\" font-family=\"Times,serif\" font-size=\"14.00\" fill=\"#000000\">petal width (cm) &lt;= 1.55</text>\n<text text-anchor=\"middle\" x=\"357\" y=\"-275.8\" font-family=\"Times,serif\" font-size=\"14.00\" fill=\"#000000\">gini = 0.444</text>\n<text text-anchor=\"middle\" x=\"357\" y=\"-260.8\" font-family=\"Times,serif\" font-size=\"14.00\" fill=\"#000000\">samples = 6</text>\n<text text-anchor=\"middle\" x=\"357\" y=\"-245.8\" font-family=\"Times,serif\" font-size=\"14.00\" fill=\"#000000\">value = [0, 2, 4]</text>\n<text text-anchor=\"middle\" x=\"357\" y=\"-230.8\" font-family=\"Times,serif\" font-size=\"14.00\" fill=\"#000000\">class = virginica</text>\n</g>\n<!-- 7&#45;&gt;9 -->\n<g id=\"edge9\" class=\"edge\">\n<title>7&#45;&gt;9</title>\n<path fill=\"none\" stroke=\"#000000\" d=\"M357,-341.8796C357,-333.6838 357,-324.9891 357,-316.5013\"/>\n<polygon fill=\"#000000\" stroke=\"#000000\" points=\"360.5001,-316.298 357,-306.2981 353.5001,-316.2981 360.5001,-316.298\"/>\n</g>\n<!-- 10 -->\n<g id=\"node11\" class=\"node\">\n<title>10</title>\n<polygon fill=\"#8139e5\" stroke=\"#000000\" points=\"262,-179.5 152,-179.5 152,-111.5 262,-111.5 262,-179.5\"/>\n<text text-anchor=\"middle\" x=\"207\" y=\"-164.3\" font-family=\"Times,serif\" font-size=\"14.00\" fill=\"#000000\">gini = 0.0</text>\n<text text-anchor=\"middle\" x=\"207\" y=\"-149.3\" font-family=\"Times,serif\" font-size=\"14.00\" fill=\"#000000\">samples = 3</text>\n<text text-anchor=\"middle\" x=\"207\" y=\"-134.3\" font-family=\"Times,serif\" font-size=\"14.00\" fill=\"#000000\">value = [0, 0, 3]</text>\n<text text-anchor=\"middle\" x=\"207\" y=\"-119.3\" font-family=\"Times,serif\" font-size=\"14.00\" fill=\"#000000\">class = virginica</text>\n</g>\n<!-- 9&#45;&gt;10 -->\n<g id=\"edge10\" class=\"edge\">\n<title>9&#45;&gt;10</title>\n<path fill=\"none\" stroke=\"#000000\" d=\"M304.5373,-222.8796C289.5678,-211.0038 273.2778,-198.0804 258.3741,-186.2568\"/>\n<polygon fill=\"#000000\" stroke=\"#000000\" points=\"260.2635,-183.2881 250.2541,-179.8149 255.913,-188.772 260.2635,-183.2881\"/>\n</g>\n<!-- 11 -->\n<g id=\"node12\" class=\"node\">\n<title>11</title>\n<polygon fill=\"#9cf2c0\" stroke=\"#000000\" points=\"445.5,-187 280.5,-187 280.5,-104 445.5,-104 445.5,-187\"/>\n<text text-anchor=\"middle\" x=\"363\" y=\"-171.8\" font-family=\"Times,serif\" font-size=\"14.00\" fill=\"#000000\">sepal length (cm) &lt;= 6.95</text>\n<text text-anchor=\"middle\" x=\"363\" y=\"-156.8\" font-family=\"Times,serif\" font-size=\"14.00\" fill=\"#000000\">gini = 0.444</text>\n<text text-anchor=\"middle\" x=\"363\" y=\"-141.8\" font-family=\"Times,serif\" font-size=\"14.00\" fill=\"#000000\">samples = 3</text>\n<text text-anchor=\"middle\" x=\"363\" y=\"-126.8\" font-family=\"Times,serif\" font-size=\"14.00\" fill=\"#000000\">value = [0, 2, 1]</text>\n<text text-anchor=\"middle\" x=\"363\" y=\"-111.8\" font-family=\"Times,serif\" font-size=\"14.00\" fill=\"#000000\">class = versicolor</text>\n</g>\n<!-- 9&#45;&gt;11 -->\n<g id=\"edge11\" class=\"edge\">\n<title>9&#45;&gt;11</title>\n<path fill=\"none\" stroke=\"#000000\" d=\"M359.0985,-222.8796C359.5117,-214.6838 359.9501,-205.9891 360.3781,-197.5013\"/>\n<polygon fill=\"#000000\" stroke=\"#000000\" points=\"363.8844,-197.4617 360.8925,-187.2981 356.8933,-197.1091 363.8844,-197.4617\"/>\n</g>\n<!-- 12 -->\n<g id=\"node13\" class=\"node\">\n<title>12</title>\n<polygon fill=\"#39e581\" stroke=\"#000000\" points=\"355.5,-68 240.5,-68 240.5,0 355.5,0 355.5,-68\"/>\n<text text-anchor=\"middle\" x=\"298\" y=\"-52.8\" font-family=\"Times,serif\" font-size=\"14.00\" fill=\"#000000\">gini = 0.0</text>\n<text text-anchor=\"middle\" x=\"298\" y=\"-37.8\" font-family=\"Times,serif\" font-size=\"14.00\" fill=\"#000000\">samples = 2</text>\n<text text-anchor=\"middle\" x=\"298\" y=\"-22.8\" font-family=\"Times,serif\" font-size=\"14.00\" fill=\"#000000\">value = [0, 2, 0]</text>\n<text text-anchor=\"middle\" x=\"298\" y=\"-7.8\" font-family=\"Times,serif\" font-size=\"14.00\" fill=\"#000000\">class = versicolor</text>\n</g>\n<!-- 11&#45;&gt;12 -->\n<g id=\"edge12\" class=\"edge\">\n<title>11&#45;&gt;12</title>\n<path fill=\"none\" stroke=\"#000000\" d=\"M338.7964,-103.9815C333.6529,-95.1585 328.2123,-85.8258 323.0384,-76.9506\"/>\n<polygon fill=\"#000000\" stroke=\"#000000\" points=\"326.0344,-75.1402 317.9743,-68.2637 319.987,-78.6656 326.0344,-75.1402\"/>\n</g>\n<!-- 13 -->\n<g id=\"node14\" class=\"node\">\n<title>13</title>\n<polygon fill=\"#8139e5\" stroke=\"#000000\" points=\"484,-68 374,-68 374,0 484,0 484,-68\"/>\n<text text-anchor=\"middle\" x=\"429\" y=\"-52.8\" font-family=\"Times,serif\" font-size=\"14.00\" fill=\"#000000\">gini = 0.0</text>\n<text text-anchor=\"middle\" x=\"429\" y=\"-37.8\" font-family=\"Times,serif\" font-size=\"14.00\" fill=\"#000000\">samples = 1</text>\n<text text-anchor=\"middle\" x=\"429\" y=\"-22.8\" font-family=\"Times,serif\" font-size=\"14.00\" fill=\"#000000\">value = [0, 0, 1]</text>\n<text text-anchor=\"middle\" x=\"429\" y=\"-7.8\" font-family=\"Times,serif\" font-size=\"14.00\" fill=\"#000000\">class = virginica</text>\n</g>\n<!-- 11&#45;&gt;13 -->\n<g id=\"edge13\" class=\"edge\">\n<title>11&#45;&gt;13</title>\n<path fill=\"none\" stroke=\"#000000\" d=\"M387.576,-103.9815C392.7986,-95.1585 398.3229,-85.8258 403.5763,-76.9506\"/>\n<polygon fill=\"#000000\" stroke=\"#000000\" points=\"406.6364,-78.652 408.7184,-68.2637 400.6126,-75.0863 406.6364,-78.652\"/>\n</g>\n<!-- 15 -->\n<g id=\"node16\" class=\"node\">\n<title>15</title>\n<polygon fill=\"#c09cf2\" stroke=\"#000000\" points=\"621.5,-306 456.5,-306 456.5,-223 621.5,-223 621.5,-306\"/>\n<text text-anchor=\"middle\" x=\"539\" y=\"-290.8\" font-family=\"Times,serif\" font-size=\"14.00\" fill=\"#000000\">sepal length (cm) &lt;= 5.95</text>\n<text text-anchor=\"middle\" x=\"539\" y=\"-275.8\" font-family=\"Times,serif\" font-size=\"14.00\" fill=\"#000000\">gini = 0.444</text>\n<text text-anchor=\"middle\" x=\"539\" y=\"-260.8\" font-family=\"Times,serif\" font-size=\"14.00\" fill=\"#000000\">samples = 3</text>\n<text text-anchor=\"middle\" x=\"539\" y=\"-245.8\" font-family=\"Times,serif\" font-size=\"14.00\" fill=\"#000000\">value = [0, 1, 2]</text>\n<text text-anchor=\"middle\" x=\"539\" y=\"-230.8\" font-family=\"Times,serif\" font-size=\"14.00\" fill=\"#000000\">class = virginica</text>\n</g>\n<!-- 14&#45;&gt;15 -->\n<g id=\"edge15\" class=\"edge\">\n<title>14&#45;&gt;15</title>\n<path fill=\"none\" stroke=\"#000000\" d=\"M539,-341.8796C539,-333.6838 539,-324.9891 539,-316.5013\"/>\n<polygon fill=\"#000000\" stroke=\"#000000\" points=\"542.5001,-316.298 539,-306.2981 535.5001,-316.2981 542.5001,-316.298\"/>\n</g>\n<!-- 18 -->\n<g id=\"node19\" class=\"node\">\n<title>18</title>\n<polygon fill=\"#8139e5\" stroke=\"#000000\" points=\"756.5,-298.5 639.5,-298.5 639.5,-230.5 756.5,-230.5 756.5,-298.5\"/>\n<text text-anchor=\"middle\" x=\"698\" y=\"-283.3\" font-family=\"Times,serif\" font-size=\"14.00\" fill=\"#000000\">gini = 0.0</text>\n<text text-anchor=\"middle\" x=\"698\" y=\"-268.3\" font-family=\"Times,serif\" font-size=\"14.00\" fill=\"#000000\">samples = 31</text>\n<text text-anchor=\"middle\" x=\"698\" y=\"-253.3\" font-family=\"Times,serif\" font-size=\"14.00\" fill=\"#000000\">value = [0, 0, 31]</text>\n<text text-anchor=\"middle\" x=\"698\" y=\"-238.3\" font-family=\"Times,serif\" font-size=\"14.00\" fill=\"#000000\">class = virginica</text>\n</g>\n<!-- 14&#45;&gt;18 -->\n<g id=\"edge18\" class=\"edge\">\n<title>14&#45;&gt;18</title>\n<path fill=\"none\" stroke=\"#000000\" d=\"M594.6105,-341.8796C610.7013,-329.8368 628.2315,-316.7167 644.2091,-304.7586\"/>\n<polygon fill=\"#000000\" stroke=\"#000000\" points=\"646.4982,-307.4171 652.407,-298.623 642.3038,-301.8129 646.4982,-307.4171\"/>\n</g>\n<!-- 16 -->\n<g id=\"node17\" class=\"node\">\n<title>16</title>\n<polygon fill=\"#39e581\" stroke=\"#000000\" points=\"590.5,-179.5 475.5,-179.5 475.5,-111.5 590.5,-111.5 590.5,-179.5\"/>\n<text text-anchor=\"middle\" x=\"533\" y=\"-164.3\" font-family=\"Times,serif\" font-size=\"14.00\" fill=\"#000000\">gini = 0.0</text>\n<text text-anchor=\"middle\" x=\"533\" y=\"-149.3\" font-family=\"Times,serif\" font-size=\"14.00\" fill=\"#000000\">samples = 1</text>\n<text text-anchor=\"middle\" x=\"533\" y=\"-134.3\" font-family=\"Times,serif\" font-size=\"14.00\" fill=\"#000000\">value = [0, 1, 0]</text>\n<text text-anchor=\"middle\" x=\"533\" y=\"-119.3\" font-family=\"Times,serif\" font-size=\"14.00\" fill=\"#000000\">class = versicolor</text>\n</g>\n<!-- 15&#45;&gt;16 -->\n<g id=\"edge16\" class=\"edge\">\n<title>15&#45;&gt;16</title>\n<path fill=\"none\" stroke=\"#000000\" d=\"M536.9015,-222.8796C536.3637,-212.2134 535.7833,-200.7021 535.2387,-189.9015\"/>\n<polygon fill=\"#000000\" stroke=\"#000000\" points=\"538.7294,-189.626 534.7302,-179.8149 531.7383,-189.9785 538.7294,-189.626\"/>\n</g>\n<!-- 17 -->\n<g id=\"node18\" class=\"node\">\n<title>17</title>\n<polygon fill=\"#8139e5\" stroke=\"#000000\" points=\"719,-179.5 609,-179.5 609,-111.5 719,-111.5 719,-179.5\"/>\n<text text-anchor=\"middle\" x=\"664\" y=\"-164.3\" font-family=\"Times,serif\" font-size=\"14.00\" fill=\"#000000\">gini = 0.0</text>\n<text text-anchor=\"middle\" x=\"664\" y=\"-149.3\" font-family=\"Times,serif\" font-size=\"14.00\" fill=\"#000000\">samples = 2</text>\n<text text-anchor=\"middle\" x=\"664\" y=\"-134.3\" font-family=\"Times,serif\" font-size=\"14.00\" fill=\"#000000\">value = [0, 0, 2]</text>\n<text text-anchor=\"middle\" x=\"664\" y=\"-119.3\" font-family=\"Times,serif\" font-size=\"14.00\" fill=\"#000000\">class = virginica</text>\n</g>\n<!-- 15&#45;&gt;17 -->\n<g id=\"edge17\" class=\"edge\">\n<title>15&#45;&gt;17</title>\n<path fill=\"none\" stroke=\"#000000\" d=\"M582.7189,-222.8796C594.9625,-211.2237 608.2661,-198.5587 620.4971,-186.9148\"/>\n<polygon fill=\"#000000\" stroke=\"#000000\" points=\"623.1254,-189.245 627.9549,-179.8149 618.2988,-184.1751 623.1254,-189.245\"/>\n</g>\n</g>\n</svg>\n"
          },
          "metadata": {
            "tags": []
          },
          "execution_count": 8
        }
      ]
    },
    {
      "cell_type": "markdown",
      "metadata": {
        "id": "G5tmvNNi4FO-"
      },
      "source": [
        "## max_depth를 조정"
      ]
    },
    {
      "cell_type": "code",
      "metadata": {
        "id": "9bsM98_x2hBR"
      },
      "source": [
        "params = {\r\n",
        "    'max_depth' : 3, \r\n",
        "    'min_samples_split' : 2, \r\n",
        "    'min_samples_leaf' : 1, \r\n",
        "    'max_features' : None, \r\n",
        "    'max_leaf_nodes' : None, \r\n",
        "    'random_state' : 156 \r\n",
        "    }"
      ],
      "execution_count": 9,
      "outputs": []
    },
    {
      "cell_type": "code",
      "metadata": {
        "id": "r4PMZ5yi4SYE"
      },
      "source": [
        "dt_clf = DecisionTreeClassifier(**params)\r\n",
        "\r\n",
        "iris_data = load_iris()\r\n",
        "x_train, x_test, y_train, y_test = train_test_split(iris_data.data, iris_data.target, test_size=0.2, random_state = 156)\r\n",
        "\r\n",
        "dt_clf.fit(x_train, y_train)\r\n",
        "pred = dt_clf.predict(x_test)"
      ],
      "execution_count": 10,
      "outputs": []
    },
    {
      "cell_type": "code",
      "metadata": {
        "colab": {
          "base_uri": "https://localhost:8080/"
        },
        "id": "-UyEicRK4SYj",
        "outputId": "2642e1b4-f036-4f0c-c837-91f75d0687f0"
      },
      "source": [
        "from sklearn.metrics import accuracy_score\r\n",
        "accuracy_score(y_test, pred)"
      ],
      "execution_count": 11,
      "outputs": [
        {
          "output_type": "execute_result",
          "data": {
            "text/plain": [
              "0.9666666666666667"
            ]
          },
          "metadata": {
            "tags": []
          },
          "execution_count": 11
        }
      ]
    },
    {
      "cell_type": "code",
      "metadata": {
        "colab": {
          "base_uri": "https://localhost:8080/",
          "height": 597
        },
        "id": "WhDGGYho2J9g",
        "outputId": "78472ad7-f96a-4c73-f588-b88f02e0918e"
      },
      "source": [
        "graphviz.Source(export_graphviz(dt_clf, class_names=iris_data.target_names, feature_names= iris_data.feature_names, impurity=True, filled=True))"
      ],
      "execution_count": 12,
      "outputs": [
        {
          "output_type": "execute_result",
          "data": {
            "text/plain": [
              "<graphviz.files.Source at 0x7f3aa3392e10>"
            ],
            "image/svg+xml": "<?xml version=\"1.0\" encoding=\"UTF-8\" standalone=\"no\"?>\n<!DOCTYPE svg PUBLIC \"-//W3C//DTD SVG 1.1//EN\"\n \"http://www.w3.org/Graphics/SVG/1.1/DTD/svg11.dtd\">\n<!-- Generated by graphviz version 2.40.1 (20161225.0304)\n -->\n<!-- Title: Tree Pages: 1 -->\n<svg width=\"545pt\" height=\"433pt\"\n viewBox=\"0.00 0.00 544.50 433.00\" xmlns=\"http://www.w3.org/2000/svg\" xmlns:xlink=\"http://www.w3.org/1999/xlink\">\n<g id=\"graph0\" class=\"graph\" transform=\"scale(1 1) rotate(0) translate(4 429)\">\n<title>Tree</title>\n<polygon fill=\"#ffffff\" stroke=\"transparent\" points=\"-4,4 -4,-429 540.5,-429 540.5,4 -4,4\"/>\n<!-- 0 -->\n<g id=\"node1\" class=\"node\">\n<title>0</title>\n<polygon fill=\"#ffffff\" stroke=\"#000000\" points=\"263,-425 107,-425 107,-342 263,-342 263,-425\"/>\n<text text-anchor=\"middle\" x=\"185\" y=\"-409.8\" font-family=\"Times,serif\" font-size=\"14.00\" fill=\"#000000\">petal length (cm) &lt;= 2.6</text>\n<text text-anchor=\"middle\" x=\"185\" y=\"-394.8\" font-family=\"Times,serif\" font-size=\"14.00\" fill=\"#000000\">gini = 0.666</text>\n<text text-anchor=\"middle\" x=\"185\" y=\"-379.8\" font-family=\"Times,serif\" font-size=\"14.00\" fill=\"#000000\">samples = 120</text>\n<text text-anchor=\"middle\" x=\"185\" y=\"-364.8\" font-family=\"Times,serif\" font-size=\"14.00\" fill=\"#000000\">value = [41, 41, 38]</text>\n<text text-anchor=\"middle\" x=\"185\" y=\"-349.8\" font-family=\"Times,serif\" font-size=\"14.00\" fill=\"#000000\">class = setosa</text>\n</g>\n<!-- 1 -->\n<g id=\"node2\" class=\"node\">\n<title>1</title>\n<polygon fill=\"#e58139\" stroke=\"#000000\" points=\"164.5,-298.5 47.5,-298.5 47.5,-230.5 164.5,-230.5 164.5,-298.5\"/>\n<text text-anchor=\"middle\" x=\"106\" y=\"-283.3\" font-family=\"Times,serif\" font-size=\"14.00\" fill=\"#000000\">gini = 0.0</text>\n<text text-anchor=\"middle\" x=\"106\" y=\"-268.3\" font-family=\"Times,serif\" font-size=\"14.00\" fill=\"#000000\">samples = 41</text>\n<text text-anchor=\"middle\" x=\"106\" y=\"-253.3\" font-family=\"Times,serif\" font-size=\"14.00\" fill=\"#000000\">value = [41, 0, 0]</text>\n<text text-anchor=\"middle\" x=\"106\" y=\"-238.3\" font-family=\"Times,serif\" font-size=\"14.00\" fill=\"#000000\">class = setosa</text>\n</g>\n<!-- 0&#45;&gt;1 -->\n<g id=\"edge1\" class=\"edge\">\n<title>0&#45;&gt;1</title>\n<path fill=\"none\" stroke=\"#000000\" d=\"M157.3696,-341.8796C149.9237,-330.6636 141.8575,-318.5131 134.3718,-307.2372\"/>\n<polygon fill=\"#000000\" stroke=\"#000000\" points=\"137.2273,-305.2104 128.7805,-298.8149 131.3954,-309.082 137.2273,-305.2104\"/>\n<text text-anchor=\"middle\" x=\"123.83\" y=\"-319.6199\" font-family=\"Times,serif\" font-size=\"14.00\" fill=\"#000000\">True</text>\n</g>\n<!-- 2 -->\n<g id=\"node3\" class=\"node\">\n<title>2</title>\n<polygon fill=\"#f1fdf6\" stroke=\"#000000\" points=\"347,-306 183,-306 183,-223 347,-223 347,-306\"/>\n<text text-anchor=\"middle\" x=\"265\" y=\"-290.8\" font-family=\"Times,serif\" font-size=\"14.00\" fill=\"#000000\">petal length (cm) &lt;= 4.75</text>\n<text text-anchor=\"middle\" x=\"265\" y=\"-275.8\" font-family=\"Times,serif\" font-size=\"14.00\" fill=\"#000000\">gini = 0.499</text>\n<text text-anchor=\"middle\" x=\"265\" y=\"-260.8\" font-family=\"Times,serif\" font-size=\"14.00\" fill=\"#000000\">samples = 79</text>\n<text text-anchor=\"middle\" x=\"265\" y=\"-245.8\" font-family=\"Times,serif\" font-size=\"14.00\" fill=\"#000000\">value = [0, 41, 38]</text>\n<text text-anchor=\"middle\" x=\"265\" y=\"-230.8\" font-family=\"Times,serif\" font-size=\"14.00\" fill=\"#000000\">class = versicolor</text>\n</g>\n<!-- 0&#45;&gt;2 -->\n<g id=\"edge2\" class=\"edge\">\n<title>0&#45;&gt;2</title>\n<path fill=\"none\" stroke=\"#000000\" d=\"M212.9801,-341.8796C218.8531,-333.1434 225.1073,-323.8404 231.1679,-314.8253\"/>\n<polygon fill=\"#000000\" stroke=\"#000000\" points=\"234.2259,-316.5498 236.9005,-306.2981 228.4166,-312.6444 234.2259,-316.5498\"/>\n<text text-anchor=\"middle\" x=\"241.7085\" y=\"-327.1314\" font-family=\"Times,serif\" font-size=\"14.00\" fill=\"#000000\">False</text>\n</g>\n<!-- 3 -->\n<g id=\"node4\" class=\"node\">\n<title>3</title>\n<polygon fill=\"#3ee684\" stroke=\"#000000\" points=\"257.5,-187 92.5,-187 92.5,-104 257.5,-104 257.5,-187\"/>\n<text text-anchor=\"middle\" x=\"175\" y=\"-171.8\" font-family=\"Times,serif\" font-size=\"14.00\" fill=\"#000000\">sepal length (cm) &lt;= 4.95</text>\n<text text-anchor=\"middle\" x=\"175\" y=\"-156.8\" font-family=\"Times,serif\" font-size=\"14.00\" fill=\"#000000\">gini = 0.053</text>\n<text text-anchor=\"middle\" x=\"175\" y=\"-141.8\" font-family=\"Times,serif\" font-size=\"14.00\" fill=\"#000000\">samples = 37</text>\n<text text-anchor=\"middle\" x=\"175\" y=\"-126.8\" font-family=\"Times,serif\" font-size=\"14.00\" fill=\"#000000\">value = [0, 36, 1]</text>\n<text text-anchor=\"middle\" x=\"175\" y=\"-111.8\" font-family=\"Times,serif\" font-size=\"14.00\" fill=\"#000000\">class = versicolor</text>\n</g>\n<!-- 2&#45;&gt;3 -->\n<g id=\"edge3\" class=\"edge\">\n<title>2&#45;&gt;3</title>\n<path fill=\"none\" stroke=\"#000000\" d=\"M233.5224,-222.8796C226.8471,-214.0534 219.7342,-204.6485 212.8504,-195.5466\"/>\n<polygon fill=\"#000000\" stroke=\"#000000\" points=\"215.4357,-193.1626 206.612,-187.2981 209.8526,-197.3852 215.4357,-193.1626\"/>\n</g>\n<!-- 6 -->\n<g id=\"node7\" class=\"node\">\n<title>6</title>\n<polygon fill=\"#9254e9\" stroke=\"#000000\" points=\"436.5,-187 275.5,-187 275.5,-104 436.5,-104 436.5,-187\"/>\n<text text-anchor=\"middle\" x=\"356\" y=\"-171.8\" font-family=\"Times,serif\" font-size=\"14.00\" fill=\"#000000\">petal width (cm) &lt;= 1.75</text>\n<text text-anchor=\"middle\" x=\"356\" y=\"-156.8\" font-family=\"Times,serif\" font-size=\"14.00\" fill=\"#000000\">gini = 0.21</text>\n<text text-anchor=\"middle\" x=\"356\" y=\"-141.8\" font-family=\"Times,serif\" font-size=\"14.00\" fill=\"#000000\">samples = 42</text>\n<text text-anchor=\"middle\" x=\"356\" y=\"-126.8\" font-family=\"Times,serif\" font-size=\"14.00\" fill=\"#000000\">value = [0, 5, 37]</text>\n<text text-anchor=\"middle\" x=\"356\" y=\"-111.8\" font-family=\"Times,serif\" font-size=\"14.00\" fill=\"#000000\">class = virginica</text>\n</g>\n<!-- 2&#45;&gt;6 -->\n<g id=\"edge6\" class=\"edge\">\n<title>2&#45;&gt;6</title>\n<path fill=\"none\" stroke=\"#000000\" d=\"M296.8274,-222.8796C303.6457,-213.9633 310.9156,-204.4565 317.9421,-195.268\"/>\n<polygon fill=\"#000000\" stroke=\"#000000\" points=\"320.7425,-197.3678 324.0368,-187.2981 315.182,-193.1156 320.7425,-197.3678\"/>\n</g>\n<!-- 4 -->\n<g id=\"node5\" class=\"node\">\n<title>4</title>\n<polygon fill=\"#8139e5\" stroke=\"#000000\" points=\"110,-68 0,-68 0,0 110,0 110,-68\"/>\n<text text-anchor=\"middle\" x=\"55\" y=\"-52.8\" font-family=\"Times,serif\" font-size=\"14.00\" fill=\"#000000\">gini = 0.0</text>\n<text text-anchor=\"middle\" x=\"55\" y=\"-37.8\" font-family=\"Times,serif\" font-size=\"14.00\" fill=\"#000000\">samples = 1</text>\n<text text-anchor=\"middle\" x=\"55\" y=\"-22.8\" font-family=\"Times,serif\" font-size=\"14.00\" fill=\"#000000\">value = [0, 0, 1]</text>\n<text text-anchor=\"middle\" x=\"55\" y=\"-7.8\" font-family=\"Times,serif\" font-size=\"14.00\" fill=\"#000000\">class = virginica</text>\n</g>\n<!-- 3&#45;&gt;4 -->\n<g id=\"edge4\" class=\"edge\">\n<title>3&#45;&gt;4</title>\n<path fill=\"none\" stroke=\"#000000\" d=\"M130.3164,-103.9815C120.2273,-94.607 109.519,-84.6572 99.4399,-75.2921\"/>\n<polygon fill=\"#000000\" stroke=\"#000000\" points=\"101.5839,-72.5065 91.8757,-68.2637 96.8191,-77.6346 101.5839,-72.5065\"/>\n</g>\n<!-- 5 -->\n<g id=\"node6\" class=\"node\">\n<title>5</title>\n<polygon fill=\"#39e581\" stroke=\"#000000\" points=\"245.5,-68 128.5,-68 128.5,0 245.5,0 245.5,-68\"/>\n<text text-anchor=\"middle\" x=\"187\" y=\"-52.8\" font-family=\"Times,serif\" font-size=\"14.00\" fill=\"#000000\">gini = 0.0</text>\n<text text-anchor=\"middle\" x=\"187\" y=\"-37.8\" font-family=\"Times,serif\" font-size=\"14.00\" fill=\"#000000\">samples = 36</text>\n<text text-anchor=\"middle\" x=\"187\" y=\"-22.8\" font-family=\"Times,serif\" font-size=\"14.00\" fill=\"#000000\">value = [0, 36, 0]</text>\n<text text-anchor=\"middle\" x=\"187\" y=\"-7.8\" font-family=\"Times,serif\" font-size=\"14.00\" fill=\"#000000\">class = versicolor</text>\n</g>\n<!-- 3&#45;&gt;5 -->\n<g id=\"edge5\" class=\"edge\">\n<title>3&#45;&gt;5</title>\n<path fill=\"none\" stroke=\"#000000\" d=\"M179.4684,-103.9815C180.3685,-95.618 181.3179,-86.7965 182.2279,-78.3409\"/>\n<polygon fill=\"#000000\" stroke=\"#000000\" points=\"185.7222,-78.5808 183.3124,-68.2637 178.7624,-77.8317 185.7222,-78.5808\"/>\n</g>\n<!-- 7 -->\n<g id=\"node8\" class=\"node\">\n<title>7</title>\n<polygon fill=\"#ffffff\" stroke=\"#000000\" points=\"401.5,-68 286.5,-68 286.5,0 401.5,0 401.5,-68\"/>\n<text text-anchor=\"middle\" x=\"344\" y=\"-52.8\" font-family=\"Times,serif\" font-size=\"14.00\" fill=\"#000000\">gini = 0.5</text>\n<text text-anchor=\"middle\" x=\"344\" y=\"-37.8\" font-family=\"Times,serif\" font-size=\"14.00\" fill=\"#000000\">samples = 8</text>\n<text text-anchor=\"middle\" x=\"344\" y=\"-22.8\" font-family=\"Times,serif\" font-size=\"14.00\" fill=\"#000000\">value = [0, 4, 4]</text>\n<text text-anchor=\"middle\" x=\"344\" y=\"-7.8\" font-family=\"Times,serif\" font-size=\"14.00\" fill=\"#000000\">class = versicolor</text>\n</g>\n<!-- 6&#45;&gt;7 -->\n<g id=\"edge7\" class=\"edge\">\n<title>6&#45;&gt;7</title>\n<path fill=\"none\" stroke=\"#000000\" d=\"M351.5316,-103.9815C350.6315,-95.618 349.6821,-86.7965 348.7721,-78.3409\"/>\n<polygon fill=\"#000000\" stroke=\"#000000\" points=\"352.2376,-77.8317 347.6876,-68.2637 345.2778,-78.5808 352.2376,-77.8317\"/>\n</g>\n<!-- 8 -->\n<g id=\"node9\" class=\"node\">\n<title>8</title>\n<polygon fill=\"#853fe6\" stroke=\"#000000\" points=\"536.5,-68 419.5,-68 419.5,0 536.5,0 536.5,-68\"/>\n<text text-anchor=\"middle\" x=\"478\" y=\"-52.8\" font-family=\"Times,serif\" font-size=\"14.00\" fill=\"#000000\">gini = 0.057</text>\n<text text-anchor=\"middle\" x=\"478\" y=\"-37.8\" font-family=\"Times,serif\" font-size=\"14.00\" fill=\"#000000\">samples = 34</text>\n<text text-anchor=\"middle\" x=\"478\" y=\"-22.8\" font-family=\"Times,serif\" font-size=\"14.00\" fill=\"#000000\">value = [0, 1, 33]</text>\n<text text-anchor=\"middle\" x=\"478\" y=\"-7.8\" font-family=\"Times,serif\" font-size=\"14.00\" fill=\"#000000\">class = virginica</text>\n</g>\n<!-- 6&#45;&gt;8 -->\n<g id=\"edge8\" class=\"edge\">\n<title>6&#45;&gt;8</title>\n<path fill=\"none\" stroke=\"#000000\" d=\"M401.4283,-103.9815C411.7861,-94.5151 422.7859,-84.462 433.1206,-75.0168\"/>\n<polygon fill=\"#000000\" stroke=\"#000000\" points=\"435.4893,-77.5935 440.5097,-68.2637 430.7669,-72.4264 435.4893,-77.5935\"/>\n</g>\n</g>\n</svg>\n"
          },
          "metadata": {
            "tags": []
          },
          "execution_count": 12
        }
      ]
    },
    {
      "cell_type": "markdown",
      "metadata": {
        "id": "Hg6-vihY4cRG"
      },
      "source": [
        "## min_samples_split를 조정"
      ]
    },
    {
      "cell_type": "code",
      "metadata": {
        "id": "I1CrgIsm4cRJ"
      },
      "source": [
        "params = {\r\n",
        "    'max_depth' : None, \r\n",
        "    'min_samples_split' : 4, \r\n",
        "    'min_samples_leaf' : 1, \r\n",
        "    'max_features' : None, \r\n",
        "    'max_leaf_nodes' : None, \r\n",
        "    'random_state' : 156 \r\n",
        "    }"
      ],
      "execution_count": 13,
      "outputs": []
    },
    {
      "cell_type": "code",
      "metadata": {
        "id": "37FADYIc4cRK"
      },
      "source": [
        "dt_clf = DecisionTreeClassifier(**params)\r\n",
        "\r\n",
        "iris_data = load_iris()\r\n",
        "x_train, x_test, y_train, y_test = train_test_split(iris_data.data, iris_data.target, test_size=0.2, random_state = 156)\r\n",
        "\r\n",
        "dt_clf.fit(x_train, y_train)\r\n",
        "pred = dt_clf.predict(x_test)"
      ],
      "execution_count": 14,
      "outputs": []
    },
    {
      "cell_type": "code",
      "metadata": {
        "colab": {
          "base_uri": "https://localhost:8080/"
        },
        "id": "fiYMb97u4cRL",
        "outputId": "9efaee21-5fd9-4697-c36b-e88f53584681"
      },
      "source": [
        "from sklearn.metrics import accuracy_score\r\n",
        "accuracy_score(y_test, pred)"
      ],
      "execution_count": 15,
      "outputs": [
        {
          "output_type": "execute_result",
          "data": {
            "text/plain": [
              "0.9666666666666667"
            ]
          },
          "metadata": {
            "tags": []
          },
          "execution_count": 15
        }
      ]
    },
    {
      "cell_type": "code",
      "metadata": {
        "colab": {
          "base_uri": "https://localhost:8080/",
          "height": 915
        },
        "id": "5sIrs8Tt4cRN",
        "outputId": "a16451c7-2720-46d6-ef7e-77ea0c6f7cdc"
      },
      "source": [
        "graphviz.Source(export_graphviz(dt_clf, class_names=iris_data.target_names, feature_names= iris_data.feature_names, impurity=True, filled=True))"
      ],
      "execution_count": 16,
      "outputs": [
        {
          "output_type": "execute_result",
          "data": {
            "text/plain": [
              "<graphviz.files.Source at 0x7f3a8f14a588>"
            ],
            "image/svg+xml": "<?xml version=\"1.0\" encoding=\"UTF-8\" standalone=\"no\"?>\n<!DOCTYPE svg PUBLIC \"-//W3C//DTD SVG 1.1//EN\"\n \"http://www.w3.org/Graphics/SVG/1.1/DTD/svg11.dtd\">\n<!-- Generated by graphviz version 2.40.1 (20161225.0304)\n -->\n<!-- Title: Tree Pages: 1 -->\n<svg width=\"731pt\" height=\"671pt\"\n viewBox=\"0.00 0.00 730.50 671.00\" xmlns=\"http://www.w3.org/2000/svg\" xmlns:xlink=\"http://www.w3.org/1999/xlink\">\n<g id=\"graph0\" class=\"graph\" transform=\"scale(1 1) rotate(0) translate(4 667)\">\n<title>Tree</title>\n<polygon fill=\"#ffffff\" stroke=\"transparent\" points=\"-4,4 -4,-667 726.5,-667 726.5,4 -4,4\"/>\n<!-- 0 -->\n<g id=\"node1\" class=\"node\">\n<title>0</title>\n<polygon fill=\"#ffffff\" stroke=\"#000000\" points=\"269,-663 113,-663 113,-580 269,-580 269,-663\"/>\n<text text-anchor=\"middle\" x=\"191\" y=\"-647.8\" font-family=\"Times,serif\" font-size=\"14.00\" fill=\"#000000\">petal length (cm) &lt;= 2.6</text>\n<text text-anchor=\"middle\" x=\"191\" y=\"-632.8\" font-family=\"Times,serif\" font-size=\"14.00\" fill=\"#000000\">gini = 0.666</text>\n<text text-anchor=\"middle\" x=\"191\" y=\"-617.8\" font-family=\"Times,serif\" font-size=\"14.00\" fill=\"#000000\">samples = 120</text>\n<text text-anchor=\"middle\" x=\"191\" y=\"-602.8\" font-family=\"Times,serif\" font-size=\"14.00\" fill=\"#000000\">value = [41, 41, 38]</text>\n<text text-anchor=\"middle\" x=\"191\" y=\"-587.8\" font-family=\"Times,serif\" font-size=\"14.00\" fill=\"#000000\">class = setosa</text>\n</g>\n<!-- 1 -->\n<g id=\"node2\" class=\"node\">\n<title>1</title>\n<polygon fill=\"#e58139\" stroke=\"#000000\" points=\"170.5,-536.5 53.5,-536.5 53.5,-468.5 170.5,-468.5 170.5,-536.5\"/>\n<text text-anchor=\"middle\" x=\"112\" y=\"-521.3\" font-family=\"Times,serif\" font-size=\"14.00\" fill=\"#000000\">gini = 0.0</text>\n<text text-anchor=\"middle\" x=\"112\" y=\"-506.3\" font-family=\"Times,serif\" font-size=\"14.00\" fill=\"#000000\">samples = 41</text>\n<text text-anchor=\"middle\" x=\"112\" y=\"-491.3\" font-family=\"Times,serif\" font-size=\"14.00\" fill=\"#000000\">value = [41, 0, 0]</text>\n<text text-anchor=\"middle\" x=\"112\" y=\"-476.3\" font-family=\"Times,serif\" font-size=\"14.00\" fill=\"#000000\">class = setosa</text>\n</g>\n<!-- 0&#45;&gt;1 -->\n<g id=\"edge1\" class=\"edge\">\n<title>0&#45;&gt;1</title>\n<path fill=\"none\" stroke=\"#000000\" d=\"M163.3696,-579.8796C155.9237,-568.6636 147.8575,-556.5131 140.3718,-545.2372\"/>\n<polygon fill=\"#000000\" stroke=\"#000000\" points=\"143.2273,-543.2104 134.7805,-536.8149 137.3954,-547.082 143.2273,-543.2104\"/>\n<text text-anchor=\"middle\" x=\"129.83\" y=\"-557.6199\" font-family=\"Times,serif\" font-size=\"14.00\" fill=\"#000000\">True</text>\n</g>\n<!-- 2 -->\n<g id=\"node3\" class=\"node\">\n<title>2</title>\n<polygon fill=\"#f1fdf6\" stroke=\"#000000\" points=\"353,-544 189,-544 189,-461 353,-461 353,-544\"/>\n<text text-anchor=\"middle\" x=\"271\" y=\"-528.8\" font-family=\"Times,serif\" font-size=\"14.00\" fill=\"#000000\">petal length (cm) &lt;= 4.75</text>\n<text text-anchor=\"middle\" x=\"271\" y=\"-513.8\" font-family=\"Times,serif\" font-size=\"14.00\" fill=\"#000000\">gini = 0.499</text>\n<text text-anchor=\"middle\" x=\"271\" y=\"-498.8\" font-family=\"Times,serif\" font-size=\"14.00\" fill=\"#000000\">samples = 79</text>\n<text text-anchor=\"middle\" x=\"271\" y=\"-483.8\" font-family=\"Times,serif\" font-size=\"14.00\" fill=\"#000000\">value = [0, 41, 38]</text>\n<text text-anchor=\"middle\" x=\"271\" y=\"-468.8\" font-family=\"Times,serif\" font-size=\"14.00\" fill=\"#000000\">class = versicolor</text>\n</g>\n<!-- 0&#45;&gt;2 -->\n<g id=\"edge2\" class=\"edge\">\n<title>0&#45;&gt;2</title>\n<path fill=\"none\" stroke=\"#000000\" d=\"M218.9801,-579.8796C224.8531,-571.1434 231.1073,-561.8404 237.1679,-552.8253\"/>\n<polygon fill=\"#000000\" stroke=\"#000000\" points=\"240.2259,-554.5498 242.9005,-544.2981 234.4166,-550.6444 240.2259,-554.5498\"/>\n<text text-anchor=\"middle\" x=\"247.7085\" y=\"-565.1314\" font-family=\"Times,serif\" font-size=\"14.00\" fill=\"#000000\">False</text>\n</g>\n<!-- 3 -->\n<g id=\"node4\" class=\"node\">\n<title>3</title>\n<polygon fill=\"#3ee684\" stroke=\"#000000\" points=\"263.5,-425 98.5,-425 98.5,-342 263.5,-342 263.5,-425\"/>\n<text text-anchor=\"middle\" x=\"181\" y=\"-409.8\" font-family=\"Times,serif\" font-size=\"14.00\" fill=\"#000000\">sepal length (cm) &lt;= 4.95</text>\n<text text-anchor=\"middle\" x=\"181\" y=\"-394.8\" font-family=\"Times,serif\" font-size=\"14.00\" fill=\"#000000\">gini = 0.053</text>\n<text text-anchor=\"middle\" x=\"181\" y=\"-379.8\" font-family=\"Times,serif\" font-size=\"14.00\" fill=\"#000000\">samples = 37</text>\n<text text-anchor=\"middle\" x=\"181\" y=\"-364.8\" font-family=\"Times,serif\" font-size=\"14.00\" fill=\"#000000\">value = [0, 36, 1]</text>\n<text text-anchor=\"middle\" x=\"181\" y=\"-349.8\" font-family=\"Times,serif\" font-size=\"14.00\" fill=\"#000000\">class = versicolor</text>\n</g>\n<!-- 2&#45;&gt;3 -->\n<g id=\"edge3\" class=\"edge\">\n<title>2&#45;&gt;3</title>\n<path fill=\"none\" stroke=\"#000000\" d=\"M239.5224,-460.8796C232.8471,-452.0534 225.7342,-442.6485 218.8504,-433.5466\"/>\n<polygon fill=\"#000000\" stroke=\"#000000\" points=\"221.4357,-431.1626 212.612,-425.2981 215.8526,-435.3852 221.4357,-431.1626\"/>\n</g>\n<!-- 6 -->\n<g id=\"node7\" class=\"node\">\n<title>6</title>\n<polygon fill=\"#9254e9\" stroke=\"#000000\" points=\"442.5,-425 281.5,-425 281.5,-342 442.5,-342 442.5,-425\"/>\n<text text-anchor=\"middle\" x=\"362\" y=\"-409.8\" font-family=\"Times,serif\" font-size=\"14.00\" fill=\"#000000\">petal width (cm) &lt;= 1.75</text>\n<text text-anchor=\"middle\" x=\"362\" y=\"-394.8\" font-family=\"Times,serif\" font-size=\"14.00\" fill=\"#000000\">gini = 0.21</text>\n<text text-anchor=\"middle\" x=\"362\" y=\"-379.8\" font-family=\"Times,serif\" font-size=\"14.00\" fill=\"#000000\">samples = 42</text>\n<text text-anchor=\"middle\" x=\"362\" y=\"-364.8\" font-family=\"Times,serif\" font-size=\"14.00\" fill=\"#000000\">value = [0, 5, 37]</text>\n<text text-anchor=\"middle\" x=\"362\" y=\"-349.8\" font-family=\"Times,serif\" font-size=\"14.00\" fill=\"#000000\">class = virginica</text>\n</g>\n<!-- 2&#45;&gt;6 -->\n<g id=\"edge6\" class=\"edge\">\n<title>2&#45;&gt;6</title>\n<path fill=\"none\" stroke=\"#000000\" d=\"M302.8274,-460.8796C309.6457,-451.9633 316.9156,-442.4565 323.9421,-433.268\"/>\n<polygon fill=\"#000000\" stroke=\"#000000\" points=\"326.7425,-435.3678 330.0368,-425.2981 321.182,-431.1156 326.7425,-435.3678\"/>\n</g>\n<!-- 4 -->\n<g id=\"node5\" class=\"node\">\n<title>4</title>\n<polygon fill=\"#8139e5\" stroke=\"#000000\" points=\"110,-298.5 0,-298.5 0,-230.5 110,-230.5 110,-298.5\"/>\n<text text-anchor=\"middle\" x=\"55\" y=\"-283.3\" font-family=\"Times,serif\" font-size=\"14.00\" fill=\"#000000\">gini = 0.0</text>\n<text text-anchor=\"middle\" x=\"55\" y=\"-268.3\" font-family=\"Times,serif\" font-size=\"14.00\" fill=\"#000000\">samples = 1</text>\n<text text-anchor=\"middle\" x=\"55\" y=\"-253.3\" font-family=\"Times,serif\" font-size=\"14.00\" fill=\"#000000\">value = [0, 0, 1]</text>\n<text text-anchor=\"middle\" x=\"55\" y=\"-238.3\" font-family=\"Times,serif\" font-size=\"14.00\" fill=\"#000000\">class = virginica</text>\n</g>\n<!-- 3&#45;&gt;4 -->\n<g id=\"edge4\" class=\"edge\">\n<title>3&#45;&gt;4</title>\n<path fill=\"none\" stroke=\"#000000\" d=\"M136.9313,-341.8796C124.5898,-330.2237 111.1798,-317.5587 98.851,-305.9148\"/>\n<polygon fill=\"#000000\" stroke=\"#000000\" points=\"101.0068,-303.1366 91.3335,-298.8149 96.2004,-308.2258 101.0068,-303.1366\"/>\n</g>\n<!-- 5 -->\n<g id=\"node6\" class=\"node\">\n<title>5</title>\n<polygon fill=\"#39e581\" stroke=\"#000000\" points=\"245.5,-298.5 128.5,-298.5 128.5,-230.5 245.5,-230.5 245.5,-298.5\"/>\n<text text-anchor=\"middle\" x=\"187\" y=\"-283.3\" font-family=\"Times,serif\" font-size=\"14.00\" fill=\"#000000\">gini = 0.0</text>\n<text text-anchor=\"middle\" x=\"187\" y=\"-268.3\" font-family=\"Times,serif\" font-size=\"14.00\" fill=\"#000000\">samples = 36</text>\n<text text-anchor=\"middle\" x=\"187\" y=\"-253.3\" font-family=\"Times,serif\" font-size=\"14.00\" fill=\"#000000\">value = [0, 36, 0]</text>\n<text text-anchor=\"middle\" x=\"187\" y=\"-238.3\" font-family=\"Times,serif\" font-size=\"14.00\" fill=\"#000000\">class = versicolor</text>\n</g>\n<!-- 3&#45;&gt;5 -->\n<g id=\"edge5\" class=\"edge\">\n<title>3&#45;&gt;5</title>\n<path fill=\"none\" stroke=\"#000000\" d=\"M183.0985,-341.8796C183.6363,-331.2134 184.2167,-319.7021 184.7613,-308.9015\"/>\n<polygon fill=\"#000000\" stroke=\"#000000\" points=\"188.2617,-308.9785 185.2698,-298.8149 181.2706,-308.626 188.2617,-308.9785\"/>\n</g>\n<!-- 7 -->\n<g id=\"node8\" class=\"node\">\n<title>7</title>\n<polygon fill=\"#ffffff\" stroke=\"#000000\" points=\"439,-306 275,-306 275,-223 439,-223 439,-306\"/>\n<text text-anchor=\"middle\" x=\"357\" y=\"-290.8\" font-family=\"Times,serif\" font-size=\"14.00\" fill=\"#000000\">petal length (cm) &lt;= 4.95</text>\n<text text-anchor=\"middle\" x=\"357\" y=\"-275.8\" font-family=\"Times,serif\" font-size=\"14.00\" fill=\"#000000\">gini = 0.5</text>\n<text text-anchor=\"middle\" x=\"357\" y=\"-260.8\" font-family=\"Times,serif\" font-size=\"14.00\" fill=\"#000000\">samples = 8</text>\n<text text-anchor=\"middle\" x=\"357\" y=\"-245.8\" font-family=\"Times,serif\" font-size=\"14.00\" fill=\"#000000\">value = [0, 4, 4]</text>\n<text text-anchor=\"middle\" x=\"357\" y=\"-230.8\" font-family=\"Times,serif\" font-size=\"14.00\" fill=\"#000000\">class = versicolor</text>\n</g>\n<!-- 6&#45;&gt;7 -->\n<g id=\"edge7\" class=\"edge\">\n<title>6&#45;&gt;7</title>\n<path fill=\"none\" stroke=\"#000000\" d=\"M360.2512,-341.8796C359.9069,-333.6838 359.5416,-324.9891 359.1849,-316.5013\"/>\n<polygon fill=\"#000000\" stroke=\"#000000\" points=\"362.673,-316.1423 358.7562,-306.2981 355.6792,-316.4362 362.673,-316.1423\"/>\n</g>\n<!-- 12 -->\n<g id=\"node13\" class=\"node\">\n<title>12</title>\n<polygon fill=\"#853fe6\" stroke=\"#000000\" points=\"621,-306 457,-306 457,-223 621,-223 621,-306\"/>\n<text text-anchor=\"middle\" x=\"539\" y=\"-290.8\" font-family=\"Times,serif\" font-size=\"14.00\" fill=\"#000000\">petal length (cm) &lt;= 4.85</text>\n<text text-anchor=\"middle\" x=\"539\" y=\"-275.8\" font-family=\"Times,serif\" font-size=\"14.00\" fill=\"#000000\">gini = 0.057</text>\n<text text-anchor=\"middle\" x=\"539\" y=\"-260.8\" font-family=\"Times,serif\" font-size=\"14.00\" fill=\"#000000\">samples = 34</text>\n<text text-anchor=\"middle\" x=\"539\" y=\"-245.8\" font-family=\"Times,serif\" font-size=\"14.00\" fill=\"#000000\">value = [0, 1, 33]</text>\n<text text-anchor=\"middle\" x=\"539\" y=\"-230.8\" font-family=\"Times,serif\" font-size=\"14.00\" fill=\"#000000\">class = virginica</text>\n</g>\n<!-- 6&#45;&gt;12 -->\n<g id=\"edge12\" class=\"edge\">\n<title>6&#45;&gt;12</title>\n<path fill=\"none\" stroke=\"#000000\" d=\"M423.906,-341.8796C438.323,-332.1868 453.778,-321.7961 468.5344,-311.8752\"/>\n<polygon fill=\"#000000\" stroke=\"#000000\" points=\"470.7829,-314.581 477.1289,-306.0969 466.8773,-308.7718 470.7829,-314.581\"/>\n</g>\n<!-- 8 -->\n<g id=\"node9\" class=\"node\">\n<title>8</title>\n<polygon fill=\"#39e581\" stroke=\"#000000\" points=\"265.5,-179.5 150.5,-179.5 150.5,-111.5 265.5,-111.5 265.5,-179.5\"/>\n<text text-anchor=\"middle\" x=\"208\" y=\"-164.3\" font-family=\"Times,serif\" font-size=\"14.00\" fill=\"#000000\">gini = 0.0</text>\n<text text-anchor=\"middle\" x=\"208\" y=\"-149.3\" font-family=\"Times,serif\" font-size=\"14.00\" fill=\"#000000\">samples = 2</text>\n<text text-anchor=\"middle\" x=\"208\" y=\"-134.3\" font-family=\"Times,serif\" font-size=\"14.00\" fill=\"#000000\">value = [0, 2, 0]</text>\n<text text-anchor=\"middle\" x=\"208\" y=\"-119.3\" font-family=\"Times,serif\" font-size=\"14.00\" fill=\"#000000\">class = versicolor</text>\n</g>\n<!-- 7&#45;&gt;8 -->\n<g id=\"edge8\" class=\"edge\">\n<title>7&#45;&gt;8</title>\n<path fill=\"none\" stroke=\"#000000\" d=\"M304.887,-222.8796C290.0174,-211.0038 273.836,-198.0804 259.0317,-186.2568\"/>\n<polygon fill=\"#000000\" stroke=\"#000000\" points=\"260.9638,-183.3207 250.9658,-179.8149 256.5954,-188.7904 260.9638,-183.3207\"/>\n</g>\n<!-- 9 -->\n<g id=\"node10\" class=\"node\">\n<title>9</title>\n<polygon fill=\"#c09cf2\" stroke=\"#000000\" points=\"444.5,-187 283.5,-187 283.5,-104 444.5,-104 444.5,-187\"/>\n<text text-anchor=\"middle\" x=\"364\" y=\"-171.8\" font-family=\"Times,serif\" font-size=\"14.00\" fill=\"#000000\">petal width (cm) &lt;= 1.55</text>\n<text text-anchor=\"middle\" x=\"364\" y=\"-156.8\" font-family=\"Times,serif\" font-size=\"14.00\" fill=\"#000000\">gini = 0.444</text>\n<text text-anchor=\"middle\" x=\"364\" y=\"-141.8\" font-family=\"Times,serif\" font-size=\"14.00\" fill=\"#000000\">samples = 6</text>\n<text text-anchor=\"middle\" x=\"364\" y=\"-126.8\" font-family=\"Times,serif\" font-size=\"14.00\" fill=\"#000000\">value = [0, 2, 4]</text>\n<text text-anchor=\"middle\" x=\"364\" y=\"-111.8\" font-family=\"Times,serif\" font-size=\"14.00\" fill=\"#000000\">class = virginica</text>\n</g>\n<!-- 7&#45;&gt;9 -->\n<g id=\"edge9\" class=\"edge\">\n<title>7&#45;&gt;9</title>\n<path fill=\"none\" stroke=\"#000000\" d=\"M359.4483,-222.8796C359.9304,-214.6838 360.4418,-205.9891 360.9411,-197.5013\"/>\n<polygon fill=\"#000000\" stroke=\"#000000\" points=\"364.4479,-197.4864 361.5413,-187.2981 357.46,-197.0753 364.4479,-197.4864\"/>\n</g>\n<!-- 10 -->\n<g id=\"node11\" class=\"node\">\n<title>10</title>\n<polygon fill=\"#8139e5\" stroke=\"#000000\" points=\"354,-68 244,-68 244,0 354,0 354,-68\"/>\n<text text-anchor=\"middle\" x=\"299\" y=\"-52.8\" font-family=\"Times,serif\" font-size=\"14.00\" fill=\"#000000\">gini = 0.0</text>\n<text text-anchor=\"middle\" x=\"299\" y=\"-37.8\" font-family=\"Times,serif\" font-size=\"14.00\" fill=\"#000000\">samples = 3</text>\n<text text-anchor=\"middle\" x=\"299\" y=\"-22.8\" font-family=\"Times,serif\" font-size=\"14.00\" fill=\"#000000\">value = [0, 0, 3]</text>\n<text text-anchor=\"middle\" x=\"299\" y=\"-7.8\" font-family=\"Times,serif\" font-size=\"14.00\" fill=\"#000000\">class = virginica</text>\n</g>\n<!-- 9&#45;&gt;10 -->\n<g id=\"edge10\" class=\"edge\">\n<title>9&#45;&gt;10</title>\n<path fill=\"none\" stroke=\"#000000\" d=\"M339.7964,-103.9815C334.6529,-95.1585 329.2123,-85.8258 324.0384,-76.9506\"/>\n<polygon fill=\"#000000\" stroke=\"#000000\" points=\"327.0344,-75.1402 318.9743,-68.2637 320.987,-78.6656 327.0344,-75.1402\"/>\n</g>\n<!-- 11 -->\n<g id=\"node12\" class=\"node\">\n<title>11</title>\n<polygon fill=\"#9cf2c0\" stroke=\"#000000\" points=\"487.5,-68 372.5,-68 372.5,0 487.5,0 487.5,-68\"/>\n<text text-anchor=\"middle\" x=\"430\" y=\"-52.8\" font-family=\"Times,serif\" font-size=\"14.00\" fill=\"#000000\">gini = 0.444</text>\n<text text-anchor=\"middle\" x=\"430\" y=\"-37.8\" font-family=\"Times,serif\" font-size=\"14.00\" fill=\"#000000\">samples = 3</text>\n<text text-anchor=\"middle\" x=\"430\" y=\"-22.8\" font-family=\"Times,serif\" font-size=\"14.00\" fill=\"#000000\">value = [0, 2, 1]</text>\n<text text-anchor=\"middle\" x=\"430\" y=\"-7.8\" font-family=\"Times,serif\" font-size=\"14.00\" fill=\"#000000\">class = versicolor</text>\n</g>\n<!-- 9&#45;&gt;11 -->\n<g id=\"edge11\" class=\"edge\">\n<title>9&#45;&gt;11</title>\n<path fill=\"none\" stroke=\"#000000\" d=\"M388.576,-103.9815C393.7986,-95.1585 399.3229,-85.8258 404.5763,-76.9506\"/>\n<polygon fill=\"#000000\" stroke=\"#000000\" points=\"407.6364,-78.652 409.7184,-68.2637 401.6126,-75.0863 407.6364,-78.652\"/>\n</g>\n<!-- 13 -->\n<g id=\"node14\" class=\"node\">\n<title>13</title>\n<polygon fill=\"#c09cf2\" stroke=\"#000000\" points=\"587,-179.5 477,-179.5 477,-111.5 587,-111.5 587,-179.5\"/>\n<text text-anchor=\"middle\" x=\"532\" y=\"-164.3\" font-family=\"Times,serif\" font-size=\"14.00\" fill=\"#000000\">gini = 0.444</text>\n<text text-anchor=\"middle\" x=\"532\" y=\"-149.3\" font-family=\"Times,serif\" font-size=\"14.00\" fill=\"#000000\">samples = 3</text>\n<text text-anchor=\"middle\" x=\"532\" y=\"-134.3\" font-family=\"Times,serif\" font-size=\"14.00\" fill=\"#000000\">value = [0, 1, 2]</text>\n<text text-anchor=\"middle\" x=\"532\" y=\"-119.3\" font-family=\"Times,serif\" font-size=\"14.00\" fill=\"#000000\">class = virginica</text>\n</g>\n<!-- 12&#45;&gt;13 -->\n<g id=\"edge13\" class=\"edge\">\n<title>12&#45;&gt;13</title>\n<path fill=\"none\" stroke=\"#000000\" d=\"M536.5517,-222.8796C535.9243,-212.2134 535.2472,-200.7021 534.6119,-189.9015\"/>\n<polygon fill=\"#000000\" stroke=\"#000000\" points=\"538.0998,-189.5921 534.0185,-179.8149 531.1119,-190.0032 538.0998,-189.5921\"/>\n</g>\n<!-- 14 -->\n<g id=\"node15\" class=\"node\">\n<title>14</title>\n<polygon fill=\"#8139e5\" stroke=\"#000000\" points=\"722.5,-179.5 605.5,-179.5 605.5,-111.5 722.5,-111.5 722.5,-179.5\"/>\n<text text-anchor=\"middle\" x=\"664\" y=\"-164.3\" font-family=\"Times,serif\" font-size=\"14.00\" fill=\"#000000\">gini = 0.0</text>\n<text text-anchor=\"middle\" x=\"664\" y=\"-149.3\" font-family=\"Times,serif\" font-size=\"14.00\" fill=\"#000000\">samples = 31</text>\n<text text-anchor=\"middle\" x=\"664\" y=\"-134.3\" font-family=\"Times,serif\" font-size=\"14.00\" fill=\"#000000\">value = [0, 0, 31]</text>\n<text text-anchor=\"middle\" x=\"664\" y=\"-119.3\" font-family=\"Times,serif\" font-size=\"14.00\" fill=\"#000000\">class = virginica</text>\n</g>\n<!-- 12&#45;&gt;14 -->\n<g id=\"edge14\" class=\"edge\">\n<title>12&#45;&gt;14</title>\n<path fill=\"none\" stroke=\"#000000\" d=\"M582.7189,-222.8796C594.9625,-211.2237 608.2661,-198.5587 620.4971,-186.9148\"/>\n<polygon fill=\"#000000\" stroke=\"#000000\" points=\"623.1254,-189.245 627.9549,-179.8149 618.2988,-184.1751 623.1254,-189.245\"/>\n</g>\n</g>\n</svg>\n"
          },
          "metadata": {
            "tags": []
          },
          "execution_count": 16
        }
      ]
    },
    {
      "cell_type": "markdown",
      "metadata": {
        "id": "sNxurX4x43PY"
      },
      "source": [
        "## min_samples_leaf를 조정"
      ]
    },
    {
      "cell_type": "code",
      "metadata": {
        "id": "jo1sIdTU43P9"
      },
      "source": [
        "params = {\r\n",
        "    'max_depth' : None, \r\n",
        "    'min_samples_split' : 2, \r\n",
        "    'min_samples_leaf' : 4, \r\n",
        "    'max_features' : None, \r\n",
        "    'max_leaf_nodes' : None, \r\n",
        "    'random_state' : 156 \r\n",
        "    }"
      ],
      "execution_count": 17,
      "outputs": []
    },
    {
      "cell_type": "code",
      "metadata": {
        "id": "HH-FNXxn43QA"
      },
      "source": [
        "dt_clf = DecisionTreeClassifier(**params)\r\n",
        "\r\n",
        "iris_data = load_iris()\r\n",
        "x_train, x_test, y_train, y_test = train_test_split(iris_data.data, iris_data.target, test_size=0.2, random_state = 156)\r\n",
        "\r\n",
        "dt_clf.fit(x_train, y_train)\r\n",
        "pred = dt_clf.predict(x_test)"
      ],
      "execution_count": 18,
      "outputs": []
    },
    {
      "cell_type": "code",
      "metadata": {
        "colab": {
          "base_uri": "https://localhost:8080/"
        },
        "id": "i62F-g4s43QB",
        "outputId": "cfb51df8-5714-47d3-bbed-ab51e21fe4c7"
      },
      "source": [
        "from sklearn.metrics import accuracy_score\r\n",
        "accuracy_score(y_test, pred)"
      ],
      "execution_count": 19,
      "outputs": [
        {
          "output_type": "execute_result",
          "data": {
            "text/plain": [
              "1.0"
            ]
          },
          "metadata": {
            "tags": []
          },
          "execution_count": 19
        }
      ]
    },
    {
      "cell_type": "code",
      "metadata": {
        "colab": {
          "base_uri": "https://localhost:8080/",
          "height": 756
        },
        "id": "BI8ugWyk43QE",
        "outputId": "7feeb4f7-be33-4d30-d5a3-d086487dc0b5"
      },
      "source": [
        "graphviz.Source(export_graphviz(dt_clf, class_names=iris_data.target_names, feature_names= iris_data.feature_names, impurity=True, filled=True))"
      ],
      "execution_count": 20,
      "outputs": [
        {
          "output_type": "execute_result",
          "data": {
            "text/plain": [
              "<graphviz.files.Source at 0x7f3a8f14a7f0>"
            ],
            "image/svg+xml": "<?xml version=\"1.0\" encoding=\"UTF-8\" standalone=\"no\"?>\n<!DOCTYPE svg PUBLIC \"-//W3C//DTD SVG 1.1//EN\"\n \"http://www.w3.org/Graphics/SVG/1.1/DTD/svg11.dtd\">\n<!-- Generated by graphviz version 2.40.1 (20161225.0304)\n -->\n<!-- Title: Tree Pages: 1 -->\n<svg width=\"723pt\" height=\"552pt\"\n viewBox=\"0.00 0.00 723.00 552.00\" xmlns=\"http://www.w3.org/2000/svg\" xmlns:xlink=\"http://www.w3.org/1999/xlink\">\n<g id=\"graph0\" class=\"graph\" transform=\"scale(1 1) rotate(0) translate(4 548)\">\n<title>Tree</title>\n<polygon fill=\"#ffffff\" stroke=\"transparent\" points=\"-4,4 -4,-548 719,-548 719,4 -4,4\"/>\n<!-- 0 -->\n<g id=\"node1\" class=\"node\">\n<title>0</title>\n<polygon fill=\"#ffffff\" stroke=\"#000000\" points=\"273.5,-544 117.5,-544 117.5,-461 273.5,-461 273.5,-544\"/>\n<text text-anchor=\"middle\" x=\"195.5\" y=\"-528.8\" font-family=\"Times,serif\" font-size=\"14.00\" fill=\"#000000\">petal length (cm) &lt;= 2.6</text>\n<text text-anchor=\"middle\" x=\"195.5\" y=\"-513.8\" font-family=\"Times,serif\" font-size=\"14.00\" fill=\"#000000\">gini = 0.666</text>\n<text text-anchor=\"middle\" x=\"195.5\" y=\"-498.8\" font-family=\"Times,serif\" font-size=\"14.00\" fill=\"#000000\">samples = 120</text>\n<text text-anchor=\"middle\" x=\"195.5\" y=\"-483.8\" font-family=\"Times,serif\" font-size=\"14.00\" fill=\"#000000\">value = [41, 41, 38]</text>\n<text text-anchor=\"middle\" x=\"195.5\" y=\"-468.8\" font-family=\"Times,serif\" font-size=\"14.00\" fill=\"#000000\">class = setosa</text>\n</g>\n<!-- 1 -->\n<g id=\"node2\" class=\"node\">\n<title>1</title>\n<polygon fill=\"#e58139\" stroke=\"#000000\" points=\"175,-417.5 58,-417.5 58,-349.5 175,-349.5 175,-417.5\"/>\n<text text-anchor=\"middle\" x=\"116.5\" y=\"-402.3\" font-family=\"Times,serif\" font-size=\"14.00\" fill=\"#000000\">gini = 0.0</text>\n<text text-anchor=\"middle\" x=\"116.5\" y=\"-387.3\" font-family=\"Times,serif\" font-size=\"14.00\" fill=\"#000000\">samples = 41</text>\n<text text-anchor=\"middle\" x=\"116.5\" y=\"-372.3\" font-family=\"Times,serif\" font-size=\"14.00\" fill=\"#000000\">value = [41, 0, 0]</text>\n<text text-anchor=\"middle\" x=\"116.5\" y=\"-357.3\" font-family=\"Times,serif\" font-size=\"14.00\" fill=\"#000000\">class = setosa</text>\n</g>\n<!-- 0&#45;&gt;1 -->\n<g id=\"edge1\" class=\"edge\">\n<title>0&#45;&gt;1</title>\n<path fill=\"none\" stroke=\"#000000\" d=\"M167.8696,-460.8796C160.4237,-449.6636 152.3575,-437.5131 144.8718,-426.2372\"/>\n<polygon fill=\"#000000\" stroke=\"#000000\" points=\"147.7273,-424.2104 139.2805,-417.8149 141.8954,-428.082 147.7273,-424.2104\"/>\n<text text-anchor=\"middle\" x=\"134.33\" y=\"-438.6199\" font-family=\"Times,serif\" font-size=\"14.00\" fill=\"#000000\">True</text>\n</g>\n<!-- 2 -->\n<g id=\"node3\" class=\"node\">\n<title>2</title>\n<polygon fill=\"#f1fdf6\" stroke=\"#000000\" points=\"357.5,-425 193.5,-425 193.5,-342 357.5,-342 357.5,-425\"/>\n<text text-anchor=\"middle\" x=\"275.5\" y=\"-409.8\" font-family=\"Times,serif\" font-size=\"14.00\" fill=\"#000000\">petal length (cm) &lt;= 4.75</text>\n<text text-anchor=\"middle\" x=\"275.5\" y=\"-394.8\" font-family=\"Times,serif\" font-size=\"14.00\" fill=\"#000000\">gini = 0.499</text>\n<text text-anchor=\"middle\" x=\"275.5\" y=\"-379.8\" font-family=\"Times,serif\" font-size=\"14.00\" fill=\"#000000\">samples = 79</text>\n<text text-anchor=\"middle\" x=\"275.5\" y=\"-364.8\" font-family=\"Times,serif\" font-size=\"14.00\" fill=\"#000000\">value = [0, 41, 38]</text>\n<text text-anchor=\"middle\" x=\"275.5\" y=\"-349.8\" font-family=\"Times,serif\" font-size=\"14.00\" fill=\"#000000\">class = versicolor</text>\n</g>\n<!-- 0&#45;&gt;2 -->\n<g id=\"edge2\" class=\"edge\">\n<title>0&#45;&gt;2</title>\n<path fill=\"none\" stroke=\"#000000\" d=\"M223.4801,-460.8796C229.3531,-452.1434 235.6073,-442.8404 241.6679,-433.8253\"/>\n<polygon fill=\"#000000\" stroke=\"#000000\" points=\"244.7259,-435.5498 247.4005,-425.2981 238.9166,-431.6444 244.7259,-435.5498\"/>\n<text text-anchor=\"middle\" x=\"252.2085\" y=\"-446.1314\" font-family=\"Times,serif\" font-size=\"14.00\" fill=\"#000000\">False</text>\n</g>\n<!-- 3 -->\n<g id=\"node4\" class=\"node\">\n<title>3</title>\n<polygon fill=\"#3ee684\" stroke=\"#000000\" points=\"265.5,-306 107.5,-306 107.5,-223 265.5,-223 265.5,-306\"/>\n<text text-anchor=\"middle\" x=\"186.5\" y=\"-290.8\" font-family=\"Times,serif\" font-size=\"14.00\" fill=\"#000000\">sepal length (cm) &lt;= 5.3</text>\n<text text-anchor=\"middle\" x=\"186.5\" y=\"-275.8\" font-family=\"Times,serif\" font-size=\"14.00\" fill=\"#000000\">gini = 0.053</text>\n<text text-anchor=\"middle\" x=\"186.5\" y=\"-260.8\" font-family=\"Times,serif\" font-size=\"14.00\" fill=\"#000000\">samples = 37</text>\n<text text-anchor=\"middle\" x=\"186.5\" y=\"-245.8\" font-family=\"Times,serif\" font-size=\"14.00\" fill=\"#000000\">value = [0, 36, 1]</text>\n<text text-anchor=\"middle\" x=\"186.5\" y=\"-230.8\" font-family=\"Times,serif\" font-size=\"14.00\" fill=\"#000000\">class = versicolor</text>\n</g>\n<!-- 2&#45;&gt;3 -->\n<g id=\"edge3\" class=\"edge\">\n<title>2&#45;&gt;3</title>\n<path fill=\"none\" stroke=\"#000000\" d=\"M244.3721,-341.8796C237.771,-333.0534 230.7371,-323.6485 223.9298,-314.5466\"/>\n<polygon fill=\"#000000\" stroke=\"#000000\" points=\"226.5528,-312.2099 217.7607,-306.2981 220.9472,-316.4024 226.5528,-312.2099\"/>\n</g>\n<!-- 6 -->\n<g id=\"node7\" class=\"node\">\n<title>6</title>\n<polygon fill=\"#9254e9\" stroke=\"#000000\" points=\"445,-306 284,-306 284,-223 445,-223 445,-306\"/>\n<text text-anchor=\"middle\" x=\"364.5\" y=\"-290.8\" font-family=\"Times,serif\" font-size=\"14.00\" fill=\"#000000\">petal width (cm) &lt;= 1.75</text>\n<text text-anchor=\"middle\" x=\"364.5\" y=\"-275.8\" font-family=\"Times,serif\" font-size=\"14.00\" fill=\"#000000\">gini = 0.21</text>\n<text text-anchor=\"middle\" x=\"364.5\" y=\"-260.8\" font-family=\"Times,serif\" font-size=\"14.00\" fill=\"#000000\">samples = 42</text>\n<text text-anchor=\"middle\" x=\"364.5\" y=\"-245.8\" font-family=\"Times,serif\" font-size=\"14.00\" fill=\"#000000\">value = [0, 5, 37]</text>\n<text text-anchor=\"middle\" x=\"364.5\" y=\"-230.8\" font-family=\"Times,serif\" font-size=\"14.00\" fill=\"#000000\">class = virginica</text>\n</g>\n<!-- 2&#45;&gt;6 -->\n<g id=\"edge6\" class=\"edge\">\n<title>2&#45;&gt;6</title>\n<path fill=\"none\" stroke=\"#000000\" d=\"M306.6279,-341.8796C313.229,-333.0534 320.2629,-323.6485 327.0702,-314.5466\"/>\n<polygon fill=\"#000000\" stroke=\"#000000\" points=\"330.0528,-316.4024 333.2393,-306.2981 324.4472,-312.2099 330.0528,-316.4024\"/>\n</g>\n<!-- 4 -->\n<g id=\"node5\" class=\"node\">\n<title>4</title>\n<polygon fill=\"#7beeab\" stroke=\"#000000\" points=\"115,-179.5 0,-179.5 0,-111.5 115,-111.5 115,-179.5\"/>\n<text text-anchor=\"middle\" x=\"57.5\" y=\"-164.3\" font-family=\"Times,serif\" font-size=\"14.00\" fill=\"#000000\">gini = 0.375</text>\n<text text-anchor=\"middle\" x=\"57.5\" y=\"-149.3\" font-family=\"Times,serif\" font-size=\"14.00\" fill=\"#000000\">samples = 4</text>\n<text text-anchor=\"middle\" x=\"57.5\" y=\"-134.3\" font-family=\"Times,serif\" font-size=\"14.00\" fill=\"#000000\">value = [0, 3, 1]</text>\n<text text-anchor=\"middle\" x=\"57.5\" y=\"-119.3\" font-family=\"Times,serif\" font-size=\"14.00\" fill=\"#000000\">class = versicolor</text>\n</g>\n<!-- 3&#45;&gt;4 -->\n<g id=\"edge4\" class=\"edge\">\n<title>3&#45;&gt;4</title>\n<path fill=\"none\" stroke=\"#000000\" d=\"M141.3821,-222.8796C128.7467,-211.2237 115.0174,-198.5587 102.395,-186.9148\"/>\n<polygon fill=\"#000000\" stroke=\"#000000\" points=\"104.422,-184.0228 94.6985,-179.8149 99.6756,-189.168 104.422,-184.0228\"/>\n</g>\n<!-- 5 -->\n<g id=\"node6\" class=\"node\">\n<title>5</title>\n<polygon fill=\"#39e581\" stroke=\"#000000\" points=\"250,-179.5 133,-179.5 133,-111.5 250,-111.5 250,-179.5\"/>\n<text text-anchor=\"middle\" x=\"191.5\" y=\"-164.3\" font-family=\"Times,serif\" font-size=\"14.00\" fill=\"#000000\">gini = 0.0</text>\n<text text-anchor=\"middle\" x=\"191.5\" y=\"-149.3\" font-family=\"Times,serif\" font-size=\"14.00\" fill=\"#000000\">samples = 33</text>\n<text text-anchor=\"middle\" x=\"191.5\" y=\"-134.3\" font-family=\"Times,serif\" font-size=\"14.00\" fill=\"#000000\">value = [0, 33, 0]</text>\n<text text-anchor=\"middle\" x=\"191.5\" y=\"-119.3\" font-family=\"Times,serif\" font-size=\"14.00\" fill=\"#000000\">class = versicolor</text>\n</g>\n<!-- 3&#45;&gt;5 -->\n<g id=\"edge5\" class=\"edge\">\n<title>3&#45;&gt;5</title>\n<path fill=\"none\" stroke=\"#000000\" d=\"M188.2488,-222.8796C188.6969,-212.2134 189.1806,-200.7021 189.6344,-189.9015\"/>\n<polygon fill=\"#000000\" stroke=\"#000000\" points=\"193.1352,-189.9531 190.0582,-179.8149 186.1414,-189.6592 193.1352,-189.9531\"/>\n</g>\n<!-- 7 -->\n<g id=\"node8\" class=\"node\">\n<title>7</title>\n<polygon fill=\"#ffffff\" stroke=\"#000000\" points=\"441.5,-187 277.5,-187 277.5,-104 441.5,-104 441.5,-187\"/>\n<text text-anchor=\"middle\" x=\"359.5\" y=\"-171.8\" font-family=\"Times,serif\" font-size=\"14.00\" fill=\"#000000\">petal length (cm) &lt;= 5.05</text>\n<text text-anchor=\"middle\" x=\"359.5\" y=\"-156.8\" font-family=\"Times,serif\" font-size=\"14.00\" fill=\"#000000\">gini = 0.5</text>\n<text text-anchor=\"middle\" x=\"359.5\" y=\"-141.8\" font-family=\"Times,serif\" font-size=\"14.00\" fill=\"#000000\">samples = 8</text>\n<text text-anchor=\"middle\" x=\"359.5\" y=\"-126.8\" font-family=\"Times,serif\" font-size=\"14.00\" fill=\"#000000\">value = [0, 4, 4]</text>\n<text text-anchor=\"middle\" x=\"359.5\" y=\"-111.8\" font-family=\"Times,serif\" font-size=\"14.00\" fill=\"#000000\">class = versicolor</text>\n</g>\n<!-- 6&#45;&gt;7 -->\n<g id=\"edge7\" class=\"edge\">\n<title>6&#45;&gt;7</title>\n<path fill=\"none\" stroke=\"#000000\" d=\"M362.7512,-222.8796C362.4069,-214.6838 362.0416,-205.9891 361.6849,-197.5013\"/>\n<polygon fill=\"#000000\" stroke=\"#000000\" points=\"365.173,-197.1423 361.2562,-187.2981 358.1792,-197.4362 365.173,-197.1423\"/>\n</g>\n<!-- 10 -->\n<g id=\"node11\" class=\"node\">\n<title>10</title>\n<polygon fill=\"#853fe6\" stroke=\"#000000\" points=\"615.5,-187 459.5,-187 459.5,-104 615.5,-104 615.5,-187\"/>\n<text text-anchor=\"middle\" x=\"537.5\" y=\"-171.8\" font-family=\"Times,serif\" font-size=\"14.00\" fill=\"#000000\">petal length (cm) &lt;= 5.0</text>\n<text text-anchor=\"middle\" x=\"537.5\" y=\"-156.8\" font-family=\"Times,serif\" font-size=\"14.00\" fill=\"#000000\">gini = 0.057</text>\n<text text-anchor=\"middle\" x=\"537.5\" y=\"-141.8\" font-family=\"Times,serif\" font-size=\"14.00\" fill=\"#000000\">samples = 34</text>\n<text text-anchor=\"middle\" x=\"537.5\" y=\"-126.8\" font-family=\"Times,serif\" font-size=\"14.00\" fill=\"#000000\">value = [0, 1, 33]</text>\n<text text-anchor=\"middle\" x=\"537.5\" y=\"-111.8\" font-family=\"Times,serif\" font-size=\"14.00\" fill=\"#000000\">class = virginica</text>\n</g>\n<!-- 6&#45;&gt;10 -->\n<g id=\"edge10\" class=\"edge\">\n<title>6&#45;&gt;10</title>\n<path fill=\"none\" stroke=\"#000000\" d=\"M425.007,-222.8796C439.0982,-213.1868 454.2039,-202.7961 468.6269,-192.8752\"/>\n<polygon fill=\"#000000\" stroke=\"#000000\" points=\"470.7717,-195.6479 477.0272,-187.0969 466.8045,-189.8806 470.7717,-195.6479\"/>\n</g>\n<!-- 8 -->\n<g id=\"node9\" class=\"node\">\n<title>8</title>\n<polygon fill=\"#7beeab\" stroke=\"#000000\" points=\"298,-68 183,-68 183,0 298,0 298,-68\"/>\n<text text-anchor=\"middle\" x=\"240.5\" y=\"-52.8\" font-family=\"Times,serif\" font-size=\"14.00\" fill=\"#000000\">gini = 0.375</text>\n<text text-anchor=\"middle\" x=\"240.5\" y=\"-37.8\" font-family=\"Times,serif\" font-size=\"14.00\" fill=\"#000000\">samples = 4</text>\n<text text-anchor=\"middle\" x=\"240.5\" y=\"-22.8\" font-family=\"Times,serif\" font-size=\"14.00\" fill=\"#000000\">value = [0, 3, 1]</text>\n<text text-anchor=\"middle\" x=\"240.5\" y=\"-7.8\" font-family=\"Times,serif\" font-size=\"14.00\" fill=\"#000000\">class = versicolor</text>\n</g>\n<!-- 7&#45;&gt;8 -->\n<g id=\"edge8\" class=\"edge\">\n<title>7&#45;&gt;8</title>\n<path fill=\"none\" stroke=\"#000000\" d=\"M315.1888,-103.9815C305.1837,-94.607 294.5646,-84.6572 284.5696,-75.2921\"/>\n<polygon fill=\"#000000\" stroke=\"#000000\" points=\"286.7588,-72.547 277.0684,-68.2637 281.9726,-77.6551 286.7588,-72.547\"/>\n</g>\n<!-- 9 -->\n<g id=\"node10\" class=\"node\">\n<title>9</title>\n<polygon fill=\"#ab7bee\" stroke=\"#000000\" points=\"426.5,-68 316.5,-68 316.5,0 426.5,0 426.5,-68\"/>\n<text text-anchor=\"middle\" x=\"371.5\" y=\"-52.8\" font-family=\"Times,serif\" font-size=\"14.00\" fill=\"#000000\">gini = 0.375</text>\n<text text-anchor=\"middle\" x=\"371.5\" y=\"-37.8\" font-family=\"Times,serif\" font-size=\"14.00\" fill=\"#000000\">samples = 4</text>\n<text text-anchor=\"middle\" x=\"371.5\" y=\"-22.8\" font-family=\"Times,serif\" font-size=\"14.00\" fill=\"#000000\">value = [0, 1, 3]</text>\n<text text-anchor=\"middle\" x=\"371.5\" y=\"-7.8\" font-family=\"Times,serif\" font-size=\"14.00\" fill=\"#000000\">class = virginica</text>\n</g>\n<!-- 7&#45;&gt;9 -->\n<g id=\"edge9\" class=\"edge\">\n<title>7&#45;&gt;9</title>\n<path fill=\"none\" stroke=\"#000000\" d=\"M363.9684,-103.9815C364.8685,-95.618 365.8179,-86.7965 366.7279,-78.3409\"/>\n<polygon fill=\"#000000\" stroke=\"#000000\" points=\"370.2222,-78.5808 367.8124,-68.2637 363.2624,-77.8317 370.2222,-78.5808\"/>\n</g>\n<!-- 11 -->\n<g id=\"node12\" class=\"node\">\n<title>11</title>\n<polygon fill=\"#a06aec\" stroke=\"#000000\" points=\"579.5,-68 469.5,-68 469.5,0 579.5,0 579.5,-68\"/>\n<text text-anchor=\"middle\" x=\"524.5\" y=\"-52.8\" font-family=\"Times,serif\" font-size=\"14.00\" fill=\"#000000\">gini = 0.32</text>\n<text text-anchor=\"middle\" x=\"524.5\" y=\"-37.8\" font-family=\"Times,serif\" font-size=\"14.00\" fill=\"#000000\">samples = 5</text>\n<text text-anchor=\"middle\" x=\"524.5\" y=\"-22.8\" font-family=\"Times,serif\" font-size=\"14.00\" fill=\"#000000\">value = [0, 1, 4]</text>\n<text text-anchor=\"middle\" x=\"524.5\" y=\"-7.8\" font-family=\"Times,serif\" font-size=\"14.00\" fill=\"#000000\">class = virginica</text>\n</g>\n<!-- 10&#45;&gt;11 -->\n<g id=\"edge11\" class=\"edge\">\n<title>10&#45;&gt;11</title>\n<path fill=\"none\" stroke=\"#000000\" d=\"M532.6593,-103.9815C531.6842,-95.618 530.6557,-86.7965 529.6698,-78.3409\"/>\n<polygon fill=\"#000000\" stroke=\"#000000\" points=\"533.1295,-77.791 528.4949,-68.2637 526.1766,-78.6017 533.1295,-77.791\"/>\n</g>\n<!-- 12 -->\n<g id=\"node13\" class=\"node\">\n<title>12</title>\n<polygon fill=\"#8139e5\" stroke=\"#000000\" points=\"715,-68 598,-68 598,0 715,0 715,-68\"/>\n<text text-anchor=\"middle\" x=\"656.5\" y=\"-52.8\" font-family=\"Times,serif\" font-size=\"14.00\" fill=\"#000000\">gini = 0.0</text>\n<text text-anchor=\"middle\" x=\"656.5\" y=\"-37.8\" font-family=\"Times,serif\" font-size=\"14.00\" fill=\"#000000\">samples = 29</text>\n<text text-anchor=\"middle\" x=\"656.5\" y=\"-22.8\" font-family=\"Times,serif\" font-size=\"14.00\" fill=\"#000000\">value = [0, 0, 29]</text>\n<text text-anchor=\"middle\" x=\"656.5\" y=\"-7.8\" font-family=\"Times,serif\" font-size=\"14.00\" fill=\"#000000\">class = virginica</text>\n</g>\n<!-- 10&#45;&gt;12 -->\n<g id=\"edge12\" class=\"edge\">\n<title>10&#45;&gt;12</title>\n<path fill=\"none\" stroke=\"#000000\" d=\"M581.8112,-103.9815C591.8163,-94.607 602.4354,-84.6572 612.4304,-75.2921\"/>\n<polygon fill=\"#000000\" stroke=\"#000000\" points=\"615.0274,-77.6551 619.9316,-68.2637 610.2412,-72.547 615.0274,-77.6551\"/>\n</g>\n</g>\n</svg>\n"
          },
          "metadata": {
            "tags": []
          },
          "execution_count": 20
        }
      ]
    },
    {
      "cell_type": "markdown",
      "metadata": {
        "id": "qGIHt8IV54CO"
      },
      "source": [
        "## 중요 픽쳐를 시각화"
      ]
    },
    {
      "cell_type": "code",
      "metadata": {
        "colab": {
          "base_uri": "https://localhost:8080/"
        },
        "id": "87nnjodD53bS",
        "outputId": "269ae165-c388-4345-bd07-8cb02b0feb30"
      },
      "source": [
        "print('Feature importances : {}'.format(np.round(dt_clf.feature_importances_, 3)))\r\n",
        "\r\n",
        "for name, feature in zip(iris_data.feature_names, dt_clf.feature_importances_):\r\n",
        "  print(\"{0} : {1:.3f}\".format(name, feature))"
      ],
      "execution_count": 21,
      "outputs": [
        {
          "output_type": "stream",
          "text": [
            "Feature importances : [0.006 0.    0.955 0.039]\n",
            "sepal length (cm) : 0.006\n",
            "sepal width (cm) : 0.000\n",
            "petal length (cm) : 0.955\n",
            "petal width (cm) : 0.039\n"
          ],
          "name": "stdout"
        }
      ]
    },
    {
      "cell_type": "code",
      "metadata": {
        "colab": {
          "base_uri": "https://localhost:8080/",
          "height": 282
        },
        "id": "wonocF0Y7VUZ",
        "outputId": "8f4add18-948f-4b9a-be38-dfd2540ccd90"
      },
      "source": [
        "sns.barplot(x = dt_clf.feature_importances_, y = iris_data.feature_names)"
      ],
      "execution_count": 22,
      "outputs": [
        {
          "output_type": "execute_result",
          "data": {
            "text/plain": [
              "<matplotlib.axes._subplots.AxesSubplot at 0x7f3a8f159a58>"
            ]
          },
          "metadata": {
            "tags": []
          },
          "execution_count": 22
        },
        {
          "output_type": "display_data",
          "data": {
            "image/png": "[encoded data removed]",
            "text/plain": [
              "<Figure size 432x288 with 1 Axes>"
            ]
          },
          "metadata": {
            "tags": [],
            "needs_background": "light"
          }
        }
      ]
    },
    {
      "cell_type": "markdown",
      "metadata": {
        "id": "L8IIvTKQ71VX"
      },
      "source": [
        "## 결정 트리(Decision TREE) 과적합(Overfitting)"
      ]
    },
    {
      "cell_type": "code",
      "metadata": {
        "id": "RVBIjVgJ71VX",
        "colab": {
          "base_uri": "https://localhost:8080/",
          "height": 298
        },
        "outputId": "2549b403-9695-449a-a033-a71a55fcaa51"
      },
      "source": [
        "from sklearn.datasets import make_classification\n",
        "import matplotlib.pyplot as plt\n",
        "%matplotlib inline\n",
        "\n",
        "plt.title(\"3 Class values with 2 Features Sample data creation\")\n",
        "\n",
        "# 2차원 시각화를 위해서 feature는 2개, 결정값 클래스는 3가지 유형의 classification 샘플 데이터 생성. \n",
        "X_features, y_labels = make_classification(n_features=2, n_redundant=0, n_informative=2,\n",
        "                             n_classes=3, n_clusters_per_class=1,random_state=0)\n",
        "\n",
        "# plot 형태로 2개의 feature로 2차원 좌표 시각화, 각 클래스값은 다른 색깔로 표시됨. \n",
        "plt.scatter(X_features[:, 0], X_features[:, 1], marker='o', c=y_labels, s=25, cmap='rainbow', edgecolor='k')"
      ],
      "execution_count": 23,
      "outputs": [
        {
          "output_type": "execute_result",
          "data": {
            "text/plain": [
              "<matplotlib.collections.PathCollection at 0x7f3a8f08fcf8>"
            ]
          },
          "metadata": {
            "tags": []
          },
          "execution_count": 23
        },
        {
          "output_type": "display_data",
          "data": {
            "image/png": "[encoded data removed]",
            "text/plain": [
              "<Figure size 432x288 with 1 Axes>"
            ]
          },
          "metadata": {
            "tags": [],
            "needs_background": "light"
          }
        }
      ]
    },
    {
      "cell_type": "code",
      "metadata": {
        "id": "iQVMfERY71VY"
      },
      "source": [
        "import numpy as np\n",
        "\n",
        "# Classifier의 Decision Boundary를 시각화 하는 함수\n",
        "def visualize_boundary(model, X, y):\n",
        "    fig,ax = plt.subplots()\n",
        "    \n",
        "    # 학습 데이타 scatter plot으로 나타내기\n",
        "    ax.scatter(X[:, 0], X[:, 1], c=y, s=25, cmap='rainbow', edgecolor='k',\n",
        "               clim=(y.min(), y.max()), zorder=3)\n",
        "    ax.axis('tight')\n",
        "    ax.axis('off')\n",
        "    xlim_start , xlim_end = ax.get_xlim()\n",
        "    ylim_start , ylim_end = ax.get_ylim()\n",
        "    \n",
        "    # 호출 파라미터로 들어온 training 데이타로 model 학습 . \n",
        "    model.fit(X, y)\n",
        "    # meshgrid 형태인 모든 좌표값으로 예측 수행. \n",
        "    xx, yy = np.meshgrid(np.linspace(xlim_start,xlim_end, num=200),np.linspace(ylim_start,ylim_end, num=200))\n",
        "    Z = model.predict(np.c_[xx.ravel(), yy.ravel()]).reshape(xx.shape)\n",
        "    \n",
        "    # contourf() 를 이용하여 class boundary 를 visualization 수행. \n",
        "    n_classes = len(np.unique(y))\n",
        "    contours = ax.contourf(xx, yy, Z, alpha=0.3,\n",
        "                           levels=np.arange(n_classes + 1) - 0.5,\n",
        "                           cmap='rainbow', clim=(y.min(), y.max()),\n",
        "                           zorder=1)"
      ],
      "execution_count": 24,
      "outputs": []
    },
    {
      "cell_type": "code",
      "metadata": {
        "id": "dmvnsTDx71VZ",
        "colab": {
          "base_uri": "https://localhost:8080/",
          "height": 248
        },
        "outputId": "e6ea8e40-3cb0-4f17-bd71-63a944af4742"
      },
      "source": [
        "from sklearn.tree import DecisionTreeClassifier\n",
        "\n",
        "# 특정한 트리 생성 제약없는 결정 트리의 Decsion Boundary 시각화.\n",
        "dt_clf = DecisionTreeClassifier().fit(X_features, y_labels)\n",
        "visualize_boundary(dt_clf, X_features, y_labels)\n",
        "\n",
        "# 과적합되어 있음"
      ],
      "execution_count": 25,
      "outputs": [
        {
          "output_type": "display_data",
          "data": {
            "image/png": "[encoded data removed]",
            "text/plain": [
              "<Figure size 432x288 with 1 Axes>"
            ]
          },
          "metadata": {
            "tags": [],
            "needs_background": "light"
          }
        }
      ]
    },
    {
      "cell_type": "code",
      "metadata": {
        "scrolled": true,
        "id": "UCQ2RPA_71VZ",
        "colab": {
          "base_uri": "https://localhost:8080/",
          "height": 248
        },
        "outputId": "b96f664f-9906-4b5a-a071-a4da29affe9b"
      },
      "source": [
        "# min_samples_leaf=6 으로 트리 생성 조건을 제약한 Decision Boundary 시각화\n",
        "dt_clf = DecisionTreeClassifier( min_samples_leaf=6).fit(X_features, y_labels)\n",
        "visualize_boundary(dt_clf, X_features, y_labels)\n",
        "\n",
        "# 모델이 어느정도 일반화 되어있다는 것을 알 수 있음"
      ],
      "execution_count": 26,
      "outputs": [
        {
          "output_type": "display_data",
          "data": {
            "image/png": "[encoded data removed]",
            "text/plain": [
              "<Figure size 432x288 with 1 Axes>"
            ]
          },
          "metadata": {
            "tags": [],
            "needs_background": "light"
          }
        }
      ]
    },
    {
      "cell_type": "code",
      "metadata": {
        "scrolled": true,
        "colab": {
          "base_uri": "https://localhost:8080/",
          "height": 248
        },
        "id": "1CJvz5sk8t2k",
        "outputId": "ca197140-d2fb-4e18-9410-4c2e9bfcb138"
      },
      "source": [
        "# min_samples_leaf=5 으로 트리 생성 조건을 제약한 Decision Boundary 시각화\n",
        "dt_clf = DecisionTreeClassifier( min_samples_leaf=5).fit(X_features, y_labels)\n",
        "visualize_boundary(dt_clf, X_features, y_labels)\n",
        "\n",
        "# 모델이 어느정도 일반화 되어있다는 것을 알 수 있음"
      ],
      "execution_count": 27,
      "outputs": [
        {
          "output_type": "display_data",
          "data": {
            "image/png": "[encoded data removed]",
            "text/plain": [
              "<Figure size 432x288 with 1 Axes>"
            ]
          },
          "metadata": {
            "tags": [],
            "needs_background": "light"
          }
        }
      ]
    },
    {
      "cell_type": "code",
      "metadata": {
        "scrolled": true,
        "colab": {
          "base_uri": "https://localhost:8080/",
          "height": 248
        },
        "id": "ZyeCkPIO8uEl",
        "outputId": "ba1acbbb-b004-405c-bb43-cfb8a7608922"
      },
      "source": [
        "# min_samples_leaf=4 으로 트리 생성 조건을 제약한 Decision Boundary 시각화\n",
        "dt_clf = DecisionTreeClassifier( min_samples_leaf=4).fit(X_features, y_labels)\n",
        "visualize_boundary(dt_clf, X_features, y_labels)\n",
        "\n",
        "# 과적합되어 있음"
      ],
      "execution_count": 28,
      "outputs": [
        {
          "output_type": "display_data",
          "data": {
            "image/png": "[encoded data removed]",
            "text/plain": [
              "<Figure size 432x288 with 1 Axes>"
            ]
          },
          "metadata": {
            "tags": [],
            "needs_background": "light"
          }
        }
      ]
    },
    {
      "cell_type": "code",
      "metadata": {
        "colab": {
          "base_uri": "https://localhost:8080/",
          "height": 248
        },
        "id": "JNJAFn6o82OY",
        "outputId": "abdc2228-9b42-48e9-e1fc-465263f9f38f"
      },
      "source": [
        "# min_samples_leaf=3 으로 트리 생성 조건을 제약한 Decision Boundary 시각화\r\n",
        "dt_clf = DecisionTreeClassifier( min_samples_leaf=3).fit(X_features, y_labels)\r\n",
        "visualize_boundary(dt_clf, X_features, y_labels)\r\n",
        "\r\n",
        "# 과적합되어 있음"
      ],
      "execution_count": 29,
      "outputs": [
        {
          "output_type": "display_data",
          "data": {
            "image/png": "[encoded data removed]",
            "text/plain": [
              "<Figure size 432x288 with 1 Axes>"
            ]
          },
          "metadata": {
            "tags": [],
            "needs_background": "light"
          }
        }
      ]
    },
    {
      "cell_type": "markdown",
      "metadata": {
        "id": "Xnw-Yu5NC9cY"
      },
      "source": [
        "# 결정 트리 실습 - Human Activity Recognition"
      ]
    },
    {
      "cell_type": "code",
      "metadata": {
        "colab": {
          "base_uri": "https://localhost:8080/",
          "height": 405
        },
        "id": "s3LA00UnDX2H",
        "outputId": "d460811a-2a76-4864-da6f-aa77df0fbc99"
      },
      "source": [
        ""
      ],
      "execution_count": 32,
      "outputs": [
        {
          "output_type": "execute_result",
          "data": {
            "text/html": [
              "<div>\n",
              "<style scoped>\n",
              "    .dataframe tbody tr th:only-of-type {\n",
              "        vertical-align: middle;\n",
              "    }\n",
              "\n",
              "    .dataframe tbody tr th {\n",
              "        vertical-align: top;\n",
              "    }\n",
              "\n",
              "    .dataframe thead th {\n",
              "        text-align: right;\n",
              "    }\n",
              "</style>\n",
              "<table border=\"1\" class=\"dataframe\">\n",
              "  <thead>\n",
              "    <tr style=\"text-align: right;\">\n",
              "      <th></th>\n",
              "      <th>1</th>\n",
              "      <th>tBodyAcc-mean()-X</th>\n",
              "    </tr>\n",
              "  </thead>\n",
              "  <tbody>\n",
              "    <tr>\n",
              "      <th>0</th>\n",
              "      <td>2</td>\n",
              "      <td>tBodyAcc-mean()-Y</td>\n",
              "    </tr>\n",
              "    <tr>\n",
              "      <th>1</th>\n",
              "      <td>3</td>\n",
              "      <td>tBodyAcc-mean()-Z</td>\n",
              "    </tr>\n",
              "    <tr>\n",
              "      <th>2</th>\n",
              "      <td>4</td>\n",
              "      <td>tBodyAcc-std()-X</td>\n",
              "    </tr>\n",
              "    <tr>\n",
              "      <th>3</th>\n",
              "      <td>5</td>\n",
              "      <td>tBodyAcc-std()-Y</td>\n",
              "    </tr>\n",
              "    <tr>\n",
              "      <th>4</th>\n",
              "      <td>6</td>\n",
              "      <td>tBodyAcc-std()-Z</td>\n",
              "    </tr>\n",
              "    <tr>\n",
              "      <th>...</th>\n",
              "      <td>...</td>\n",
              "      <td>...</td>\n",
              "    </tr>\n",
              "    <tr>\n",
              "      <th>555</th>\n",
              "      <td>557</td>\n",
              "      <td>angle(tBodyGyroMean,gravityMean)</td>\n",
              "    </tr>\n",
              "    <tr>\n",
              "      <th>556</th>\n",
              "      <td>558</td>\n",
              "      <td>angle(tBodyGyroJerkMean,gravityMean)</td>\n",
              "    </tr>\n",
              "    <tr>\n",
              "      <th>557</th>\n",
              "      <td>559</td>\n",
              "      <td>angle(X,gravityMean)</td>\n",
              "    </tr>\n",
              "    <tr>\n",
              "      <th>558</th>\n",
              "      <td>560</td>\n",
              "      <td>angle(Y,gravityMean)</td>\n",
              "    </tr>\n",
              "    <tr>\n",
              "      <th>559</th>\n",
              "      <td>561</td>\n",
              "      <td>angle(Z,gravityMean)</td>\n",
              "    </tr>\n",
              "  </tbody>\n",
              "</table>\n",
              "<p>560 rows × 2 columns</p>\n",
              "</div>"
            ],
            "text/plain": [
              "       1                     tBodyAcc-mean()-X\n",
              "0      2                     tBodyAcc-mean()-Y\n",
              "1      3                     tBodyAcc-mean()-Z\n",
              "2      4                      tBodyAcc-std()-X\n",
              "3      5                      tBodyAcc-std()-Y\n",
              "4      6                      tBodyAcc-std()-Z\n",
              "..   ...                                   ...\n",
              "555  557      angle(tBodyGyroMean,gravityMean)\n",
              "556  558  angle(tBodyGyroJerkMean,gravityMean)\n",
              "557  559                  angle(X,gravityMean)\n",
              "558  560                  angle(Y,gravityMean)\n",
              "559  561                  angle(Z,gravityMean)\n",
              "\n",
              "[560 rows x 2 columns]"
            ]
          },
          "metadata": {
            "tags": []
          },
          "execution_count": 32
        }
      ]
    },
    {
      "cell_type": "code",
      "metadata": {
        "scrolled": true,
        "id": "B_4pA8yNC9cY",
        "colab": {
          "base_uri": "https://localhost:8080/",
          "height": 197
        },
        "outputId": "1812ed73-10c1-44ca-8bce-0856c98e646a"
      },
      "source": [
        "import pandas as pd\n",
        "import matplotlib.pyplot as plt\n",
        "%matplotlib inline\n",
        "\n",
        "# features.txt 파일에는 피처 이름 index와 피처명이 공백으로 분리되어 있음. 이를 DataFrame으로 로드.\n",
        "feature_name_df = pd.read_csv('/content/drive/MyDrive/Study/파이썬 머신러닝 완벽가이드/data/UCI HAR Dataset/features.txt',sep='\\s+',\n",
        "                        header=None,names=['column_index','column_name'])\n",
        "feature_name_df.head()"
      ],
      "execution_count": 35,
      "outputs": [
        {
          "output_type": "execute_result",
          "data": {
            "text/html": [
              "<div>\n",
              "<style scoped>\n",
              "    .dataframe tbody tr th:only-of-type {\n",
              "        vertical-align: middle;\n",
              "    }\n",
              "\n",
              "    .dataframe tbody tr th {\n",
              "        vertical-align: top;\n",
              "    }\n",
              "\n",
              "    .dataframe thead th {\n",
              "        text-align: right;\n",
              "    }\n",
              "</style>\n",
              "<table border=\"1\" class=\"dataframe\">\n",
              "  <thead>\n",
              "    <tr style=\"text-align: right;\">\n",
              "      <th></th>\n",
              "      <th>column_index</th>\n",
              "      <th>column_name</th>\n",
              "    </tr>\n",
              "  </thead>\n",
              "  <tbody>\n",
              "    <tr>\n",
              "      <th>0</th>\n",
              "      <td>1</td>\n",
              "      <td>tBodyAcc-mean()-X</td>\n",
              "    </tr>\n",
              "    <tr>\n",
              "      <th>1</th>\n",
              "      <td>2</td>\n",
              "      <td>tBodyAcc-mean()-Y</td>\n",
              "    </tr>\n",
              "    <tr>\n",
              "      <th>2</th>\n",
              "      <td>3</td>\n",
              "      <td>tBodyAcc-mean()-Z</td>\n",
              "    </tr>\n",
              "    <tr>\n",
              "      <th>3</th>\n",
              "      <td>4</td>\n",
              "      <td>tBodyAcc-std()-X</td>\n",
              "    </tr>\n",
              "    <tr>\n",
              "      <th>4</th>\n",
              "      <td>5</td>\n",
              "      <td>tBodyAcc-std()-Y</td>\n",
              "    </tr>\n",
              "  </tbody>\n",
              "</table>\n",
              "</div>"
            ],
            "text/plain": [
              "   column_index        column_name\n",
              "0             1  tBodyAcc-mean()-X\n",
              "1             2  tBodyAcc-mean()-Y\n",
              "2             3  tBodyAcc-mean()-Z\n",
              "3             4   tBodyAcc-std()-X\n",
              "4             5   tBodyAcc-std()-Y"
            ]
          },
          "metadata": {
            "tags": []
          },
          "execution_count": 35
        }
      ]
    },
    {
      "cell_type": "code",
      "metadata": {
        "colab": {
          "base_uri": "https://localhost:8080/"
        },
        "id": "BAAQ3NjVD9WX",
        "outputId": "c2a4953b-4b0b-48e7-f817-fdd256dab91a"
      },
      "source": [
        "# 피처명 index를 제거하고, 피처명만 리스트 객체로 생성한 뒤 샘플로 10개만 추출\r\n",
        "feature_name = feature_name_df.iloc[:, 1].values.tolist()\r\n",
        "print('전체 피처명에서 10개만 추출:', feature_name[:10])"
      ],
      "execution_count": 36,
      "outputs": [
        {
          "output_type": "stream",
          "text": [
            "전체 피처명에서 10개만 추출: ['tBodyAcc-mean()-X', 'tBodyAcc-mean()-Y', 'tBodyAcc-mean()-Z', 'tBodyAcc-std()-X', 'tBodyAcc-std()-Y', 'tBodyAcc-std()-Z', 'tBodyAcc-mad()-X', 'tBodyAcc-mad()-Y', 'tBodyAcc-mad()-Z', 'tBodyAcc-max()-X']\n"
          ],
          "name": "stdout"
        }
      ]
    },
    {
      "cell_type": "code",
      "metadata": {
        "colab": {
          "base_uri": "https://localhost:8080/",
          "height": 435
        },
        "id": "-ztKZWS6Ej3W",
        "outputId": "aeac4048-40c5-4c21-f137-b30d9226cdaa"
      },
      "source": [
        "feature_name_df.groupby('column_name').count()"
      ],
      "execution_count": 46,
      "outputs": [
        {
          "output_type": "execute_result",
          "data": {
            "text/html": [
              "<div>\n",
              "<style scoped>\n",
              "    .dataframe tbody tr th:only-of-type {\n",
              "        vertical-align: middle;\n",
              "    }\n",
              "\n",
              "    .dataframe tbody tr th {\n",
              "        vertical-align: top;\n",
              "    }\n",
              "\n",
              "    .dataframe thead th {\n",
              "        text-align: right;\n",
              "    }\n",
              "</style>\n",
              "<table border=\"1\" class=\"dataframe\">\n",
              "  <thead>\n",
              "    <tr style=\"text-align: right;\">\n",
              "      <th></th>\n",
              "      <th>column_index</th>\n",
              "    </tr>\n",
              "    <tr>\n",
              "      <th>column_name</th>\n",
              "      <th></th>\n",
              "    </tr>\n",
              "  </thead>\n",
              "  <tbody>\n",
              "    <tr>\n",
              "      <th>angle(X,gravityMean)</th>\n",
              "      <td>1</td>\n",
              "    </tr>\n",
              "    <tr>\n",
              "      <th>angle(Y,gravityMean)</th>\n",
              "      <td>1</td>\n",
              "    </tr>\n",
              "    <tr>\n",
              "      <th>angle(Z,gravityMean)</th>\n",
              "      <td>1</td>\n",
              "    </tr>\n",
              "    <tr>\n",
              "      <th>angle(tBodyAccJerkMean),gravityMean)</th>\n",
              "      <td>1</td>\n",
              "    </tr>\n",
              "    <tr>\n",
              "      <th>angle(tBodyAccMean,gravity)</th>\n",
              "      <td>1</td>\n",
              "    </tr>\n",
              "    <tr>\n",
              "      <th>...</th>\n",
              "      <td>...</td>\n",
              "    </tr>\n",
              "    <tr>\n",
              "      <th>tGravityAccMag-max()</th>\n",
              "      <td>1</td>\n",
              "    </tr>\n",
              "    <tr>\n",
              "      <th>tGravityAccMag-mean()</th>\n",
              "      <td>1</td>\n",
              "    </tr>\n",
              "    <tr>\n",
              "      <th>tGravityAccMag-min()</th>\n",
              "      <td>1</td>\n",
              "    </tr>\n",
              "    <tr>\n",
              "      <th>tGravityAccMag-sma()</th>\n",
              "      <td>1</td>\n",
              "    </tr>\n",
              "    <tr>\n",
              "      <th>tGravityAccMag-std()</th>\n",
              "      <td>1</td>\n",
              "    </tr>\n",
              "  </tbody>\n",
              "</table>\n",
              "<p>477 rows × 1 columns</p>\n",
              "</div>"
            ],
            "text/plain": [
              "                                      column_index\n",
              "column_name                                       \n",
              "angle(X,gravityMean)                             1\n",
              "angle(Y,gravityMean)                             1\n",
              "angle(Z,gravityMean)                             1\n",
              "angle(tBodyAccJerkMean),gravityMean)             1\n",
              "angle(tBodyAccMean,gravity)                      1\n",
              "...                                            ...\n",
              "tGravityAccMag-max()                             1\n",
              "tGravityAccMag-mean()                            1\n",
              "tGravityAccMag-min()                             1\n",
              "tGravityAccMag-sma()                             1\n",
              "tGravityAccMag-std()                             1\n",
              "\n",
              "[477 rows x 1 columns]"
            ]
          },
          "metadata": {
            "tags": []
          },
          "execution_count": 46
        }
      ]
    },
    {
      "cell_type": "code",
      "metadata": {
        "id": "ngW61Kp2ELKh"
      },
      "source": [
        "feature_dup_df = feature_name_df.groupby('column_name').count()"
      ],
      "execution_count": 47,
      "outputs": []
    },
    {
      "cell_type": "code",
      "metadata": {
        "colab": {
          "base_uri": "https://localhost:8080/"
        },
        "id": "N96mHXp7Eg5I",
        "outputId": "ff92995b-e21a-4b67-b492-83fbf134fc77"
      },
      "source": [
        "# 중복 칼럼의 개수\r\n",
        "feature_dup_df[feature_dup_df['column_index'] > 1].count()"
      ],
      "execution_count": 48,
      "outputs": [
        {
          "output_type": "execute_result",
          "data": {
            "text/plain": [
              "column_index    42\n",
              "dtype: int64"
            ]
          },
          "metadata": {
            "tags": []
          },
          "execution_count": 48
        }
      ]
    },
    {
      "cell_type": "markdown",
      "metadata": {
        "id": "vWb4IVCDC9cZ"
      },
      "source": [
        "**중복된 피처명을 확인**"
      ]
    },
    {
      "cell_type": "code",
      "metadata": {
        "colab": {
          "base_uri": "https://localhost:8080/",
          "height": 227
        },
        "id": "5sCHwNf_EqlB",
        "outputId": "851494cb-668a-49cc-c195-c5a1bad13680"
      },
      "source": [
        "feature_dup_df[feature_dup_df['column_index'] > 1].head()"
      ],
      "execution_count": 49,
      "outputs": [
        {
          "output_type": "execute_result",
          "data": {
            "text/html": [
              "<div>\n",
              "<style scoped>\n",
              "    .dataframe tbody tr th:only-of-type {\n",
              "        vertical-align: middle;\n",
              "    }\n",
              "\n",
              "    .dataframe tbody tr th {\n",
              "        vertical-align: top;\n",
              "    }\n",
              "\n",
              "    .dataframe thead th {\n",
              "        text-align: right;\n",
              "    }\n",
              "</style>\n",
              "<table border=\"1\" class=\"dataframe\">\n",
              "  <thead>\n",
              "    <tr style=\"text-align: right;\">\n",
              "      <th></th>\n",
              "      <th>column_index</th>\n",
              "    </tr>\n",
              "    <tr>\n",
              "      <th>column_name</th>\n",
              "      <th></th>\n",
              "    </tr>\n",
              "  </thead>\n",
              "  <tbody>\n",
              "    <tr>\n",
              "      <th>fBodyAcc-bandsEnergy()-1,16</th>\n",
              "      <td>3</td>\n",
              "    </tr>\n",
              "    <tr>\n",
              "      <th>fBodyAcc-bandsEnergy()-1,24</th>\n",
              "      <td>3</td>\n",
              "    </tr>\n",
              "    <tr>\n",
              "      <th>fBodyAcc-bandsEnergy()-1,8</th>\n",
              "      <td>3</td>\n",
              "    </tr>\n",
              "    <tr>\n",
              "      <th>fBodyAcc-bandsEnergy()-17,24</th>\n",
              "      <td>3</td>\n",
              "    </tr>\n",
              "    <tr>\n",
              "      <th>fBodyAcc-bandsEnergy()-17,32</th>\n",
              "      <td>3</td>\n",
              "    </tr>\n",
              "  </tbody>\n",
              "</table>\n",
              "</div>"
            ],
            "text/plain": [
              "                              column_index\n",
              "column_name                               \n",
              "fBodyAcc-bandsEnergy()-1,16              3\n",
              "fBodyAcc-bandsEnergy()-1,24              3\n",
              "fBodyAcc-bandsEnergy()-1,8               3\n",
              "fBodyAcc-bandsEnergy()-17,24             3\n",
              "fBodyAcc-bandsEnergy()-17,32             3"
            ]
          },
          "metadata": {
            "tags": []
          },
          "execution_count": 49
        }
      ]
    },
    {
      "cell_type": "code",
      "metadata": {
        "colab": {
          "base_uri": "https://localhost:8080/"
        },
        "id": "wHgVXT3yE94b",
        "outputId": "03d01f4f-2503-4a5d-fd64-8d43bceafb1f"
      },
      "source": [
        "# 각 value를 순서대로 카운트 하는 것 \r\n",
        "# 시작은 0\r\n",
        "feature_name_df.groupby('column_name').cumcount()"
      ],
      "execution_count": 55,
      "outputs": [
        {
          "output_type": "execute_result",
          "data": {
            "text/plain": [
              "0      0\n",
              "1      0\n",
              "2      0\n",
              "3      0\n",
              "4      0\n",
              "      ..\n",
              "556    0\n",
              "557    0\n",
              "558    0\n",
              "559    0\n",
              "560    0\n",
              "Length: 561, dtype: int64"
            ]
          },
          "metadata": {
            "tags": []
          },
          "execution_count": 55
        }
      ]
    },
    {
      "cell_type": "markdown",
      "metadata": {
        "id": "EyfvgHp0C9ca"
      },
      "source": [
        "**원본 데이터에 중복된 Feature 명으로 인하여 신규 버전의 Pandas에서 Duplicate name 에러를 발생.**  \n",
        "**중복 feature명에 대해서 원본 feature 명에 '_1(또는2)'를 추가로 부여하는 함수인 get_new_feature_name_df() 생성**"
      ]
    },
    {
      "cell_type": "code",
      "metadata": {
        "id": "PwgCcx4iC9ca"
      },
      "source": [
        "def get_new_feature_name_df(old_feature_name_df):\n",
        "    feature_dup_df = pd.DataFrame(data=old_feature_name_df.groupby('column_name').cumcount(),\n",
        "                                  columns=['dup_cnt'])\n",
        "    feature_dup_df = feature_dup_df.reset_index()\n",
        "    new_feature_name_df = pd.merge(old_feature_name_df.reset_index(), feature_dup_df, how='outer')\n",
        "    new_feature_name_df['column_name'] = new_feature_name_df[['column_name', 'dup_cnt']].apply(lambda x : x[0]+'_'+str(x[1]) \n",
        "                                                                                         if x[1] >0 else x[0] ,  axis=1)\n",
        "    new_feature_name_df = new_feature_name_df.drop(['index'], axis=1)\n",
        "    return new_feature_name_df"
      ],
      "execution_count": 52,
      "outputs": []
    },
    {
      "cell_type": "code",
      "metadata": {
        "id": "Rn0by2oBC9ca"
      },
      "source": [
        "import pandas as pd\n",
        "\n",
        "def get_human_dataset( ):\n",
        "    \n",
        "    # 각 데이터 파일들은 공백으로 분리되어 있으므로 read_csv에서 공백 문자를 sep으로 할당.\n",
        "    feature_name_df = pd.read_csv('/content/drive/MyDrive/Study/파이썬 머신러닝 완벽가이드/data/UCI HAR Dataset/features.txt',sep='\\s+',\n",
        "                        header=None,names=['column_index','column_name'])\n",
        "    \n",
        "    # 중복된 피처명을 수정하는 get_new_feature_name_df()를 이용, 신규 피처명 DataFrame생성. \n",
        "    new_feature_name_df = get_new_feature_name_df(feature_name_df)\n",
        "    \n",
        "    # DataFrame에 피처명을 컬럼으로 부여하기 위해 리스트 객체로 다시 변환\n",
        "    feature_name = new_feature_name_df.iloc[:, 1].values.tolist()\n",
        "    \n",
        "    # 학습 피처 데이터 셋과 테스트 피처 데이터을 DataFrame으로 로딩. 컬럼명은 feature_name 적용\n",
        "    X_train = pd.read_csv('/content/drive/MyDrive/Study/파이썬 머신러닝 완벽가이드/data/UCI HAR Dataset/train/X_train.txt',sep='\\s+', names=feature_name )\n",
        "    X_test = pd.read_csv('/content/drive/MyDrive/Study/파이썬 머신러닝 완벽가이드/data/UCI HAR Dataset/test/X_test.txt',sep='\\s+', names=feature_name)\n",
        "    \n",
        "    # 학습 레이블과 테스트 레이블 데이터을 DataFrame으로 로딩하고 컬럼명은 action으로 부여\n",
        "    y_train = pd.read_csv('/content/drive/MyDrive/Study/파이썬 머신러닝 완벽가이드/data/UCI HAR Dataset/train/y_train.txt',sep='\\s+',header=None,names=['action'])\n",
        "    y_test = pd.read_csv('/content/drive/MyDrive/Study/파이썬 머신러닝 완벽가이드/data/UCI HAR Dataset/test/y_test.txt',sep='\\s+',header=None,names=['action'])\n",
        "    \n",
        "    # 로드된 학습/테스트용 DataFrame을 모두 반환 \n",
        "    return X_train, X_test, y_train, y_test\n",
        "\n",
        "\n",
        "X_train, X_test, y_train, y_test = get_human_dataset()"
      ],
      "execution_count": 54,
      "outputs": []
    },
    {
      "cell_type": "code",
      "metadata": {
        "colab": {
          "base_uri": "https://localhost:8080/",
          "height": 280
        },
        "id": "Vv8t88u4F_xH",
        "outputId": "ce9db68c-64b7-46e8-bdc8-c453c1f7d252"
      },
      "source": [
        "X_train.head()"
      ],
      "execution_count": 58,
      "outputs": [
        {
          "output_type": "execute_result",
          "data": {
            "text/html": [
              "<div>\n",
              "<style scoped>\n",
              "    .dataframe tbody tr th:only-of-type {\n",
              "        vertical-align: middle;\n",
              "    }\n",
              "\n",
              "    .dataframe tbody tr th {\n",
              "        vertical-align: top;\n",
              "    }\n",
              "\n",
              "    .dataframe thead th {\n",
              "        text-align: right;\n",
              "    }\n",
              "</style>\n",
              "<table border=\"1\" class=\"dataframe\">\n",
              "  <thead>\n",
              "    <tr style=\"text-align: right;\">\n",
              "      <th></th>\n",
              "      <th>tBodyAcc-mean()-X</th>\n",
              "      <th>tBodyAcc-mean()-Y</th>\n",
              "      <th>tBodyAcc-mean()-Z</th>\n",
              "      <th>tBodyAcc-std()-X</th>\n",
              "      <th>tBodyAcc-std()-Y</th>\n",
              "      <th>tBodyAcc-std()-Z</th>\n",
              "      <th>tBodyAcc-mad()-X</th>\n",
              "      <th>tBodyAcc-mad()-Y</th>\n",
              "      <th>tBodyAcc-mad()-Z</th>\n",
              "      <th>tBodyAcc-max()-X</th>\n",
              "      <th>tBodyAcc-max()-Y</th>\n",
              "      <th>tBodyAcc-max()-Z</th>\n",
              "      <th>tBodyAcc-min()-X</th>\n",
              "      <th>tBodyAcc-min()-Y</th>\n",
              "      <th>tBodyAcc-min()-Z</th>\n",
              "      <th>tBodyAcc-sma()</th>\n",
              "      <th>tBodyAcc-energy()-X</th>\n",
              "      <th>tBodyAcc-energy()-Y</th>\n",
              "      <th>tBodyAcc-energy()-Z</th>\n",
              "      <th>tBodyAcc-iqr()-X</th>\n",
              "      <th>tBodyAcc-iqr()-Y</th>\n",
              "      <th>tBodyAcc-iqr()-Z</th>\n",
              "      <th>tBodyAcc-entropy()-X</th>\n",
              "      <th>tBodyAcc-entropy()-Y</th>\n",
              "      <th>tBodyAcc-entropy()-Z</th>\n",
              "      <th>tBodyAcc-arCoeff()-X,1</th>\n",
              "      <th>tBodyAcc-arCoeff()-X,2</th>\n",
              "      <th>tBodyAcc-arCoeff()-X,3</th>\n",
              "      <th>tBodyAcc-arCoeff()-X,4</th>\n",
              "      <th>tBodyAcc-arCoeff()-Y,1</th>\n",
              "      <th>tBodyAcc-arCoeff()-Y,2</th>\n",
              "      <th>tBodyAcc-arCoeff()-Y,3</th>\n",
              "      <th>tBodyAcc-arCoeff()-Y,4</th>\n",
              "      <th>tBodyAcc-arCoeff()-Z,1</th>\n",
              "      <th>tBodyAcc-arCoeff()-Z,2</th>\n",
              "      <th>tBodyAcc-arCoeff()-Z,3</th>\n",
              "      <th>tBodyAcc-arCoeff()-Z,4</th>\n",
              "      <th>tBodyAcc-correlation()-X,Y</th>\n",
              "      <th>tBodyAcc-correlation()-X,Z</th>\n",
              "      <th>tBodyAcc-correlation()-Y,Z</th>\n",
              "      <th>...</th>\n",
              "      <th>fBodyBodyAccJerkMag-energy()</th>\n",
              "      <th>fBodyBodyAccJerkMag-iqr()</th>\n",
              "      <th>fBodyBodyAccJerkMag-entropy()</th>\n",
              "      <th>fBodyBodyAccJerkMag-maxInds</th>\n",
              "      <th>fBodyBodyAccJerkMag-meanFreq()</th>\n",
              "      <th>fBodyBodyAccJerkMag-skewness()</th>\n",
              "      <th>fBodyBodyAccJerkMag-kurtosis()</th>\n",
              "      <th>fBodyBodyGyroMag-mean()</th>\n",
              "      <th>fBodyBodyGyroMag-std()</th>\n",
              "      <th>fBodyBodyGyroMag-mad()</th>\n",
              "      <th>fBodyBodyGyroMag-max()</th>\n",
              "      <th>fBodyBodyGyroMag-min()</th>\n",
              "      <th>fBodyBodyGyroMag-sma()</th>\n",
              "      <th>fBodyBodyGyroMag-energy()</th>\n",
              "      <th>fBodyBodyGyroMag-iqr()</th>\n",
              "      <th>fBodyBodyGyroMag-entropy()</th>\n",
              "      <th>fBodyBodyGyroMag-maxInds</th>\n",
              "      <th>fBodyBodyGyroMag-meanFreq()</th>\n",
              "      <th>fBodyBodyGyroMag-skewness()</th>\n",
              "      <th>fBodyBodyGyroMag-kurtosis()</th>\n",
              "      <th>fBodyBodyGyroJerkMag-mean()</th>\n",
              "      <th>fBodyBodyGyroJerkMag-std()</th>\n",
              "      <th>fBodyBodyGyroJerkMag-mad()</th>\n",
              "      <th>fBodyBodyGyroJerkMag-max()</th>\n",
              "      <th>fBodyBodyGyroJerkMag-min()</th>\n",
              "      <th>fBodyBodyGyroJerkMag-sma()</th>\n",
              "      <th>fBodyBodyGyroJerkMag-energy()</th>\n",
              "      <th>fBodyBodyGyroJerkMag-iqr()</th>\n",
              "      <th>fBodyBodyGyroJerkMag-entropy()</th>\n",
              "      <th>fBodyBodyGyroJerkMag-maxInds</th>\n",
              "      <th>fBodyBodyGyroJerkMag-meanFreq()</th>\n",
              "      <th>fBodyBodyGyroJerkMag-skewness()</th>\n",
              "      <th>fBodyBodyGyroJerkMag-kurtosis()</th>\n",
              "      <th>angle(tBodyAccMean,gravity)</th>\n",
              "      <th>angle(tBodyAccJerkMean),gravityMean)</th>\n",
              "      <th>angle(tBodyGyroMean,gravityMean)</th>\n",
              "      <th>angle(tBodyGyroJerkMean,gravityMean)</th>\n",
              "      <th>angle(X,gravityMean)</th>\n",
              "      <th>angle(Y,gravityMean)</th>\n",
              "      <th>angle(Z,gravityMean)</th>\n",
              "    </tr>\n",
              "  </thead>\n",
              "  <tbody>\n",
              "    <tr>\n",
              "      <th>0</th>\n",
              "      <td>0.288585</td>\n",
              "      <td>-0.020294</td>\n",
              "      <td>-0.132905</td>\n",
              "      <td>-0.995279</td>\n",
              "      <td>-0.983111</td>\n",
              "      <td>-0.913526</td>\n",
              "      <td>-0.995112</td>\n",
              "      <td>-0.983185</td>\n",
              "      <td>-0.923527</td>\n",
              "      <td>-0.934724</td>\n",
              "      <td>-0.567378</td>\n",
              "      <td>-0.744413</td>\n",
              "      <td>0.852947</td>\n",
              "      <td>0.685845</td>\n",
              "      <td>0.814263</td>\n",
              "      <td>-0.965523</td>\n",
              "      <td>-0.999945</td>\n",
              "      <td>-0.999863</td>\n",
              "      <td>-0.994612</td>\n",
              "      <td>-0.994231</td>\n",
              "      <td>-0.987614</td>\n",
              "      <td>-0.943220</td>\n",
              "      <td>-0.407747</td>\n",
              "      <td>-0.679338</td>\n",
              "      <td>-0.602122</td>\n",
              "      <td>0.929294</td>\n",
              "      <td>-0.853011</td>\n",
              "      <td>0.359910</td>\n",
              "      <td>-0.058526</td>\n",
              "      <td>0.256892</td>\n",
              "      <td>-0.224848</td>\n",
              "      <td>0.264106</td>\n",
              "      <td>-0.095246</td>\n",
              "      <td>0.278851</td>\n",
              "      <td>-0.465085</td>\n",
              "      <td>0.491936</td>\n",
              "      <td>-0.190884</td>\n",
              "      <td>0.376314</td>\n",
              "      <td>0.435129</td>\n",
              "      <td>0.660790</td>\n",
              "      <td>...</td>\n",
              "      <td>-0.999918</td>\n",
              "      <td>-0.991364</td>\n",
              "      <td>-1.0</td>\n",
              "      <td>-0.936508</td>\n",
              "      <td>0.346989</td>\n",
              "      <td>-0.516080</td>\n",
              "      <td>-0.802760</td>\n",
              "      <td>-0.980135</td>\n",
              "      <td>-0.961309</td>\n",
              "      <td>-0.973653</td>\n",
              "      <td>-0.952264</td>\n",
              "      <td>-0.989498</td>\n",
              "      <td>-0.980135</td>\n",
              "      <td>-0.999240</td>\n",
              "      <td>-0.992656</td>\n",
              "      <td>-0.701291</td>\n",
              "      <td>-1.000000</td>\n",
              "      <td>-0.128989</td>\n",
              "      <td>0.586156</td>\n",
              "      <td>0.374605</td>\n",
              "      <td>-0.991990</td>\n",
              "      <td>-0.990697</td>\n",
              "      <td>-0.989941</td>\n",
              "      <td>-0.992448</td>\n",
              "      <td>-0.991048</td>\n",
              "      <td>-0.991990</td>\n",
              "      <td>-0.999937</td>\n",
              "      <td>-0.990458</td>\n",
              "      <td>-0.871306</td>\n",
              "      <td>-1.000000</td>\n",
              "      <td>-0.074323</td>\n",
              "      <td>-0.298676</td>\n",
              "      <td>-0.710304</td>\n",
              "      <td>-0.112754</td>\n",
              "      <td>0.030400</td>\n",
              "      <td>-0.464761</td>\n",
              "      <td>-0.018446</td>\n",
              "      <td>-0.841247</td>\n",
              "      <td>0.179941</td>\n",
              "      <td>-0.058627</td>\n",
              "    </tr>\n",
              "    <tr>\n",
              "      <th>1</th>\n",
              "      <td>0.278419</td>\n",
              "      <td>-0.016411</td>\n",
              "      <td>-0.123520</td>\n",
              "      <td>-0.998245</td>\n",
              "      <td>-0.975300</td>\n",
              "      <td>-0.960322</td>\n",
              "      <td>-0.998807</td>\n",
              "      <td>-0.974914</td>\n",
              "      <td>-0.957686</td>\n",
              "      <td>-0.943068</td>\n",
              "      <td>-0.557851</td>\n",
              "      <td>-0.818409</td>\n",
              "      <td>0.849308</td>\n",
              "      <td>0.685845</td>\n",
              "      <td>0.822637</td>\n",
              "      <td>-0.981930</td>\n",
              "      <td>-0.999991</td>\n",
              "      <td>-0.999788</td>\n",
              "      <td>-0.998405</td>\n",
              "      <td>-0.999150</td>\n",
              "      <td>-0.977866</td>\n",
              "      <td>-0.948225</td>\n",
              "      <td>-0.714892</td>\n",
              "      <td>-0.500930</td>\n",
              "      <td>-0.570979</td>\n",
              "      <td>0.611627</td>\n",
              "      <td>-0.329549</td>\n",
              "      <td>0.284213</td>\n",
              "      <td>0.284595</td>\n",
              "      <td>0.115705</td>\n",
              "      <td>-0.090963</td>\n",
              "      <td>0.294310</td>\n",
              "      <td>-0.281211</td>\n",
              "      <td>0.085988</td>\n",
              "      <td>-0.022153</td>\n",
              "      <td>-0.016657</td>\n",
              "      <td>-0.220643</td>\n",
              "      <td>-0.013429</td>\n",
              "      <td>-0.072692</td>\n",
              "      <td>0.579382</td>\n",
              "      <td>...</td>\n",
              "      <td>-0.999867</td>\n",
              "      <td>-0.991134</td>\n",
              "      <td>-1.0</td>\n",
              "      <td>-0.841270</td>\n",
              "      <td>0.532061</td>\n",
              "      <td>-0.624871</td>\n",
              "      <td>-0.900160</td>\n",
              "      <td>-0.988296</td>\n",
              "      <td>-0.983322</td>\n",
              "      <td>-0.982659</td>\n",
              "      <td>-0.986321</td>\n",
              "      <td>-0.991829</td>\n",
              "      <td>-0.988296</td>\n",
              "      <td>-0.999811</td>\n",
              "      <td>-0.993979</td>\n",
              "      <td>-0.720683</td>\n",
              "      <td>-0.948718</td>\n",
              "      <td>-0.271958</td>\n",
              "      <td>-0.336310</td>\n",
              "      <td>-0.720015</td>\n",
              "      <td>-0.995854</td>\n",
              "      <td>-0.996399</td>\n",
              "      <td>-0.995442</td>\n",
              "      <td>-0.996866</td>\n",
              "      <td>-0.994440</td>\n",
              "      <td>-0.995854</td>\n",
              "      <td>-0.999981</td>\n",
              "      <td>-0.994544</td>\n",
              "      <td>-1.000000</td>\n",
              "      <td>-1.000000</td>\n",
              "      <td>0.158075</td>\n",
              "      <td>-0.595051</td>\n",
              "      <td>-0.861499</td>\n",
              "      <td>0.053477</td>\n",
              "      <td>-0.007435</td>\n",
              "      <td>-0.732626</td>\n",
              "      <td>0.703511</td>\n",
              "      <td>-0.844788</td>\n",
              "      <td>0.180289</td>\n",
              "      <td>-0.054317</td>\n",
              "    </tr>\n",
              "    <tr>\n",
              "      <th>2</th>\n",
              "      <td>0.279653</td>\n",
              "      <td>-0.019467</td>\n",
              "      <td>-0.113462</td>\n",
              "      <td>-0.995380</td>\n",
              "      <td>-0.967187</td>\n",
              "      <td>-0.978944</td>\n",
              "      <td>-0.996520</td>\n",
              "      <td>-0.963668</td>\n",
              "      <td>-0.977469</td>\n",
              "      <td>-0.938692</td>\n",
              "      <td>-0.557851</td>\n",
              "      <td>-0.818409</td>\n",
              "      <td>0.843609</td>\n",
              "      <td>0.682401</td>\n",
              "      <td>0.839344</td>\n",
              "      <td>-0.983478</td>\n",
              "      <td>-0.999969</td>\n",
              "      <td>-0.999660</td>\n",
              "      <td>-0.999470</td>\n",
              "      <td>-0.997130</td>\n",
              "      <td>-0.964810</td>\n",
              "      <td>-0.974675</td>\n",
              "      <td>-0.592235</td>\n",
              "      <td>-0.485821</td>\n",
              "      <td>-0.570979</td>\n",
              "      <td>0.273025</td>\n",
              "      <td>-0.086309</td>\n",
              "      <td>0.337202</td>\n",
              "      <td>-0.164739</td>\n",
              "      <td>0.017150</td>\n",
              "      <td>-0.074507</td>\n",
              "      <td>0.342256</td>\n",
              "      <td>-0.332564</td>\n",
              "      <td>0.239281</td>\n",
              "      <td>-0.136204</td>\n",
              "      <td>0.173863</td>\n",
              "      <td>-0.299493</td>\n",
              "      <td>-0.124698</td>\n",
              "      <td>-0.181105</td>\n",
              "      <td>0.608900</td>\n",
              "      <td>...</td>\n",
              "      <td>-0.999845</td>\n",
              "      <td>-0.986658</td>\n",
              "      <td>-1.0</td>\n",
              "      <td>-0.904762</td>\n",
              "      <td>0.660795</td>\n",
              "      <td>-0.724697</td>\n",
              "      <td>-0.928539</td>\n",
              "      <td>-0.989255</td>\n",
              "      <td>-0.986028</td>\n",
              "      <td>-0.984274</td>\n",
              "      <td>-0.990979</td>\n",
              "      <td>-0.995703</td>\n",
              "      <td>-0.989255</td>\n",
              "      <td>-0.999854</td>\n",
              "      <td>-0.993238</td>\n",
              "      <td>-0.736521</td>\n",
              "      <td>-0.794872</td>\n",
              "      <td>-0.212728</td>\n",
              "      <td>-0.535352</td>\n",
              "      <td>-0.871914</td>\n",
              "      <td>-0.995031</td>\n",
              "      <td>-0.995127</td>\n",
              "      <td>-0.994640</td>\n",
              "      <td>-0.996060</td>\n",
              "      <td>-0.995866</td>\n",
              "      <td>-0.995031</td>\n",
              "      <td>-0.999973</td>\n",
              "      <td>-0.993755</td>\n",
              "      <td>-1.000000</td>\n",
              "      <td>-0.555556</td>\n",
              "      <td>0.414503</td>\n",
              "      <td>-0.390748</td>\n",
              "      <td>-0.760104</td>\n",
              "      <td>-0.118559</td>\n",
              "      <td>0.177899</td>\n",
              "      <td>0.100699</td>\n",
              "      <td>0.808529</td>\n",
              "      <td>-0.848933</td>\n",
              "      <td>0.180637</td>\n",
              "      <td>-0.049118</td>\n",
              "    </tr>\n",
              "    <tr>\n",
              "      <th>3</th>\n",
              "      <td>0.279174</td>\n",
              "      <td>-0.026201</td>\n",
              "      <td>-0.123283</td>\n",
              "      <td>-0.996091</td>\n",
              "      <td>-0.983403</td>\n",
              "      <td>-0.990675</td>\n",
              "      <td>-0.997099</td>\n",
              "      <td>-0.982750</td>\n",
              "      <td>-0.989302</td>\n",
              "      <td>-0.938692</td>\n",
              "      <td>-0.576159</td>\n",
              "      <td>-0.829711</td>\n",
              "      <td>0.843609</td>\n",
              "      <td>0.682401</td>\n",
              "      <td>0.837869</td>\n",
              "      <td>-0.986093</td>\n",
              "      <td>-0.999976</td>\n",
              "      <td>-0.999736</td>\n",
              "      <td>-0.999504</td>\n",
              "      <td>-0.997180</td>\n",
              "      <td>-0.983799</td>\n",
              "      <td>-0.986007</td>\n",
              "      <td>-0.627446</td>\n",
              "      <td>-0.850930</td>\n",
              "      <td>-0.911872</td>\n",
              "      <td>0.061436</td>\n",
              "      <td>0.074840</td>\n",
              "      <td>0.198204</td>\n",
              "      <td>-0.264307</td>\n",
              "      <td>0.072545</td>\n",
              "      <td>-0.155320</td>\n",
              "      <td>0.323154</td>\n",
              "      <td>-0.170813</td>\n",
              "      <td>0.294938</td>\n",
              "      <td>-0.306081</td>\n",
              "      <td>0.482148</td>\n",
              "      <td>-0.470129</td>\n",
              "      <td>-0.305693</td>\n",
              "      <td>-0.362654</td>\n",
              "      <td>0.507459</td>\n",
              "      <td>...</td>\n",
              "      <td>-0.999895</td>\n",
              "      <td>-0.988055</td>\n",
              "      <td>-1.0</td>\n",
              "      <td>1.000000</td>\n",
              "      <td>0.678921</td>\n",
              "      <td>-0.701131</td>\n",
              "      <td>-0.909639</td>\n",
              "      <td>-0.989413</td>\n",
              "      <td>-0.987836</td>\n",
              "      <td>-0.986850</td>\n",
              "      <td>-0.986749</td>\n",
              "      <td>-0.996199</td>\n",
              "      <td>-0.989413</td>\n",
              "      <td>-0.999876</td>\n",
              "      <td>-0.989136</td>\n",
              "      <td>-0.720891</td>\n",
              "      <td>-1.000000</td>\n",
              "      <td>-0.035684</td>\n",
              "      <td>-0.230091</td>\n",
              "      <td>-0.511217</td>\n",
              "      <td>-0.995221</td>\n",
              "      <td>-0.995237</td>\n",
              "      <td>-0.995722</td>\n",
              "      <td>-0.995273</td>\n",
              "      <td>-0.995732</td>\n",
              "      <td>-0.995221</td>\n",
              "      <td>-0.999974</td>\n",
              "      <td>-0.995226</td>\n",
              "      <td>-0.955696</td>\n",
              "      <td>-0.936508</td>\n",
              "      <td>0.404573</td>\n",
              "      <td>-0.117290</td>\n",
              "      <td>-0.482845</td>\n",
              "      <td>-0.036788</td>\n",
              "      <td>-0.012892</td>\n",
              "      <td>0.640011</td>\n",
              "      <td>-0.485366</td>\n",
              "      <td>-0.848649</td>\n",
              "      <td>0.181935</td>\n",
              "      <td>-0.047663</td>\n",
              "    </tr>\n",
              "    <tr>\n",
              "      <th>4</th>\n",
              "      <td>0.276629</td>\n",
              "      <td>-0.016570</td>\n",
              "      <td>-0.115362</td>\n",
              "      <td>-0.998139</td>\n",
              "      <td>-0.980817</td>\n",
              "      <td>-0.990482</td>\n",
              "      <td>-0.998321</td>\n",
              "      <td>-0.979672</td>\n",
              "      <td>-0.990441</td>\n",
              "      <td>-0.942469</td>\n",
              "      <td>-0.569174</td>\n",
              "      <td>-0.824705</td>\n",
              "      <td>0.849095</td>\n",
              "      <td>0.683250</td>\n",
              "      <td>0.837869</td>\n",
              "      <td>-0.992653</td>\n",
              "      <td>-0.999991</td>\n",
              "      <td>-0.999856</td>\n",
              "      <td>-0.999757</td>\n",
              "      <td>-0.998004</td>\n",
              "      <td>-0.981232</td>\n",
              "      <td>-0.991325</td>\n",
              "      <td>-0.786553</td>\n",
              "      <td>-0.559477</td>\n",
              "      <td>-0.761434</td>\n",
              "      <td>0.313276</td>\n",
              "      <td>-0.131208</td>\n",
              "      <td>0.191161</td>\n",
              "      <td>0.086904</td>\n",
              "      <td>0.257615</td>\n",
              "      <td>-0.272505</td>\n",
              "      <td>0.434728</td>\n",
              "      <td>-0.315375</td>\n",
              "      <td>0.439744</td>\n",
              "      <td>-0.269069</td>\n",
              "      <td>0.179414</td>\n",
              "      <td>-0.088952</td>\n",
              "      <td>-0.155804</td>\n",
              "      <td>-0.189763</td>\n",
              "      <td>0.599213</td>\n",
              "      <td>...</td>\n",
              "      <td>-0.999941</td>\n",
              "      <td>-0.994169</td>\n",
              "      <td>-1.0</td>\n",
              "      <td>-1.000000</td>\n",
              "      <td>0.559058</td>\n",
              "      <td>-0.528901</td>\n",
              "      <td>-0.858933</td>\n",
              "      <td>-0.991433</td>\n",
              "      <td>-0.989059</td>\n",
              "      <td>-0.987744</td>\n",
              "      <td>-0.991462</td>\n",
              "      <td>-0.998353</td>\n",
              "      <td>-0.991433</td>\n",
              "      <td>-0.999902</td>\n",
              "      <td>-0.989321</td>\n",
              "      <td>-0.763372</td>\n",
              "      <td>-0.897436</td>\n",
              "      <td>-0.273582</td>\n",
              "      <td>-0.510282</td>\n",
              "      <td>-0.830702</td>\n",
              "      <td>-0.995093</td>\n",
              "      <td>-0.995465</td>\n",
              "      <td>-0.995279</td>\n",
              "      <td>-0.995609</td>\n",
              "      <td>-0.997418</td>\n",
              "      <td>-0.995093</td>\n",
              "      <td>-0.999974</td>\n",
              "      <td>-0.995487</td>\n",
              "      <td>-1.000000</td>\n",
              "      <td>-0.936508</td>\n",
              "      <td>0.087753</td>\n",
              "      <td>-0.351471</td>\n",
              "      <td>-0.699205</td>\n",
              "      <td>0.123320</td>\n",
              "      <td>0.122542</td>\n",
              "      <td>0.693578</td>\n",
              "      <td>-0.615971</td>\n",
              "      <td>-0.847865</td>\n",
              "      <td>0.185151</td>\n",
              "      <td>-0.043892</td>\n",
              "    </tr>\n",
              "  </tbody>\n",
              "</table>\n",
              "<p>5 rows × 561 columns</p>\n",
              "</div>"
            ],
            "text/plain": [
              "   tBodyAcc-mean()-X  ...  angle(Z,gravityMean)\n",
              "0           0.288585  ...             -0.058627\n",
              "1           0.278419  ...             -0.054317\n",
              "2           0.279653  ...             -0.049118\n",
              "3           0.279174  ...             -0.047663\n",
              "4           0.276629  ...             -0.043892\n",
              "\n",
              "[5 rows x 561 columns]"
            ]
          },
          "metadata": {
            "tags": []
          },
          "execution_count": 58
        }
      ]
    },
    {
      "cell_type": "code",
      "metadata": {
        "colab": {
          "base_uri": "https://localhost:8080/"
        },
        "id": "O0ocObWWGa3J",
        "outputId": "de90eb5d-f84b-4963-f72e-dc8c646e789c"
      },
      "source": [
        "X_train.shape"
      ],
      "execution_count": 62,
      "outputs": [
        {
          "output_type": "execute_result",
          "data": {
            "text/plain": [
              "(7352, 561)"
            ]
          },
          "metadata": {
            "tags": []
          },
          "execution_count": 62
        }
      ]
    },
    {
      "cell_type": "code",
      "metadata": {
        "colab": {
          "base_uri": "https://localhost:8080/",
          "height": 197
        },
        "id": "0XwZO159GFfK",
        "outputId": "c012b194-7534-431a-e8b2-1503d00ebbe4"
      },
      "source": [
        "y_train.head()"
      ],
      "execution_count": 60,
      "outputs": [
        {
          "output_type": "execute_result",
          "data": {
            "text/html": [
              "<div>\n",
              "<style scoped>\n",
              "    .dataframe tbody tr th:only-of-type {\n",
              "        vertical-align: middle;\n",
              "    }\n",
              "\n",
              "    .dataframe tbody tr th {\n",
              "        vertical-align: top;\n",
              "    }\n",
              "\n",
              "    .dataframe thead th {\n",
              "        text-align: right;\n",
              "    }\n",
              "</style>\n",
              "<table border=\"1\" class=\"dataframe\">\n",
              "  <thead>\n",
              "    <tr style=\"text-align: right;\">\n",
              "      <th></th>\n",
              "      <th>action</th>\n",
              "    </tr>\n",
              "  </thead>\n",
              "  <tbody>\n",
              "    <tr>\n",
              "      <th>0</th>\n",
              "      <td>5</td>\n",
              "    </tr>\n",
              "    <tr>\n",
              "      <th>1</th>\n",
              "      <td>5</td>\n",
              "    </tr>\n",
              "    <tr>\n",
              "      <th>2</th>\n",
              "      <td>5</td>\n",
              "    </tr>\n",
              "    <tr>\n",
              "      <th>3</th>\n",
              "      <td>5</td>\n",
              "    </tr>\n",
              "    <tr>\n",
              "      <th>4</th>\n",
              "      <td>5</td>\n",
              "    </tr>\n",
              "  </tbody>\n",
              "</table>\n",
              "</div>"
            ],
            "text/plain": [
              "   action\n",
              "0       5\n",
              "1       5\n",
              "2       5\n",
              "3       5\n",
              "4       5"
            ]
          },
          "metadata": {
            "tags": []
          },
          "execution_count": 60
        }
      ]
    },
    {
      "cell_type": "code",
      "metadata": {
        "colab": {
          "base_uri": "https://localhost:8080/",
          "height": 280
        },
        "id": "7UXaUAIcGDJS",
        "outputId": "c8014f17-3bb9-4016-bc4b-a1ef55d814dd"
      },
      "source": [
        "X_test.head()"
      ],
      "execution_count": 59,
      "outputs": [
        {
          "output_type": "execute_result",
          "data": {
            "text/html": [
              "<div>\n",
              "<style scoped>\n",
              "    .dataframe tbody tr th:only-of-type {\n",
              "        vertical-align: middle;\n",
              "    }\n",
              "\n",
              "    .dataframe tbody tr th {\n",
              "        vertical-align: top;\n",
              "    }\n",
              "\n",
              "    .dataframe thead th {\n",
              "        text-align: right;\n",
              "    }\n",
              "</style>\n",
              "<table border=\"1\" class=\"dataframe\">\n",
              "  <thead>\n",
              "    <tr style=\"text-align: right;\">\n",
              "      <th></th>\n",
              "      <th>tBodyAcc-mean()-X</th>\n",
              "      <th>tBodyAcc-mean()-Y</th>\n",
              "      <th>tBodyAcc-mean()-Z</th>\n",
              "      <th>tBodyAcc-std()-X</th>\n",
              "      <th>tBodyAcc-std()-Y</th>\n",
              "      <th>tBodyAcc-std()-Z</th>\n",
              "      <th>tBodyAcc-mad()-X</th>\n",
              "      <th>tBodyAcc-mad()-Y</th>\n",
              "      <th>tBodyAcc-mad()-Z</th>\n",
              "      <th>tBodyAcc-max()-X</th>\n",
              "      <th>tBodyAcc-max()-Y</th>\n",
              "      <th>tBodyAcc-max()-Z</th>\n",
              "      <th>tBodyAcc-min()-X</th>\n",
              "      <th>tBodyAcc-min()-Y</th>\n",
              "      <th>tBodyAcc-min()-Z</th>\n",
              "      <th>tBodyAcc-sma()</th>\n",
              "      <th>tBodyAcc-energy()-X</th>\n",
              "      <th>tBodyAcc-energy()-Y</th>\n",
              "      <th>tBodyAcc-energy()-Z</th>\n",
              "      <th>tBodyAcc-iqr()-X</th>\n",
              "      <th>tBodyAcc-iqr()-Y</th>\n",
              "      <th>tBodyAcc-iqr()-Z</th>\n",
              "      <th>tBodyAcc-entropy()-X</th>\n",
              "      <th>tBodyAcc-entropy()-Y</th>\n",
              "      <th>tBodyAcc-entropy()-Z</th>\n",
              "      <th>tBodyAcc-arCoeff()-X,1</th>\n",
              "      <th>tBodyAcc-arCoeff()-X,2</th>\n",
              "      <th>tBodyAcc-arCoeff()-X,3</th>\n",
              "      <th>tBodyAcc-arCoeff()-X,4</th>\n",
              "      <th>tBodyAcc-arCoeff()-Y,1</th>\n",
              "      <th>tBodyAcc-arCoeff()-Y,2</th>\n",
              "      <th>tBodyAcc-arCoeff()-Y,3</th>\n",
              "      <th>tBodyAcc-arCoeff()-Y,4</th>\n",
              "      <th>tBodyAcc-arCoeff()-Z,1</th>\n",
              "      <th>tBodyAcc-arCoeff()-Z,2</th>\n",
              "      <th>tBodyAcc-arCoeff()-Z,3</th>\n",
              "      <th>tBodyAcc-arCoeff()-Z,4</th>\n",
              "      <th>tBodyAcc-correlation()-X,Y</th>\n",
              "      <th>tBodyAcc-correlation()-X,Z</th>\n",
              "      <th>tBodyAcc-correlation()-Y,Z</th>\n",
              "      <th>...</th>\n",
              "      <th>fBodyBodyAccJerkMag-energy()</th>\n",
              "      <th>fBodyBodyAccJerkMag-iqr()</th>\n",
              "      <th>fBodyBodyAccJerkMag-entropy()</th>\n",
              "      <th>fBodyBodyAccJerkMag-maxInds</th>\n",
              "      <th>fBodyBodyAccJerkMag-meanFreq()</th>\n",
              "      <th>fBodyBodyAccJerkMag-skewness()</th>\n",
              "      <th>fBodyBodyAccJerkMag-kurtosis()</th>\n",
              "      <th>fBodyBodyGyroMag-mean()</th>\n",
              "      <th>fBodyBodyGyroMag-std()</th>\n",
              "      <th>fBodyBodyGyroMag-mad()</th>\n",
              "      <th>fBodyBodyGyroMag-max()</th>\n",
              "      <th>fBodyBodyGyroMag-min()</th>\n",
              "      <th>fBodyBodyGyroMag-sma()</th>\n",
              "      <th>fBodyBodyGyroMag-energy()</th>\n",
              "      <th>fBodyBodyGyroMag-iqr()</th>\n",
              "      <th>fBodyBodyGyroMag-entropy()</th>\n",
              "      <th>fBodyBodyGyroMag-maxInds</th>\n",
              "      <th>fBodyBodyGyroMag-meanFreq()</th>\n",
              "      <th>fBodyBodyGyroMag-skewness()</th>\n",
              "      <th>fBodyBodyGyroMag-kurtosis()</th>\n",
              "      <th>fBodyBodyGyroJerkMag-mean()</th>\n",
              "      <th>fBodyBodyGyroJerkMag-std()</th>\n",
              "      <th>fBodyBodyGyroJerkMag-mad()</th>\n",
              "      <th>fBodyBodyGyroJerkMag-max()</th>\n",
              "      <th>fBodyBodyGyroJerkMag-min()</th>\n",
              "      <th>fBodyBodyGyroJerkMag-sma()</th>\n",
              "      <th>fBodyBodyGyroJerkMag-energy()</th>\n",
              "      <th>fBodyBodyGyroJerkMag-iqr()</th>\n",
              "      <th>fBodyBodyGyroJerkMag-entropy()</th>\n",
              "      <th>fBodyBodyGyroJerkMag-maxInds</th>\n",
              "      <th>fBodyBodyGyroJerkMag-meanFreq()</th>\n",
              "      <th>fBodyBodyGyroJerkMag-skewness()</th>\n",
              "      <th>fBodyBodyGyroJerkMag-kurtosis()</th>\n",
              "      <th>angle(tBodyAccMean,gravity)</th>\n",
              "      <th>angle(tBodyAccJerkMean),gravityMean)</th>\n",
              "      <th>angle(tBodyGyroMean,gravityMean)</th>\n",
              "      <th>angle(tBodyGyroJerkMean,gravityMean)</th>\n",
              "      <th>angle(X,gravityMean)</th>\n",
              "      <th>angle(Y,gravityMean)</th>\n",
              "      <th>angle(Z,gravityMean)</th>\n",
              "    </tr>\n",
              "  </thead>\n",
              "  <tbody>\n",
              "    <tr>\n",
              "      <th>0</th>\n",
              "      <td>0.257178</td>\n",
              "      <td>-0.023285</td>\n",
              "      <td>-0.014654</td>\n",
              "      <td>-0.938404</td>\n",
              "      <td>-0.920091</td>\n",
              "      <td>-0.667683</td>\n",
              "      <td>-0.952501</td>\n",
              "      <td>-0.925249</td>\n",
              "      <td>-0.674302</td>\n",
              "      <td>-0.894088</td>\n",
              "      <td>-0.554577</td>\n",
              "      <td>-0.466223</td>\n",
              "      <td>0.717208</td>\n",
              "      <td>0.635502</td>\n",
              "      <td>0.789497</td>\n",
              "      <td>-0.877764</td>\n",
              "      <td>-0.997766</td>\n",
              "      <td>-0.998414</td>\n",
              "      <td>-0.934345</td>\n",
              "      <td>-0.975669</td>\n",
              "      <td>-0.949824</td>\n",
              "      <td>-0.830478</td>\n",
              "      <td>-0.168084</td>\n",
              "      <td>-0.378996</td>\n",
              "      <td>0.246217</td>\n",
              "      <td>0.521204</td>\n",
              "      <td>-0.487793</td>\n",
              "      <td>0.482280</td>\n",
              "      <td>-0.045462</td>\n",
              "      <td>0.211955</td>\n",
              "      <td>-0.134894</td>\n",
              "      <td>0.130858</td>\n",
              "      <td>-0.014176</td>\n",
              "      <td>-0.105971</td>\n",
              "      <td>0.073544</td>\n",
              "      <td>-0.171516</td>\n",
              "      <td>0.040063</td>\n",
              "      <td>0.076989</td>\n",
              "      <td>-0.490546</td>\n",
              "      <td>-0.709003</td>\n",
              "      <td>...</td>\n",
              "      <td>-0.993471</td>\n",
              "      <td>-0.921477</td>\n",
              "      <td>-0.484619</td>\n",
              "      <td>-1.000000</td>\n",
              "      <td>-0.035356</td>\n",
              "      <td>-0.254248</td>\n",
              "      <td>-0.700326</td>\n",
              "      <td>-0.770610</td>\n",
              "      <td>-0.797113</td>\n",
              "      <td>-0.764485</td>\n",
              "      <td>-0.820188</td>\n",
              "      <td>-0.937959</td>\n",
              "      <td>-0.770610</td>\n",
              "      <td>-0.970958</td>\n",
              "      <td>-0.798387</td>\n",
              "      <td>0.179435</td>\n",
              "      <td>-1.000000</td>\n",
              "      <td>-0.047391</td>\n",
              "      <td>-0.467849</td>\n",
              "      <td>-0.761326</td>\n",
              "      <td>-0.890165</td>\n",
              "      <td>-0.907308</td>\n",
              "      <td>-0.895301</td>\n",
              "      <td>-0.917883</td>\n",
              "      <td>-0.909829</td>\n",
              "      <td>-0.890165</td>\n",
              "      <td>-0.994105</td>\n",
              "      <td>-0.898022</td>\n",
              "      <td>-0.234815</td>\n",
              "      <td>-1.000000</td>\n",
              "      <td>0.071645</td>\n",
              "      <td>-0.330370</td>\n",
              "      <td>-0.705974</td>\n",
              "      <td>0.006462</td>\n",
              "      <td>0.162920</td>\n",
              "      <td>-0.825886</td>\n",
              "      <td>0.271151</td>\n",
              "      <td>-0.720009</td>\n",
              "      <td>0.276801</td>\n",
              "      <td>-0.057978</td>\n",
              "    </tr>\n",
              "    <tr>\n",
              "      <th>1</th>\n",
              "      <td>0.286027</td>\n",
              "      <td>-0.013163</td>\n",
              "      <td>-0.119083</td>\n",
              "      <td>-0.975415</td>\n",
              "      <td>-0.967458</td>\n",
              "      <td>-0.944958</td>\n",
              "      <td>-0.986799</td>\n",
              "      <td>-0.968401</td>\n",
              "      <td>-0.945823</td>\n",
              "      <td>-0.894088</td>\n",
              "      <td>-0.554577</td>\n",
              "      <td>-0.806013</td>\n",
              "      <td>0.768031</td>\n",
              "      <td>0.683698</td>\n",
              "      <td>0.796706</td>\n",
              "      <td>-0.969097</td>\n",
              "      <td>-0.999580</td>\n",
              "      <td>-0.999646</td>\n",
              "      <td>-0.997720</td>\n",
              "      <td>-0.994006</td>\n",
              "      <td>-0.973637</td>\n",
              "      <td>-0.950720</td>\n",
              "      <td>-0.302437</td>\n",
              "      <td>-0.348243</td>\n",
              "      <td>-0.404785</td>\n",
              "      <td>0.507492</td>\n",
              "      <td>-0.156495</td>\n",
              "      <td>0.040674</td>\n",
              "      <td>0.272991</td>\n",
              "      <td>0.197566</td>\n",
              "      <td>-0.194556</td>\n",
              "      <td>0.411411</td>\n",
              "      <td>-0.340466</td>\n",
              "      <td>0.077555</td>\n",
              "      <td>-0.084024</td>\n",
              "      <td>0.035305</td>\n",
              "      <td>-0.010083</td>\n",
              "      <td>-0.104983</td>\n",
              "      <td>-0.429134</td>\n",
              "      <td>0.399177</td>\n",
              "      <td>...</td>\n",
              "      <td>-0.997610</td>\n",
              "      <td>-0.957178</td>\n",
              "      <td>-0.723642</td>\n",
              "      <td>-1.000000</td>\n",
              "      <td>-0.491213</td>\n",
              "      <td>-0.215404</td>\n",
              "      <td>-0.666004</td>\n",
              "      <td>-0.924461</td>\n",
              "      <td>-0.916774</td>\n",
              "      <td>-0.919383</td>\n",
              "      <td>-0.917983</td>\n",
              "      <td>-0.991121</td>\n",
              "      <td>-0.924461</td>\n",
              "      <td>-0.995727</td>\n",
              "      <td>-0.933127</td>\n",
              "      <td>-0.218860</td>\n",
              "      <td>-1.000000</td>\n",
              "      <td>-0.031474</td>\n",
              "      <td>-0.090655</td>\n",
              "      <td>-0.461801</td>\n",
              "      <td>-0.951977</td>\n",
              "      <td>-0.938212</td>\n",
              "      <td>-0.938008</td>\n",
              "      <td>-0.949922</td>\n",
              "      <td>-0.986902</td>\n",
              "      <td>-0.951977</td>\n",
              "      <td>-0.998272</td>\n",
              "      <td>-0.951255</td>\n",
              "      <td>-0.431053</td>\n",
              "      <td>-1.000000</td>\n",
              "      <td>-0.401189</td>\n",
              "      <td>-0.121845</td>\n",
              "      <td>-0.594944</td>\n",
              "      <td>-0.083495</td>\n",
              "      <td>0.017500</td>\n",
              "      <td>-0.434375</td>\n",
              "      <td>0.920593</td>\n",
              "      <td>-0.698091</td>\n",
              "      <td>0.281343</td>\n",
              "      <td>-0.083898</td>\n",
              "    </tr>\n",
              "    <tr>\n",
              "      <th>2</th>\n",
              "      <td>0.275485</td>\n",
              "      <td>-0.026050</td>\n",
              "      <td>-0.118152</td>\n",
              "      <td>-0.993819</td>\n",
              "      <td>-0.969926</td>\n",
              "      <td>-0.962748</td>\n",
              "      <td>-0.994403</td>\n",
              "      <td>-0.970735</td>\n",
              "      <td>-0.963483</td>\n",
              "      <td>-0.939260</td>\n",
              "      <td>-0.568512</td>\n",
              "      <td>-0.799116</td>\n",
              "      <td>0.848305</td>\n",
              "      <td>0.667864</td>\n",
              "      <td>0.822442</td>\n",
              "      <td>-0.976782</td>\n",
              "      <td>-0.999954</td>\n",
              "      <td>-0.999570</td>\n",
              "      <td>-0.998720</td>\n",
              "      <td>-0.993456</td>\n",
              "      <td>-0.974266</td>\n",
              "      <td>-0.964976</td>\n",
              "      <td>-0.617916</td>\n",
              "      <td>-0.695490</td>\n",
              "      <td>-0.536693</td>\n",
              "      <td>0.242147</td>\n",
              "      <td>-0.114997</td>\n",
              "      <td>0.032703</td>\n",
              "      <td>0.192385</td>\n",
              "      <td>-0.011945</td>\n",
              "      <td>-0.063363</td>\n",
              "      <td>0.470819</td>\n",
              "      <td>-0.507395</td>\n",
              "      <td>0.188536</td>\n",
              "      <td>-0.231575</td>\n",
              "      <td>0.632120</td>\n",
              "      <td>-0.550708</td>\n",
              "      <td>0.305653</td>\n",
              "      <td>-0.323848</td>\n",
              "      <td>0.279786</td>\n",
              "      <td>...</td>\n",
              "      <td>-0.999269</td>\n",
              "      <td>-0.978222</td>\n",
              "      <td>-0.898000</td>\n",
              "      <td>-1.000000</td>\n",
              "      <td>0.140729</td>\n",
              "      <td>-0.206062</td>\n",
              "      <td>-0.639809</td>\n",
              "      <td>-0.975209</td>\n",
              "      <td>-0.973998</td>\n",
              "      <td>-0.967097</td>\n",
              "      <td>-0.982849</td>\n",
              "      <td>-0.997663</td>\n",
              "      <td>-0.975209</td>\n",
              "      <td>-0.999504</td>\n",
              "      <td>-0.968260</td>\n",
              "      <td>-0.561266</td>\n",
              "      <td>-0.897436</td>\n",
              "      <td>-0.168805</td>\n",
              "      <td>-0.662317</td>\n",
              "      <td>-0.925364</td>\n",
              "      <td>-0.985689</td>\n",
              "      <td>-0.983273</td>\n",
              "      <td>-0.983422</td>\n",
              "      <td>-0.986857</td>\n",
              "      <td>-0.989609</td>\n",
              "      <td>-0.985689</td>\n",
              "      <td>-0.999831</td>\n",
              "      <td>-0.986148</td>\n",
              "      <td>-0.809976</td>\n",
              "      <td>-0.936508</td>\n",
              "      <td>0.062891</td>\n",
              "      <td>-0.190422</td>\n",
              "      <td>-0.640736</td>\n",
              "      <td>-0.034956</td>\n",
              "      <td>0.202302</td>\n",
              "      <td>0.064103</td>\n",
              "      <td>0.145068</td>\n",
              "      <td>-0.702771</td>\n",
              "      <td>0.280083</td>\n",
              "      <td>-0.079346</td>\n",
              "    </tr>\n",
              "    <tr>\n",
              "      <th>3</th>\n",
              "      <td>0.270298</td>\n",
              "      <td>-0.032614</td>\n",
              "      <td>-0.117520</td>\n",
              "      <td>-0.994743</td>\n",
              "      <td>-0.973268</td>\n",
              "      <td>-0.967091</td>\n",
              "      <td>-0.995274</td>\n",
              "      <td>-0.974471</td>\n",
              "      <td>-0.968897</td>\n",
              "      <td>-0.938610</td>\n",
              "      <td>-0.568512</td>\n",
              "      <td>-0.799116</td>\n",
              "      <td>0.848305</td>\n",
              "      <td>0.667864</td>\n",
              "      <td>0.822442</td>\n",
              "      <td>-0.974418</td>\n",
              "      <td>-0.999953</td>\n",
              "      <td>-0.999330</td>\n",
              "      <td>-0.998933</td>\n",
              "      <td>-0.995236</td>\n",
              "      <td>-0.978739</td>\n",
              "      <td>-0.969982</td>\n",
              "      <td>-0.749578</td>\n",
              "      <td>-0.899226</td>\n",
              "      <td>-0.553813</td>\n",
              "      <td>0.174684</td>\n",
              "      <td>-0.051332</td>\n",
              "      <td>0.034200</td>\n",
              "      <td>0.153639</td>\n",
              "      <td>0.030767</td>\n",
              "      <td>-0.129277</td>\n",
              "      <td>0.446100</td>\n",
              "      <td>-0.419496</td>\n",
              "      <td>0.271493</td>\n",
              "      <td>-0.225769</td>\n",
              "      <td>0.416376</td>\n",
              "      <td>-0.286445</td>\n",
              "      <td>-0.063792</td>\n",
              "      <td>-0.167111</td>\n",
              "      <td>0.544916</td>\n",
              "      <td>...</td>\n",
              "      <td>-0.999400</td>\n",
              "      <td>-0.980365</td>\n",
              "      <td>-1.000000</td>\n",
              "      <td>-0.968254</td>\n",
              "      <td>0.148649</td>\n",
              "      <td>-0.619905</td>\n",
              "      <td>-0.887178</td>\n",
              "      <td>-0.976297</td>\n",
              "      <td>-0.971248</td>\n",
              "      <td>-0.966029</td>\n",
              "      <td>-0.974878</td>\n",
              "      <td>-0.996129</td>\n",
              "      <td>-0.976297</td>\n",
              "      <td>-0.999458</td>\n",
              "      <td>-0.975174</td>\n",
              "      <td>-0.566733</td>\n",
              "      <td>-0.948718</td>\n",
              "      <td>-0.285636</td>\n",
              "      <td>-0.446478</td>\n",
              "      <td>-0.756855</td>\n",
              "      <td>-0.985562</td>\n",
              "      <td>-0.985843</td>\n",
              "      <td>-0.984217</td>\n",
              "      <td>-0.988566</td>\n",
              "      <td>-0.992021</td>\n",
              "      <td>-0.985562</td>\n",
              "      <td>-0.999850</td>\n",
              "      <td>-0.984015</td>\n",
              "      <td>-0.849081</td>\n",
              "      <td>-0.936508</td>\n",
              "      <td>0.116695</td>\n",
              "      <td>-0.344418</td>\n",
              "      <td>-0.736124</td>\n",
              "      <td>-0.017067</td>\n",
              "      <td>0.154438</td>\n",
              "      <td>0.340134</td>\n",
              "      <td>0.296407</td>\n",
              "      <td>-0.698954</td>\n",
              "      <td>0.284114</td>\n",
              "      <td>-0.077108</td>\n",
              "    </tr>\n",
              "    <tr>\n",
              "      <th>4</th>\n",
              "      <td>0.274833</td>\n",
              "      <td>-0.027848</td>\n",
              "      <td>-0.129527</td>\n",
              "      <td>-0.993852</td>\n",
              "      <td>-0.967445</td>\n",
              "      <td>-0.978295</td>\n",
              "      <td>-0.994111</td>\n",
              "      <td>-0.965953</td>\n",
              "      <td>-0.977346</td>\n",
              "      <td>-0.938610</td>\n",
              "      <td>-0.560831</td>\n",
              "      <td>-0.825894</td>\n",
              "      <td>0.849179</td>\n",
              "      <td>0.670700</td>\n",
              "      <td>0.829897</td>\n",
              "      <td>-0.975283</td>\n",
              "      <td>-0.999954</td>\n",
              "      <td>-0.999467</td>\n",
              "      <td>-0.998823</td>\n",
              "      <td>-0.993498</td>\n",
              "      <td>-0.967032</td>\n",
              "      <td>-0.976257</td>\n",
              "      <td>-0.590576</td>\n",
              "      <td>-0.740206</td>\n",
              "      <td>-0.799419</td>\n",
              "      <td>0.115570</td>\n",
              "      <td>-0.028923</td>\n",
              "      <td>-0.032804</td>\n",
              "      <td>0.294340</td>\n",
              "      <td>0.000630</td>\n",
              "      <td>-0.045272</td>\n",
              "      <td>0.168419</td>\n",
              "      <td>-0.068156</td>\n",
              "      <td>0.074384</td>\n",
              "      <td>0.027138</td>\n",
              "      <td>-0.145931</td>\n",
              "      <td>-0.050197</td>\n",
              "      <td>0.235151</td>\n",
              "      <td>0.290487</td>\n",
              "      <td>0.457718</td>\n",
              "      <td>...</td>\n",
              "      <td>-0.999812</td>\n",
              "      <td>-0.989996</td>\n",
              "      <td>-1.000000</td>\n",
              "      <td>-0.809524</td>\n",
              "      <td>0.422249</td>\n",
              "      <td>-0.543096</td>\n",
              "      <td>-0.831313</td>\n",
              "      <td>-0.977007</td>\n",
              "      <td>-0.969619</td>\n",
              "      <td>-0.968915</td>\n",
              "      <td>-0.973746</td>\n",
              "      <td>-0.996970</td>\n",
              "      <td>-0.977007</td>\n",
              "      <td>-0.999429</td>\n",
              "      <td>-0.976111</td>\n",
              "      <td>-0.555564</td>\n",
              "      <td>-1.000000</td>\n",
              "      <td>-0.349061</td>\n",
              "      <td>-0.319763</td>\n",
              "      <td>-0.691739</td>\n",
              "      <td>-0.990498</td>\n",
              "      <td>-0.990572</td>\n",
              "      <td>-0.988406</td>\n",
              "      <td>-0.992653</td>\n",
              "      <td>-0.992505</td>\n",
              "      <td>-0.990498</td>\n",
              "      <td>-0.999925</td>\n",
              "      <td>-0.986376</td>\n",
              "      <td>-0.895847</td>\n",
              "      <td>-0.936508</td>\n",
              "      <td>-0.121711</td>\n",
              "      <td>-0.534685</td>\n",
              "      <td>-0.846595</td>\n",
              "      <td>-0.002223</td>\n",
              "      <td>-0.040046</td>\n",
              "      <td>0.736715</td>\n",
              "      <td>-0.118545</td>\n",
              "      <td>-0.692245</td>\n",
              "      <td>0.290722</td>\n",
              "      <td>-0.073857</td>\n",
              "    </tr>\n",
              "  </tbody>\n",
              "</table>\n",
              "<p>5 rows × 561 columns</p>\n",
              "</div>"
            ],
            "text/plain": [
              "   tBodyAcc-mean()-X  ...  angle(Z,gravityMean)\n",
              "0           0.257178  ...             -0.057978\n",
              "1           0.286027  ...             -0.083898\n",
              "2           0.275485  ...             -0.079346\n",
              "3           0.270298  ...             -0.077108\n",
              "4           0.274833  ...             -0.073857\n",
              "\n",
              "[5 rows x 561 columns]"
            ]
          },
          "metadata": {
            "tags": []
          },
          "execution_count": 59
        }
      ]
    },
    {
      "cell_type": "code",
      "metadata": {
        "id": "2et8YWHfC9cb",
        "colab": {
          "base_uri": "https://localhost:8080/"
        },
        "outputId": "1992a845-3fb0-40c0-c91b-464ade4d7699"
      },
      "source": [
        "print('## 학습 피처 데이터셋 info()')\n",
        "print(X_train.info())"
      ],
      "execution_count": 56,
      "outputs": [
        {
          "output_type": "stream",
          "text": [
            "## 학습 피처 데이터셋 info()\n",
            "<class 'pandas.core.frame.DataFrame'>\n",
            "RangeIndex: 7352 entries, 0 to 7351\n",
            "Columns: 561 entries, tBodyAcc-mean()-X to angle(Z,gravityMean)\n",
            "dtypes: float64(561)\n",
            "memory usage: 31.5 MB\n",
            "None\n"
          ],
          "name": "stdout"
        }
      ]
    },
    {
      "cell_type": "code",
      "metadata": {
        "id": "UaJ8rVdAC9cb",
        "colab": {
          "base_uri": "https://localhost:8080/",
          "height": 424
        },
        "outputId": "5a2d510b-43e8-4de8-a5a4-983641ce5547"
      },
      "source": [
        "# 레이블이 불균형하지 않기 때문에 정확도도 좋은 성능평가 지표가 될 수 있음\r\n",
        "print(y_train['action'].value_counts())\r\n",
        "sns.countplot(y_train['action'])"
      ],
      "execution_count": 61,
      "outputs": [
        {
          "output_type": "stream",
          "text": [
            "6    1407\n",
            "5    1374\n",
            "4    1286\n",
            "1    1226\n",
            "2    1073\n",
            "3     986\n",
            "Name: action, dtype: int64\n"
          ],
          "name": "stdout"
        },
        {
          "output_type": "execute_result",
          "data": {
            "text/plain": [
              "<matplotlib.axes._subplots.AxesSubplot at 0x7f3a85b1a438>"
            ]
          },
          "metadata": {
            "tags": []
          },
          "execution_count": 61
        },
        {
          "output_type": "display_data",
          "data": {
            "image/png": "[encoded data removed]",
            "text/plain": [
              "<Figure size 432x288 with 1 Axes>"
            ]
          },
          "metadata": {
            "tags": [],
            "needs_background": "light"
          }
        }
      ]
    },
    {
      "cell_type": "markdown",
      "metadata": {
        "id": "rkNFda3fGmkh"
      },
      "source": [
        "## 기본 모델로 돌림"
      ]
    },
    {
      "cell_type": "code",
      "metadata": {
        "id": "jVqeSnE9C9cb",
        "colab": {
          "base_uri": "https://localhost:8080/"
        },
        "outputId": "5b46e214-7ab5-4519-86c7-3bd368f1a1f4"
      },
      "source": [
        "from sklearn.tree import DecisionTreeClassifier\n",
        "from sklearn.metrics import accuracy_score\n",
        "\n",
        "# 예제 반복 시 마다 동일한 예측 결과 도출을 위해 random_state 설정\n",
        "dt_clf = DecisionTreeClassifier(random_state=156)\n",
        "dt_clf.fit(X_train , y_train)\n",
        "pred = dt_clf.predict(X_test)\n",
        "accuracy = accuracy_score(y_test , pred)\n",
        "print('결정 트리 예측 정확도: {0:.4f}'.format(accuracy))\n",
        "\n",
        "# DecisionTreeClassifier의 하이퍼 파라미터 추출\n",
        "print('DecisionTreeClassifier 기본 하이퍼 파라미터:\\n', dt_clf.get_params())"
      ],
      "execution_count": 63,
      "outputs": [
        {
          "output_type": "stream",
          "text": [
            "결정 트리 예측 정확도: 0.8548\n",
            "DecisionTreeClassifier 기본 하이퍼 파라미터:\n",
            " {'ccp_alpha': 0.0, 'class_weight': None, 'criterion': 'gini', 'max_depth': None, 'max_features': None, 'max_leaf_nodes': None, 'min_impurity_decrease': 0.0, 'min_impurity_split': None, 'min_samples_leaf': 1, 'min_samples_split': 2, 'min_weight_fraction_leaf': 0.0, 'presort': 'deprecated', 'random_state': 156, 'splitter': 'best'}\n"
          ],
          "name": "stdout"
        }
      ]
    },
    {
      "cell_type": "markdown",
      "metadata": {
        "id": "PH5Xu-_9GpXZ"
      },
      "source": [
        "## max_depth에 변화를 줌"
      ]
    },
    {
      "cell_type": "code",
      "metadata": {
        "id": "nLbQq1eSC9cc",
        "colab": {
          "base_uri": "https://localhost:8080/"
        },
        "outputId": "9aa6a3ba-2f9a-4507-e48a-481bf808c901"
      },
      "source": [
        "from sklearn.model_selection import GridSearchCV\n",
        "\n",
        "params = {\n",
        "    'max_depth' : [ 6, 8 ,10, 12, 16 ,20, 24]\n",
        "}\n",
        "\n",
        "dt_clf = DecisionTreeClassifier(random_state=156)\n",
        "\n",
        "# 하이퍼 파라미터 튜닝\n",
        "grid_cv = GridSearchCV(dt_clf, param_grid=params, scoring='accuracy', cv=5, verbose=1 )\n",
        "grid_cv.fit(X_train , y_train)\n",
        "print('GridSearchCV 최고 평균 정확도 수치:{0:.4f}'.format(grid_cv.best_score_))\n",
        "print('GridSearchCV 최적 하이퍼 파라미터:', grid_cv.best_params_)"
      ],
      "execution_count": 67,
      "outputs": [
        {
          "output_type": "stream",
          "text": [
            "Fitting 5 folds for each of 7 candidates, totalling 35 fits\n"
          ],
          "name": "stdout"
        },
        {
          "output_type": "stream",
          "text": [
            "[Parallel(n_jobs=1)]: Using backend SequentialBackend with 1 concurrent workers.\n",
            "[Parallel(n_jobs=1)]: Done  35 out of  35 | elapsed:  1.9min finished\n"
          ],
          "name": "stderr"
        },
        {
          "output_type": "stream",
          "text": [
            "GridSearchCV 최고 평균 정확도 수치:0.8513\n",
            "GridSearchCV 최적 하이퍼 파라미터: {'max_depth': 16}\n"
          ],
          "name": "stdout"
        }
      ]
    },
    {
      "cell_type": "code",
      "metadata": {
        "id": "Y71Wnp3ZC9cc",
        "colab": {
          "base_uri": "https://localhost:8080/",
          "height": 257
        },
        "outputId": "23b9c99f-2f69-4be0-ce0f-3af2870f9035"
      },
      "source": [
        "# GridSearchCV객체의 cv_results_ 속성을 DataFrame으로 생성. \n",
        "cv_results_df = pd.DataFrame(grid_cv.cv_results_)\n",
        "\n",
        "# max_depth 파라미터 값과 그때의 테스트(Evaluation)셋, 학습 데이터 셋의 정확도 수치 추출\n",
        "cv_results_df[['param_max_depth', 'mean_test_score']]"
      ],
      "execution_count": 68,
      "outputs": [
        {
          "output_type": "execute_result",
          "data": {
            "text/html": [
              "<div>\n",
              "<style scoped>\n",
              "    .dataframe tbody tr th:only-of-type {\n",
              "        vertical-align: middle;\n",
              "    }\n",
              "\n",
              "    .dataframe tbody tr th {\n",
              "        vertical-align: top;\n",
              "    }\n",
              "\n",
              "    .dataframe thead th {\n",
              "        text-align: right;\n",
              "    }\n",
              "</style>\n",
              "<table border=\"1\" class=\"dataframe\">\n",
              "  <thead>\n",
              "    <tr style=\"text-align: right;\">\n",
              "      <th></th>\n",
              "      <th>param_max_depth</th>\n",
              "      <th>mean_test_score</th>\n",
              "    </tr>\n",
              "  </thead>\n",
              "  <tbody>\n",
              "    <tr>\n",
              "      <th>0</th>\n",
              "      <td>6</td>\n",
              "      <td>0.850791</td>\n",
              "    </tr>\n",
              "    <tr>\n",
              "      <th>1</th>\n",
              "      <td>8</td>\n",
              "      <td>0.851069</td>\n",
              "    </tr>\n",
              "    <tr>\n",
              "      <th>2</th>\n",
              "      <td>10</td>\n",
              "      <td>0.851209</td>\n",
              "    </tr>\n",
              "    <tr>\n",
              "      <th>3</th>\n",
              "      <td>12</td>\n",
              "      <td>0.844135</td>\n",
              "    </tr>\n",
              "    <tr>\n",
              "      <th>4</th>\n",
              "      <td>16</td>\n",
              "      <td>0.851344</td>\n",
              "    </tr>\n",
              "    <tr>\n",
              "      <th>5</th>\n",
              "      <td>20</td>\n",
              "      <td>0.850800</td>\n",
              "    </tr>\n",
              "    <tr>\n",
              "      <th>6</th>\n",
              "      <td>24</td>\n",
              "      <td>0.849440</td>\n",
              "    </tr>\n",
              "  </tbody>\n",
              "</table>\n",
              "</div>"
            ],
            "text/plain": [
              "  param_max_depth  mean_test_score\n",
              "0               6         0.850791\n",
              "1               8         0.851069\n",
              "2              10         0.851209\n",
              "3              12         0.844135\n",
              "4              16         0.851344\n",
              "5              20         0.850800\n",
              "6              24         0.849440"
            ]
          },
          "metadata": {
            "tags": []
          },
          "execution_count": 68
        }
      ]
    },
    {
      "cell_type": "code",
      "metadata": {
        "id": "K0VzSe0BC9cd",
        "colab": {
          "base_uri": "https://localhost:8080/"
        },
        "outputId": "e90dc0cf-7ef3-48d5-d585-299668099ac7"
      },
      "source": [
        "max_depths = [ 6, 8 ,10, 12, 16 ,20, 24]\n",
        "# max_depth 값을 변화 시키면서 그때마다 학습과 테스트 셋에서의 예측 성능 측정\n",
        "for depth in max_depths:\n",
        "    dt_clf = DecisionTreeClassifier(max_depth=depth, random_state=156)\n",
        "    dt_clf.fit(X_train , y_train)\n",
        "    pred = dt_clf.predict(X_test)\n",
        "    accuracy = accuracy_score(y_test , pred)\n",
        "    print('max_depth = {0} 정확도: {1:.4f}'.format(depth , accuracy))"
      ],
      "execution_count": 66,
      "outputs": [
        {
          "output_type": "stream",
          "text": [
            "max_depth = 6 정확도: 0.8558\n",
            "max_depth = 8 정확도: 0.8707\n",
            "max_depth = 10 정확도: 0.8673\n",
            "max_depth = 12 정확도: 0.8646\n",
            "max_depth = 16 정확도: 0.8575\n",
            "max_depth = 20 정확도: 0.8548\n",
            "max_depth = 24 정확도: 0.8548\n"
          ],
          "name": "stdout"
        }
      ]
    },
    {
      "cell_type": "markdown",
      "metadata": {
        "id": "SDNHz9wRHqZy"
      },
      "source": [
        "max_depth = 8 일때 성능이 향상된다는 것을 알 수 있음"
      ]
    },
    {
      "cell_type": "code",
      "metadata": {
        "id": "go7fexMmC9cd",
        "colab": {
          "base_uri": "https://localhost:8080/"
        },
        "outputId": "3e73536d-3315-4694-b2c0-5ea3be7df0c0"
      },
      "source": [
        "params = {\n",
        "    'max_depth' : [ 8 , 12, 16 ,20], \n",
        "    'min_samples_split' : [16,24],\n",
        "}\n",
        "\n",
        "dt_clf = DecisionTreeClassifier(random_state=156)\n",
        "\n",
        "grid_cv = GridSearchCV(dt_clf, param_grid=params, scoring='accuracy', cv=5, verbose=1 )\n",
        "grid_cv.fit(X_train , y_train)\n",
        "print('GridSearchCV 최고 평균 정확도 수치: {0:.4f}'.format(grid_cv.best_score_))\n",
        "print('GridSearchCV 최적 하이퍼 파라미터:', grid_cv.best_params_)"
      ],
      "execution_count": 69,
      "outputs": [
        {
          "output_type": "stream",
          "text": [
            "Fitting 5 folds for each of 8 candidates, totalling 40 fits\n"
          ],
          "name": "stdout"
        },
        {
          "output_type": "stream",
          "text": [
            "[Parallel(n_jobs=1)]: Using backend SequentialBackend with 1 concurrent workers.\n",
            "[Parallel(n_jobs=1)]: Done  40 out of  40 | elapsed:  2.2min finished\n"
          ],
          "name": "stderr"
        },
        {
          "output_type": "stream",
          "text": [
            "GridSearchCV 최고 평균 정확도 수치: 0.8549\n",
            "GridSearchCV 최적 하이퍼 파라미터: {'max_depth': 8, 'min_samples_split': 16}\n"
          ],
          "name": "stdout"
        }
      ]
    },
    {
      "cell_type": "code",
      "metadata": {
        "colab": {
          "base_uri": "https://localhost:8080/",
          "height": 286
        },
        "id": "n9N6i1g-H-KI",
        "outputId": "c68ffd5a-0cd4-4771-bb45-ebbd650c3094"
      },
      "source": [
        "# GridSearchCV객체의 cv_results_ 속성을 DataFrame으로 생성. \r\n",
        "cv_results_df = pd.DataFrame(grid_cv.cv_results_)\r\n",
        "\r\n",
        "# max_depth 파라미터 값과 그때의 테스트(Evaluation)셋, 학습 데이터 셋의 정확도 수치 추출\r\n",
        "cv_results_df[['param_max_depth', 'param_min_samples_split', 'mean_test_score']]"
      ],
      "execution_count": 70,
      "outputs": [
        {
          "output_type": "execute_result",
          "data": {
            "text/html": [
              "<div>\n",
              "<style scoped>\n",
              "    .dataframe tbody tr th:only-of-type {\n",
              "        vertical-align: middle;\n",
              "    }\n",
              "\n",
              "    .dataframe tbody tr th {\n",
              "        vertical-align: top;\n",
              "    }\n",
              "\n",
              "    .dataframe thead th {\n",
              "        text-align: right;\n",
              "    }\n",
              "</style>\n",
              "<table border=\"1\" class=\"dataframe\">\n",
              "  <thead>\n",
              "    <tr style=\"text-align: right;\">\n",
              "      <th></th>\n",
              "      <th>param_max_depth</th>\n",
              "      <th>param_min_samples_split</th>\n",
              "      <th>mean_test_score</th>\n",
              "    </tr>\n",
              "  </thead>\n",
              "  <tbody>\n",
              "    <tr>\n",
              "      <th>0</th>\n",
              "      <td>8</td>\n",
              "      <td>16</td>\n",
              "      <td>0.854879</td>\n",
              "    </tr>\n",
              "    <tr>\n",
              "      <th>1</th>\n",
              "      <td>8</td>\n",
              "      <td>24</td>\n",
              "      <td>0.851342</td>\n",
              "    </tr>\n",
              "    <tr>\n",
              "      <th>2</th>\n",
              "      <td>12</td>\n",
              "      <td>16</td>\n",
              "      <td>0.845768</td>\n",
              "    </tr>\n",
              "    <tr>\n",
              "      <th>3</th>\n",
              "      <td>12</td>\n",
              "      <td>24</td>\n",
              "      <td>0.846175</td>\n",
              "    </tr>\n",
              "    <tr>\n",
              "      <th>4</th>\n",
              "      <td>16</td>\n",
              "      <td>16</td>\n",
              "      <td>0.847127</td>\n",
              "    </tr>\n",
              "    <tr>\n",
              "      <th>5</th>\n",
              "      <td>16</td>\n",
              "      <td>24</td>\n",
              "      <td>0.849439</td>\n",
              "    </tr>\n",
              "    <tr>\n",
              "      <th>6</th>\n",
              "      <td>20</td>\n",
              "      <td>16</td>\n",
              "      <td>0.848624</td>\n",
              "    </tr>\n",
              "    <tr>\n",
              "      <th>7</th>\n",
              "      <td>20</td>\n",
              "      <td>24</td>\n",
              "      <td>0.849167</td>\n",
              "    </tr>\n",
              "  </tbody>\n",
              "</table>\n",
              "</div>"
            ],
            "text/plain": [
              "  param_max_depth param_min_samples_split  mean_test_score\n",
              "0               8                      16         0.854879\n",
              "1               8                      24         0.851342\n",
              "2              12                      16         0.845768\n",
              "3              12                      24         0.846175\n",
              "4              16                      16         0.847127\n",
              "5              16                      24         0.849439\n",
              "6              20                      16         0.848624\n",
              "7              20                      24         0.849167"
            ]
          },
          "metadata": {
            "tags": []
          },
          "execution_count": 70
        }
      ]
    },
    {
      "cell_type": "code",
      "metadata": {
        "colab": {
          "base_uri": "https://localhost:8080/"
        },
        "id": "B8paZJtwI_vh",
        "outputId": "1268d412-aa4a-4916-98dd-a6b2f6d864b2"
      },
      "source": [
        "max_depths = [ 6, 8 ,10, 12, 16 ,20, 24]\r\n",
        "min_samples_splits = [16,24]\r\n",
        "# max_depth 값을 변화 시키면서 그때마다 학습과 테스트 셋에서의 예측 성능 측정\r\n",
        "for depth in max_depths:\r\n",
        "  for split in min_samples_splits:\r\n",
        "      dt_clf = DecisionTreeClassifier(max_depth=depth, min_samples_split=split, random_state=156)\r\n",
        "      dt_clf.fit(X_train , y_train)\r\n",
        "      pred = dt_clf.predict(X_test)\r\n",
        "      accuracy = accuracy_score(y_test , pred)\r\n",
        "      print('max_depth = {0}, min_samples_split = {1} 정확도: {2:.4f}'.format(depth, split, accuracy))"
      ],
      "execution_count": 71,
      "outputs": [
        {
          "output_type": "stream",
          "text": [
            "max_depth = 6, min_samples_split = 16 정확도: 0.8551\n",
            "max_depth = 6, min_samples_split = 24 정확도: 0.8551\n",
            "max_depth = 8, min_samples_split = 16 정확도: 0.8717\n",
            "max_depth = 8, min_samples_split = 24 정확도: 0.8697\n",
            "max_depth = 10, min_samples_split = 16 정확도: 0.8599\n",
            "max_depth = 10, min_samples_split = 24 정확도: 0.8602\n",
            "max_depth = 12, min_samples_split = 16 정확도: 0.8571\n",
            "max_depth = 12, min_samples_split = 24 정확도: 0.8578\n",
            "max_depth = 16, min_samples_split = 16 정확도: 0.8599\n",
            "max_depth = 16, min_samples_split = 24 정확도: 0.8507\n",
            "max_depth = 20, min_samples_split = 16 정확도: 0.8565\n",
            "max_depth = 20, min_samples_split = 24 정확도: 0.8507\n",
            "max_depth = 24, min_samples_split = 16 정확도: 0.8565\n",
            "max_depth = 24, min_samples_split = 24 정확도: 0.8507\n"
          ],
          "name": "stdout"
        }
      ]
    },
    {
      "cell_type": "code",
      "metadata": {
        "id": "9Cjt2uwYC9cd",
        "colab": {
          "base_uri": "https://localhost:8080/"
        },
        "outputId": "a86a9dd4-7d88-480d-fe25-b2182f595ef7"
      },
      "source": [
        "best_df_clf = grid_cv.best_estimator_\n",
        "pred1 = best_df_clf.predict(X_test)\n",
        "accuracy = accuracy_score(y_test , pred1)\n",
        "print('결정 트리 예측 정확도:{0:.4f}'.format(accuracy))"
      ],
      "execution_count": 72,
      "outputs": [
        {
          "output_type": "stream",
          "text": [
            "결정 트리 예측 정확도:0.8717\n"
          ],
          "name": "stdout"
        }
      ]
    },
    {
      "cell_type": "markdown",
      "metadata": {
        "id": "o1-x16jwIzGY"
      },
      "source": [
        "확실히 하이퍼 파라미터 튜닝이 모댈 성능 향상에 긍정적인 영향을 준다는 것을 알 수 있음"
      ]
    },
    {
      "cell_type": "markdown",
      "metadata": {
        "id": "JL8JaUTQLjTh"
      },
      "source": [
        "분류에서 가장 중요한 픽쳐를 나타냄"
      ]
    },
    {
      "cell_type": "code",
      "metadata": {
        "id": "ePugZyGHC9ce",
        "colab": {
          "base_uri": "https://localhost:8080/",
          "height": 390
        },
        "outputId": "e36b9aff-47aa-4cee-b894-9333da0ff3a5"
      },
      "source": [
        "import seaborn as sns\n",
        "\n",
        "ftr_importances_values = best_df_clf.feature_importances_\n",
        "# Top 중요도로 정렬을 쉽게 하고, 시본(Seaborn)의 막대그래프로 쉽게 표현하기 위해 Series변환\n",
        "ftr_importances = pd.Series(ftr_importances_values, index=X_train.columns  )\n",
        "# 중요도값 순으로 Series를 정렬\n",
        "ftr_top20 = ftr_importances.sort_values(ascending=False)[:20]\n",
        "plt.figure(figsize=(8,6))\n",
        "plt.title('Feature importances Top 20')\n",
        "sns.barplot(x=ftr_top20 , y = ftr_top20.index)\n",
        "plt.show()"
      ],
      "execution_count": 73,
      "outputs": [
        {
          "output_type": "display_data",
          "data": {
            "image/png": "[encoded data removed]",
            "text/plain": [
              "<Figure size 576x432 with 1 Axes>"
            ]
          },
          "metadata": {
            "tags": [],
            "needs_background": "light"
          }
        }
      ]
    },
    {
      "cell_type": "markdown",
      "metadata": {
        "id": "b-pogPlELWT4"
      },
      "source": [
        "그래프로 나타냄"
      ]
    },
    {
      "cell_type": "code",
      "metadata": {
        "id": "9gMsL7jJ26UL",
        "colab": {
          "base_uri": "https://localhost:8080/",
          "height": 1000
        },
        "outputId": "71057419-188e-4988-e09e-5393a7fb9d4c"
      },
      "source": [
        "graphviz.Source(export_graphviz(best_df_clf, class_names=['1', '2', '3', '4', '5', '6'], feature_names= X_train.columns, impurity=True, filled=True))"
      ],
      "execution_count": 90,
      "outputs": [
        {
          "output_type": "execute_result",
          "data": {
            "text/plain": [
              "<graphviz.files.Source at 0x7f3a85979cc0>"
            ],
            "image/svg+xml": "<?xml version=\"1.0\" encoding=\"UTF-8\" standalone=\"no\"?>\n<!DOCTYPE svg PUBLIC \"-//W3C//DTD SVG 1.1//EN\"\n \"http://www.w3.org/Graphics/SVG/1.1/DTD/svg11.dtd\">\n<!-- Generated by graphviz version 2.40.1 (20161225.0304)\n -->\n<!-- Title: Tree Pages: 1 -->\n<svg width=\"8250pt\" height=\"1028pt\"\n viewBox=\"0.00 0.00 8249.50 1028.00\" xmlns=\"http://www.w3.org/2000/svg\" xmlns:xlink=\"http://www.w3.org/1999/xlink\">\n<g id=\"graph0\" class=\"graph\" transform=\"scale(1 1) rotate(0) translate(4 1024)\">\n<title>Tree</title>\n<polygon fill=\"#ffffff\" stroke=\"transparent\" points=\"-4,4 -4,-1024 8245.5,-1024 8245.5,4 -4,4\"/>\n<!-- 0 -->\n<g id=\"node1\" class=\"node\">\n<title>0</title>\n<polygon fill=\"#fffefe\" stroke=\"#000000\" points=\"4847,-1020 4565,-1020 4565,-937 4847,-937 4847,-1020\"/>\n<text text-anchor=\"middle\" x=\"4706\" y=\"-1004.8\" font-family=\"Times,serif\" font-size=\"14.00\" fill=\"#000000\">tGravityAcc&#45;min()&#45;X &lt;= 0.096</text>\n<text text-anchor=\"middle\" x=\"4706\" y=\"-989.8\" font-family=\"Times,serif\" font-size=\"14.00\" fill=\"#000000\">gini = 0.831</text>\n<text text-anchor=\"middle\" x=\"4706\" y=\"-974.8\" font-family=\"Times,serif\" font-size=\"14.00\" fill=\"#000000\">samples = 7352</text>\n<text text-anchor=\"middle\" x=\"4706\" y=\"-959.8\" font-family=\"Times,serif\" font-size=\"14.00\" fill=\"#000000\">value = [1226, 1073, 986, 1286, 1374, 1407]</text>\n<text text-anchor=\"middle\" x=\"4706\" y=\"-944.8\" font-family=\"Times,serif\" font-size=\"14.00\" fill=\"#000000\">class = 6</text>\n</g>\n<!-- 1 -->\n<g id=\"node2\" class=\"node\">\n<title>1</title>\n<polygon fill=\"#e5399d\" stroke=\"#000000\" points=\"4671.5,-893.5 4494.5,-893.5 4494.5,-825.5 4671.5,-825.5 4671.5,-893.5\"/>\n<text text-anchor=\"middle\" x=\"4583\" y=\"-878.3\" font-family=\"Times,serif\" font-size=\"14.00\" fill=\"#000000\">gini = 0.0</text>\n<text text-anchor=\"middle\" x=\"4583\" y=\"-863.3\" font-family=\"Times,serif\" font-size=\"14.00\" fill=\"#000000\">samples = 1407</text>\n<text text-anchor=\"middle\" x=\"4583\" y=\"-848.3\" font-family=\"Times,serif\" font-size=\"14.00\" fill=\"#000000\">value = [0, 0, 0, 0, 0, 1407]</text>\n<text text-anchor=\"middle\" x=\"4583\" y=\"-833.3\" font-family=\"Times,serif\" font-size=\"14.00\" fill=\"#000000\">class = 6</text>\n</g>\n<!-- 0&#45;&gt;1 -->\n<g id=\"edge1\" class=\"edge\">\n<title>0&#45;&gt;1</title>\n<path fill=\"none\" stroke=\"#000000\" d=\"M4662.9806,-936.8796C4650.9329,-925.2237 4637.8422,-912.5587 4625.8069,-900.9148\"/>\n<polygon fill=\"#000000\" stroke=\"#000000\" points=\"4628.089,-898.2528 4618.4684,-893.8149 4623.2217,-903.2837 4628.089,-898.2528\"/>\n<text text-anchor=\"middle\" x=\"4618.8815\" y=\"-915.1115\" font-family=\"Times,serif\" font-size=\"14.00\" fill=\"#000000\">True</text>\n</g>\n<!-- 2 -->\n<g id=\"node3\" class=\"node\">\n<title>2</title>\n<polygon fill=\"#fdfbff\" stroke=\"#000000\" points=\"4970.5,-901 4689.5,-901 4689.5,-818 4970.5,-818 4970.5,-901\"/>\n<text text-anchor=\"middle\" x=\"4830\" y=\"-885.8\" font-family=\"Times,serif\" font-size=\"14.00\" fill=\"#000000\">fBodyAccJerk&#45;bandsEnergy()&#45;1,16 &lt;= &#45;0.974</text>\n<text text-anchor=\"middle\" x=\"4830\" y=\"-870.8\" font-family=\"Times,serif\" font-size=\"14.00\" fill=\"#000000\">gini = 0.797</text>\n<text text-anchor=\"middle\" x=\"4830\" y=\"-855.8\" font-family=\"Times,serif\" font-size=\"14.00\" fill=\"#000000\">samples = 5945</text>\n<text text-anchor=\"middle\" x=\"4830\" y=\"-840.8\" font-family=\"Times,serif\" font-size=\"14.00\" fill=\"#000000\">value = [1226, 1073, 986, 1286, 1374, 0]</text>\n<text text-anchor=\"middle\" x=\"4830\" y=\"-825.8\" font-family=\"Times,serif\" font-size=\"14.00\" fill=\"#000000\">class = 5</text>\n</g>\n<!-- 0&#45;&gt;2 -->\n<g id=\"edge2\" class=\"edge\">\n<title>0&#45;&gt;2</title>\n<path fill=\"none\" stroke=\"#000000\" d=\"M4749.3692,-936.8796C4758.9416,-927.6931 4769.1672,-917.8798 4779.0103,-908.4336\"/>\n<polygon fill=\"#000000\" stroke=\"#000000\" points=\"4781.6541,-910.7475 4786.4457,-901.2981 4776.8072,-905.6969 4781.6541,-910.7475\"/>\n<text text-anchor=\"middle\" x=\"4785.9314\" y=\"-922.5928\" font-family=\"Times,serif\" font-size=\"14.00\" fill=\"#000000\">False</text>\n</g>\n<!-- 3 -->\n<g id=\"node4\" class=\"node\">\n<title>3</title>\n<polygon fill=\"#f7f2fd\" stroke=\"#000000\" points=\"3293,-782 3093,-782 3093,-699 3293,-699 3293,-782\"/>\n<text text-anchor=\"middle\" x=\"3193\" y=\"-766.8\" font-family=\"Times,serif\" font-size=\"14.00\" fill=\"#000000\">angle(Y,gravityMean) &lt;= 0.14</text>\n<text text-anchor=\"middle\" x=\"3193\" y=\"-751.8\" font-family=\"Times,serif\" font-size=\"14.00\" fill=\"#000000\">gini = 0.499</text>\n<text text-anchor=\"middle\" x=\"3193\" y=\"-736.8\" font-family=\"Times,serif\" font-size=\"14.00\" fill=\"#000000\">samples = 2660</text>\n<text text-anchor=\"middle\" x=\"3193\" y=\"-721.8\" font-family=\"Times,serif\" font-size=\"14.00\" fill=\"#000000\">value = [0, 0, 0, 1286, 1374, 0]</text>\n<text text-anchor=\"middle\" x=\"3193\" y=\"-706.8\" font-family=\"Times,serif\" font-size=\"14.00\" fill=\"#000000\">class = 5</text>\n</g>\n<!-- 2&#45;&gt;3 -->\n<g id=\"edge3\" class=\"edge\">\n<title>2&#45;&gt;3</title>\n<path fill=\"none\" stroke=\"#000000\" d=\"M4689.2741,-819.6068C4686.1614,-819.0352 4683.0671,-818.4981 4680,-818 4414.9778,-774.9608 3600.9936,-750.741 3303.4212,-743.137\"/>\n<polygon fill=\"#000000\" stroke=\"#000000\" points=\"3303.141,-739.6288 3293.0552,-742.8735 3302.963,-746.6265 3303.141,-739.6288\"/>\n</g>\n<!-- 62 -->\n<g id=\"node63\" class=\"node\">\n<title>62</title>\n<polygon fill=\"#fdf6f1\" stroke=\"#000000\" points=\"5733.5,-782 5516.5,-782 5516.5,-699 5733.5,-699 5733.5,-782\"/>\n<text text-anchor=\"middle\" x=\"5625\" y=\"-766.8\" font-family=\"Times,serif\" font-size=\"14.00\" fill=\"#000000\">fBodyAccMag&#45;energy() &lt;= &#45;0.525</text>\n<text text-anchor=\"middle\" x=\"5625\" y=\"-751.8\" font-family=\"Times,serif\" font-size=\"14.00\" fill=\"#000000\">gini = 0.664</text>\n<text text-anchor=\"middle\" x=\"5625\" y=\"-736.8\" font-family=\"Times,serif\" font-size=\"14.00\" fill=\"#000000\">samples = 3285</text>\n<text text-anchor=\"middle\" x=\"5625\" y=\"-721.8\" font-family=\"Times,serif\" font-size=\"14.00\" fill=\"#000000\">value = [1226, 1073, 986, 0, 0, 0]</text>\n<text text-anchor=\"middle\" x=\"5625\" y=\"-706.8\" font-family=\"Times,serif\" font-size=\"14.00\" fill=\"#000000\">class = 1</text>\n</g>\n<!-- 2&#45;&gt;62 -->\n<g id=\"edge62\" class=\"edge\">\n<title>2&#45;&gt;62</title>\n<path fill=\"none\" stroke=\"#000000\" d=\"M4970.7567,-838.4308C5122.9727,-815.6462 5362.9814,-779.7204 5506.0926,-758.2987\"/>\n<polygon fill=\"#000000\" stroke=\"#000000\" points=\"5506.8549,-761.7237 5516.2266,-756.7818 5505.8186,-754.8008 5506.8549,-761.7237\"/>\n</g>\n<!-- 4 -->\n<g id=\"node5\" class=\"node\">\n<title>4</title>\n<polygon fill=\"#58ace9\" stroke=\"#000000\" points=\"1622,-663 1422,-663 1422,-580 1622,-580 1622,-663\"/>\n<text text-anchor=\"middle\" x=\"1522\" y=\"-647.8\" font-family=\"Times,serif\" font-size=\"14.00\" fill=\"#000000\">tGravityAcc&#45;energy()&#45;Y &lt;= &#45;1.0</text>\n<text text-anchor=\"middle\" x=\"1522\" y=\"-632.8\" font-family=\"Times,serif\" font-size=\"14.00\" fill=\"#000000\">gini = 0.234</text>\n<text text-anchor=\"middle\" x=\"1522\" y=\"-617.8\" font-family=\"Times,serif\" font-size=\"14.00\" fill=\"#000000\">samples = 1357</text>\n<text text-anchor=\"middle\" x=\"1522\" y=\"-602.8\" font-family=\"Times,serif\" font-size=\"14.00\" fill=\"#000000\">value = [0, 0, 0, 1173, 184, 0]</text>\n<text text-anchor=\"middle\" x=\"1522\" y=\"-587.8\" font-family=\"Times,serif\" font-size=\"14.00\" fill=\"#000000\">class = 4</text>\n</g>\n<!-- 3&#45;&gt;4 -->\n<g id=\"edge4\" class=\"edge\">\n<title>3&#45;&gt;4</title>\n<path fill=\"none\" stroke=\"#000000\" d=\"M3092.8559,-733.3683C2798.7969,-712.4269 1939.2974,-651.2178 1632.4524,-629.3658\"/>\n<polygon fill=\"#000000\" stroke=\"#000000\" points=\"1632.4358,-625.8559 1622.2124,-628.6366 1631.9385,-632.8382 1632.4358,-625.8559\"/>\n</g>\n<!-- 39 -->\n<g id=\"node40\" class=\"node\">\n<title>39</title>\n<polygon fill=\"#8d4ce7\" stroke=\"#000000\" points=\"3288.5,-663 3097.5,-663 3097.5,-580 3288.5,-580 3288.5,-663\"/>\n<text text-anchor=\"middle\" x=\"3193\" y=\"-647.8\" font-family=\"Times,serif\" font-size=\"14.00\" fill=\"#000000\">tBodyGyro&#45;min()&#45;X &lt;= 0.845</text>\n<text text-anchor=\"middle\" x=\"3193\" y=\"-632.8\" font-family=\"Times,serif\" font-size=\"14.00\" fill=\"#000000\">gini = 0.158</text>\n<text text-anchor=\"middle\" x=\"3193\" y=\"-617.8\" font-family=\"Times,serif\" font-size=\"14.00\" fill=\"#000000\">samples = 1303</text>\n<text text-anchor=\"middle\" x=\"3193\" y=\"-602.8\" font-family=\"Times,serif\" font-size=\"14.00\" fill=\"#000000\">value = [0, 0, 0, 113, 1190, 0]</text>\n<text text-anchor=\"middle\" x=\"3193\" y=\"-587.8\" font-family=\"Times,serif\" font-size=\"14.00\" fill=\"#000000\">class = 5</text>\n</g>\n<!-- 3&#45;&gt;39 -->\n<g id=\"edge39\" class=\"edge\">\n<title>3&#45;&gt;39</title>\n<path fill=\"none\" stroke=\"#000000\" d=\"M3193,-698.8796C3193,-690.6838 3193,-681.9891 3193,-673.5013\"/>\n<polygon fill=\"#000000\" stroke=\"#000000\" points=\"3196.5001,-673.298 3193,-663.2981 3189.5001,-673.2981 3196.5001,-673.298\"/>\n</g>\n<!-- 5 -->\n<g id=\"node6\" class=\"node\">\n<title>5</title>\n<polygon fill=\"#c4a2f3\" stroke=\"#000000\" points=\"819,-544 615,-544 615,-461 819,-461 819,-544\"/>\n<text text-anchor=\"middle\" x=\"717\" y=\"-528.8\" font-family=\"Times,serif\" font-size=\"14.00\" fill=\"#000000\">angle(Z,gravityMean) &lt;= &#45;0.022</text>\n<text text-anchor=\"middle\" x=\"717\" y=\"-513.8\" font-family=\"Times,serif\" font-size=\"14.00\" fill=\"#000000\">gini = 0.453</text>\n<text text-anchor=\"middle\" x=\"717\" y=\"-498.8\" font-family=\"Times,serif\" font-size=\"14.00\" fill=\"#000000\">samples = 95</text>\n<text text-anchor=\"middle\" x=\"717\" y=\"-483.8\" font-family=\"Times,serif\" font-size=\"14.00\" fill=\"#000000\">value = [0, 0, 0, 33, 62, 0]</text>\n<text text-anchor=\"middle\" x=\"717\" y=\"-468.8\" font-family=\"Times,serif\" font-size=\"14.00\" fill=\"#000000\">class = 5</text>\n</g>\n<!-- 4&#45;&gt;5 -->\n<g id=\"edge5\" class=\"edge\">\n<title>4&#45;&gt;5</title>\n<path fill=\"none\" stroke=\"#000000\" d=\"M1421.6738,-606.6692C1270.9349,-584.386 986.9457,-542.405 829.4171,-519.1182\"/>\n<polygon fill=\"#000000\" stroke=\"#000000\" points=\"829.631,-515.6118 819.2266,-517.6118 828.6072,-522.5366 829.631,-515.6118\"/>\n</g>\n<!-- 14 -->\n<g id=\"node15\" class=\"node\">\n<title>14</title>\n<polygon fill=\"#4ea7e8\" stroke=\"#000000\" points=\"1621,-544 1423,-544 1423,-461 1621,-461 1621,-544\"/>\n<text text-anchor=\"middle\" x=\"1522\" y=\"-528.8\" font-family=\"Times,serif\" font-size=\"14.00\" fill=\"#000000\">tBodyGyro&#45;max()&#45;X &lt;= &#45;0.869</text>\n<text text-anchor=\"middle\" x=\"1522\" y=\"-513.8\" font-family=\"Times,serif\" font-size=\"14.00\" fill=\"#000000\">gini = 0.175</text>\n<text text-anchor=\"middle\" x=\"1522\" y=\"-498.8\" font-family=\"Times,serif\" font-size=\"14.00\" fill=\"#000000\">samples = 1262</text>\n<text text-anchor=\"middle\" x=\"1522\" y=\"-483.8\" font-family=\"Times,serif\" font-size=\"14.00\" fill=\"#000000\">value = [0, 0, 0, 1140, 122, 0]</text>\n<text text-anchor=\"middle\" x=\"1522\" y=\"-468.8\" font-family=\"Times,serif\" font-size=\"14.00\" fill=\"#000000\">class = 4</text>\n</g>\n<!-- 4&#45;&gt;14 -->\n<g id=\"edge14\" class=\"edge\">\n<title>4&#45;&gt;14</title>\n<path fill=\"none\" stroke=\"#000000\" d=\"M1522,-579.8796C1522,-571.6838 1522,-562.9891 1522,-554.5013\"/>\n<polygon fill=\"#000000\" stroke=\"#000000\" points=\"1525.5001,-554.298 1522,-544.2981 1518.5001,-554.2981 1525.5001,-554.298\"/>\n</g>\n<!-- 6 -->\n<g id=\"node7\" class=\"node\">\n<title>6</title>\n<polygon fill=\"#afd7f4\" stroke=\"#000000\" points=\"523.5,-425 302.5,-425 302.5,-342 523.5,-342 523.5,-425\"/>\n<text text-anchor=\"middle\" x=\"413\" y=\"-409.8\" font-family=\"Times,serif\" font-size=\"14.00\" fill=\"#000000\">tBodyGyroJerk&#45;max()&#45;X &lt;= &#45;0.983</text>\n<text text-anchor=\"middle\" x=\"413\" y=\"-394.8\" font-family=\"Times,serif\" font-size=\"14.00\" fill=\"#000000\">gini = 0.468</text>\n<text text-anchor=\"middle\" x=\"413\" y=\"-379.8\" font-family=\"Times,serif\" font-size=\"14.00\" fill=\"#000000\">samples = 51</text>\n<text text-anchor=\"middle\" x=\"413\" y=\"-364.8\" font-family=\"Times,serif\" font-size=\"14.00\" fill=\"#000000\">value = [0, 0, 0, 32, 19, 0]</text>\n<text text-anchor=\"middle\" x=\"413\" y=\"-349.8\" font-family=\"Times,serif\" font-size=\"14.00\" fill=\"#000000\">class = 4</text>\n</g>\n<!-- 5&#45;&gt;6 -->\n<g id=\"edge6\" class=\"edge\">\n<title>5&#45;&gt;6</title>\n<path fill=\"none\" stroke=\"#000000\" d=\"M614.9267,-462.5437C587.2642,-451.7153 557.1199,-439.9153 528.7624,-428.8149\"/>\n<polygon fill=\"#000000\" stroke=\"#000000\" points=\"529.808,-425.4656 519.2202,-425.0796 527.2564,-431.984 529.808,-425.4656\"/>\n</g>\n<!-- 11 -->\n<g id=\"node12\" class=\"node\">\n<title>11</title>\n<polygon fill=\"#843ee6\" stroke=\"#000000\" points=\"841.5,-425 592.5,-425 592.5,-342 841.5,-342 841.5,-425\"/>\n<text text-anchor=\"middle\" x=\"717\" y=\"-409.8\" font-family=\"Times,serif\" font-size=\"14.00\" fill=\"#000000\">tBodyGyroJerk&#45;arCoeff()&#45;Z,4 &lt;= &#45;0.249</text>\n<text text-anchor=\"middle\" x=\"717\" y=\"-394.8\" font-family=\"Times,serif\" font-size=\"14.00\" fill=\"#000000\">gini = 0.044</text>\n<text text-anchor=\"middle\" x=\"717\" y=\"-379.8\" font-family=\"Times,serif\" font-size=\"14.00\" fill=\"#000000\">samples = 44</text>\n<text text-anchor=\"middle\" x=\"717\" y=\"-364.8\" font-family=\"Times,serif\" font-size=\"14.00\" fill=\"#000000\">value = [0, 0, 0, 1, 43, 0]</text>\n<text text-anchor=\"middle\" x=\"717\" y=\"-349.8\" font-family=\"Times,serif\" font-size=\"14.00\" fill=\"#000000\">class = 5</text>\n</g>\n<!-- 5&#45;&gt;11 -->\n<g id=\"edge11\" class=\"edge\">\n<title>5&#45;&gt;11</title>\n<path fill=\"none\" stroke=\"#000000\" d=\"M717,-460.8796C717,-452.6838 717,-443.9891 717,-435.5013\"/>\n<polygon fill=\"#000000\" stroke=\"#000000\" points=\"720.5001,-435.298 717,-425.2981 713.5001,-435.2981 720.5001,-435.298\"/>\n</g>\n<!-- 7 -->\n<g id=\"node8\" class=\"node\">\n<title>7</title>\n<polygon fill=\"#45a3e7\" stroke=\"#000000\" points=\"314,-306 76,-306 76,-223 314,-223 314,-306\"/>\n<text text-anchor=\"middle\" x=\"195\" y=\"-290.8\" font-family=\"Times,serif\" font-size=\"14.00\" fill=\"#000000\">tBodyAccJerk&#45;arCoeff()&#45;X,3 &lt;= 0.411</text>\n<text text-anchor=\"middle\" x=\"195\" y=\"-275.8\" font-family=\"Times,serif\" font-size=\"14.00\" fill=\"#000000\">gini = 0.111</text>\n<text text-anchor=\"middle\" x=\"195\" y=\"-260.8\" font-family=\"Times,serif\" font-size=\"14.00\" fill=\"#000000\">samples = 34</text>\n<text text-anchor=\"middle\" x=\"195\" y=\"-245.8\" font-family=\"Times,serif\" font-size=\"14.00\" fill=\"#000000\">value = [0, 0, 0, 32, 2, 0]</text>\n<text text-anchor=\"middle\" x=\"195\" y=\"-230.8\" font-family=\"Times,serif\" font-size=\"14.00\" fill=\"#000000\">class = 4</text>\n</g>\n<!-- 6&#45;&gt;7 -->\n<g id=\"edge7\" class=\"edge\">\n<title>6&#45;&gt;7</title>\n<path fill=\"none\" stroke=\"#000000\" d=\"M336.7542,-341.8796C318.4168,-331.8697 298.716,-321.1156 280.0074,-310.9031\"/>\n<polygon fill=\"#000000\" stroke=\"#000000\" points=\"281.6572,-307.8162 271.2028,-306.0969 278.3032,-313.9604 281.6572,-307.8162\"/>\n</g>\n<!-- 10 -->\n<g id=\"node11\" class=\"node\">\n<title>10</title>\n<polygon fill=\"#8139e5\" stroke=\"#000000\" points=\"494,-298.5 332,-298.5 332,-230.5 494,-230.5 494,-298.5\"/>\n<text text-anchor=\"middle\" x=\"413\" y=\"-283.3\" font-family=\"Times,serif\" font-size=\"14.00\" fill=\"#000000\">gini = 0.0</text>\n<text text-anchor=\"middle\" x=\"413\" y=\"-268.3\" font-family=\"Times,serif\" font-size=\"14.00\" fill=\"#000000\">samples = 17</text>\n<text text-anchor=\"middle\" x=\"413\" y=\"-253.3\" font-family=\"Times,serif\" font-size=\"14.00\" fill=\"#000000\">value = [0, 0, 0, 0, 17, 0]</text>\n<text text-anchor=\"middle\" x=\"413\" y=\"-238.3\" font-family=\"Times,serif\" font-size=\"14.00\" fill=\"#000000\">class = 5</text>\n</g>\n<!-- 6&#45;&gt;10 -->\n<g id=\"edge10\" class=\"edge\">\n<title>6&#45;&gt;10</title>\n<path fill=\"none\" stroke=\"#000000\" d=\"M413,-341.8796C413,-331.2134 413,-319.7021 413,-308.9015\"/>\n<polygon fill=\"#000000\" stroke=\"#000000\" points=\"416.5001,-308.8149 413,-298.8149 409.5001,-308.815 416.5001,-308.8149\"/>\n</g>\n<!-- 8 -->\n<g id=\"node9\" class=\"node\">\n<title>8</title>\n<polygon fill=\"#399de5\" stroke=\"#000000\" points=\"162,-179.5 0,-179.5 0,-111.5 162,-111.5 162,-179.5\"/>\n<text text-anchor=\"middle\" x=\"81\" y=\"-164.3\" font-family=\"Times,serif\" font-size=\"14.00\" fill=\"#000000\">gini = 0.0</text>\n<text text-anchor=\"middle\" x=\"81\" y=\"-149.3\" font-family=\"Times,serif\" font-size=\"14.00\" fill=\"#000000\">samples = 32</text>\n<text text-anchor=\"middle\" x=\"81\" y=\"-134.3\" font-family=\"Times,serif\" font-size=\"14.00\" fill=\"#000000\">value = [0, 0, 0, 32, 0, 0]</text>\n<text text-anchor=\"middle\" x=\"81\" y=\"-119.3\" font-family=\"Times,serif\" font-size=\"14.00\" fill=\"#000000\">class = 4</text>\n</g>\n<!-- 7&#45;&gt;8 -->\n<g id=\"edge8\" class=\"edge\">\n<title>7&#45;&gt;8</title>\n<path fill=\"none\" stroke=\"#000000\" d=\"M155.1283,-222.8796C144.0676,-211.3337 132.0582,-198.7976 120.9906,-187.2446\"/>\n<polygon fill=\"#000000\" stroke=\"#000000\" points=\"123.3183,-184.6149 113.8731,-179.8149 118.2635,-189.4573 123.3183,-184.6149\"/>\n</g>\n<!-- 9 -->\n<g id=\"node10\" class=\"node\">\n<title>9</title>\n<polygon fill=\"#8139e5\" stroke=\"#000000\" points=\"335.5,-179.5 180.5,-179.5 180.5,-111.5 335.5,-111.5 335.5,-179.5\"/>\n<text text-anchor=\"middle\" x=\"258\" y=\"-164.3\" font-family=\"Times,serif\" font-size=\"14.00\" fill=\"#000000\">gini = 0.0</text>\n<text text-anchor=\"middle\" x=\"258\" y=\"-149.3\" font-family=\"Times,serif\" font-size=\"14.00\" fill=\"#000000\">samples = 2</text>\n<text text-anchor=\"middle\" x=\"258\" y=\"-134.3\" font-family=\"Times,serif\" font-size=\"14.00\" fill=\"#000000\">value = [0, 0, 0, 0, 2, 0]</text>\n<text text-anchor=\"middle\" x=\"258\" y=\"-119.3\" font-family=\"Times,serif\" font-size=\"14.00\" fill=\"#000000\">class = 5</text>\n</g>\n<!-- 7&#45;&gt;9 -->\n<g id=\"edge9\" class=\"edge\">\n<title>7&#45;&gt;9</title>\n<path fill=\"none\" stroke=\"#000000\" d=\"M217.0343,-222.8796C222.8558,-211.8835 229.1527,-199.9893 235.0227,-188.9015\"/>\n<polygon fill=\"#000000\" stroke=\"#000000\" points=\"238.2476,-190.2905 239.8333,-179.8149 232.0611,-187.0152 238.2476,-190.2905\"/>\n</g>\n<!-- 12 -->\n<g id=\"node13\" class=\"node\">\n<title>12</title>\n<polygon fill=\"#399de5\" stroke=\"#000000\" points=\"667.5,-298.5 512.5,-298.5 512.5,-230.5 667.5,-230.5 667.5,-298.5\"/>\n<text text-anchor=\"middle\" x=\"590\" y=\"-283.3\" font-family=\"Times,serif\" font-size=\"14.00\" fill=\"#000000\">gini = 0.0</text>\n<text text-anchor=\"middle\" x=\"590\" y=\"-268.3\" font-family=\"Times,serif\" font-size=\"14.00\" fill=\"#000000\">samples = 1</text>\n<text text-anchor=\"middle\" x=\"590\" y=\"-253.3\" font-family=\"Times,serif\" font-size=\"14.00\" fill=\"#000000\">value = [0, 0, 0, 1, 0, 0]</text>\n<text text-anchor=\"middle\" x=\"590\" y=\"-238.3\" font-family=\"Times,serif\" font-size=\"14.00\" fill=\"#000000\">class = 4</text>\n</g>\n<!-- 11&#45;&gt;12 -->\n<g id=\"edge12\" class=\"edge\">\n<title>11&#45;&gt;12</title>\n<path fill=\"none\" stroke=\"#000000\" d=\"M672.5816,-341.8796C660.1421,-330.2237 646.6257,-317.5587 634.199,-305.9148\"/>\n<polygon fill=\"#000000\" stroke=\"#000000\" points=\"636.3121,-303.0985 626.6218,-298.8149 631.5259,-308.2065 636.3121,-303.0985\"/>\n</g>\n<!-- 13 -->\n<g id=\"node14\" class=\"node\">\n<title>13</title>\n<polygon fill=\"#8139e5\" stroke=\"#000000\" points=\"848,-298.5 686,-298.5 686,-230.5 848,-230.5 848,-298.5\"/>\n<text text-anchor=\"middle\" x=\"767\" y=\"-283.3\" font-family=\"Times,serif\" font-size=\"14.00\" fill=\"#000000\">gini = 0.0</text>\n<text text-anchor=\"middle\" x=\"767\" y=\"-268.3\" font-family=\"Times,serif\" font-size=\"14.00\" fill=\"#000000\">samples = 43</text>\n<text text-anchor=\"middle\" x=\"767\" y=\"-253.3\" font-family=\"Times,serif\" font-size=\"14.00\" fill=\"#000000\">value = [0, 0, 0, 0, 43, 0]</text>\n<text text-anchor=\"middle\" x=\"767\" y=\"-238.3\" font-family=\"Times,serif\" font-size=\"14.00\" fill=\"#000000\">class = 5</text>\n</g>\n<!-- 11&#45;&gt;13 -->\n<g id=\"edge13\" class=\"edge\">\n<title>11&#45;&gt;13</title>\n<path fill=\"none\" stroke=\"#000000\" d=\"M734.4876,-341.8796C739.0616,-330.9935 744.0054,-319.227 748.6242,-308.2344\"/>\n<polygon fill=\"#000000\" stroke=\"#000000\" points=\"751.935,-309.39 752.582,-298.8149 745.4815,-306.6784 751.935,-309.39\"/>\n</g>\n<!-- 15 -->\n<g id=\"node16\" class=\"node\">\n<title>15</title>\n<polygon fill=\"#40a1e6\" stroke=\"#000000\" points=\"1393.5,-425 1152.5,-425 1152.5,-342 1393.5,-342 1393.5,-425\"/>\n<text text-anchor=\"middle\" x=\"1273\" y=\"-409.8\" font-family=\"Times,serif\" font-size=\"14.00\" fill=\"#000000\">tBodyGyro&#45;correlation()&#45;Y,Z &lt;= 0.418</text>\n<text text-anchor=\"middle\" x=\"1273\" y=\"-394.8\" font-family=\"Times,serif\" font-size=\"14.00\" fill=\"#000000\">gini = 0.068</text>\n<text text-anchor=\"middle\" x=\"1273\" y=\"-379.8\" font-family=\"Times,serif\" font-size=\"14.00\" fill=\"#000000\">samples = 994</text>\n<text text-anchor=\"middle\" x=\"1273\" y=\"-364.8\" font-family=\"Times,serif\" font-size=\"14.00\" fill=\"#000000\">value = [0, 0, 0, 959, 35, 0]</text>\n<text text-anchor=\"middle\" x=\"1273\" y=\"-349.8\" font-family=\"Times,serif\" font-size=\"14.00\" fill=\"#000000\">class = 4</text>\n</g>\n<!-- 14&#45;&gt;15 -->\n<g id=\"edge15\" class=\"edge\">\n<title>14&#45;&gt;15</title>\n<path fill=\"none\" stroke=\"#000000\" d=\"M1434.9119,-460.8796C1413.6826,-450.7339 1390.8534,-439.8235 1369.2261,-429.4876\"/>\n<polygon fill=\"#000000\" stroke=\"#000000\" points=\"1370.5707,-426.2511 1360.0389,-425.0969 1367.5523,-432.5669 1370.5707,-426.2511\"/>\n</g>\n<!-- 30 -->\n<g id=\"node31\" class=\"node\">\n<title>30</title>\n<polygon fill=\"#98ccf1\" stroke=\"#000000\" points=\"1932.5,-425 1735.5,-425 1735.5,-342 1932.5,-342 1932.5,-425\"/>\n<text text-anchor=\"middle\" x=\"1834\" y=\"-409.8\" font-family=\"Times,serif\" font-size=\"14.00\" fill=\"#000000\">tGravityAcc&#45;max()&#45;Y &lt;= 0.069</text>\n<text text-anchor=\"middle\" x=\"1834\" y=\"-394.8\" font-family=\"Times,serif\" font-size=\"14.00\" fill=\"#000000\">gini = 0.438</text>\n<text text-anchor=\"middle\" x=\"1834\" y=\"-379.8\" font-family=\"Times,serif\" font-size=\"14.00\" fill=\"#000000\">samples = 268</text>\n<text text-anchor=\"middle\" x=\"1834\" y=\"-364.8\" font-family=\"Times,serif\" font-size=\"14.00\" fill=\"#000000\">value = [0, 0, 0, 181, 87, 0]</text>\n<text text-anchor=\"middle\" x=\"1834\" y=\"-349.8\" font-family=\"Times,serif\" font-size=\"14.00\" fill=\"#000000\">class = 4</text>\n</g>\n<!-- 14&#45;&gt;30 -->\n<g id=\"edge30\" class=\"edge\">\n<title>14&#45;&gt;30</title>\n<path fill=\"none\" stroke=\"#000000\" d=\"M1621.1474,-464.6841C1654.5013,-451.9626 1691.8721,-437.709 1725.8809,-424.7377\"/>\n<polygon fill=\"#000000\" stroke=\"#000000\" points=\"1727.2817,-427.9494 1735.3779,-421.1155 1724.7871,-421.409 1727.2817,-427.9494\"/>\n</g>\n<!-- 16 -->\n<g id=\"node17\" class=\"node\">\n<title>16</title>\n<polygon fill=\"#3c9fe5\" stroke=\"#000000\" points=\"1054,-306 866,-306 866,-223 1054,-223 1054,-306\"/>\n<text text-anchor=\"middle\" x=\"960\" y=\"-290.8\" font-family=\"Times,serif\" font-size=\"14.00\" fill=\"#000000\">tGravityAcc&#45;min()&#45;X &lt;= 0.99</text>\n<text text-anchor=\"middle\" x=\"960\" y=\"-275.8\" font-family=\"Times,serif\" font-size=\"14.00\" fill=\"#000000\">gini = 0.034</text>\n<text text-anchor=\"middle\" x=\"960\" y=\"-260.8\" font-family=\"Times,serif\" font-size=\"14.00\" fill=\"#000000\">samples = 927</text>\n<text text-anchor=\"middle\" x=\"960\" y=\"-245.8\" font-family=\"Times,serif\" font-size=\"14.00\" fill=\"#000000\">value = [0, 0, 0, 911, 16, 0]</text>\n<text text-anchor=\"middle\" x=\"960\" y=\"-230.8\" font-family=\"Times,serif\" font-size=\"14.00\" fill=\"#000000\">class = 4</text>\n</g>\n<!-- 15&#45;&gt;16 -->\n<g id=\"edge16\" class=\"edge\">\n<title>15&#45;&gt;16</title>\n<path fill=\"none\" stroke=\"#000000\" d=\"M1163.5278,-341.8796C1131.0365,-329.5267 1095.5639,-316.0403 1063.4665,-303.8371\"/>\n<polygon fill=\"#000000\" stroke=\"#000000\" points=\"1064.6572,-300.5454 1054.0661,-300.2632 1062.1695,-307.0885 1064.6572,-300.5454\"/>\n</g>\n<!-- 23 -->\n<g id=\"node24\" class=\"node\">\n<title>23</title>\n<polygon fill=\"#87c4ef\" stroke=\"#000000\" points=\"1370.5,-306 1175.5,-306 1175.5,-223 1370.5,-223 1370.5,-306\"/>\n<text text-anchor=\"middle\" x=\"1273\" y=\"-290.8\" font-family=\"Times,serif\" font-size=\"14.00\" fill=\"#000000\">tGravityAcc&#45;min()&#45;X &lt;= 0.961</text>\n<text text-anchor=\"middle\" x=\"1273\" y=\"-275.8\" font-family=\"Times,serif\" font-size=\"14.00\" fill=\"#000000\">gini = 0.406</text>\n<text text-anchor=\"middle\" x=\"1273\" y=\"-260.8\" font-family=\"Times,serif\" font-size=\"14.00\" fill=\"#000000\">samples = 67</text>\n<text text-anchor=\"middle\" x=\"1273\" y=\"-245.8\" font-family=\"Times,serif\" font-size=\"14.00\" fill=\"#000000\">value = [0, 0, 0, 48, 19, 0]</text>\n<text text-anchor=\"middle\" x=\"1273\" y=\"-230.8\" font-family=\"Times,serif\" font-size=\"14.00\" fill=\"#000000\">class = 4</text>\n</g>\n<!-- 15&#45;&gt;23 -->\n<g id=\"edge23\" class=\"edge\">\n<title>15&#45;&gt;23</title>\n<path fill=\"none\" stroke=\"#000000\" d=\"M1273,-341.8796C1273,-333.6838 1273,-324.9891 1273,-316.5013\"/>\n<polygon fill=\"#000000\" stroke=\"#000000\" points=\"1276.5001,-316.298 1273,-306.2981 1269.5001,-316.2981 1276.5001,-316.298\"/>\n</g>\n<!-- 17 -->\n<g id=\"node18\" class=\"node\">\n<title>17</title>\n<polygon fill=\"#3a9ee5\" stroke=\"#000000\" points=\"640,-187 398,-187 398,-104 640,-104 640,-187\"/>\n<text text-anchor=\"middle\" x=\"519\" y=\"-171.8\" font-family=\"Times,serif\" font-size=\"14.00\" fill=\"#000000\">tBodyAccJerk&#45;arCoeff()&#45;Y,3 &lt;= &#45;0.615</text>\n<text text-anchor=\"middle\" x=\"519\" y=\"-156.8\" font-family=\"Times,serif\" font-size=\"14.00\" fill=\"#000000\">gini = 0.012</text>\n<text text-anchor=\"middle\" x=\"519\" y=\"-141.8\" font-family=\"Times,serif\" font-size=\"14.00\" fill=\"#000000\">samples = 851</text>\n<text text-anchor=\"middle\" x=\"519\" y=\"-126.8\" font-family=\"Times,serif\" font-size=\"14.00\" fill=\"#000000\">value = [0, 0, 0, 846, 5, 0]</text>\n<text text-anchor=\"middle\" x=\"519\" y=\"-111.8\" font-family=\"Times,serif\" font-size=\"14.00\" fill=\"#000000\">class = 4</text>\n</g>\n<!-- 16&#45;&gt;17 -->\n<g id=\"edge17\" class=\"edge\">\n<title>16&#45;&gt;17</title>\n<path fill=\"none\" stroke=\"#000000\" d=\"M865.9166,-225.9023C862.9204,-224.8945 859.943,-223.9239 857,-223 789.8013,-201.903 713.4318,-183.903 650.3077,-170.5753\"/>\n<polygon fill=\"#000000\" stroke=\"#000000\" points=\"650.7991,-167.1023 640.2938,-168.4767 649.3633,-173.9535 650.7991,-167.1023\"/>\n</g>\n<!-- 20 -->\n<g id=\"node21\" class=\"node\">\n<title>20</title>\n<polygon fill=\"#5baee9\" stroke=\"#000000\" points=\"980,-187 786,-187 786,-104 980,-104 980,-187\"/>\n<text text-anchor=\"middle\" x=\"883\" y=\"-171.8\" font-family=\"Times,serif\" font-size=\"14.00\" fill=\"#000000\">tGravityAcc&#45;min()&#45;Z &lt;= 0.067</text>\n<text text-anchor=\"middle\" x=\"883\" y=\"-156.8\" font-family=\"Times,serif\" font-size=\"14.00\" fill=\"#000000\">gini = 0.248</text>\n<text text-anchor=\"middle\" x=\"883\" y=\"-141.8\" font-family=\"Times,serif\" font-size=\"14.00\" fill=\"#000000\">samples = 76</text>\n<text text-anchor=\"middle\" x=\"883\" y=\"-126.8\" font-family=\"Times,serif\" font-size=\"14.00\" fill=\"#000000\">value = [0, 0, 0, 65, 11, 0]</text>\n<text text-anchor=\"middle\" x=\"883\" y=\"-111.8\" font-family=\"Times,serif\" font-size=\"14.00\" fill=\"#000000\">class = 4</text>\n</g>\n<!-- 16&#45;&gt;20 -->\n<g id=\"edge20\" class=\"edge\">\n<title>16&#45;&gt;20</title>\n<path fill=\"none\" stroke=\"#000000\" d=\"M933.0691,-222.8796C927.4163,-214.1434 921.3967,-204.8404 915.5634,-195.8253\"/>\n<polygon fill=\"#000000\" stroke=\"#000000\" points=\"918.4169,-193.7924 910.0458,-187.2981 912.5399,-197.5952 918.4169,-193.7924\"/>\n</g>\n<!-- 18 -->\n<g id=\"node19\" class=\"node\">\n<title>18</title>\n<polygon fill=\"#8139e5\" stroke=\"#000000\" points=\"415.5,-68 260.5,-68 260.5,0 415.5,0 415.5,-68\"/>\n<text text-anchor=\"middle\" x=\"338\" y=\"-52.8\" font-family=\"Times,serif\" font-size=\"14.00\" fill=\"#000000\">gini = 0.0</text>\n<text text-anchor=\"middle\" x=\"338\" y=\"-37.8\" font-family=\"Times,serif\" font-size=\"14.00\" fill=\"#000000\">samples = 1</text>\n<text text-anchor=\"middle\" x=\"338\" y=\"-22.8\" font-family=\"Times,serif\" font-size=\"14.00\" fill=\"#000000\">value = [0, 0, 0, 0, 1, 0]</text>\n<text text-anchor=\"middle\" x=\"338\" y=\"-7.8\" font-family=\"Times,serif\" font-size=\"14.00\" fill=\"#000000\">class = 5</text>\n</g>\n<!-- 17&#45;&gt;18 -->\n<g id=\"edge18\" class=\"edge\">\n<title>17&#45;&gt;18</title>\n<path fill=\"none\" stroke=\"#000000\" d=\"M451.6023,-103.9815C435.4045,-94.0034 418.1487,-83.3733 402.1055,-73.4904\"/>\n<polygon fill=\"#000000\" stroke=\"#000000\" points=\"403.6817,-70.3506 393.3318,-68.0856 400.0103,-76.3105 403.6817,-70.3506\"/>\n</g>\n<!-- 19 -->\n<g id=\"node20\" class=\"node\">\n<title>19</title>\n<polygon fill=\"#3a9de5\" stroke=\"#000000\" points=\"604,-68 434,-68 434,0 604,0 604,-68\"/>\n<text text-anchor=\"middle\" x=\"519\" y=\"-52.8\" font-family=\"Times,serif\" font-size=\"14.00\" fill=\"#000000\">gini = 0.009</text>\n<text text-anchor=\"middle\" x=\"519\" y=\"-37.8\" font-family=\"Times,serif\" font-size=\"14.00\" fill=\"#000000\">samples = 850</text>\n<text text-anchor=\"middle\" x=\"519\" y=\"-22.8\" font-family=\"Times,serif\" font-size=\"14.00\" fill=\"#000000\">value = [0, 0, 0, 846, 4, 0]</text>\n<text text-anchor=\"middle\" x=\"519\" y=\"-7.8\" font-family=\"Times,serif\" font-size=\"14.00\" fill=\"#000000\">class = 4</text>\n</g>\n<!-- 17&#45;&gt;19 -->\n<g id=\"edge19\" class=\"edge\">\n<title>17&#45;&gt;19</title>\n<path fill=\"none\" stroke=\"#000000\" d=\"M519,-103.9815C519,-95.618 519,-86.7965 519,-78.3409\"/>\n<polygon fill=\"#000000\" stroke=\"#000000\" points=\"522.5001,-78.2636 519,-68.2637 515.5001,-78.2637 522.5001,-78.2636\"/>\n</g>\n<!-- 21 -->\n<g id=\"node22\" class=\"node\">\n<title>21</title>\n<polygon fill=\"#3c9fe5\" stroke=\"#000000\" points=\"784,-68 622,-68 622,0 784,0 784,-68\"/>\n<text text-anchor=\"middle\" x=\"703\" y=\"-52.8\" font-family=\"Times,serif\" font-size=\"14.00\" fill=\"#000000\">gini = 0.03</text>\n<text text-anchor=\"middle\" x=\"703\" y=\"-37.8\" font-family=\"Times,serif\" font-size=\"14.00\" fill=\"#000000\">samples = 66</text>\n<text text-anchor=\"middle\" x=\"703\" y=\"-22.8\" font-family=\"Times,serif\" font-size=\"14.00\" fill=\"#000000\">value = [0, 0, 0, 65, 1, 0]</text>\n<text text-anchor=\"middle\" x=\"703\" y=\"-7.8\" font-family=\"Times,serif\" font-size=\"14.00\" fill=\"#000000\">class = 4</text>\n</g>\n<!-- 20&#45;&gt;21 -->\n<g id=\"edge21\" class=\"edge\">\n<title>20&#45;&gt;21</title>\n<path fill=\"none\" stroke=\"#000000\" d=\"M815.9746,-103.9815C799.8664,-94.0034 782.7059,-83.3733 766.7513,-73.4904\"/>\n<polygon fill=\"#000000\" stroke=\"#000000\" points=\"768.3704,-70.3763 758.0261,-68.0856 764.6842,-76.3271 768.3704,-70.3763\"/>\n</g>\n<!-- 22 -->\n<g id=\"node23\" class=\"node\">\n<title>22</title>\n<polygon fill=\"#8139e5\" stroke=\"#000000\" points=\"964,-68 802,-68 802,0 964,0 964,-68\"/>\n<text text-anchor=\"middle\" x=\"883\" y=\"-52.8\" font-family=\"Times,serif\" font-size=\"14.00\" fill=\"#000000\">gini = 0.0</text>\n<text text-anchor=\"middle\" x=\"883\" y=\"-37.8\" font-family=\"Times,serif\" font-size=\"14.00\" fill=\"#000000\">samples = 10</text>\n<text text-anchor=\"middle\" x=\"883\" y=\"-22.8\" font-family=\"Times,serif\" font-size=\"14.00\" fill=\"#000000\">value = [0, 0, 0, 0, 10, 0]</text>\n<text text-anchor=\"middle\" x=\"883\" y=\"-7.8\" font-family=\"Times,serif\" font-size=\"14.00\" fill=\"#000000\">class = 5</text>\n</g>\n<!-- 20&#45;&gt;22 -->\n<g id=\"edge22\" class=\"edge\">\n<title>20&#45;&gt;22</title>\n<path fill=\"none\" stroke=\"#000000\" d=\"M883,-103.9815C883,-95.618 883,-86.7965 883,-78.3409\"/>\n<polygon fill=\"#000000\" stroke=\"#000000\" points=\"886.5001,-78.2636 883,-68.2637 879.5001,-78.2637 886.5001,-78.2636\"/>\n</g>\n<!-- 24 -->\n<g id=\"node25\" class=\"node\">\n<title>24</title>\n<polygon fill=\"#3e9fe6\" stroke=\"#000000\" points=\"1319,-187 1101,-187 1101,-104 1319,-104 1319,-187\"/>\n<text text-anchor=\"middle\" x=\"1210\" y=\"-171.8\" font-family=\"Times,serif\" font-size=\"14.00\" fill=\"#000000\">tGravityAcc&#45;arCoeff()&#45;Z,2 &lt;= 0.98</text>\n<text text-anchor=\"middle\" x=\"1210\" y=\"-156.8\" font-family=\"Times,serif\" font-size=\"14.00\" fill=\"#000000\">gini = 0.046</text>\n<text text-anchor=\"middle\" x=\"1210\" y=\"-141.8\" font-family=\"Times,serif\" font-size=\"14.00\" fill=\"#000000\">samples = 42</text>\n<text text-anchor=\"middle\" x=\"1210\" y=\"-126.8\" font-family=\"Times,serif\" font-size=\"14.00\" fill=\"#000000\">value = [0, 0, 0, 41, 1, 0]</text>\n<text text-anchor=\"middle\" x=\"1210\" y=\"-111.8\" font-family=\"Times,serif\" font-size=\"14.00\" fill=\"#000000\">class = 4</text>\n</g>\n<!-- 23&#45;&gt;24 -->\n<g id=\"edge24\" class=\"edge\">\n<title>23&#45;&gt;24</title>\n<path fill=\"none\" stroke=\"#000000\" d=\"M1250.9657,-222.8796C1246.436,-214.3236 1241.6185,-205.2238 1236.9382,-196.3833\"/>\n<polygon fill=\"#000000\" stroke=\"#000000\" points=\"1239.9006,-194.4983 1232.1284,-187.2981 1233.7141,-197.7736 1239.9006,-194.4983\"/>\n</g>\n<!-- 27 -->\n<g id=\"node28\" class=\"node\">\n<title>27</title>\n<polygon fill=\"#b286ef\" stroke=\"#000000\" points=\"1540.5,-187 1337.5,-187 1337.5,-104 1540.5,-104 1540.5,-187\"/>\n<text text-anchor=\"middle\" x=\"1439\" y=\"-171.8\" font-family=\"Times,serif\" font-size=\"14.00\" fill=\"#000000\">fBodyGyro&#45;mean()&#45;Z &lt;= &#45;0.979</text>\n<text text-anchor=\"middle\" x=\"1439\" y=\"-156.8\" font-family=\"Times,serif\" font-size=\"14.00\" fill=\"#000000\">gini = 0.403</text>\n<text text-anchor=\"middle\" x=\"1439\" y=\"-141.8\" font-family=\"Times,serif\" font-size=\"14.00\" fill=\"#000000\">samples = 25</text>\n<text text-anchor=\"middle\" x=\"1439\" y=\"-126.8\" font-family=\"Times,serif\" font-size=\"14.00\" fill=\"#000000\">value = [0, 0, 0, 7, 18, 0]</text>\n<text text-anchor=\"middle\" x=\"1439\" y=\"-111.8\" font-family=\"Times,serif\" font-size=\"14.00\" fill=\"#000000\">class = 5</text>\n</g>\n<!-- 23&#45;&gt;27 -->\n<g id=\"edge27\" class=\"edge\">\n<title>23&#45;&gt;27</title>\n<path fill=\"none\" stroke=\"#000000\" d=\"M1331.0587,-222.8796C1344.4534,-213.2774 1358.8035,-202.9903 1372.5255,-193.1534\"/>\n<polygon fill=\"#000000\" stroke=\"#000000\" points=\"1374.8858,-195.7678 1380.974,-187.0969 1370.8074,-190.0786 1374.8858,-195.7678\"/>\n</g>\n<!-- 25 -->\n<g id=\"node26\" class=\"node\">\n<title>25</title>\n<polygon fill=\"#399de5\" stroke=\"#000000\" points=\"1144,-68 982,-68 982,0 1144,0 1144,-68\"/>\n<text text-anchor=\"middle\" x=\"1063\" y=\"-52.8\" font-family=\"Times,serif\" font-size=\"14.00\" fill=\"#000000\">gini = 0.0</text>\n<text text-anchor=\"middle\" x=\"1063\" y=\"-37.8\" font-family=\"Times,serif\" font-size=\"14.00\" fill=\"#000000\">samples = 41</text>\n<text text-anchor=\"middle\" x=\"1063\" y=\"-22.8\" font-family=\"Times,serif\" font-size=\"14.00\" fill=\"#000000\">value = [0, 0, 0, 41, 0, 0]</text>\n<text text-anchor=\"middle\" x=\"1063\" y=\"-7.8\" font-family=\"Times,serif\" font-size=\"14.00\" fill=\"#000000\">class = 4</text>\n</g>\n<!-- 24&#45;&gt;25 -->\n<g id=\"edge25\" class=\"edge\">\n<title>24&#45;&gt;25</title>\n<path fill=\"none\" stroke=\"#000000\" d=\"M1155.2626,-103.9815C1142.5399,-94.3313 1129.0134,-84.0714 1116.3515,-74.4673\"/>\n<polygon fill=\"#000000\" stroke=\"#000000\" points=\"1118.2553,-71.5184 1108.1727,-68.2637 1114.025,-77.0956 1118.2553,-71.5184\"/>\n</g>\n<!-- 26 -->\n<g id=\"node27\" class=\"node\">\n<title>26</title>\n<polygon fill=\"#8139e5\" stroke=\"#000000\" points=\"1317.5,-68 1162.5,-68 1162.5,0 1317.5,0 1317.5,-68\"/>\n<text text-anchor=\"middle\" x=\"1240\" y=\"-52.8\" font-family=\"Times,serif\" font-size=\"14.00\" fill=\"#000000\">gini = 0.0</text>\n<text text-anchor=\"middle\" x=\"1240\" y=\"-37.8\" font-family=\"Times,serif\" font-size=\"14.00\" fill=\"#000000\">samples = 1</text>\n<text text-anchor=\"middle\" x=\"1240\" y=\"-22.8\" font-family=\"Times,serif\" font-size=\"14.00\" fill=\"#000000\">value = [0, 0, 0, 0, 1, 0]</text>\n<text text-anchor=\"middle\" x=\"1240\" y=\"-7.8\" font-family=\"Times,serif\" font-size=\"14.00\" fill=\"#000000\">class = 5</text>\n</g>\n<!-- 24&#45;&gt;26 -->\n<g id=\"edge26\" class=\"edge\">\n<title>24&#45;&gt;26</title>\n<path fill=\"none\" stroke=\"#000000\" d=\"M1221.1709,-103.9815C1223.4459,-95.5261 1225.8468,-86.6026 1228.1447,-78.0623\"/>\n<polygon fill=\"#000000\" stroke=\"#000000\" points=\"1231.5626,-78.8296 1230.7811,-68.2637 1224.803,-77.0109 1231.5626,-78.8296\"/>\n</g>\n<!-- 28 -->\n<g id=\"node29\" class=\"node\">\n<title>28</title>\n<polygon fill=\"#8139e5\" stroke=\"#000000\" points=\"1498,-68 1336,-68 1336,0 1498,0 1498,-68\"/>\n<text text-anchor=\"middle\" x=\"1417\" y=\"-52.8\" font-family=\"Times,serif\" font-size=\"14.00\" fill=\"#000000\">gini = 0.0</text>\n<text text-anchor=\"middle\" x=\"1417\" y=\"-37.8\" font-family=\"Times,serif\" font-size=\"14.00\" fill=\"#000000\">samples = 18</text>\n<text text-anchor=\"middle\" x=\"1417\" y=\"-22.8\" font-family=\"Times,serif\" font-size=\"14.00\" fill=\"#000000\">value = [0, 0, 0, 0, 18, 0]</text>\n<text text-anchor=\"middle\" x=\"1417\" y=\"-7.8\" font-family=\"Times,serif\" font-size=\"14.00\" fill=\"#000000\">class = 5</text>\n</g>\n<!-- 27&#45;&gt;28 -->\n<g id=\"edge28\" class=\"edge\">\n<title>27&#45;&gt;28</title>\n<path fill=\"none\" stroke=\"#000000\" d=\"M1430.808,-103.9815C1429.1578,-95.618 1427.4173,-86.7965 1425.7489,-78.3409\"/>\n<polygon fill=\"#000000\" stroke=\"#000000\" points=\"1429.1302,-77.397 1423.7605,-68.2637 1422.2626,-78.7521 1429.1302,-77.397\"/>\n</g>\n<!-- 29 -->\n<g id=\"node30\" class=\"node\">\n<title>29</title>\n<polygon fill=\"#399de5\" stroke=\"#000000\" points=\"1671.5,-68 1516.5,-68 1516.5,0 1671.5,0 1671.5,-68\"/>\n<text text-anchor=\"middle\" x=\"1594\" y=\"-52.8\" font-family=\"Times,serif\" font-size=\"14.00\" fill=\"#000000\">gini = 0.0</text>\n<text text-anchor=\"middle\" x=\"1594\" y=\"-37.8\" font-family=\"Times,serif\" font-size=\"14.00\" fill=\"#000000\">samples = 7</text>\n<text text-anchor=\"middle\" x=\"1594\" y=\"-22.8\" font-family=\"Times,serif\" font-size=\"14.00\" fill=\"#000000\">value = [0, 0, 0, 7, 0, 0]</text>\n<text text-anchor=\"middle\" x=\"1594\" y=\"-7.8\" font-family=\"Times,serif\" font-size=\"14.00\" fill=\"#000000\">class = 4</text>\n</g>\n<!-- 27&#45;&gt;29 -->\n<g id=\"edge29\" class=\"edge\">\n<title>27&#45;&gt;29</title>\n<path fill=\"none\" stroke=\"#000000\" d=\"M1496.7163,-103.9815C1510.2591,-94.2394 1524.6657,-83.8759 1538.1263,-74.193\"/>\n<polygon fill=\"#000000\" stroke=\"#000000\" points=\"1540.2949,-76.9446 1546.3689,-68.2637 1536.2072,-71.2621 1540.2949,-76.9446\"/>\n</g>\n<!-- 31 -->\n<g id=\"node32\" class=\"node\">\n<title>31</title>\n<polygon fill=\"#efe6fc\" stroke=\"#000000\" points=\"1928.5,-306 1739.5,-306 1739.5,-223 1928.5,-223 1928.5,-306\"/>\n<text text-anchor=\"middle\" x=\"1834\" y=\"-290.8\" font-family=\"Times,serif\" font-size=\"14.00\" fill=\"#000000\">fBodyGyro&#45;iqr()&#45;Y &lt;= &#45;0.987</text>\n<text text-anchor=\"middle\" x=\"1834\" y=\"-275.8\" font-family=\"Times,serif\" font-size=\"14.00\" fill=\"#000000\">gini = 0.498</text>\n<text text-anchor=\"middle\" x=\"1834\" y=\"-260.8\" font-family=\"Times,serif\" font-size=\"14.00\" fill=\"#000000\">samples = 163</text>\n<text text-anchor=\"middle\" x=\"1834\" y=\"-245.8\" font-family=\"Times,serif\" font-size=\"14.00\" fill=\"#000000\">value = [0, 0, 0, 76, 87, 0]</text>\n<text text-anchor=\"middle\" x=\"1834\" y=\"-230.8\" font-family=\"Times,serif\" font-size=\"14.00\" fill=\"#000000\">class = 5</text>\n</g>\n<!-- 30&#45;&gt;31 -->\n<g id=\"edge31\" class=\"edge\">\n<title>30&#45;&gt;31</title>\n<path fill=\"none\" stroke=\"#000000\" d=\"M1834,-341.8796C1834,-333.6838 1834,-324.9891 1834,-316.5013\"/>\n<polygon fill=\"#000000\" stroke=\"#000000\" points=\"1837.5001,-316.298 1834,-306.2981 1830.5001,-316.2981 1837.5001,-316.298\"/>\n</g>\n<!-- 38 -->\n<g id=\"node39\" class=\"node\">\n<title>38</title>\n<polygon fill=\"#399de5\" stroke=\"#000000\" points=\"2117,-298.5 1947,-298.5 1947,-230.5 2117,-230.5 2117,-298.5\"/>\n<text text-anchor=\"middle\" x=\"2032\" y=\"-283.3\" font-family=\"Times,serif\" font-size=\"14.00\" fill=\"#000000\">gini = 0.0</text>\n<text text-anchor=\"middle\" x=\"2032\" y=\"-268.3\" font-family=\"Times,serif\" font-size=\"14.00\" fill=\"#000000\">samples = 105</text>\n<text text-anchor=\"middle\" x=\"2032\" y=\"-253.3\" font-family=\"Times,serif\" font-size=\"14.00\" fill=\"#000000\">value = [0, 0, 0, 105, 0, 0]</text>\n<text text-anchor=\"middle\" x=\"2032\" y=\"-238.3\" font-family=\"Times,serif\" font-size=\"14.00\" fill=\"#000000\">class = 4</text>\n</g>\n<!-- 30&#45;&gt;38 -->\n<g id=\"edge38\" class=\"edge\">\n<title>30&#45;&gt;38</title>\n<path fill=\"none\" stroke=\"#000000\" d=\"M1903.2508,-341.8796C1923.748,-329.5606 1946.1208,-316.1143 1966.3811,-303.9376\"/>\n<polygon fill=\"#000000\" stroke=\"#000000\" points=\"1968.4557,-306.7743 1975.2239,-298.623 1964.8498,-300.7745 1968.4557,-306.7743\"/>\n</g>\n<!-- 32 -->\n<g id=\"node33\" class=\"node\">\n<title>32</title>\n<polygon fill=\"#853fe6\" stroke=\"#000000\" points=\"1944.5,-187 1723.5,-187 1723.5,-104 1944.5,-104 1944.5,-187\"/>\n<text text-anchor=\"middle\" x=\"1834\" y=\"-171.8\" font-family=\"Times,serif\" font-size=\"14.00\" fill=\"#000000\">tBodyGyroJerk&#45;mad()&#45;X &lt;= &#45;0.993</text>\n<text text-anchor=\"middle\" x=\"1834\" y=\"-156.8\" font-family=\"Times,serif\" font-size=\"14.00\" fill=\"#000000\">gini = 0.057</text>\n<text text-anchor=\"middle\" x=\"1834\" y=\"-141.8\" font-family=\"Times,serif\" font-size=\"14.00\" fill=\"#000000\">samples = 34</text>\n<text text-anchor=\"middle\" x=\"1834\" y=\"-126.8\" font-family=\"Times,serif\" font-size=\"14.00\" fill=\"#000000\">value = [0, 0, 0, 1, 33, 0]</text>\n<text text-anchor=\"middle\" x=\"1834\" y=\"-111.8\" font-family=\"Times,serif\" font-size=\"14.00\" fill=\"#000000\">class = 5</text>\n</g>\n<!-- 31&#45;&gt;32 -->\n<g id=\"edge32\" class=\"edge\">\n<title>31&#45;&gt;32</title>\n<path fill=\"none\" stroke=\"#000000\" d=\"M1834,-222.8796C1834,-214.6838 1834,-205.9891 1834,-197.5013\"/>\n<polygon fill=\"#000000\" stroke=\"#000000\" points=\"1837.5001,-197.298 1834,-187.2981 1830.5001,-197.2981 1837.5001,-197.298\"/>\n</g>\n<!-- 35 -->\n<g id=\"node36\" class=\"node\">\n<title>35</title>\n<polygon fill=\"#c8e4f8\" stroke=\"#000000\" points=\"2218.5,-187 2029.5,-187 2029.5,-104 2218.5,-104 2218.5,-187\"/>\n<text text-anchor=\"middle\" x=\"2124\" y=\"-171.8\" font-family=\"Times,serif\" font-size=\"14.00\" fill=\"#000000\">tBodyGyro&#45;iqr()&#45;X &lt;= &#45;0.977</text>\n<text text-anchor=\"middle\" x=\"2124\" y=\"-156.8\" font-family=\"Times,serif\" font-size=\"14.00\" fill=\"#000000\">gini = 0.487</text>\n<text text-anchor=\"middle\" x=\"2124\" y=\"-141.8\" font-family=\"Times,serif\" font-size=\"14.00\" fill=\"#000000\">samples = 129</text>\n<text text-anchor=\"middle\" x=\"2124\" y=\"-126.8\" font-family=\"Times,serif\" font-size=\"14.00\" fill=\"#000000\">value = [0, 0, 0, 75, 54, 0]</text>\n<text text-anchor=\"middle\" x=\"2124\" y=\"-111.8\" font-family=\"Times,serif\" font-size=\"14.00\" fill=\"#000000\">class = 4</text>\n</g>\n<!-- 31&#45;&gt;35 -->\n<g id=\"edge35\" class=\"edge\">\n<title>31&#45;&gt;35</title>\n<path fill=\"none\" stroke=\"#000000\" d=\"M1928.5556,-225.6996C1957.6392,-213.7653 1989.816,-200.5617 2019.5249,-188.3708\"/>\n<polygon fill=\"#000000\" stroke=\"#000000\" points=\"2021.1542,-191.4855 2029.0769,-184.4512 2018.4968,-185.0095 2021.1542,-191.4855\"/>\n</g>\n<!-- 33 -->\n<g id=\"node34\" class=\"node\">\n<title>33</title>\n<polygon fill=\"#399de5\" stroke=\"#000000\" points=\"1844.5,-68 1689.5,-68 1689.5,0 1844.5,0 1844.5,-68\"/>\n<text text-anchor=\"middle\" x=\"1767\" y=\"-52.8\" font-family=\"Times,serif\" font-size=\"14.00\" fill=\"#000000\">gini = 0.0</text>\n<text text-anchor=\"middle\" x=\"1767\" y=\"-37.8\" font-family=\"Times,serif\" font-size=\"14.00\" fill=\"#000000\">samples = 1</text>\n<text text-anchor=\"middle\" x=\"1767\" y=\"-22.8\" font-family=\"Times,serif\" font-size=\"14.00\" fill=\"#000000\">value = [0, 0, 0, 1, 0, 0]</text>\n<text text-anchor=\"middle\" x=\"1767\" y=\"-7.8\" font-family=\"Times,serif\" font-size=\"14.00\" fill=\"#000000\">class = 4</text>\n</g>\n<!-- 32&#45;&gt;33 -->\n<g id=\"edge33\" class=\"edge\">\n<title>32&#45;&gt;33</title>\n<path fill=\"none\" stroke=\"#000000\" d=\"M1809.0517,-103.9815C1803.7499,-95.1585 1798.1419,-85.8258 1792.8089,-76.9506\"/>\n<polygon fill=\"#000000\" stroke=\"#000000\" points=\"1795.7396,-75.0325 1787.5889,-68.2637 1789.7395,-78.638 1795.7396,-75.0325\"/>\n</g>\n<!-- 34 -->\n<g id=\"node35\" class=\"node\">\n<title>34</title>\n<polygon fill=\"#8139e5\" stroke=\"#000000\" points=\"2025,-68 1863,-68 1863,0 2025,0 2025,-68\"/>\n<text text-anchor=\"middle\" x=\"1944\" y=\"-52.8\" font-family=\"Times,serif\" font-size=\"14.00\" fill=\"#000000\">gini = 0.0</text>\n<text text-anchor=\"middle\" x=\"1944\" y=\"-37.8\" font-family=\"Times,serif\" font-size=\"14.00\" fill=\"#000000\">samples = 33</text>\n<text text-anchor=\"middle\" x=\"1944\" y=\"-22.8\" font-family=\"Times,serif\" font-size=\"14.00\" fill=\"#000000\">value = [0, 0, 0, 0, 33, 0]</text>\n<text text-anchor=\"middle\" x=\"1944\" y=\"-7.8\" font-family=\"Times,serif\" font-size=\"14.00\" fill=\"#000000\">class = 5</text>\n</g>\n<!-- 32&#45;&gt;34 -->\n<g id=\"edge34\" class=\"edge\">\n<title>32&#45;&gt;34</title>\n<path fill=\"none\" stroke=\"#000000\" d=\"M1874.9599,-103.9815C1884.1176,-94.6989 1893.8319,-84.8522 1902.9915,-75.5677\"/>\n<polygon fill=\"#000000\" stroke=\"#000000\" points=\"1905.6658,-77.8406 1910.1973,-68.2637 1900.6826,-72.9244 1905.6658,-77.8406\"/>\n</g>\n<!-- 36 -->\n<g id=\"node37\" class=\"node\">\n<title>36</title>\n<polygon fill=\"#53aae8\" stroke=\"#000000\" points=\"2205,-68 2043,-68 2043,0 2205,0 2205,-68\"/>\n<text text-anchor=\"middle\" x=\"2124\" y=\"-52.8\" font-family=\"Times,serif\" font-size=\"14.00\" fill=\"#000000\">gini = 0.208</text>\n<text text-anchor=\"middle\" x=\"2124\" y=\"-37.8\" font-family=\"Times,serif\" font-size=\"14.00\" fill=\"#000000\">samples = 51</text>\n<text text-anchor=\"middle\" x=\"2124\" y=\"-22.8\" font-family=\"Times,serif\" font-size=\"14.00\" fill=\"#000000\">value = [0, 0, 0, 45, 6, 0]</text>\n<text text-anchor=\"middle\" x=\"2124\" y=\"-7.8\" font-family=\"Times,serif\" font-size=\"14.00\" fill=\"#000000\">class = 4</text>\n</g>\n<!-- 35&#45;&gt;36 -->\n<g id=\"edge36\" class=\"edge\">\n<title>35&#45;&gt;36</title>\n<path fill=\"none\" stroke=\"#000000\" d=\"M2124,-103.9815C2124,-95.618 2124,-86.7965 2124,-78.3409\"/>\n<polygon fill=\"#000000\" stroke=\"#000000\" points=\"2127.5001,-78.2636 2124,-68.2637 2120.5001,-78.2637 2127.5001,-78.2636\"/>\n</g>\n<!-- 37 -->\n<g id=\"node38\" class=\"node\">\n<title>37</title>\n<polygon fill=\"#d0b5f5\" stroke=\"#000000\" points=\"2393,-68 2223,-68 2223,0 2393,0 2393,-68\"/>\n<text text-anchor=\"middle\" x=\"2308\" y=\"-52.8\" font-family=\"Times,serif\" font-size=\"14.00\" fill=\"#000000\">gini = 0.473</text>\n<text text-anchor=\"middle\" x=\"2308\" y=\"-37.8\" font-family=\"Times,serif\" font-size=\"14.00\" fill=\"#000000\">samples = 78</text>\n<text text-anchor=\"middle\" x=\"2308\" y=\"-22.8\" font-family=\"Times,serif\" font-size=\"14.00\" fill=\"#000000\">value = [0, 0, 0, 30, 48, 0]</text>\n<text text-anchor=\"middle\" x=\"2308\" y=\"-7.8\" font-family=\"Times,serif\" font-size=\"14.00\" fill=\"#000000\">class = 5</text>\n</g>\n<!-- 35&#45;&gt;37 -->\n<g id=\"edge37\" class=\"edge\">\n<title>35&#45;&gt;37</title>\n<path fill=\"none\" stroke=\"#000000\" d=\"M2192.5148,-103.9815C2208.981,-94.0034 2226.5229,-83.3733 2242.832,-73.4904\"/>\n<polygon fill=\"#000000\" stroke=\"#000000\" points=\"2245.0127,-76.2615 2251.7511,-68.0856 2241.3849,-70.2749 2245.0127,-76.2615\"/>\n</g>\n<!-- 40 -->\n<g id=\"node41\" class=\"node\">\n<title>40</title>\n<polygon fill=\"#8a47e7\" stroke=\"#000000\" points=\"3152,-544 2954,-544 2954,-461 3152,-461 3152,-544\"/>\n<text text-anchor=\"middle\" x=\"3053\" y=\"-528.8\" font-family=\"Times,serif\" font-size=\"14.00\" fill=\"#000000\">tBodyGyro&#45;max()&#45;X &lt;= &#45;0.893</text>\n<text text-anchor=\"middle\" x=\"3053\" y=\"-513.8\" font-family=\"Times,serif\" font-size=\"14.00\" fill=\"#000000\">gini = 0.121</text>\n<text text-anchor=\"middle\" x=\"3053\" y=\"-498.8\" font-family=\"Times,serif\" font-size=\"14.00\" fill=\"#000000\">samples = 1240</text>\n<text text-anchor=\"middle\" x=\"3053\" y=\"-483.8\" font-family=\"Times,serif\" font-size=\"14.00\" fill=\"#000000\">value = [0, 0, 0, 80, 1160, 0]</text>\n<text text-anchor=\"middle\" x=\"3053\" y=\"-468.8\" font-family=\"Times,serif\" font-size=\"14.00\" fill=\"#000000\">class = 5</text>\n</g>\n<!-- 39&#45;&gt;40 -->\n<g id=\"edge40\" class=\"edge\">\n<title>39&#45;&gt;40</title>\n<path fill=\"none\" stroke=\"#000000\" d=\"M3144.0348,-579.8796C3133.0153,-570.513 3121.2291,-560.4948 3109.9158,-550.8784\"/>\n<polygon fill=\"#000000\" stroke=\"#000000\" points=\"3112.0604,-548.1078 3102.1742,-544.2981 3107.5268,-553.4414 3112.0604,-548.1078\"/>\n</g>\n<!-- 53 -->\n<g id=\"node54\" class=\"node\">\n<title>53</title>\n<polygon fill=\"#edf6fd\" stroke=\"#000000\" points=\"3433.5,-544 3234.5,-544 3234.5,-461 3433.5,-461 3433.5,-544\"/>\n<text text-anchor=\"middle\" x=\"3334\" y=\"-528.8\" font-family=\"Times,serif\" font-size=\"14.00\" fill=\"#000000\">tGravityAcc&#45;min()&#45;Y &lt;= &#45;0.139</text>\n<text text-anchor=\"middle\" x=\"3334\" y=\"-513.8\" font-family=\"Times,serif\" font-size=\"14.00\" fill=\"#000000\">gini = 0.499</text>\n<text text-anchor=\"middle\" x=\"3334\" y=\"-498.8\" font-family=\"Times,serif\" font-size=\"14.00\" fill=\"#000000\">samples = 63</text>\n<text text-anchor=\"middle\" x=\"3334\" y=\"-483.8\" font-family=\"Times,serif\" font-size=\"14.00\" fill=\"#000000\">value = [0, 0, 0, 33, 30, 0]</text>\n<text text-anchor=\"middle\" x=\"3334\" y=\"-468.8\" font-family=\"Times,serif\" font-size=\"14.00\" fill=\"#000000\">class = 4</text>\n</g>\n<!-- 39&#45;&gt;53 -->\n<g id=\"edge53\" class=\"edge\">\n<title>39&#45;&gt;53</title>\n<path fill=\"none\" stroke=\"#000000\" d=\"M3242.315,-579.8796C3253.4132,-570.513 3265.2835,-560.4948 3276.6777,-550.8784\"/>\n<polygon fill=\"#000000\" stroke=\"#000000\" points=\"3279.0899,-553.4225 3284.4746,-544.2981 3274.575,-548.0731 3279.0899,-553.4225\"/>\n</g>\n<!-- 41 -->\n<g id=\"node42\" class=\"node\">\n<title>41</title>\n<polygon fill=\"#399de5\" stroke=\"#000000\" points=\"2913.5,-417.5 2758.5,-417.5 2758.5,-349.5 2913.5,-349.5 2913.5,-417.5\"/>\n<text text-anchor=\"middle\" x=\"2836\" y=\"-402.3\" font-family=\"Times,serif\" font-size=\"14.00\" fill=\"#000000\">gini = 0.0</text>\n<text text-anchor=\"middle\" x=\"2836\" y=\"-387.3\" font-family=\"Times,serif\" font-size=\"14.00\" fill=\"#000000\">samples = 8</text>\n<text text-anchor=\"middle\" x=\"2836\" y=\"-372.3\" font-family=\"Times,serif\" font-size=\"14.00\" fill=\"#000000\">value = [0, 0, 0, 8, 0, 0]</text>\n<text text-anchor=\"middle\" x=\"2836\" y=\"-357.3\" font-family=\"Times,serif\" font-size=\"14.00\" fill=\"#000000\">class = 4</text>\n</g>\n<!-- 40&#45;&gt;41 -->\n<g id=\"edge41\" class=\"edge\">\n<title>40&#45;&gt;41</title>\n<path fill=\"none\" stroke=\"#000000\" d=\"M2977.1039,-460.8796C2954.3376,-448.3948 2929.4601,-434.7523 2907.0208,-422.4469\"/>\n<polygon fill=\"#000000\" stroke=\"#000000\" points=\"2908.6754,-419.3626 2898.2244,-417.623 2905.3096,-425.5003 2908.6754,-419.3626\"/>\n</g>\n<!-- 42 -->\n<g id=\"node43\" class=\"node\">\n<title>42</title>\n<polygon fill=\"#8945e7\" stroke=\"#000000\" points=\"3174.5,-425 2931.5,-425 2931.5,-342 3174.5,-342 3174.5,-425\"/>\n<text text-anchor=\"middle\" x=\"3053\" y=\"-409.8\" font-family=\"Times,serif\" font-size=\"14.00\" fill=\"#000000\">tBodyGyro&#45;correlation()&#45;X,Y &lt;= 0.656</text>\n<text text-anchor=\"middle\" x=\"3053\" y=\"-394.8\" font-family=\"Times,serif\" font-size=\"14.00\" fill=\"#000000\">gini = 0.11</text>\n<text text-anchor=\"middle\" x=\"3053\" y=\"-379.8\" font-family=\"Times,serif\" font-size=\"14.00\" fill=\"#000000\">samples = 1232</text>\n<text text-anchor=\"middle\" x=\"3053\" y=\"-364.8\" font-family=\"Times,serif\" font-size=\"14.00\" fill=\"#000000\">value = [0, 0, 0, 72, 1160, 0]</text>\n<text text-anchor=\"middle\" x=\"3053\" y=\"-349.8\" font-family=\"Times,serif\" font-size=\"14.00\" fill=\"#000000\">class = 5</text>\n</g>\n<!-- 40&#45;&gt;42 -->\n<g id=\"edge42\" class=\"edge\">\n<title>40&#45;&gt;42</title>\n<path fill=\"none\" stroke=\"#000000\" d=\"M3053,-460.8796C3053,-452.6838 3053,-443.9891 3053,-435.5013\"/>\n<polygon fill=\"#000000\" stroke=\"#000000\" points=\"3056.5001,-435.298 3053,-425.2981 3049.5001,-435.2981 3056.5001,-435.298\"/>\n</g>\n<!-- 43 -->\n<g id=\"node44\" class=\"node\">\n<title>43</title>\n<polygon fill=\"#8843e6\" stroke=\"#000000\" points=\"2897,-306 2701,-306 2701,-223 2897,-223 2897,-306\"/>\n<text text-anchor=\"middle\" x=\"2799\" y=\"-290.8\" font-family=\"Times,serif\" font-size=\"14.00\" fill=\"#000000\">tBodyAccJerk&#45;iqr()&#45;Z &lt;= &#45;0.98</text>\n<text text-anchor=\"middle\" x=\"2799\" y=\"-275.8\" font-family=\"Times,serif\" font-size=\"14.00\" fill=\"#000000\">gini = 0.094</text>\n<text text-anchor=\"middle\" x=\"2799\" y=\"-260.8\" font-family=\"Times,serif\" font-size=\"14.00\" fill=\"#000000\">samples = 1214</text>\n<text text-anchor=\"middle\" x=\"2799\" y=\"-245.8\" font-family=\"Times,serif\" font-size=\"14.00\" fill=\"#000000\">value = [0, 0, 0, 60, 1154, 0]</text>\n<text text-anchor=\"middle\" x=\"2799\" y=\"-230.8\" font-family=\"Times,serif\" font-size=\"14.00\" fill=\"#000000\">class = 5</text>\n</g>\n<!-- 42&#45;&gt;43 -->\n<g id=\"edge43\" class=\"edge\">\n<title>42&#45;&gt;43</title>\n<path fill=\"none\" stroke=\"#000000\" d=\"M2964.1631,-341.8796C2942.4109,-331.6886 2919.012,-320.7261 2896.8629,-310.3492\"/>\n<polygon fill=\"#000000\" stroke=\"#000000\" points=\"2898.3271,-307.1701 2887.7867,-306.0969 2895.3573,-313.5089 2898.3271,-307.1701\"/>\n</g>\n<!-- 50 -->\n<g id=\"node51\" class=\"node\">\n<title>50</title>\n<polygon fill=\"#9ccef2\" stroke=\"#000000\" points=\"3190.5,-306 2915.5,-306 2915.5,-223 3190.5,-223 3190.5,-306\"/>\n<text text-anchor=\"middle\" x=\"3053\" y=\"-290.8\" font-family=\"Times,serif\" font-size=\"14.00\" fill=\"#000000\">fBodyBodyGyroMag&#45;meanFreq() &lt;= &#45;0.277</text>\n<text text-anchor=\"middle\" x=\"3053\" y=\"-275.8\" font-family=\"Times,serif\" font-size=\"14.00\" fill=\"#000000\">gini = 0.444</text>\n<text text-anchor=\"middle\" x=\"3053\" y=\"-260.8\" font-family=\"Times,serif\" font-size=\"14.00\" fill=\"#000000\">samples = 18</text>\n<text text-anchor=\"middle\" x=\"3053\" y=\"-245.8\" font-family=\"Times,serif\" font-size=\"14.00\" fill=\"#000000\">value = [0, 0, 0, 12, 6, 0]</text>\n<text text-anchor=\"middle\" x=\"3053\" y=\"-230.8\" font-family=\"Times,serif\" font-size=\"14.00\" fill=\"#000000\">class = 4</text>\n</g>\n<!-- 42&#45;&gt;50 -->\n<g id=\"edge50\" class=\"edge\">\n<title>42&#45;&gt;50</title>\n<path fill=\"none\" stroke=\"#000000\" d=\"M3053,-341.8796C3053,-333.6838 3053,-324.9891 3053,-316.5013\"/>\n<polygon fill=\"#000000\" stroke=\"#000000\" points=\"3056.5001,-316.298 3053,-306.2981 3049.5001,-316.2981 3056.5001,-316.298\"/>\n</g>\n<!-- 44 -->\n<g id=\"node45\" class=\"node\">\n<title>44</title>\n<polygon fill=\"#823be5\" stroke=\"#000000\" points=\"2740,-187 2514,-187 2514,-104 2740,-104 2740,-187\"/>\n<text text-anchor=\"middle\" x=\"2627\" y=\"-171.8\" font-family=\"Times,serif\" font-size=\"14.00\" fill=\"#000000\">tBodyGyro&#45;arCoeff()&#45;Y,1 &lt;= &#45;0.545</text>\n<text text-anchor=\"middle\" x=\"2627\" y=\"-156.8\" font-family=\"Times,serif\" font-size=\"14.00\" fill=\"#000000\">gini = 0.022</text>\n<text text-anchor=\"middle\" x=\"2627\" y=\"-141.8\" font-family=\"Times,serif\" font-size=\"14.00\" fill=\"#000000\">samples = 802</text>\n<text text-anchor=\"middle\" x=\"2627\" y=\"-126.8\" font-family=\"Times,serif\" font-size=\"14.00\" fill=\"#000000\">value = [0, 0, 0, 9, 793, 0]</text>\n<text text-anchor=\"middle\" x=\"2627\" y=\"-111.8\" font-family=\"Times,serif\" font-size=\"14.00\" fill=\"#000000\">class = 5</text>\n</g>\n<!-- 43&#45;&gt;44 -->\n<g id=\"edge44\" class=\"edge\">\n<title>43&#45;&gt;44</title>\n<path fill=\"none\" stroke=\"#000000\" d=\"M2738.8427,-222.8796C2724.833,-213.1868 2709.8146,-202.7961 2695.475,-192.8752\"/>\n<polygon fill=\"#000000\" stroke=\"#000000\" points=\"2697.3383,-189.9083 2687.1233,-187.0969 2693.3556,-195.6649 2697.3383,-189.9083\"/>\n</g>\n<!-- 47 -->\n<g id=\"node48\" class=\"node\">\n<title>47</title>\n<polygon fill=\"#9355e9\" stroke=\"#000000\" points=\"2957.5,-187 2758.5,-187 2758.5,-104 2957.5,-104 2957.5,-187\"/>\n<text text-anchor=\"middle\" x=\"2858\" y=\"-171.8\" font-family=\"Times,serif\" font-size=\"14.00\" fill=\"#000000\">fBodyGyro&#45;max()&#45;X &lt;= &#45;0.982</text>\n<text text-anchor=\"middle\" x=\"2858\" y=\"-156.8\" font-family=\"Times,serif\" font-size=\"14.00\" fill=\"#000000\">gini = 0.217</text>\n<text text-anchor=\"middle\" x=\"2858\" y=\"-141.8\" font-family=\"Times,serif\" font-size=\"14.00\" fill=\"#000000\">samples = 412</text>\n<text text-anchor=\"middle\" x=\"2858\" y=\"-126.8\" font-family=\"Times,serif\" font-size=\"14.00\" fill=\"#000000\">value = [0, 0, 0, 51, 361, 0]</text>\n<text text-anchor=\"middle\" x=\"2858\" y=\"-111.8\" font-family=\"Times,serif\" font-size=\"14.00\" fill=\"#000000\">class = 5</text>\n</g>\n<!-- 43&#45;&gt;47 -->\n<g id=\"edge47\" class=\"edge\">\n<title>43&#45;&gt;47</title>\n<path fill=\"none\" stroke=\"#000000\" d=\"M2819.6353,-222.8796C2823.8774,-214.3236 2828.389,-205.2238 2832.7721,-196.3833\"/>\n<polygon fill=\"#000000\" stroke=\"#000000\" points=\"2835.9703,-197.8121 2837.2766,-187.2981 2829.6988,-194.7026 2835.9703,-197.8121\"/>\n</g>\n<!-- 45 -->\n<g id=\"node46\" class=\"node\">\n<title>45</title>\n<polygon fill=\"#d5bdf6\" stroke=\"#000000\" points=\"2566.5,-68 2411.5,-68 2411.5,0 2566.5,0 2566.5,-68\"/>\n<text text-anchor=\"middle\" x=\"2489\" y=\"-52.8\" font-family=\"Times,serif\" font-size=\"14.00\" fill=\"#000000\">gini = 0.48</text>\n<text text-anchor=\"middle\" x=\"2489\" y=\"-37.8\" font-family=\"Times,serif\" font-size=\"14.00\" fill=\"#000000\">samples = 10</text>\n<text text-anchor=\"middle\" x=\"2489\" y=\"-22.8\" font-family=\"Times,serif\" font-size=\"14.00\" fill=\"#000000\">value = [0, 0, 0, 4, 6, 0]</text>\n<text text-anchor=\"middle\" x=\"2489\" y=\"-7.8\" font-family=\"Times,serif\" font-size=\"14.00\" fill=\"#000000\">class = 5</text>\n</g>\n<!-- 44&#45;&gt;45 -->\n<g id=\"edge45\" class=\"edge\">\n<title>44&#45;&gt;45</title>\n<path fill=\"none\" stroke=\"#000000\" d=\"M2575.6139,-103.9815C2563.7839,-94.4232 2551.2136,-84.2668 2539.4249,-74.7419\"/>\n<polygon fill=\"#000000\" stroke=\"#000000\" points=\"2541.3851,-71.826 2531.4071,-68.2637 2536.9858,-77.2708 2541.3851,-71.826\"/>\n</g>\n<!-- 46 -->\n<g id=\"node47\" class=\"node\">\n<title>46</title>\n<polygon fill=\"#823ae5\" stroke=\"#000000\" points=\"2755,-68 2585,-68 2585,0 2755,0 2755,-68\"/>\n<text text-anchor=\"middle\" x=\"2670\" y=\"-52.8\" font-family=\"Times,serif\" font-size=\"14.00\" fill=\"#000000\">gini = 0.013</text>\n<text text-anchor=\"middle\" x=\"2670\" y=\"-37.8\" font-family=\"Times,serif\" font-size=\"14.00\" fill=\"#000000\">samples = 792</text>\n<text text-anchor=\"middle\" x=\"2670\" y=\"-22.8\" font-family=\"Times,serif\" font-size=\"14.00\" fill=\"#000000\">value = [0, 0, 0, 5, 787, 0]</text>\n<text text-anchor=\"middle\" x=\"2670\" y=\"-7.8\" font-family=\"Times,serif\" font-size=\"14.00\" fill=\"#000000\">class = 5</text>\n</g>\n<!-- 44&#45;&gt;46 -->\n<g id=\"edge46\" class=\"edge\">\n<title>44&#45;&gt;46</title>\n<path fill=\"none\" stroke=\"#000000\" d=\"M2643.0116,-103.9815C2646.3079,-95.4342 2649.7886,-86.4086 2653.1147,-77.7839\"/>\n<polygon fill=\"#000000\" stroke=\"#000000\" points=\"2656.4535,-78.8533 2656.7862,-68.2637 2649.9224,-76.3345 2656.4535,-78.8533\"/>\n</g>\n<!-- 48 -->\n<g id=\"node49\" class=\"node\">\n<title>48</title>\n<polygon fill=\"#c1e0f7\" stroke=\"#000000\" points=\"2943,-68 2773,-68 2773,0 2943,0 2943,-68\"/>\n<text text-anchor=\"middle\" x=\"2858\" y=\"-52.8\" font-family=\"Times,serif\" font-size=\"14.00\" fill=\"#000000\">gini = 0.483</text>\n<text text-anchor=\"middle\" x=\"2858\" y=\"-37.8\" font-family=\"Times,serif\" font-size=\"14.00\" fill=\"#000000\">samples = 59</text>\n<text text-anchor=\"middle\" x=\"2858\" y=\"-22.8\" font-family=\"Times,serif\" font-size=\"14.00\" fill=\"#000000\">value = [0, 0, 0, 35, 24, 0]</text>\n<text text-anchor=\"middle\" x=\"2858\" y=\"-7.8\" font-family=\"Times,serif\" font-size=\"14.00\" fill=\"#000000\">class = 4</text>\n</g>\n<!-- 47&#45;&gt;48 -->\n<g id=\"edge48\" class=\"edge\">\n<title>47&#45;&gt;48</title>\n<path fill=\"none\" stroke=\"#000000\" d=\"M2858,-103.9815C2858,-95.618 2858,-86.7965 2858,-78.3409\"/>\n<polygon fill=\"#000000\" stroke=\"#000000\" points=\"2861.5001,-78.2636 2858,-68.2637 2854.5001,-78.2637 2861.5001,-78.2636\"/>\n</g>\n<!-- 49 -->\n<g id=\"node50\" class=\"node\">\n<title>49</title>\n<polygon fill=\"#8742e6\" stroke=\"#000000\" points=\"3138.5,-68 2961.5,-68 2961.5,0 3138.5,0 3138.5,-68\"/>\n<text text-anchor=\"middle\" x=\"3050\" y=\"-52.8\" font-family=\"Times,serif\" font-size=\"14.00\" fill=\"#000000\">gini = 0.087</text>\n<text text-anchor=\"middle\" x=\"3050\" y=\"-37.8\" font-family=\"Times,serif\" font-size=\"14.00\" fill=\"#000000\">samples = 353</text>\n<text text-anchor=\"middle\" x=\"3050\" y=\"-22.8\" font-family=\"Times,serif\" font-size=\"14.00\" fill=\"#000000\">value = [0, 0, 0, 16, 337, 0]</text>\n<text text-anchor=\"middle\" x=\"3050\" y=\"-7.8\" font-family=\"Times,serif\" font-size=\"14.00\" fill=\"#000000\">class = 5</text>\n</g>\n<!-- 47&#45;&gt;49 -->\n<g id=\"edge49\" class=\"edge\">\n<title>47&#45;&gt;49</title>\n<path fill=\"none\" stroke=\"#000000\" d=\"M2929.4937,-103.9815C2946.8349,-93.911 2965.3195,-83.1764 2982.471,-73.2161\"/>\n<polygon fill=\"#000000\" stroke=\"#000000\" points=\"2984.4156,-76.1342 2991.3055,-68.0856 2980.9002,-70.0809 2984.4156,-76.1342\"/>\n</g>\n<!-- 51 -->\n<g id=\"node52\" class=\"node\">\n<title>51</title>\n<polygon fill=\"#8139e5\" stroke=\"#000000\" points=\"3130.5,-179.5 2975.5,-179.5 2975.5,-111.5 3130.5,-111.5 3130.5,-179.5\"/>\n<text text-anchor=\"middle\" x=\"3053\" y=\"-164.3\" font-family=\"Times,serif\" font-size=\"14.00\" fill=\"#000000\">gini = 0.0</text>\n<text text-anchor=\"middle\" x=\"3053\" y=\"-149.3\" font-family=\"Times,serif\" font-size=\"14.00\" fill=\"#000000\">samples = 6</text>\n<text text-anchor=\"middle\" x=\"3053\" y=\"-134.3\" font-family=\"Times,serif\" font-size=\"14.00\" fill=\"#000000\">value = [0, 0, 0, 0, 6, 0]</text>\n<text text-anchor=\"middle\" x=\"3053\" y=\"-119.3\" font-family=\"Times,serif\" font-size=\"14.00\" fill=\"#000000\">class = 5</text>\n</g>\n<!-- 50&#45;&gt;51 -->\n<g id=\"edge51\" class=\"edge\">\n<title>50&#45;&gt;51</title>\n<path fill=\"none\" stroke=\"#000000\" d=\"M3053,-222.8796C3053,-212.2134 3053,-200.7021 3053,-189.9015\"/>\n<polygon fill=\"#000000\" stroke=\"#000000\" points=\"3056.5001,-189.8149 3053,-179.8149 3049.5001,-189.815 3056.5001,-189.8149\"/>\n</g>\n<!-- 52 -->\n<g id=\"node53\" class=\"node\">\n<title>52</title>\n<polygon fill=\"#399de5\" stroke=\"#000000\" points=\"3311,-179.5 3149,-179.5 3149,-111.5 3311,-111.5 3311,-179.5\"/>\n<text text-anchor=\"middle\" x=\"3230\" y=\"-164.3\" font-family=\"Times,serif\" font-size=\"14.00\" fill=\"#000000\">gini = 0.0</text>\n<text text-anchor=\"middle\" x=\"3230\" y=\"-149.3\" font-family=\"Times,serif\" font-size=\"14.00\" fill=\"#000000\">samples = 12</text>\n<text text-anchor=\"middle\" x=\"3230\" y=\"-134.3\" font-family=\"Times,serif\" font-size=\"14.00\" fill=\"#000000\">value = [0, 0, 0, 12, 0, 0]</text>\n<text text-anchor=\"middle\" x=\"3230\" y=\"-119.3\" font-family=\"Times,serif\" font-size=\"14.00\" fill=\"#000000\">class = 4</text>\n</g>\n<!-- 50&#45;&gt;52 -->\n<g id=\"edge52\" class=\"edge\">\n<title>50&#45;&gt;52</title>\n<path fill=\"none\" stroke=\"#000000\" d=\"M3114.906,-222.8796C3132.9828,-210.7263 3152.6914,-197.4759 3170.6087,-185.4297\"/>\n<polygon fill=\"#000000\" stroke=\"#000000\" points=\"3172.8996,-188.1071 3179.2456,-179.623 3168.9939,-182.2979 3172.8996,-188.1071\"/>\n</g>\n<!-- 54 -->\n<g id=\"node55\" class=\"node\">\n<title>54</title>\n<polygon fill=\"#9c64eb\" stroke=\"#000000\" points=\"3471,-425 3197,-425 3197,-342 3471,-342 3471,-425\"/>\n<text text-anchor=\"middle\" x=\"3334\" y=\"-409.8\" font-family=\"Times,serif\" font-size=\"14.00\" fill=\"#000000\">fBodyAccJerk&#45;bandsEnergy()&#45;1,8_2 &lt;= &#45;1.0</text>\n<text text-anchor=\"middle\" x=\"3334\" y=\"-394.8\" font-family=\"Times,serif\" font-size=\"14.00\" fill=\"#000000\">gini = 0.293</text>\n<text text-anchor=\"middle\" x=\"3334\" y=\"-379.8\" font-family=\"Times,serif\" font-size=\"14.00\" fill=\"#000000\">samples = 28</text>\n<text text-anchor=\"middle\" x=\"3334\" y=\"-364.8\" font-family=\"Times,serif\" font-size=\"14.00\" fill=\"#000000\">value = [0, 0, 0, 5, 23, 0]</text>\n<text text-anchor=\"middle\" x=\"3334\" y=\"-349.8\" font-family=\"Times,serif\" font-size=\"14.00\" fill=\"#000000\">class = 5</text>\n</g>\n<!-- 53&#45;&gt;54 -->\n<g id=\"edge54\" class=\"edge\">\n<title>53&#45;&gt;54</title>\n<path fill=\"none\" stroke=\"#000000\" d=\"M3334,-460.8796C3334,-452.6838 3334,-443.9891 3334,-435.5013\"/>\n<polygon fill=\"#000000\" stroke=\"#000000\" points=\"3337.5001,-435.298 3334,-425.2981 3330.5001,-435.2981 3337.5001,-435.298\"/>\n</g>\n<!-- 57 -->\n<g id=\"node58\" class=\"node\">\n<title>57</title>\n<polygon fill=\"#6ab6ec\" stroke=\"#000000\" points=\"3786.5,-425 3493.5,-425 3493.5,-342 3786.5,-342 3786.5,-425\"/>\n<text text-anchor=\"middle\" x=\"3640\" y=\"-409.8\" font-family=\"Times,serif\" font-size=\"14.00\" fill=\"#000000\">angle(tBodyGyroMean,gravityMean) &lt;= &#45;0.449</text>\n<text text-anchor=\"middle\" x=\"3640\" y=\"-394.8\" font-family=\"Times,serif\" font-size=\"14.00\" fill=\"#000000\">gini = 0.32</text>\n<text text-anchor=\"middle\" x=\"3640\" y=\"-379.8\" font-family=\"Times,serif\" font-size=\"14.00\" fill=\"#000000\">samples = 35</text>\n<text text-anchor=\"middle\" x=\"3640\" y=\"-364.8\" font-family=\"Times,serif\" font-size=\"14.00\" fill=\"#000000\">value = [0, 0, 0, 28, 7, 0]</text>\n<text text-anchor=\"middle\" x=\"3640\" y=\"-349.8\" font-family=\"Times,serif\" font-size=\"14.00\" fill=\"#000000\">class = 4</text>\n</g>\n<!-- 53&#45;&gt;57 -->\n<g id=\"edge57\" class=\"edge\">\n<title>53&#45;&gt;57</title>\n<path fill=\"none\" stroke=\"#000000\" d=\"M3433.7724,-463.6996C3462.4935,-452.5303 3494.0733,-440.2493 3523.7017,-428.7271\"/>\n<polygon fill=\"#000000\" stroke=\"#000000\" points=\"3525.1952,-431.9017 3533.2467,-425.0152 3522.658,-425.3777 3525.1952,-431.9017\"/>\n</g>\n<!-- 55 -->\n<g id=\"node56\" class=\"node\">\n<title>55</title>\n<polygon fill=\"#8139e5\" stroke=\"#000000\" points=\"3371,-298.5 3209,-298.5 3209,-230.5 3371,-230.5 3371,-298.5\"/>\n<text text-anchor=\"middle\" x=\"3290\" y=\"-283.3\" font-family=\"Times,serif\" font-size=\"14.00\" fill=\"#000000\">gini = 0.0</text>\n<text text-anchor=\"middle\" x=\"3290\" y=\"-268.3\" font-family=\"Times,serif\" font-size=\"14.00\" fill=\"#000000\">samples = 23</text>\n<text text-anchor=\"middle\" x=\"3290\" y=\"-253.3\" font-family=\"Times,serif\" font-size=\"14.00\" fill=\"#000000\">value = [0, 0, 0, 0, 23, 0]</text>\n<text text-anchor=\"middle\" x=\"3290\" y=\"-238.3\" font-family=\"Times,serif\" font-size=\"14.00\" fill=\"#000000\">class = 5</text>\n</g>\n<!-- 54&#45;&gt;55 -->\n<g id=\"edge55\" class=\"edge\">\n<title>54&#45;&gt;55</title>\n<path fill=\"none\" stroke=\"#000000\" d=\"M3318.6109,-341.8796C3314.5858,-330.9935 3310.2352,-319.227 3306.1707,-308.2344\"/>\n<polygon fill=\"#000000\" stroke=\"#000000\" points=\"3309.4387,-306.9805 3302.6879,-298.8149 3302.8732,-309.4082 3309.4387,-306.9805\"/>\n</g>\n<!-- 56 -->\n<g id=\"node57\" class=\"node\">\n<title>56</title>\n<polygon fill=\"#399de5\" stroke=\"#000000\" points=\"3544.5,-298.5 3389.5,-298.5 3389.5,-230.5 3544.5,-230.5 3544.5,-298.5\"/>\n<text text-anchor=\"middle\" x=\"3467\" y=\"-283.3\" font-family=\"Times,serif\" font-size=\"14.00\" fill=\"#000000\">gini = 0.0</text>\n<text text-anchor=\"middle\" x=\"3467\" y=\"-268.3\" font-family=\"Times,serif\" font-size=\"14.00\" fill=\"#000000\">samples = 5</text>\n<text text-anchor=\"middle\" x=\"3467\" y=\"-253.3\" font-family=\"Times,serif\" font-size=\"14.00\" fill=\"#000000\">value = [0, 0, 0, 5, 0, 0]</text>\n<text text-anchor=\"middle\" x=\"3467\" y=\"-238.3\" font-family=\"Times,serif\" font-size=\"14.00\" fill=\"#000000\">class = 4</text>\n</g>\n<!-- 54&#45;&gt;56 -->\n<g id=\"edge56\" class=\"edge\">\n<title>54&#45;&gt;56</title>\n<path fill=\"none\" stroke=\"#000000\" d=\"M3380.5169,-341.8796C3393.667,-330.1138 3407.9663,-317.3197 3421.0809,-305.5855\"/>\n<polygon fill=\"#000000\" stroke=\"#000000\" points=\"3423.5294,-308.0913 3428.648,-298.8149 3418.8618,-302.8746 3423.5294,-308.0913\"/>\n</g>\n<!-- 58 -->\n<g id=\"node59\" class=\"node\">\n<title>58</title>\n<polygon fill=\"#8139e5\" stroke=\"#000000\" points=\"3717.5,-298.5 3562.5,-298.5 3562.5,-230.5 3717.5,-230.5 3717.5,-298.5\"/>\n<text text-anchor=\"middle\" x=\"3640\" y=\"-283.3\" font-family=\"Times,serif\" font-size=\"14.00\" fill=\"#000000\">gini = 0.0</text>\n<text text-anchor=\"middle\" x=\"3640\" y=\"-268.3\" font-family=\"Times,serif\" font-size=\"14.00\" fill=\"#000000\">samples = 5</text>\n<text text-anchor=\"middle\" x=\"3640\" y=\"-253.3\" font-family=\"Times,serif\" font-size=\"14.00\" fill=\"#000000\">value = [0, 0, 0, 0, 5, 0]</text>\n<text text-anchor=\"middle\" x=\"3640\" y=\"-238.3\" font-family=\"Times,serif\" font-size=\"14.00\" fill=\"#000000\">class = 5</text>\n</g>\n<!-- 57&#45;&gt;58 -->\n<g id=\"edge58\" class=\"edge\">\n<title>57&#45;&gt;58</title>\n<path fill=\"none\" stroke=\"#000000\" d=\"M3640,-341.8796C3640,-331.2134 3640,-319.7021 3640,-308.9015\"/>\n<polygon fill=\"#000000\" stroke=\"#000000\" points=\"3643.5001,-308.8149 3640,-298.8149 3636.5001,-308.815 3643.5001,-308.8149\"/>\n</g>\n<!-- 59 -->\n<g id=\"node60\" class=\"node\">\n<title>59</title>\n<polygon fill=\"#47a4e7\" stroke=\"#000000\" points=\"3994,-306 3736,-306 3736,-223 3994,-223 3994,-306\"/>\n<text text-anchor=\"middle\" x=\"3865\" y=\"-290.8\" font-family=\"Times,serif\" font-size=\"14.00\" fill=\"#000000\">tBodyGyroJerkMag&#45;arCoeff()3 &lt;= &#45;0.209</text>\n<text text-anchor=\"middle\" x=\"3865\" y=\"-275.8\" font-family=\"Times,serif\" font-size=\"14.00\" fill=\"#000000\">gini = 0.124</text>\n<text text-anchor=\"middle\" x=\"3865\" y=\"-260.8\" font-family=\"Times,serif\" font-size=\"14.00\" fill=\"#000000\">samples = 30</text>\n<text text-anchor=\"middle\" x=\"3865\" y=\"-245.8\" font-family=\"Times,serif\" font-size=\"14.00\" fill=\"#000000\">value = [0, 0, 0, 28, 2, 0]</text>\n<text text-anchor=\"middle\" x=\"3865\" y=\"-230.8\" font-family=\"Times,serif\" font-size=\"14.00\" fill=\"#000000\">class = 4</text>\n</g>\n<!-- 57&#45;&gt;59 -->\n<g id=\"edge59\" class=\"edge\">\n<title>57&#45;&gt;59</title>\n<path fill=\"none\" stroke=\"#000000\" d=\"M3718.6941,-341.8796C3737.6202,-331.8697 3757.9536,-321.1156 3777.263,-310.9031\"/>\n<polygon fill=\"#000000\" stroke=\"#000000\" points=\"3779.1469,-313.8662 3786.3504,-306.0969 3775.8742,-307.6783 3779.1469,-313.8662\"/>\n</g>\n<!-- 60 -->\n<g id=\"node61\" class=\"node\">\n<title>60</title>\n<polygon fill=\"#c09cf2\" stroke=\"#000000\" points=\"3765.5,-179.5 3610.5,-179.5 3610.5,-111.5 3765.5,-111.5 3765.5,-179.5\"/>\n<text text-anchor=\"middle\" x=\"3688\" y=\"-164.3\" font-family=\"Times,serif\" font-size=\"14.00\" fill=\"#000000\">gini = 0.444</text>\n<text text-anchor=\"middle\" x=\"3688\" y=\"-149.3\" font-family=\"Times,serif\" font-size=\"14.00\" fill=\"#000000\">samples = 3</text>\n<text text-anchor=\"middle\" x=\"3688\" y=\"-134.3\" font-family=\"Times,serif\" font-size=\"14.00\" fill=\"#000000\">value = [0, 0, 0, 1, 2, 0]</text>\n<text text-anchor=\"middle\" x=\"3688\" y=\"-119.3\" font-family=\"Times,serif\" font-size=\"14.00\" fill=\"#000000\">class = 5</text>\n</g>\n<!-- 59&#45;&gt;60 -->\n<g id=\"edge60\" class=\"edge\">\n<title>59&#45;&gt;60</title>\n<path fill=\"none\" stroke=\"#000000\" d=\"M3803.094,-222.8796C3785.0172,-210.7263 3765.3086,-197.4759 3747.3913,-185.4297\"/>\n<polygon fill=\"#000000\" stroke=\"#000000\" points=\"3749.0061,-182.2979 3738.7544,-179.623 3745.1004,-188.1071 3749.0061,-182.2979\"/>\n</g>\n<!-- 61 -->\n<g id=\"node62\" class=\"node\">\n<title>61</title>\n<polygon fill=\"#399de5\" stroke=\"#000000\" points=\"3946,-179.5 3784,-179.5 3784,-111.5 3946,-111.5 3946,-179.5\"/>\n<text text-anchor=\"middle\" x=\"3865\" y=\"-164.3\" font-family=\"Times,serif\" font-size=\"14.00\" fill=\"#000000\">gini = 0.0</text>\n<text text-anchor=\"middle\" x=\"3865\" y=\"-149.3\" font-family=\"Times,serif\" font-size=\"14.00\" fill=\"#000000\">samples = 27</text>\n<text text-anchor=\"middle\" x=\"3865\" y=\"-134.3\" font-family=\"Times,serif\" font-size=\"14.00\" fill=\"#000000\">value = [0, 0, 0, 27, 0, 0]</text>\n<text text-anchor=\"middle\" x=\"3865\" y=\"-119.3\" font-family=\"Times,serif\" font-size=\"14.00\" fill=\"#000000\">class = 4</text>\n</g>\n<!-- 59&#45;&gt;61 -->\n<g id=\"edge61\" class=\"edge\">\n<title>59&#45;&gt;61</title>\n<path fill=\"none\" stroke=\"#000000\" d=\"M3865,-222.8796C3865,-212.2134 3865,-200.7021 3865,-189.9015\"/>\n<polygon fill=\"#000000\" stroke=\"#000000\" points=\"3868.5001,-189.8149 3865,-179.8149 3861.5001,-189.815 3868.5001,-189.8149\"/>\n</g>\n<!-- 63 -->\n<g id=\"node64\" class=\"node\">\n<title>63</title>\n<polygon fill=\"#fbebdf\" stroke=\"#000000\" points=\"5737.5,-663 5512.5,-663 5512.5,-580 5737.5,-580 5737.5,-663\"/>\n<text text-anchor=\"middle\" x=\"5625\" y=\"-647.8\" font-family=\"Times,serif\" font-size=\"14.00\" fill=\"#000000\">tGravityAcc&#45;arCoeff()&#45;Z,2 &lt;= 0.564</text>\n<text text-anchor=\"middle\" x=\"5625\" y=\"-632.8\" font-family=\"Times,serif\" font-size=\"14.00\" fill=\"#000000\">gini = 0.56</text>\n<text text-anchor=\"middle\" x=\"5625\" y=\"-617.8\" font-family=\"Times,serif\" font-size=\"14.00\" fill=\"#000000\">samples = 2364</text>\n<text text-anchor=\"middle\" x=\"5625\" y=\"-602.8\" font-family=\"Times,serif\" font-size=\"14.00\" fill=\"#000000\">value = [1207, 987, 170, 0, 0, 0]</text>\n<text text-anchor=\"middle\" x=\"5625\" y=\"-587.8\" font-family=\"Times,serif\" font-size=\"14.00\" fill=\"#000000\">class = 1</text>\n</g>\n<!-- 62&#45;&gt;63 -->\n<g id=\"edge63\" class=\"edge\">\n<title>62&#45;&gt;63</title>\n<path fill=\"none\" stroke=\"#000000\" d=\"M5625,-698.8796C5625,-690.6838 5625,-681.9891 5625,-673.5013\"/>\n<polygon fill=\"#000000\" stroke=\"#000000\" points=\"5628.5001,-673.298 5625,-663.2981 5621.5001,-673.2981 5628.5001,-673.298\"/>\n</g>\n<!-- 112 -->\n<g id=\"node113\" class=\"node\">\n<title>112</title>\n<polygon fill=\"#52e891\" stroke=\"#000000\" points=\"7754.5,-663 7513.5,-663 7513.5,-580 7754.5,-580 7754.5,-663\"/>\n<text text-anchor=\"middle\" x=\"7634\" y=\"-647.8\" font-family=\"Times,serif\" font-size=\"14.00\" fill=\"#000000\">tBodyGyro&#45;correlation()&#45;Y,Z &lt;= 0.276</text>\n<text text-anchor=\"middle\" x=\"7634\" y=\"-632.8\" font-family=\"Times,serif\" font-size=\"14.00\" fill=\"#000000\">gini = 0.206</text>\n<text text-anchor=\"middle\" x=\"7634\" y=\"-617.8\" font-family=\"Times,serif\" font-size=\"14.00\" fill=\"#000000\">samples = 921</text>\n<text text-anchor=\"middle\" x=\"7634\" y=\"-602.8\" font-family=\"Times,serif\" font-size=\"14.00\" fill=\"#000000\">value = [19, 86, 816, 0, 0, 0]</text>\n<text text-anchor=\"middle\" x=\"7634\" y=\"-587.8\" font-family=\"Times,serif\" font-size=\"14.00\" fill=\"#000000\">class = 3</text>\n</g>\n<!-- 62&#45;&gt;112 -->\n<g id=\"edge112\" class=\"edge\">\n<title>62&#45;&gt;112</title>\n<path fill=\"none\" stroke=\"#000000\" d=\"M5733.7249,-734.0598C6076.1774,-713.7752 7131.7141,-651.2521 7503.0978,-629.2538\"/>\n<polygon fill=\"#000000\" stroke=\"#000000\" points=\"7503.5744,-632.7318 7513.3499,-628.6465 7503.1604,-625.744 7503.5744,-632.7318\"/>\n</g>\n<!-- 64 -->\n<g id=\"node65\" class=\"node\">\n<title>64</title>\n<polygon fill=\"#eb9d66\" stroke=\"#000000\" points=\"5462.5,-544 5247.5,-544 5247.5,-461 5462.5,-461 5462.5,-544\"/>\n<text text-anchor=\"middle\" x=\"5355\" y=\"-528.8\" font-family=\"Times,serif\" font-size=\"14.00\" fill=\"#000000\">fBodyGyro&#45;maxInds&#45;X &lt;= &#45;0.967</text>\n<text text-anchor=\"middle\" x=\"5355\" y=\"-513.8\" font-family=\"Times,serif\" font-size=\"14.00\" fill=\"#000000\">gini = 0.343</text>\n<text text-anchor=\"middle\" x=\"5355\" y=\"-498.8\" font-family=\"Times,serif\" font-size=\"14.00\" fill=\"#000000\">samples = 1367</text>\n<text text-anchor=\"middle\" x=\"5355\" y=\"-483.8\" font-family=\"Times,serif\" font-size=\"14.00\" fill=\"#000000\">value = [1091, 143, 133, 0, 0, 0]</text>\n<text text-anchor=\"middle\" x=\"5355\" y=\"-468.8\" font-family=\"Times,serif\" font-size=\"14.00\" fill=\"#000000\">class = 1</text>\n</g>\n<!-- 63&#45;&gt;64 -->\n<g id=\"edge64\" class=\"edge\">\n<title>63&#45;&gt;64</title>\n<path fill=\"none\" stroke=\"#000000\" d=\"M5530.5671,-579.8796C5507.3419,-569.6433 5482.3507,-558.6286 5458.7137,-548.2108\"/>\n<polygon fill=\"#000000\" stroke=\"#000000\" points=\"5459.9418,-544.9273 5449.3796,-544.0969 5457.1186,-551.3328 5459.9418,-544.9273\"/>\n</g>\n<!-- 91 -->\n<g id=\"node92\" class=\"node\">\n<title>91</title>\n<polygon fill=\"#aeea5b\" stroke=\"#000000\" points=\"6269.5,-544 6074.5,-544 6074.5,-461 6269.5,-461 6269.5,-544\"/>\n<text text-anchor=\"middle\" x=\"6172\" y=\"-528.8\" font-family=\"Times,serif\" font-size=\"14.00\" fill=\"#000000\">tGravityAcc&#45;min()&#45;X &lt;= 0.956</text>\n<text text-anchor=\"middle\" x=\"6172\" y=\"-513.8\" font-family=\"Times,serif\" font-size=\"14.00\" fill=\"#000000\">gini = 0.268</text>\n<text text-anchor=\"middle\" x=\"6172\" y=\"-498.8\" font-family=\"Times,serif\" font-size=\"14.00\" fill=\"#000000\">samples = 997</text>\n<text text-anchor=\"middle\" x=\"6172\" y=\"-483.8\" font-family=\"Times,serif\" font-size=\"14.00\" fill=\"#000000\">value = [116, 844, 37, 0, 0, 0]</text>\n<text text-anchor=\"middle\" x=\"6172\" y=\"-468.8\" font-family=\"Times,serif\" font-size=\"14.00\" fill=\"#000000\">class = 2</text>\n</g>\n<!-- 63&#45;&gt;91 -->\n<g id=\"edge91\" class=\"edge\">\n<title>63&#45;&gt;91</title>\n<path fill=\"none\" stroke=\"#000000\" d=\"M5737.6755,-596.9874C5833.428,-576.1564 5969.9697,-546.4517 6064.2794,-525.9346\"/>\n<polygon fill=\"#000000\" stroke=\"#000000\" points=\"6065.1023,-529.3376 6074.1297,-523.7917 6063.6142,-522.4976 6065.1023,-529.3376\"/>\n</g>\n<!-- 65 -->\n<g id=\"node66\" class=\"node\">\n<title>65</title>\n<polygon fill=\"#f6fded\" stroke=\"#000000\" points=\"4727.5,-425 4536.5,-425 4536.5,-342 4727.5,-342 4727.5,-425\"/>\n<text text-anchor=\"middle\" x=\"4632\" y=\"-409.8\" font-family=\"Times,serif\" font-size=\"14.00\" fill=\"#000000\">fBodyAcc&#45;max()&#45;Y &lt;= &#45;0.298</text>\n<text text-anchor=\"middle\" x=\"4632\" y=\"-394.8\" font-family=\"Times,serif\" font-size=\"14.00\" fill=\"#000000\">gini = 0.57</text>\n<text text-anchor=\"middle\" x=\"4632\" y=\"-379.8\" font-family=\"Times,serif\" font-size=\"14.00\" fill=\"#000000\">samples = 159</text>\n<text text-anchor=\"middle\" x=\"4632\" y=\"-364.8\" font-family=\"Times,serif\" font-size=\"14.00\" fill=\"#000000\">value = [13, 77, 69, 0, 0, 0]</text>\n<text text-anchor=\"middle\" x=\"4632\" y=\"-349.8\" font-family=\"Times,serif\" font-size=\"14.00\" fill=\"#000000\">class = 2</text>\n</g>\n<!-- 64&#45;&gt;65 -->\n<g id=\"edge65\" class=\"edge\">\n<title>64&#45;&gt;65</title>\n<path fill=\"none\" stroke=\"#000000\" d=\"M5247.1502,-484.7488C5109.7596,-462.1354 4873.8339,-423.3039 4737.5524,-400.8731\"/>\n<polygon fill=\"#000000\" stroke=\"#000000\" points=\"4737.9471,-397.391 4727.5114,-399.2204 4736.8101,-404.2981 4737.9471,-397.391\"/>\n</g>\n<!-- 76 -->\n<g id=\"node77\" class=\"node\">\n<title>76</title>\n<polygon fill=\"#e88f50\" stroke=\"#000000\" points=\"5474.5,-425 5235.5,-425 5235.5,-342 5474.5,-342 5474.5,-425\"/>\n<text text-anchor=\"middle\" x=\"5355\" y=\"-409.8\" font-family=\"Times,serif\" font-size=\"14.00\" fill=\"#000000\">tGravityAccMag&#45;arCoeff()1 &lt;= &#45;0.343</text>\n<text text-anchor=\"middle\" x=\"5355\" y=\"-394.8\" font-family=\"Times,serif\" font-size=\"14.00\" fill=\"#000000\">gini = 0.198</text>\n<text text-anchor=\"middle\" x=\"5355\" y=\"-379.8\" font-family=\"Times,serif\" font-size=\"14.00\" fill=\"#000000\">samples = 1208</text>\n<text text-anchor=\"middle\" x=\"5355\" y=\"-364.8\" font-family=\"Times,serif\" font-size=\"14.00\" fill=\"#000000\">value = [1078, 66, 64, 0, 0, 0]</text>\n<text text-anchor=\"middle\" x=\"5355\" y=\"-349.8\" font-family=\"Times,serif\" font-size=\"14.00\" fill=\"#000000\">class = 1</text>\n</g>\n<!-- 64&#45;&gt;76 -->\n<g id=\"edge76\" class=\"edge\">\n<title>64&#45;&gt;76</title>\n<path fill=\"none\" stroke=\"#000000\" d=\"M5355,-460.8796C5355,-452.6838 5355,-443.9891 5355,-435.5013\"/>\n<polygon fill=\"#000000\" stroke=\"#000000\" points=\"5358.5001,-435.298 5355,-425.2981 5351.5001,-435.2981 5358.5001,-435.298\"/>\n</g>\n<!-- 66 -->\n<g id=\"node67\" class=\"node\">\n<title>66</title>\n<polygon fill=\"#68eb9f\" stroke=\"#000000\" points=\"4389,-306 4149,-306 4149,-223 4389,-223 4389,-306\"/>\n<text text-anchor=\"middle\" x=\"4269\" y=\"-290.8\" font-family=\"Times,serif\" font-size=\"14.00\" fill=\"#000000\">tBodyAcc&#45;correlation()&#45;X,Y &lt;= &#45;0.219</text>\n<text text-anchor=\"middle\" x=\"4269\" y=\"-275.8\" font-family=\"Times,serif\" font-size=\"14.00\" fill=\"#000000\">gini = 0.338</text>\n<text text-anchor=\"middle\" x=\"4269\" y=\"-260.8\" font-family=\"Times,serif\" font-size=\"14.00\" fill=\"#000000\">samples = 79</text>\n<text text-anchor=\"middle\" x=\"4269\" y=\"-245.8\" font-family=\"Times,serif\" font-size=\"14.00\" fill=\"#000000\">value = [12, 4, 63, 0, 0, 0]</text>\n<text text-anchor=\"middle\" x=\"4269\" y=\"-230.8\" font-family=\"Times,serif\" font-size=\"14.00\" fill=\"#000000\">class = 3</text>\n</g>\n<!-- 65&#45;&gt;66 -->\n<g id=\"edge66\" class=\"edge\">\n<title>65&#45;&gt;66</title>\n<path fill=\"none\" stroke=\"#000000\" d=\"M4536.1512,-352.0785C4494.0872,-338.2889 4444.0593,-321.8886 4398.7322,-307.0293\"/>\n<polygon fill=\"#000000\" stroke=\"#000000\" points=\"4399.7286,-303.6727 4389.1358,-303.8834 4397.5479,-310.3244 4399.7286,-303.6727\"/>\n</g>\n<!-- 71 -->\n<g id=\"node72\" class=\"node\">\n<title>71</title>\n<polygon fill=\"#a6e74c\" stroke=\"#000000\" points=\"4727,-306 4537,-306 4537,-223 4727,-223 4727,-306\"/>\n<text text-anchor=\"middle\" x=\"4632\" y=\"-290.8\" font-family=\"Times,serif\" font-size=\"14.00\" fill=\"#000000\">tGravityAcc&#45;max()&#45;X &lt;= 0.89</text>\n<text text-anchor=\"middle\" x=\"4632\" y=\"-275.8\" font-family=\"Times,serif\" font-size=\"14.00\" fill=\"#000000\">gini = 0.162</text>\n<text text-anchor=\"middle\" x=\"4632\" y=\"-260.8\" font-family=\"Times,serif\" font-size=\"14.00\" fill=\"#000000\">samples = 80</text>\n<text text-anchor=\"middle\" x=\"4632\" y=\"-245.8\" font-family=\"Times,serif\" font-size=\"14.00\" fill=\"#000000\">value = [1, 73, 6, 0, 0, 0]</text>\n<text text-anchor=\"middle\" x=\"4632\" y=\"-230.8\" font-family=\"Times,serif\" font-size=\"14.00\" fill=\"#000000\">class = 2</text>\n</g>\n<!-- 65&#45;&gt;71 -->\n<g id=\"edge71\" class=\"edge\">\n<title>65&#45;&gt;71</title>\n<path fill=\"none\" stroke=\"#000000\" d=\"M4632,-341.8796C4632,-333.6838 4632,-324.9891 4632,-316.5013\"/>\n<polygon fill=\"#000000\" stroke=\"#000000\" points=\"4635.5001,-316.298 4632,-306.2981 4628.5001,-316.2981 4635.5001,-316.298\"/>\n</g>\n<!-- 67 -->\n<g id=\"node68\" class=\"node\">\n<title>67</title>\n<polygon fill=\"#43e687\" stroke=\"#000000\" points=\"4170,-187 3964,-187 3964,-104 4170,-104 4170,-187\"/>\n<text text-anchor=\"middle\" x=\"4067\" y=\"-171.8\" font-family=\"Times,serif\" font-size=\"14.00\" fill=\"#000000\">angle(X,gravityMean) &lt;= &#45;0.651</text>\n<text text-anchor=\"middle\" x=\"4067\" y=\"-156.8\" font-family=\"Times,serif\" font-size=\"14.00\" fill=\"#000000\">gini = 0.088</text>\n<text text-anchor=\"middle\" x=\"4067\" y=\"-141.8\" font-family=\"Times,serif\" font-size=\"14.00\" fill=\"#000000\">samples = 65</text>\n<text text-anchor=\"middle\" x=\"4067\" y=\"-126.8\" font-family=\"Times,serif\" font-size=\"14.00\" fill=\"#000000\">value = [0, 3, 62, 0, 0, 0]</text>\n<text text-anchor=\"middle\" x=\"4067\" y=\"-111.8\" font-family=\"Times,serif\" font-size=\"14.00\" fill=\"#000000\">class = 3</text>\n</g>\n<!-- 66&#45;&gt;67 -->\n<g id=\"edge67\" class=\"edge\">\n<title>66&#45;&gt;67</title>\n<path fill=\"none\" stroke=\"#000000\" d=\"M4198.3502,-222.8796C4181.5894,-213.0056 4163.5992,-202.4075 4146.4748,-192.3193\"/>\n<polygon fill=\"#000000\" stroke=\"#000000\" points=\"4148.0025,-189.1571 4137.6099,-187.0969 4144.4494,-195.1884 4148.0025,-189.1571\"/>\n</g>\n<!-- 70 -->\n<g id=\"node71\" class=\"node\">\n<title>70</title>\n<polygon fill=\"#e99457\" stroke=\"#000000\" points=\"4350,-179.5 4188,-179.5 4188,-111.5 4350,-111.5 4350,-179.5\"/>\n<text text-anchor=\"middle\" x=\"4269\" y=\"-164.3\" font-family=\"Times,serif\" font-size=\"14.00\" fill=\"#000000\">gini = 0.255</text>\n<text text-anchor=\"middle\" x=\"4269\" y=\"-149.3\" font-family=\"Times,serif\" font-size=\"14.00\" fill=\"#000000\">samples = 14</text>\n<text text-anchor=\"middle\" x=\"4269\" y=\"-134.3\" font-family=\"Times,serif\" font-size=\"14.00\" fill=\"#000000\">value = [12, 1, 1, 0, 0, 0]</text>\n<text text-anchor=\"middle\" x=\"4269\" y=\"-119.3\" font-family=\"Times,serif\" font-size=\"14.00\" fill=\"#000000\">class = 1</text>\n</g>\n<!-- 66&#45;&gt;70 -->\n<g id=\"edge70\" class=\"edge\">\n<title>66&#45;&gt;70</title>\n<path fill=\"none\" stroke=\"#000000\" d=\"M4269,-222.8796C4269,-212.2134 4269,-200.7021 4269,-189.9015\"/>\n<polygon fill=\"#000000\" stroke=\"#000000\" points=\"4272.5001,-189.8149 4269,-179.8149 4265.5001,-189.815 4272.5001,-189.8149\"/>\n</g>\n<!-- 68 -->\n<g id=\"node69\" class=\"node\">\n<title>68</title>\n<polygon fill=\"#39e581\" stroke=\"#000000\" points=\"4019,-68 3857,-68 3857,0 4019,0 4019,-68\"/>\n<text text-anchor=\"middle\" x=\"3938\" y=\"-52.8\" font-family=\"Times,serif\" font-size=\"14.00\" fill=\"#000000\">gini = 0.0</text>\n<text text-anchor=\"middle\" x=\"3938\" y=\"-37.8\" font-family=\"Times,serif\" font-size=\"14.00\" fill=\"#000000\">samples = 62</text>\n<text text-anchor=\"middle\" x=\"3938\" y=\"-22.8\" font-family=\"Times,serif\" font-size=\"14.00\" fill=\"#000000\">value = [0, 0, 62, 0, 0, 0]</text>\n<text text-anchor=\"middle\" x=\"3938\" y=\"-7.8\" font-family=\"Times,serif\" font-size=\"14.00\" fill=\"#000000\">class = 3</text>\n</g>\n<!-- 67&#45;&gt;68 -->\n<g id=\"edge68\" class=\"edge\">\n<title>67&#45;&gt;68</title>\n<path fill=\"none\" stroke=\"#000000\" d=\"M4018.9652,-103.9815C4008.013,-94.5151 3996.3821,-84.462 3985.4544,-75.0168\"/>\n<polygon fill=\"#000000\" stroke=\"#000000\" points=\"3987.4957,-72.155 3977.6414,-68.2637 3982.9182,-77.4509 3987.4957,-72.155\"/>\n</g>\n<!-- 69 -->\n<g id=\"node70\" class=\"node\">\n<title>69</title>\n<polygon fill=\"#9de539\" stroke=\"#000000\" points=\"4192.5,-68 4037.5,-68 4037.5,0 4192.5,0 4192.5,-68\"/>\n<text text-anchor=\"middle\" x=\"4115\" y=\"-52.8\" font-family=\"Times,serif\" font-size=\"14.00\" fill=\"#000000\">gini = 0.0</text>\n<text text-anchor=\"middle\" x=\"4115\" y=\"-37.8\" font-family=\"Times,serif\" font-size=\"14.00\" fill=\"#000000\">samples = 3</text>\n<text text-anchor=\"middle\" x=\"4115\" y=\"-22.8\" font-family=\"Times,serif\" font-size=\"14.00\" fill=\"#000000\">value = [0, 3, 0, 0, 0, 0]</text>\n<text text-anchor=\"middle\" x=\"4115\" y=\"-7.8\" font-family=\"Times,serif\" font-size=\"14.00\" fill=\"#000000\">class = 2</text>\n</g>\n<!-- 67&#45;&gt;69 -->\n<g id=\"edge69\" class=\"edge\">\n<title>67&#45;&gt;69</title>\n<path fill=\"none\" stroke=\"#000000\" d=\"M4084.8734,-103.9815C4088.5926,-95.3423 4092.522,-86.2144 4096.271,-77.5059\"/>\n<polygon fill=\"#000000\" stroke=\"#000000\" points=\"4099.5103,-78.8327 4100.2497,-68.2637 4093.0808,-76.0648 4099.5103,-78.8327\"/>\n</g>\n<!-- 72 -->\n<g id=\"node73\" class=\"node\">\n<title>72</title>\n<polygon fill=\"#a1e641\" stroke=\"#000000\" points=\"4656.5,-187 4367.5,-187 4367.5,-104 4656.5,-104 4656.5,-187\"/>\n<text text-anchor=\"middle\" x=\"4512\" y=\"-171.8\" font-family=\"Times,serif\" font-size=\"14.00\" fill=\"#000000\">fBodyAccJerk&#45;bandsEnergy()&#45;17,24 &lt;= &#45;0.459</text>\n<text text-anchor=\"middle\" x=\"4512\" y=\"-156.8\" font-family=\"Times,serif\" font-size=\"14.00\" fill=\"#000000\">gini = 0.077</text>\n<text text-anchor=\"middle\" x=\"4512\" y=\"-141.8\" font-family=\"Times,serif\" font-size=\"14.00\" fill=\"#000000\">samples = 76</text>\n<text text-anchor=\"middle\" x=\"4512\" y=\"-126.8\" font-family=\"Times,serif\" font-size=\"14.00\" fill=\"#000000\">value = [1, 73, 2, 0, 0, 0]</text>\n<text text-anchor=\"middle\" x=\"4512\" y=\"-111.8\" font-family=\"Times,serif\" font-size=\"14.00\" fill=\"#000000\">class = 2</text>\n</g>\n<!-- 71&#45;&gt;72 -->\n<g id=\"edge72\" class=\"edge\">\n<title>71&#45;&gt;72</title>\n<path fill=\"none\" stroke=\"#000000\" d=\"M4590.0298,-222.8796C4580.7662,-213.6931 4570.8704,-203.8798 4561.3448,-194.4336\"/>\n<polygon fill=\"#000000\" stroke=\"#000000\" points=\"4563.7144,-191.8543 4554.1493,-187.2981 4558.7854,-196.8247 4563.7144,-191.8543\"/>\n</g>\n<!-- 75 -->\n<g id=\"node76\" class=\"node\">\n<title>75</title>\n<polygon fill=\"#39e581\" stroke=\"#000000\" points=\"4829.5,-179.5 4674.5,-179.5 4674.5,-111.5 4829.5,-111.5 4829.5,-179.5\"/>\n<text text-anchor=\"middle\" x=\"4752\" y=\"-164.3\" font-family=\"Times,serif\" font-size=\"14.00\" fill=\"#000000\">gini = 0.0</text>\n<text text-anchor=\"middle\" x=\"4752\" y=\"-149.3\" font-family=\"Times,serif\" font-size=\"14.00\" fill=\"#000000\">samples = 4</text>\n<text text-anchor=\"middle\" x=\"4752\" y=\"-134.3\" font-family=\"Times,serif\" font-size=\"14.00\" fill=\"#000000\">value = [0, 0, 4, 0, 0, 0]</text>\n<text text-anchor=\"middle\" x=\"4752\" y=\"-119.3\" font-family=\"Times,serif\" font-size=\"14.00\" fill=\"#000000\">class = 3</text>\n</g>\n<!-- 71&#45;&gt;75 -->\n<g id=\"edge75\" class=\"edge\">\n<title>71&#45;&gt;75</title>\n<path fill=\"none\" stroke=\"#000000\" d=\"M4673.9702,-222.8796C4685.724,-211.2237 4698.4954,-198.5587 4710.2372,-186.9148\"/>\n<polygon fill=\"#000000\" stroke=\"#000000\" points=\"4712.7606,-189.3416 4717.3967,-179.8149 4707.8316,-184.3712 4712.7606,-189.3416\"/>\n</g>\n<!-- 73 -->\n<g id=\"node74\" class=\"node\">\n<title>73</title>\n<polygon fill=\"#9ee53c\" stroke=\"#000000\" points=\"4422,-68 4260,-68 4260,0 4422,0 4422,-68\"/>\n<text text-anchor=\"middle\" x=\"4341\" y=\"-52.8\" font-family=\"Times,serif\" font-size=\"14.00\" fill=\"#000000\">gini = 0.027</text>\n<text text-anchor=\"middle\" x=\"4341\" y=\"-37.8\" font-family=\"Times,serif\" font-size=\"14.00\" fill=\"#000000\">samples = 74</text>\n<text text-anchor=\"middle\" x=\"4341\" y=\"-22.8\" font-family=\"Times,serif\" font-size=\"14.00\" fill=\"#000000\">value = [1, 73, 0, 0, 0, 0]</text>\n<text text-anchor=\"middle\" x=\"4341\" y=\"-7.8\" font-family=\"Times,serif\" font-size=\"14.00\" fill=\"#000000\">class = 2</text>\n</g>\n<!-- 72&#45;&gt;73 -->\n<g id=\"edge73\" class=\"edge\">\n<title>72&#45;&gt;73</title>\n<path fill=\"none\" stroke=\"#000000\" d=\"M4448.3259,-103.9815C4433.1648,-94.0957 4417.0224,-83.5701 4401.9851,-73.7651\"/>\n<polygon fill=\"#000000\" stroke=\"#000000\" points=\"4403.5631,-70.6158 4393.2748,-68.0856 4399.7397,-76.4794 4403.5631,-70.6158\"/>\n</g>\n<!-- 74 -->\n<g id=\"node75\" class=\"node\">\n<title>74</title>\n<polygon fill=\"#39e581\" stroke=\"#000000\" points=\"4595.5,-68 4440.5,-68 4440.5,0 4595.5,0 4595.5,-68\"/>\n<text text-anchor=\"middle\" x=\"4518\" y=\"-52.8\" font-family=\"Times,serif\" font-size=\"14.00\" fill=\"#000000\">gini = 0.0</text>\n<text text-anchor=\"middle\" x=\"4518\" y=\"-37.8\" font-family=\"Times,serif\" font-size=\"14.00\" fill=\"#000000\">samples = 2</text>\n<text text-anchor=\"middle\" x=\"4518\" y=\"-22.8\" font-family=\"Times,serif\" font-size=\"14.00\" fill=\"#000000\">value = [0, 0, 2, 0, 0, 0]</text>\n<text text-anchor=\"middle\" x=\"4518\" y=\"-7.8\" font-family=\"Times,serif\" font-size=\"14.00\" fill=\"#000000\">class = 3</text>\n</g>\n<!-- 72&#45;&gt;74 -->\n<g id=\"edge74\" class=\"edge\">\n<title>72&#45;&gt;74</title>\n<path fill=\"none\" stroke=\"#000000\" d=\"M4514.2342,-103.9815C4514.6842,-95.618 4515.1589,-86.7965 4515.6139,-78.3409\"/>\n<polygon fill=\"#000000\" stroke=\"#000000\" points=\"4519.1137,-78.4373 4516.1562,-68.2637 4512.1238,-78.0611 4519.1137,-78.4373\"/>\n</g>\n<!-- 77 -->\n<g id=\"node78\" class=\"node\">\n<title>77</title>\n<polygon fill=\"#d5fae4\" stroke=\"#000000\" points=\"5339.5,-306 5124.5,-306 5124.5,-223 5339.5,-223 5339.5,-306\"/>\n<text text-anchor=\"middle\" x=\"5232\" y=\"-290.8\" font-family=\"Times,serif\" font-size=\"14.00\" fill=\"#000000\">tGravityAcc&#45;energy()&#45;Y &lt;= &#45;0.932</text>\n<text text-anchor=\"middle\" x=\"5232\" y=\"-275.8\" font-family=\"Times,serif\" font-size=\"14.00\" fill=\"#000000\">gini = 0.606</text>\n<text text-anchor=\"middle\" x=\"5232\" y=\"-260.8\" font-family=\"Times,serif\" font-size=\"14.00\" fill=\"#000000\">samples = 81</text>\n<text text-anchor=\"middle\" x=\"5232\" y=\"-245.8\" font-family=\"Times,serif\" font-size=\"14.00\" fill=\"#000000\">value = [12, 29, 40, 0, 0, 0]</text>\n<text text-anchor=\"middle\" x=\"5232\" y=\"-230.8\" font-family=\"Times,serif\" font-size=\"14.00\" fill=\"#000000\">class = 3</text>\n</g>\n<!-- 76&#45;&gt;77 -->\n<g id=\"edge77\" class=\"edge\">\n<title>76&#45;&gt;77</title>\n<path fill=\"none\" stroke=\"#000000\" d=\"M5311.9806,-341.8796C5302.4853,-332.6931 5292.3422,-322.8798 5282.5785,-313.4336\"/>\n<polygon fill=\"#000000\" stroke=\"#000000\" points=\"5284.8237,-310.7359 5275.203,-306.2981 5279.9564,-315.7668 5284.8237,-310.7359\"/>\n</g>\n<!-- 84 -->\n<g id=\"node85\" class=\"node\">\n<title>84</title>\n<polygon fill=\"#e68844\" stroke=\"#000000\" points=\"5605,-306 5365,-306 5365,-223 5605,-223 5605,-306\"/>\n<text text-anchor=\"middle\" x=\"5485\" y=\"-290.8\" font-family=\"Times,serif\" font-size=\"14.00\" fill=\"#000000\">tBodyAcc&#45;correlation()&#45;X,Y &lt;= &#45;0.467</text>\n<text text-anchor=\"middle\" x=\"5485\" y=\"-275.8\" font-family=\"Times,serif\" font-size=\"14.00\" fill=\"#000000\">gini = 0.104</text>\n<text text-anchor=\"middle\" x=\"5485\" y=\"-260.8\" font-family=\"Times,serif\" font-size=\"14.00\" fill=\"#000000\">samples = 1127</text>\n<text text-anchor=\"middle\" x=\"5485\" y=\"-245.8\" font-family=\"Times,serif\" font-size=\"14.00\" fill=\"#000000\">value = [1066, 37, 24, 0, 0, 0]</text>\n<text text-anchor=\"middle\" x=\"5485\" y=\"-230.8\" font-family=\"Times,serif\" font-size=\"14.00\" fill=\"#000000\">class = 1</text>\n</g>\n<!-- 76&#45;&gt;84 -->\n<g id=\"edge84\" class=\"edge\">\n<title>76&#45;&gt;84</title>\n<path fill=\"none\" stroke=\"#000000\" d=\"M5400.4677,-341.8796C5410.6017,-332.6031 5421.434,-322.6874 5431.8465,-313.1559\"/>\n<polygon fill=\"#000000\" stroke=\"#000000\" points=\"5434.3252,-315.6319 5439.3382,-306.2981 5429.5987,-310.4685 5434.3252,-315.6319\"/>\n</g>\n<!-- 78 -->\n<g id=\"node79\" class=\"node\">\n<title>78</title>\n<polygon fill=\"#4fe88f\" stroke=\"#000000\" points=\"5082,-187 4848,-187 4848,-104 5082,-104 5082,-187\"/>\n<text text-anchor=\"middle\" x=\"4965\" y=\"-171.8\" font-family=\"Times,serif\" font-size=\"14.00\" fill=\"#000000\">tBodyGyroJerk&#45;energy()&#45;Z &lt;= &#45;0.845</text>\n<text text-anchor=\"middle\" x=\"4965\" y=\"-156.8\" font-family=\"Times,serif\" font-size=\"14.00\" fill=\"#000000\">gini = 0.18</text>\n<text text-anchor=\"middle\" x=\"4965\" y=\"-141.8\" font-family=\"Times,serif\" font-size=\"14.00\" fill=\"#000000\">samples = 40</text>\n<text text-anchor=\"middle\" x=\"4965\" y=\"-126.8\" font-family=\"Times,serif\" font-size=\"14.00\" fill=\"#000000\">value = [4, 0, 36, 0, 0, 0]</text>\n<text text-anchor=\"middle\" x=\"4965\" y=\"-111.8\" font-family=\"Times,serif\" font-size=\"14.00\" fill=\"#000000\">class = 3</text>\n</g>\n<!-- 77&#45;&gt;78 -->\n<g id=\"edge78\" class=\"edge\">\n<title>77&#45;&gt;78</title>\n<path fill=\"none\" stroke=\"#000000\" d=\"M5138.6164,-222.8796C5115.6492,-212.6433 5090.9357,-201.6286 5067.5613,-191.2108\"/>\n<polygon fill=\"#000000\" stroke=\"#000000\" points=\"5068.8896,-187.971 5058.3309,-187.0969 5066.04,-194.3647 5068.8896,-187.971\"/>\n</g>\n<!-- 81 -->\n<g id=\"node82\" class=\"node\">\n<title>81</title>\n<polygon fill=\"#c1ee81\" stroke=\"#000000\" points=\"5363.5,-187 5100.5,-187 5100.5,-104 5363.5,-104 5363.5,-187\"/>\n<text text-anchor=\"middle\" x=\"5232\" y=\"-171.8\" font-family=\"Times,serif\" font-size=\"14.00\" fill=\"#000000\">tBodyAccJerk&#45;correlation()&#45;X,Y &lt;= &#45;0.007</text>\n<text text-anchor=\"middle\" x=\"5232\" y=\"-156.8\" font-family=\"Times,serif\" font-size=\"14.00\" fill=\"#000000\">gini = 0.452</text>\n<text text-anchor=\"middle\" x=\"5232\" y=\"-141.8\" font-family=\"Times,serif\" font-size=\"14.00\" fill=\"#000000\">samples = 41</text>\n<text text-anchor=\"middle\" x=\"5232\" y=\"-126.8\" font-family=\"Times,serif\" font-size=\"14.00\" fill=\"#000000\">value = [8, 29, 4, 0, 0, 0]</text>\n<text text-anchor=\"middle\" x=\"5232\" y=\"-111.8\" font-family=\"Times,serif\" font-size=\"14.00\" fill=\"#000000\">class = 2</text>\n</g>\n<!-- 77&#45;&gt;81 -->\n<g id=\"edge81\" class=\"edge\">\n<title>77&#45;&gt;81</title>\n<path fill=\"none\" stroke=\"#000000\" d=\"M5232,-222.8796C5232,-214.6838 5232,-205.9891 5232,-197.5013\"/>\n<polygon fill=\"#000000\" stroke=\"#000000\" points=\"5235.5001,-197.298 5232,-187.2981 5228.5001,-197.2981 5235.5001,-197.298\"/>\n</g>\n<!-- 79 -->\n<g id=\"node80\" class=\"node\">\n<title>79</title>\n<polygon fill=\"#39e581\" stroke=\"#000000\" points=\"4782,-68 4620,-68 4620,0 4782,0 4782,-68\"/>\n<text text-anchor=\"middle\" x=\"4701\" y=\"-52.8\" font-family=\"Times,serif\" font-size=\"14.00\" fill=\"#000000\">gini = 0.0</text>\n<text text-anchor=\"middle\" x=\"4701\" y=\"-37.8\" font-family=\"Times,serif\" font-size=\"14.00\" fill=\"#000000\">samples = 36</text>\n<text text-anchor=\"middle\" x=\"4701\" y=\"-22.8\" font-family=\"Times,serif\" font-size=\"14.00\" fill=\"#000000\">value = [0, 0, 36, 0, 0, 0]</text>\n<text text-anchor=\"middle\" x=\"4701\" y=\"-7.8\" font-family=\"Times,serif\" font-size=\"14.00\" fill=\"#000000\">class = 3</text>\n</g>\n<!-- 78&#45;&gt;79 -->\n<g id=\"edge79\" class=\"edge\">\n<title>78&#45;&gt;79</title>\n<path fill=\"none\" stroke=\"#000000\" d=\"M4866.6961,-103.9815C4841.8676,-93.4952 4815.3344,-82.289 4790.9412,-71.9865\"/>\n<polygon fill=\"#000000\" stroke=\"#000000\" points=\"4792.2788,-68.7522 4781.705,-68.0856 4789.5553,-75.2006 4792.2788,-68.7522\"/>\n</g>\n<!-- 80 -->\n<g id=\"node81\" class=\"node\">\n<title>80</title>\n<polygon fill=\"#e58139\" stroke=\"#000000\" points=\"4955.5,-68 4800.5,-68 4800.5,0 4955.5,0 4955.5,-68\"/>\n<text text-anchor=\"middle\" x=\"4878\" y=\"-52.8\" font-family=\"Times,serif\" font-size=\"14.00\" fill=\"#000000\">gini = 0.0</text>\n<text text-anchor=\"middle\" x=\"4878\" y=\"-37.8\" font-family=\"Times,serif\" font-size=\"14.00\" fill=\"#000000\">samples = 4</text>\n<text text-anchor=\"middle\" x=\"4878\" y=\"-22.8\" font-family=\"Times,serif\" font-size=\"14.00\" fill=\"#000000\">value = [4, 0, 0, 0, 0, 0]</text>\n<text text-anchor=\"middle\" x=\"4878\" y=\"-7.8\" font-family=\"Times,serif\" font-size=\"14.00\" fill=\"#000000\">class = 1</text>\n</g>\n<!-- 78&#45;&gt;80 -->\n<g id=\"edge80\" class=\"edge\">\n<title>78&#45;&gt;80</title>\n<path fill=\"none\" stroke=\"#000000\" d=\"M4932.6044,-103.9815C4925.5766,-94.9747 4918.1345,-85.4367 4911.0807,-76.3965\"/>\n<polygon fill=\"#000000\" stroke=\"#000000\" points=\"4913.646,-73.9946 4904.7349,-68.2637 4908.1272,-78.3008 4913.646,-73.9946\"/>\n</g>\n<!-- 82 -->\n<g id=\"node83\" class=\"node\">\n<title>82</title>\n<polygon fill=\"#aee95b\" stroke=\"#000000\" points=\"5136,-68 4974,-68 4974,0 5136,0 5136,-68\"/>\n<text text-anchor=\"middle\" x=\"5055\" y=\"-52.8\" font-family=\"Times,serif\" font-size=\"14.00\" fill=\"#000000\">gini = 0.264</text>\n<text text-anchor=\"middle\" x=\"5055\" y=\"-37.8\" font-family=\"Times,serif\" font-size=\"14.00\" fill=\"#000000\">samples = 33</text>\n<text text-anchor=\"middle\" x=\"5055\" y=\"-22.8\" font-family=\"Times,serif\" font-size=\"14.00\" fill=\"#000000\">value = [1, 28, 4, 0, 0, 0]</text>\n<text text-anchor=\"middle\" x=\"5055\" y=\"-7.8\" font-family=\"Times,serif\" font-size=\"14.00\" fill=\"#000000\">class = 2</text>\n</g>\n<!-- 81&#45;&gt;82 -->\n<g id=\"edge82\" class=\"edge\">\n<title>81&#45;&gt;82</title>\n<path fill=\"none\" stroke=\"#000000\" d=\"M5166.0917,-103.9815C5150.252,-94.0034 5133.3774,-83.3733 5117.6888,-73.4904\"/>\n<polygon fill=\"#000000\" stroke=\"#000000\" points=\"5119.4357,-70.4543 5109.109,-68.0856 5115.7046,-76.3771 5119.4357,-70.4543\"/>\n</g>\n<!-- 83 -->\n<g id=\"node84\" class=\"node\">\n<title>83</title>\n<polygon fill=\"#e99355\" stroke=\"#000000\" points=\"5309.5,-68 5154.5,-68 5154.5,0 5309.5,0 5309.5,-68\"/>\n<text text-anchor=\"middle\" x=\"5232\" y=\"-52.8\" font-family=\"Times,serif\" font-size=\"14.00\" fill=\"#000000\">gini = 0.219</text>\n<text text-anchor=\"middle\" x=\"5232\" y=\"-37.8\" font-family=\"Times,serif\" font-size=\"14.00\" fill=\"#000000\">samples = 8</text>\n<text text-anchor=\"middle\" x=\"5232\" y=\"-22.8\" font-family=\"Times,serif\" font-size=\"14.00\" fill=\"#000000\">value = [7, 1, 0, 0, 0, 0]</text>\n<text text-anchor=\"middle\" x=\"5232\" y=\"-7.8\" font-family=\"Times,serif\" font-size=\"14.00\" fill=\"#000000\">class = 1</text>\n</g>\n<!-- 81&#45;&gt;83 -->\n<g id=\"edge83\" class=\"edge\">\n<title>81&#45;&gt;83</title>\n<path fill=\"none\" stroke=\"#000000\" d=\"M5232,-103.9815C5232,-95.618 5232,-86.7965 5232,-78.3409\"/>\n<polygon fill=\"#000000\" stroke=\"#000000\" points=\"5235.5001,-78.2636 5232,-68.2637 5228.5001,-78.2637 5235.5001,-78.2636\"/>\n</g>\n<!-- 85 -->\n<g id=\"node86\" class=\"node\">\n<title>85</title>\n<polygon fill=\"#f5fceb\" stroke=\"#000000\" points=\"5576,-187 5394,-187 5394,-104 5576,-104 5576,-187\"/>\n<text text-anchor=\"middle\" x=\"5485\" y=\"-171.8\" font-family=\"Times,serif\" font-size=\"14.00\" fill=\"#000000\">tBodyAcc&#45;std()&#45;Y &lt;= &#45;0.063</text>\n<text text-anchor=\"middle\" x=\"5485\" y=\"-156.8\" font-family=\"Times,serif\" font-size=\"14.00\" fill=\"#000000\">gini = 0.658</text>\n<text text-anchor=\"middle\" x=\"5485\" y=\"-141.8\" font-family=\"Times,serif\" font-size=\"14.00\" fill=\"#000000\">samples = 30</text>\n<text text-anchor=\"middle\" x=\"5485\" y=\"-126.8\" font-family=\"Times,serif\" font-size=\"14.00\" fill=\"#000000\">value = [8, 12, 10, 0, 0, 0]</text>\n<text text-anchor=\"middle\" x=\"5485\" y=\"-111.8\" font-family=\"Times,serif\" font-size=\"14.00\" fill=\"#000000\">class = 2</text>\n</g>\n<!-- 84&#45;&gt;85 -->\n<g id=\"edge85\" class=\"edge\">\n<title>84&#45;&gt;85</title>\n<path fill=\"none\" stroke=\"#000000\" d=\"M5485,-222.8796C5485,-214.6838 5485,-205.9891 5485,-197.5013\"/>\n<polygon fill=\"#000000\" stroke=\"#000000\" points=\"5488.5001,-197.298 5485,-187.2981 5481.5001,-197.2981 5488.5001,-197.298\"/>\n</g>\n<!-- 88 -->\n<g id=\"node89\" class=\"node\">\n<title>88</title>\n<polygon fill=\"#e68640\" stroke=\"#000000\" points=\"5795,-187 5601,-187 5601,-104 5795,-104 5795,-187\"/>\n<text text-anchor=\"middle\" x=\"5698\" y=\"-171.8\" font-family=\"Times,serif\" font-size=\"14.00\" fill=\"#000000\">fBodyAccMag&#45;std() &lt;= &#45;0.262</text>\n<text text-anchor=\"middle\" x=\"5698\" y=\"-156.8\" font-family=\"Times,serif\" font-size=\"14.00\" fill=\"#000000\">gini = 0.069</text>\n<text text-anchor=\"middle\" x=\"5698\" y=\"-141.8\" font-family=\"Times,serif\" font-size=\"14.00\" fill=\"#000000\">samples = 1097</text>\n<text text-anchor=\"middle\" x=\"5698\" y=\"-126.8\" font-family=\"Times,serif\" font-size=\"14.00\" fill=\"#000000\">value = [1058, 25, 14, 0, 0, 0]</text>\n<text text-anchor=\"middle\" x=\"5698\" y=\"-111.8\" font-family=\"Times,serif\" font-size=\"14.00\" fill=\"#000000\">class = 1</text>\n</g>\n<!-- 84&#45;&gt;88 -->\n<g id=\"edge88\" class=\"edge\">\n<title>84&#45;&gt;88</title>\n<path fill=\"none\" stroke=\"#000000\" d=\"M5559.4971,-222.8796C5577.3328,-212.915 5596.4886,-202.2129 5614.6941,-192.0418\"/>\n<polygon fill=\"#000000\" stroke=\"#000000\" points=\"5616.5221,-195.0298 5623.545,-187.0969 5613.108,-188.9188 5616.5221,-195.0298\"/>\n</g>\n<!-- 86 -->\n<g id=\"node87\" class=\"node\">\n<title>86</title>\n<polygon fill=\"#39e581\" stroke=\"#000000\" points=\"5490,-68 5328,-68 5328,0 5490,0 5490,-68\"/>\n<text text-anchor=\"middle\" x=\"5409\" y=\"-52.8\" font-family=\"Times,serif\" font-size=\"14.00\" fill=\"#000000\">gini = 0.0</text>\n<text text-anchor=\"middle\" x=\"5409\" y=\"-37.8\" font-family=\"Times,serif\" font-size=\"14.00\" fill=\"#000000\">samples = 10</text>\n<text text-anchor=\"middle\" x=\"5409\" y=\"-22.8\" font-family=\"Times,serif\" font-size=\"14.00\" fill=\"#000000\">value = [0, 0, 10, 0, 0, 0]</text>\n<text text-anchor=\"middle\" x=\"5409\" y=\"-7.8\" font-family=\"Times,serif\" font-size=\"14.00\" fill=\"#000000\">class = 3</text>\n</g>\n<!-- 85&#45;&gt;86 -->\n<g id=\"edge86\" class=\"edge\">\n<title>85&#45;&gt;86</title>\n<path fill=\"none\" stroke=\"#000000\" d=\"M5456.7004,-103.9815C5450.6238,-95.0666 5444.1926,-85.6313 5438.0868,-76.6734\"/>\n<polygon fill=\"#000000\" stroke=\"#000000\" points=\"5440.8789,-74.5555 5432.3546,-68.2637 5435.0948,-78.498 5440.8789,-74.5555\"/>\n</g>\n<!-- 87 -->\n<g id=\"node88\" class=\"node\">\n<title>87</title>\n<polygon fill=\"#def6bd\" stroke=\"#000000\" points=\"5670,-68 5508,-68 5508,0 5670,0 5670,-68\"/>\n<text text-anchor=\"middle\" x=\"5589\" y=\"-52.8\" font-family=\"Times,serif\" font-size=\"14.00\" fill=\"#000000\">gini = 0.48</text>\n<text text-anchor=\"middle\" x=\"5589\" y=\"-37.8\" font-family=\"Times,serif\" font-size=\"14.00\" fill=\"#000000\">samples = 20</text>\n<text text-anchor=\"middle\" x=\"5589\" y=\"-22.8\" font-family=\"Times,serif\" font-size=\"14.00\" fill=\"#000000\">value = [8, 12, 0, 0, 0, 0]</text>\n<text text-anchor=\"middle\" x=\"5589\" y=\"-7.8\" font-family=\"Times,serif\" font-size=\"14.00\" fill=\"#000000\">class = 2</text>\n</g>\n<!-- 85&#45;&gt;87 -->\n<g id=\"edge87\" class=\"edge\">\n<title>85&#45;&gt;87</title>\n<path fill=\"none\" stroke=\"#000000\" d=\"M5523.7258,-103.9815C5532.2982,-94.7908 5541.3865,-85.0472 5549.971,-75.8436\"/>\n<polygon fill=\"#000000\" stroke=\"#000000\" points=\"5552.7796,-77.9637 5557.0411,-68.2637 5547.6607,-73.1891 5552.7796,-77.9637\"/>\n</g>\n<!-- 89 -->\n<g id=\"node90\" class=\"node\">\n<title>89</title>\n<polygon fill=\"#e6843d\" stroke=\"#000000\" points=\"5873.5,-68 5688.5,-68 5688.5,0 5873.5,0 5873.5,-68\"/>\n<text text-anchor=\"middle\" x=\"5781\" y=\"-52.8\" font-family=\"Times,serif\" font-size=\"14.00\" fill=\"#000000\">gini = 0.044</text>\n<text text-anchor=\"middle\" x=\"5781\" y=\"-37.8\" font-family=\"Times,serif\" font-size=\"14.00\" fill=\"#000000\">samples = 1076</text>\n<text text-anchor=\"middle\" x=\"5781\" y=\"-22.8\" font-family=\"Times,serif\" font-size=\"14.00\" fill=\"#000000\">value = [1052, 16, 8, 0, 0, 0]</text>\n<text text-anchor=\"middle\" x=\"5781\" y=\"-7.8\" font-family=\"Times,serif\" font-size=\"14.00\" fill=\"#000000\">class = 1</text>\n</g>\n<!-- 88&#45;&gt;89 -->\n<g id=\"edge89\" class=\"edge\">\n<title>88&#45;&gt;89</title>\n<path fill=\"none\" stroke=\"#000000\" d=\"M5728.9061,-103.9815C5735.6108,-94.9747 5742.7108,-85.4367 5749.4403,-76.3965\"/>\n<polygon fill=\"#000000\" stroke=\"#000000\" points=\"5752.3306,-78.3752 5755.4943,-68.2637 5746.7155,-74.1953 5752.3306,-78.3752\"/>\n</g>\n<!-- 90 -->\n<g id=\"node91\" class=\"node\">\n<title>90</title>\n<polygon fill=\"#ebfad7\" stroke=\"#000000\" points=\"6046.5,-68 5891.5,-68 5891.5,0 6046.5,0 6046.5,-68\"/>\n<text text-anchor=\"middle\" x=\"5969\" y=\"-52.8\" font-family=\"Times,serif\" font-size=\"14.00\" fill=\"#000000\">gini = 0.653</text>\n<text text-anchor=\"middle\" x=\"5969\" y=\"-37.8\" font-family=\"Times,serif\" font-size=\"14.00\" fill=\"#000000\">samples = 21</text>\n<text text-anchor=\"middle\" x=\"5969\" y=\"-22.8\" font-family=\"Times,serif\" font-size=\"14.00\" fill=\"#000000\">value = [6, 9, 6, 0, 0, 0]</text>\n<text text-anchor=\"middle\" x=\"5969\" y=\"-7.8\" font-family=\"Times,serif\" font-size=\"14.00\" fill=\"#000000\">class = 2</text>\n</g>\n<!-- 88&#45;&gt;90 -->\n<g id=\"edge90\" class=\"edge\">\n<title>88&#45;&gt;90</title>\n<path fill=\"none\" stroke=\"#000000\" d=\"M5795.0718,-105.5609C5823.4536,-93.8835 5854.2876,-81.1972 5882.0028,-69.7941\"/>\n<polygon fill=\"#000000\" stroke=\"#000000\" points=\"5883.3581,-73.0212 5891.2742,-65.9794 5880.6946,-66.5477 5883.3581,-73.0212\"/>\n</g>\n<!-- 92 -->\n<g id=\"node93\" class=\"node\">\n<title>92</title>\n<polygon fill=\"#a7e84c\" stroke=\"#000000\" points=\"6279.5,-425 6064.5,-425 6064.5,-342 6279.5,-342 6279.5,-425\"/>\n<text text-anchor=\"middle\" x=\"6172\" y=\"-409.8\" font-family=\"Times,serif\" font-size=\"14.00\" fill=\"#000000\">tGravityAcc&#45;energy()&#45;Y &lt;= &#45;0.974</text>\n<text text-anchor=\"middle\" x=\"6172\" y=\"-394.8\" font-family=\"Times,serif\" font-size=\"14.00\" fill=\"#000000\">gini = 0.17</text>\n<text text-anchor=\"middle\" x=\"6172\" y=\"-379.8\" font-family=\"Times,serif\" font-size=\"14.00\" fill=\"#000000\">samples = 917</text>\n<text text-anchor=\"middle\" x=\"6172\" y=\"-364.8\" font-family=\"Times,serif\" font-size=\"14.00\" fill=\"#000000\">value = [56, 833, 28, 0, 0, 0]</text>\n<text text-anchor=\"middle\" x=\"6172\" y=\"-349.8\" font-family=\"Times,serif\" font-size=\"14.00\" fill=\"#000000\">class = 2</text>\n</g>\n<!-- 91&#45;&gt;92 -->\n<g id=\"edge92\" class=\"edge\">\n<title>91&#45;&gt;92</title>\n<path fill=\"none\" stroke=\"#000000\" d=\"M6172,-460.8796C6172,-452.6838 6172,-443.9891 6172,-435.5013\"/>\n<polygon fill=\"#000000\" stroke=\"#000000\" points=\"6175.5001,-435.298 6172,-425.2981 6168.5001,-435.2981 6175.5001,-435.298\"/>\n</g>\n<!-- 103 -->\n<g id=\"node104\" class=\"node\">\n<title>103</title>\n<polygon fill=\"#eda672\" stroke=\"#000000\" points=\"6894.5,-425 6655.5,-425 6655.5,-342 6894.5,-342 6894.5,-425\"/>\n<text text-anchor=\"middle\" x=\"6775\" y=\"-409.8\" font-family=\"Times,serif\" font-size=\"14.00\" fill=\"#000000\">tGravityAccMag&#45;arCoeff()1 &lt;= &#45;0.294</text>\n<text text-anchor=\"middle\" x=\"6775\" y=\"-394.8\" font-family=\"Times,serif\" font-size=\"14.00\" fill=\"#000000\">gini = 0.406</text>\n<text text-anchor=\"middle\" x=\"6775\" y=\"-379.8\" font-family=\"Times,serif\" font-size=\"14.00\" fill=\"#000000\">samples = 80</text>\n<text text-anchor=\"middle\" x=\"6775\" y=\"-364.8\" font-family=\"Times,serif\" font-size=\"14.00\" fill=\"#000000\">value = [60, 11, 9, 0, 0, 0]</text>\n<text text-anchor=\"middle\" x=\"6775\" y=\"-349.8\" font-family=\"Times,serif\" font-size=\"14.00\" fill=\"#000000\">class = 1</text>\n</g>\n<!-- 91&#45;&gt;103 -->\n<g id=\"edge103\" class=\"edge\">\n<title>91&#45;&gt;103</title>\n<path fill=\"none\" stroke=\"#000000\" d=\"M6269.5526,-483.2483C6371.6354,-463.1026 6532.4404,-431.3683 6645.1928,-409.117\"/>\n<polygon fill=\"#000000\" stroke=\"#000000\" points=\"6646.1344,-412.4988 6655.2676,-407.1288 6644.7791,-405.6312 6646.1344,-412.4988\"/>\n</g>\n<!-- 93 -->\n<g id=\"node94\" class=\"node\">\n<title>93</title>\n<polygon fill=\"#9cf2c0\" stroke=\"#000000\" points=\"6165,-306 5925,-306 5925,-223 6165,-223 6165,-306\"/>\n<text text-anchor=\"middle\" x=\"6045\" y=\"-290.8\" font-family=\"Times,serif\" font-size=\"14.00\" fill=\"#000000\">tBodyAcc&#45;correlation()&#45;X,Y &lt;= &#45;0.205</text>\n<text text-anchor=\"middle\" x=\"6045\" y=\"-275.8\" font-family=\"Times,serif\" font-size=\"14.00\" fill=\"#000000\">gini = 0.444</text>\n<text text-anchor=\"middle\" x=\"6045\" y=\"-260.8\" font-family=\"Times,serif\" font-size=\"14.00\" fill=\"#000000\">samples = 30</text>\n<text text-anchor=\"middle\" x=\"6045\" y=\"-245.8\" font-family=\"Times,serif\" font-size=\"14.00\" fill=\"#000000\">value = [10, 0, 20, 0, 0, 0]</text>\n<text text-anchor=\"middle\" x=\"6045\" y=\"-230.8\" font-family=\"Times,serif\" font-size=\"14.00\" fill=\"#000000\">class = 3</text>\n</g>\n<!-- 92&#45;&gt;93 -->\n<g id=\"edge93\" class=\"edge\">\n<title>92&#45;&gt;93</title>\n<path fill=\"none\" stroke=\"#000000\" d=\"M6127.5816,-341.8796C6117.6814,-332.6031 6107.0991,-322.6874 6096.9269,-313.1559\"/>\n<polygon fill=\"#000000\" stroke=\"#000000\" points=\"6099.2984,-310.5816 6089.608,-306.2981 6094.5121,-315.6896 6099.2984,-310.5816\"/>\n</g>\n<!-- 96 -->\n<g id=\"node97\" class=\"node\">\n<title>96</title>\n<polygon fill=\"#a3e746\" stroke=\"#000000\" points=\"6413,-306 6183,-306 6183,-223 6413,-223 6413,-306\"/>\n<text text-anchor=\"middle\" x=\"6298\" y=\"-290.8\" font-family=\"Times,serif\" font-size=\"14.00\" fill=\"#000000\">tGravityAcc&#45;arCoeff()&#45;Y,3 &lt;= &#45;0.306</text>\n<text text-anchor=\"middle\" x=\"6298\" y=\"-275.8\" font-family=\"Times,serif\" font-size=\"14.00\" fill=\"#000000\">gini = 0.115</text>\n<text text-anchor=\"middle\" x=\"6298\" y=\"-260.8\" font-family=\"Times,serif\" font-size=\"14.00\" fill=\"#000000\">samples = 887</text>\n<text text-anchor=\"middle\" x=\"6298\" y=\"-245.8\" font-family=\"Times,serif\" font-size=\"14.00\" fill=\"#000000\">value = [46, 833, 8, 0, 0, 0]</text>\n<text text-anchor=\"middle\" x=\"6298\" y=\"-230.8\" font-family=\"Times,serif\" font-size=\"14.00\" fill=\"#000000\">class = 2</text>\n</g>\n<!-- 92&#45;&gt;96 -->\n<g id=\"edge96\" class=\"edge\">\n<title>92&#45;&gt;96</title>\n<path fill=\"none\" stroke=\"#000000\" d=\"M6216.0687,-341.8796C6225.7955,-332.6931 6236.1861,-322.8798 6246.1879,-313.4336\"/>\n<polygon fill=\"#000000\" stroke=\"#000000\" points=\"6248.8763,-315.7089 6253.7432,-306.2981 6244.0699,-310.6198 6248.8763,-315.7089\"/>\n</g>\n<!-- 94 -->\n<g id=\"node95\" class=\"node\">\n<title>94</title>\n<polygon fill=\"#39e581\" stroke=\"#000000\" points=\"5975,-179.5 5813,-179.5 5813,-111.5 5975,-111.5 5975,-179.5\"/>\n<text text-anchor=\"middle\" x=\"5894\" y=\"-164.3\" font-family=\"Times,serif\" font-size=\"14.00\" fill=\"#000000\">gini = 0.0</text>\n<text text-anchor=\"middle\" x=\"5894\" y=\"-149.3\" font-family=\"Times,serif\" font-size=\"14.00\" fill=\"#000000\">samples = 20</text>\n<text text-anchor=\"middle\" x=\"5894\" y=\"-134.3\" font-family=\"Times,serif\" font-size=\"14.00\" fill=\"#000000\">value = [0, 0, 20, 0, 0, 0]</text>\n<text text-anchor=\"middle\" x=\"5894\" y=\"-119.3\" font-family=\"Times,serif\" font-size=\"14.00\" fill=\"#000000\">class = 3</text>\n</g>\n<!-- 93&#45;&gt;94 -->\n<g id=\"edge94\" class=\"edge\">\n<title>93&#45;&gt;94</title>\n<path fill=\"none\" stroke=\"#000000\" d=\"M5992.1875,-222.8796C5977.1183,-211.0038 5960.7197,-198.0804 5945.7166,-186.2568\"/>\n<polygon fill=\"#000000\" stroke=\"#000000\" points=\"5947.5631,-183.2557 5937.5425,-179.8149 5943.2302,-188.7536 5947.5631,-183.2557\"/>\n</g>\n<!-- 95 -->\n<g id=\"node96\" class=\"node\">\n<title>95</title>\n<polygon fill=\"#e58139\" stroke=\"#000000\" points=\"6155,-179.5 5993,-179.5 5993,-111.5 6155,-111.5 6155,-179.5\"/>\n<text text-anchor=\"middle\" x=\"6074\" y=\"-164.3\" font-family=\"Times,serif\" font-size=\"14.00\" fill=\"#000000\">gini = 0.0</text>\n<text text-anchor=\"middle\" x=\"6074\" y=\"-149.3\" font-family=\"Times,serif\" font-size=\"14.00\" fill=\"#000000\">samples = 10</text>\n<text text-anchor=\"middle\" x=\"6074\" y=\"-134.3\" font-family=\"Times,serif\" font-size=\"14.00\" fill=\"#000000\">value = [10, 0, 0, 0, 0, 0]</text>\n<text text-anchor=\"middle\" x=\"6074\" y=\"-119.3\" font-family=\"Times,serif\" font-size=\"14.00\" fill=\"#000000\">class = 1</text>\n</g>\n<!-- 93&#45;&gt;95 -->\n<g id=\"edge95\" class=\"edge\">\n<title>93&#45;&gt;95</title>\n<path fill=\"none\" stroke=\"#000000\" d=\"M6055.1428,-222.8796C6057.7689,-212.1034 6060.6052,-200.4647 6063.2608,-189.5677\"/>\n<polygon fill=\"#000000\" stroke=\"#000000\" points=\"6066.6703,-190.3593 6065.6375,-179.8149 6059.8693,-188.7019 6066.6703,-190.3593\"/>\n</g>\n<!-- 97 -->\n<g id=\"node98\" class=\"node\">\n<title>97</title>\n<polygon fill=\"#a0e640\" stroke=\"#000000\" points=\"6364.5,-187 6173.5,-187 6173.5,-104 6364.5,-104 6364.5,-187\"/>\n<text text-anchor=\"middle\" x=\"6269\" y=\"-171.8\" font-family=\"Times,serif\" font-size=\"14.00\" fill=\"#000000\">tBodyAcc&#45;max()&#45;X &lt;= &#45;0.364</text>\n<text text-anchor=\"middle\" x=\"6269\" y=\"-156.8\" font-family=\"Times,serif\" font-size=\"14.00\" fill=\"#000000\">gini = 0.066</text>\n<text text-anchor=\"middle\" x=\"6269\" y=\"-141.8\" font-family=\"Times,serif\" font-size=\"14.00\" fill=\"#000000\">samples = 827</text>\n<text text-anchor=\"middle\" x=\"6269\" y=\"-126.8\" font-family=\"Times,serif\" font-size=\"14.00\" fill=\"#000000\">value = [21, 799, 7, 0, 0, 0]</text>\n<text text-anchor=\"middle\" x=\"6269\" y=\"-111.8\" font-family=\"Times,serif\" font-size=\"14.00\" fill=\"#000000\">class = 2</text>\n</g>\n<!-- 96&#45;&gt;97 -->\n<g id=\"edge97\" class=\"edge\">\n<title>96&#45;&gt;97</title>\n<path fill=\"none\" stroke=\"#000000\" d=\"M6287.8572,-222.8796C6285.838,-214.5938 6283.6945,-205.798 6281.6044,-197.2216\"/>\n<polygon fill=\"#000000\" stroke=\"#000000\" points=\"6284.9543,-196.185 6279.1861,-187.2981 6278.1534,-197.8425 6284.9543,-196.185\"/>\n</g>\n<!-- 100 -->\n<g id=\"node101\" class=\"node\">\n<title>100</title>\n<polygon fill=\"#e6f8cc\" stroke=\"#000000\" points=\"6645.5,-187 6382.5,-187 6382.5,-104 6645.5,-104 6645.5,-187\"/>\n<text text-anchor=\"middle\" x=\"6514\" y=\"-171.8\" font-family=\"Times,serif\" font-size=\"14.00\" fill=\"#000000\">tBodyAccJerk&#45;correlation()&#45;X,Y &lt;= &#45;0.003</text>\n<text text-anchor=\"middle\" x=\"6514\" y=\"-156.8\" font-family=\"Times,serif\" font-size=\"14.00\" fill=\"#000000\">gini = 0.505</text>\n<text text-anchor=\"middle\" x=\"6514\" y=\"-141.8\" font-family=\"Times,serif\" font-size=\"14.00\" fill=\"#000000\">samples = 60</text>\n<text text-anchor=\"middle\" x=\"6514\" y=\"-126.8\" font-family=\"Times,serif\" font-size=\"14.00\" fill=\"#000000\">value = [25, 34, 1, 0, 0, 0]</text>\n<text text-anchor=\"middle\" x=\"6514\" y=\"-111.8\" font-family=\"Times,serif\" font-size=\"14.00\" fill=\"#000000\">class = 2</text>\n</g>\n<!-- 96&#45;&gt;100 -->\n<g id=\"edge100\" class=\"edge\">\n<title>96&#45;&gt;100</title>\n<path fill=\"none\" stroke=\"#000000\" d=\"M6373.5463,-222.8796C6391.6332,-212.915 6411.0589,-202.2129 6429.5207,-192.0418\"/>\n<polygon fill=\"#000000\" stroke=\"#000000\" points=\"6431.4265,-194.9879 6438.4963,-187.0969 6428.0487,-188.8568 6431.4265,-194.9879\"/>\n</g>\n<!-- 98 -->\n<g id=\"node99\" class=\"node\">\n<title>98</title>\n<polygon fill=\"#ffffff\" stroke=\"#000000\" points=\"6219.5,-68 6064.5,-68 6064.5,0 6219.5,0 6219.5,-68\"/>\n<text text-anchor=\"middle\" x=\"6142\" y=\"-52.8\" font-family=\"Times,serif\" font-size=\"14.00\" fill=\"#000000\">gini = 0.5</text>\n<text text-anchor=\"middle\" x=\"6142\" y=\"-37.8\" font-family=\"Times,serif\" font-size=\"14.00\" fill=\"#000000\">samples = 18</text>\n<text text-anchor=\"middle\" x=\"6142\" y=\"-22.8\" font-family=\"Times,serif\" font-size=\"14.00\" fill=\"#000000\">value = [9, 9, 0, 0, 0, 0]</text>\n<text text-anchor=\"middle\" x=\"6142\" y=\"-7.8\" font-family=\"Times,serif\" font-size=\"14.00\" fill=\"#000000\">class = 1</text>\n</g>\n<!-- 97&#45;&gt;98 -->\n<g id=\"edge98\" class=\"edge\">\n<title>97&#45;&gt;98</title>\n<path fill=\"none\" stroke=\"#000000\" d=\"M6221.7099,-103.9815C6210.9275,-94.5151 6199.477,-84.462 6188.7187,-75.0168\"/>\n<polygon fill=\"#000000\" stroke=\"#000000\" points=\"6190.8507,-72.2311 6181.0268,-68.2637 6186.2324,-77.4915 6190.8507,-72.2311\"/>\n</g>\n<!-- 99 -->\n<g id=\"node100\" class=\"node\">\n<title>99</title>\n<polygon fill=\"#9fe63e\" stroke=\"#000000\" points=\"6414.5,-68 6237.5,-68 6237.5,0 6414.5,0 6414.5,-68\"/>\n<text text-anchor=\"middle\" x=\"6326\" y=\"-52.8\" font-family=\"Times,serif\" font-size=\"14.00\" fill=\"#000000\">gini = 0.046</text>\n<text text-anchor=\"middle\" x=\"6326\" y=\"-37.8\" font-family=\"Times,serif\" font-size=\"14.00\" fill=\"#000000\">samples = 809</text>\n<text text-anchor=\"middle\" x=\"6326\" y=\"-22.8\" font-family=\"Times,serif\" font-size=\"14.00\" fill=\"#000000\">value = [12, 790, 7, 0, 0, 0]</text>\n<text text-anchor=\"middle\" x=\"6326\" y=\"-7.8\" font-family=\"Times,serif\" font-size=\"14.00\" fill=\"#000000\">class = 2</text>\n</g>\n<!-- 97&#45;&gt;99 -->\n<g id=\"edge99\" class=\"edge\">\n<title>97&#45;&gt;99</title>\n<path fill=\"none\" stroke=\"#000000\" d=\"M6290.2247,-103.9815C6294.6881,-95.2504 6299.4067,-86.0202 6303.9013,-77.2281\"/>\n<polygon fill=\"#000000\" stroke=\"#000000\" points=\"6307.0486,-78.7608 6308.484,-68.2637 6300.8158,-75.5745 6307.0486,-78.7608\"/>\n</g>\n<!-- 101 -->\n<g id=\"node102\" class=\"node\">\n<title>101</title>\n<polygon fill=\"#b2eb63\" stroke=\"#000000\" points=\"6595,-68 6433,-68 6433,0 6595,0 6595,-68\"/>\n<text text-anchor=\"middle\" x=\"6514\" y=\"-52.8\" font-family=\"Times,serif\" font-size=\"14.00\" fill=\"#000000\">gini = 0.302</text>\n<text text-anchor=\"middle\" x=\"6514\" y=\"-37.8\" font-family=\"Times,serif\" font-size=\"14.00\" fill=\"#000000\">samples = 39</text>\n<text text-anchor=\"middle\" x=\"6514\" y=\"-22.8\" font-family=\"Times,serif\" font-size=\"14.00\" fill=\"#000000\">value = [6, 32, 1, 0, 0, 0]</text>\n<text text-anchor=\"middle\" x=\"6514\" y=\"-7.8\" font-family=\"Times,serif\" font-size=\"14.00\" fill=\"#000000\">class = 2</text>\n</g>\n<!-- 100&#45;&gt;101 -->\n<g id=\"edge101\" class=\"edge\">\n<title>100&#45;&gt;101</title>\n<path fill=\"none\" stroke=\"#000000\" d=\"M6514,-103.9815C6514,-95.618 6514,-86.7965 6514,-78.3409\"/>\n<polygon fill=\"#000000\" stroke=\"#000000\" points=\"6517.5001,-78.2636 6514,-68.2637 6510.5001,-78.2637 6517.5001,-78.2636\"/>\n</g>\n<!-- 102 -->\n<g id=\"node103\" class=\"node\">\n<title>102</title>\n<polygon fill=\"#e88e4e\" stroke=\"#000000\" points=\"6775,-68 6613,-68 6613,0 6775,0 6775,-68\"/>\n<text text-anchor=\"middle\" x=\"6694\" y=\"-52.8\" font-family=\"Times,serif\" font-size=\"14.00\" fill=\"#000000\">gini = 0.172</text>\n<text text-anchor=\"middle\" x=\"6694\" y=\"-37.8\" font-family=\"Times,serif\" font-size=\"14.00\" fill=\"#000000\">samples = 21</text>\n<text text-anchor=\"middle\" x=\"6694\" y=\"-22.8\" font-family=\"Times,serif\" font-size=\"14.00\" fill=\"#000000\">value = [19, 2, 0, 0, 0, 0]</text>\n<text text-anchor=\"middle\" x=\"6694\" y=\"-7.8\" font-family=\"Times,serif\" font-size=\"14.00\" fill=\"#000000\">class = 1</text>\n</g>\n<!-- 100&#45;&gt;102 -->\n<g id=\"edge102\" class=\"edge\">\n<title>100&#45;&gt;102</title>\n<path fill=\"none\" stroke=\"#000000\" d=\"M6581.0254,-103.9815C6597.1336,-94.0034 6614.2941,-83.3733 6630.2487,-73.4904\"/>\n<polygon fill=\"#000000\" stroke=\"#000000\" points=\"6632.3158,-76.3271 6638.9739,-68.0856 6628.6296,-70.3763 6632.3158,-76.3271\"/>\n</g>\n<!-- 104 -->\n<g id=\"node105\" class=\"node\">\n<title>104</title>\n<polygon fill=\"#caf193\" stroke=\"#000000\" points=\"6923,-306 6627,-306 6627,-223 6923,-223 6923,-306\"/>\n<text text-anchor=\"middle\" x=\"6775\" y=\"-290.8\" font-family=\"Times,serif\" font-size=\"14.00\" fill=\"#000000\">fBodyAccJerk&#45;bandsEnergy()&#45;49,64_2 &lt;= &#45;0.92</text>\n<text text-anchor=\"middle\" x=\"6775\" y=\"-275.8\" font-family=\"Times,serif\" font-size=\"14.00\" fill=\"#000000\">gini = 0.43</text>\n<text text-anchor=\"middle\" x=\"6775\" y=\"-260.8\" font-family=\"Times,serif\" font-size=\"14.00\" fill=\"#000000\">samples = 16</text>\n<text text-anchor=\"middle\" x=\"6775\" y=\"-245.8\" font-family=\"Times,serif\" font-size=\"14.00\" fill=\"#000000\">value = [0, 11, 5, 0, 0, 0]</text>\n<text text-anchor=\"middle\" x=\"6775\" y=\"-230.8\" font-family=\"Times,serif\" font-size=\"14.00\" fill=\"#000000\">class = 2</text>\n</g>\n<!-- 103&#45;&gt;104 -->\n<g id=\"edge104\" class=\"edge\">\n<title>103&#45;&gt;104</title>\n<path fill=\"none\" stroke=\"#000000\" d=\"M6775,-341.8796C6775,-333.6838 6775,-324.9891 6775,-316.5013\"/>\n<polygon fill=\"#000000\" stroke=\"#000000\" points=\"6778.5001,-316.298 6775,-306.2981 6771.5001,-316.2981 6778.5001,-316.298\"/>\n</g>\n<!-- 107 -->\n<g id=\"node108\" class=\"node\">\n<title>107</title>\n<polygon fill=\"#e78946\" stroke=\"#000000\" points=\"7213,-306 6973,-306 6973,-223 7213,-223 7213,-306\"/>\n<text text-anchor=\"middle\" x=\"7093\" y=\"-290.8\" font-family=\"Times,serif\" font-size=\"14.00\" fill=\"#000000\">tBodyAcc&#45;correlation()&#45;X,Y &lt;= &#45;0.348</text>\n<text text-anchor=\"middle\" x=\"7093\" y=\"-275.8\" font-family=\"Times,serif\" font-size=\"14.00\" fill=\"#000000\">gini = 0.117</text>\n<text text-anchor=\"middle\" x=\"7093\" y=\"-260.8\" font-family=\"Times,serif\" font-size=\"14.00\" fill=\"#000000\">samples = 64</text>\n<text text-anchor=\"middle\" x=\"7093\" y=\"-245.8\" font-family=\"Times,serif\" font-size=\"14.00\" fill=\"#000000\">value = [60, 0, 4, 0, 0, 0]</text>\n<text text-anchor=\"middle\" x=\"7093\" y=\"-230.8\" font-family=\"Times,serif\" font-size=\"14.00\" fill=\"#000000\">class = 1</text>\n</g>\n<!-- 103&#45;&gt;107 -->\n<g id=\"edge107\" class=\"edge\">\n<title>103&#45;&gt;107</title>\n<path fill=\"none\" stroke=\"#000000\" d=\"M6886.221,-341.8796C6914.0593,-331.4621 6944.0518,-320.2385 6972.325,-309.6582\"/>\n<polygon fill=\"#000000\" stroke=\"#000000\" points=\"6973.7028,-312.8798 6981.8418,-306.0969 6971.2494,-306.3238 6973.7028,-312.8798\"/>\n</g>\n<!-- 105 -->\n<g id=\"node106\" class=\"node\">\n<title>105</title>\n<polygon fill=\"#9de539\" stroke=\"#000000\" points=\"6824.5,-179.5 6663.5,-179.5 6663.5,-111.5 6824.5,-111.5 6824.5,-179.5\"/>\n<text text-anchor=\"middle\" x=\"6744\" y=\"-164.3\" font-family=\"Times,serif\" font-size=\"14.00\" fill=\"#000000\">gini = 0.0</text>\n<text text-anchor=\"middle\" x=\"6744\" y=\"-149.3\" font-family=\"Times,serif\" font-size=\"14.00\" fill=\"#000000\">samples = 11</text>\n<text text-anchor=\"middle\" x=\"6744\" y=\"-134.3\" font-family=\"Times,serif\" font-size=\"14.00\" fill=\"#000000\">value = [0, 11, 0, 0, 0, 0]</text>\n<text text-anchor=\"middle\" x=\"6744\" y=\"-119.3\" font-family=\"Times,serif\" font-size=\"14.00\" fill=\"#000000\">class = 2</text>\n</g>\n<!-- 104&#45;&gt;105 -->\n<g id=\"edge105\" class=\"edge\">\n<title>104&#45;&gt;105</title>\n<path fill=\"none\" stroke=\"#000000\" d=\"M6764.1577,-222.8796C6761.3505,-212.1034 6758.3185,-200.4647 6755.4798,-189.5677\"/>\n<polygon fill=\"#000000\" stroke=\"#000000\" points=\"6758.8471,-188.6096 6752.9392,-179.8149 6752.0732,-190.3743 6758.8471,-188.6096\"/>\n</g>\n<!-- 106 -->\n<g id=\"node107\" class=\"node\">\n<title>106</title>\n<polygon fill=\"#39e581\" stroke=\"#000000\" points=\"6997.5,-179.5 6842.5,-179.5 6842.5,-111.5 6997.5,-111.5 6997.5,-179.5\"/>\n<text text-anchor=\"middle\" x=\"6920\" y=\"-164.3\" font-family=\"Times,serif\" font-size=\"14.00\" fill=\"#000000\">gini = 0.0</text>\n<text text-anchor=\"middle\" x=\"6920\" y=\"-149.3\" font-family=\"Times,serif\" font-size=\"14.00\" fill=\"#000000\">samples = 5</text>\n<text text-anchor=\"middle\" x=\"6920\" y=\"-134.3\" font-family=\"Times,serif\" font-size=\"14.00\" fill=\"#000000\">value = [0, 0, 5, 0, 0, 0]</text>\n<text text-anchor=\"middle\" x=\"6920\" y=\"-119.3\" font-family=\"Times,serif\" font-size=\"14.00\" fill=\"#000000\">class = 3</text>\n</g>\n<!-- 104&#45;&gt;106 -->\n<g id=\"edge106\" class=\"edge\">\n<title>104&#45;&gt;106</title>\n<path fill=\"none\" stroke=\"#000000\" d=\"M6825.714,-222.8796C6840.1844,-211.0038 6855.9314,-198.0804 6870.3383,-186.2568\"/>\n<polygon fill=\"#000000\" stroke=\"#000000\" points=\"6872.678,-188.8645 6878.1877,-179.8149 6868.2372,-183.4534 6872.678,-188.8645\"/>\n</g>\n<!-- 108 -->\n<g id=\"node109\" class=\"node\">\n<title>108</title>\n<polygon fill=\"#39e581\" stroke=\"#000000\" points=\"7170.5,-179.5 7015.5,-179.5 7015.5,-111.5 7170.5,-111.5 7170.5,-179.5\"/>\n<text text-anchor=\"middle\" x=\"7093\" y=\"-164.3\" font-family=\"Times,serif\" font-size=\"14.00\" fill=\"#000000\">gini = 0.0</text>\n<text text-anchor=\"middle\" x=\"7093\" y=\"-149.3\" font-family=\"Times,serif\" font-size=\"14.00\" fill=\"#000000\">samples = 3</text>\n<text text-anchor=\"middle\" x=\"7093\" y=\"-134.3\" font-family=\"Times,serif\" font-size=\"14.00\" fill=\"#000000\">value = [0, 0, 3, 0, 0, 0]</text>\n<text text-anchor=\"middle\" x=\"7093\" y=\"-119.3\" font-family=\"Times,serif\" font-size=\"14.00\" fill=\"#000000\">class = 3</text>\n</g>\n<!-- 107&#45;&gt;108 -->\n<g id=\"edge108\" class=\"edge\">\n<title>107&#45;&gt;108</title>\n<path fill=\"none\" stroke=\"#000000\" d=\"M7093,-222.8796C7093,-212.2134 7093,-200.7021 7093,-189.9015\"/>\n<polygon fill=\"#000000\" stroke=\"#000000\" points=\"7096.5001,-189.8149 7093,-179.8149 7089.5001,-189.815 7096.5001,-189.8149\"/>\n</g>\n<!-- 109 -->\n<g id=\"node110\" class=\"node\">\n<title>109</title>\n<polygon fill=\"#e5833c\" stroke=\"#000000\" points=\"7403.5,-187 7188.5,-187 7188.5,-104 7403.5,-104 7403.5,-187\"/>\n<text text-anchor=\"middle\" x=\"7296\" y=\"-171.8\" font-family=\"Times,serif\" font-size=\"14.00\" fill=\"#000000\">tBodyAcc&#45;arCoeff()&#45;X,4 &lt;= 0.607</text>\n<text text-anchor=\"middle\" x=\"7296\" y=\"-156.8\" font-family=\"Times,serif\" font-size=\"14.00\" fill=\"#000000\">gini = 0.032</text>\n<text text-anchor=\"middle\" x=\"7296\" y=\"-141.8\" font-family=\"Times,serif\" font-size=\"14.00\" fill=\"#000000\">samples = 61</text>\n<text text-anchor=\"middle\" x=\"7296\" y=\"-126.8\" font-family=\"Times,serif\" font-size=\"14.00\" fill=\"#000000\">value = [60, 0, 1, 0, 0, 0]</text>\n<text text-anchor=\"middle\" x=\"7296\" y=\"-111.8\" font-family=\"Times,serif\" font-size=\"14.00\" fill=\"#000000\">class = 1</text>\n</g>\n<!-- 107&#45;&gt;109 -->\n<g id=\"edge109\" class=\"edge\">\n<title>107&#45;&gt;109</title>\n<path fill=\"none\" stroke=\"#000000\" d=\"M7163.9995,-222.8796C7180.8434,-213.0056 7198.9226,-202.4075 7216.1317,-192.3193\"/>\n<polygon fill=\"#000000\" stroke=\"#000000\" points=\"7218.1836,-195.1736 7225.0405,-187.0969 7214.6435,-189.1347 7218.1836,-195.1736\"/>\n</g>\n<!-- 110 -->\n<g id=\"node111\" class=\"node\">\n<title>110</title>\n<polygon fill=\"#e58139\" stroke=\"#000000\" points=\"7288,-68 7126,-68 7126,0 7288,0 7288,-68\"/>\n<text text-anchor=\"middle\" x=\"7207\" y=\"-52.8\" font-family=\"Times,serif\" font-size=\"14.00\" fill=\"#000000\">gini = 0.0</text>\n<text text-anchor=\"middle\" x=\"7207\" y=\"-37.8\" font-family=\"Times,serif\" font-size=\"14.00\" fill=\"#000000\">samples = 60</text>\n<text text-anchor=\"middle\" x=\"7207\" y=\"-22.8\" font-family=\"Times,serif\" font-size=\"14.00\" fill=\"#000000\">value = [60, 0, 0, 0, 0, 0]</text>\n<text text-anchor=\"middle\" x=\"7207\" y=\"-7.8\" font-family=\"Times,serif\" font-size=\"14.00\" fill=\"#000000\">class = 1</text>\n</g>\n<!-- 109&#45;&gt;110 -->\n<g id=\"edge110\" class=\"edge\">\n<title>109&#45;&gt;110</title>\n<path fill=\"none\" stroke=\"#000000\" d=\"M7262.8597,-103.9815C7255.597,-94.8828 7247.9017,-85.242 7240.6204,-76.1199\"/>\n<polygon fill=\"#000000\" stroke=\"#000000\" points=\"7243.3234,-73.8958 7234.3495,-68.2637 7237.8525,-78.2627 7243.3234,-73.8958\"/>\n</g>\n<!-- 111 -->\n<g id=\"node112\" class=\"node\">\n<title>111</title>\n<polygon fill=\"#39e581\" stroke=\"#000000\" points=\"7461.5,-68 7306.5,-68 7306.5,0 7461.5,0 7461.5,-68\"/>\n<text text-anchor=\"middle\" x=\"7384\" y=\"-52.8\" font-family=\"Times,serif\" font-size=\"14.00\" fill=\"#000000\">gini = 0.0</text>\n<text text-anchor=\"middle\" x=\"7384\" y=\"-37.8\" font-family=\"Times,serif\" font-size=\"14.00\" fill=\"#000000\">samples = 1</text>\n<text text-anchor=\"middle\" x=\"7384\" y=\"-22.8\" font-family=\"Times,serif\" font-size=\"14.00\" fill=\"#000000\">value = [0, 0, 1, 0, 0, 0]</text>\n<text text-anchor=\"middle\" x=\"7384\" y=\"-7.8\" font-family=\"Times,serif\" font-size=\"14.00\" fill=\"#000000\">class = 3</text>\n</g>\n<!-- 109&#45;&gt;111 -->\n<g id=\"edge111\" class=\"edge\">\n<title>109&#45;&gt;111</title>\n<path fill=\"none\" stroke=\"#000000\" d=\"M7328.768,-103.9815C7335.949,-94.8828 7343.5579,-85.242 7350.7574,-76.1199\"/>\n<polygon fill=\"#000000\" stroke=\"#000000\" points=\"7353.5099,-78.2818 7356.9578,-68.2637 7348.0151,-73.9451 7353.5099,-78.2818\"/>\n</g>\n<!-- 113 -->\n<g id=\"node114\" class=\"node\">\n<title>113</title>\n<polygon fill=\"#44e788\" stroke=\"#000000\" points=\"7749.5,-544 7518.5,-544 7518.5,-461 7749.5,-461 7749.5,-544\"/>\n<text text-anchor=\"middle\" x=\"7634\" y=\"-528.8\" font-family=\"Times,serif\" font-size=\"14.00\" fill=\"#000000\">tGravityAcc&#45;arCoeff()&#45;X,3 &lt;= &#45;0.445</text>\n<text text-anchor=\"middle\" x=\"7634\" y=\"-513.8\" font-family=\"Times,serif\" font-size=\"14.00\" fill=\"#000000\">gini = 0.107</text>\n<text text-anchor=\"middle\" x=\"7634\" y=\"-498.8\" font-family=\"Times,serif\" font-size=\"14.00\" fill=\"#000000\">samples = 860</text>\n<text text-anchor=\"middle\" x=\"7634\" y=\"-483.8\" font-family=\"Times,serif\" font-size=\"14.00\" fill=\"#000000\">value = [17, 31, 812, 0, 0, 0]</text>\n<text text-anchor=\"middle\" x=\"7634\" y=\"-468.8\" font-family=\"Times,serif\" font-size=\"14.00\" fill=\"#000000\">class = 3</text>\n</g>\n<!-- 112&#45;&gt;113 -->\n<g id=\"edge113\" class=\"edge\">\n<title>112&#45;&gt;113</title>\n<path fill=\"none\" stroke=\"#000000\" d=\"M7634,-579.8796C7634,-571.6838 7634,-562.9891 7634,-554.5013\"/>\n<polygon fill=\"#000000\" stroke=\"#000000\" points=\"7637.5001,-554.298 7634,-544.2981 7630.5001,-554.2981 7637.5001,-554.298\"/>\n</g>\n<!-- 124 -->\n<g id=\"node125\" class=\"node\">\n<title>124</title>\n<polygon fill=\"#a7e84e\" stroke=\"#000000\" points=\"8127.5,-544 7846.5,-544 7846.5,-461 8127.5,-461 8127.5,-544\"/>\n<text text-anchor=\"middle\" x=\"7987\" y=\"-528.8\" font-family=\"Times,serif\" font-size=\"14.00\" fill=\"#000000\">fBodyAccJerk&#45;bandsEnergy()&#45;1,24 &lt;= &#45;0.475</text>\n<text text-anchor=\"middle\" x=\"7987\" y=\"-513.8\" font-family=\"Times,serif\" font-size=\"14.00\" fill=\"#000000\">gini = 0.182</text>\n<text text-anchor=\"middle\" x=\"7987\" y=\"-498.8\" font-family=\"Times,serif\" font-size=\"14.00\" fill=\"#000000\">samples = 61</text>\n<text text-anchor=\"middle\" x=\"7987\" y=\"-483.8\" font-family=\"Times,serif\" font-size=\"14.00\" fill=\"#000000\">value = [2, 55, 4, 0, 0, 0]</text>\n<text text-anchor=\"middle\" x=\"7987\" y=\"-468.8\" font-family=\"Times,serif\" font-size=\"14.00\" fill=\"#000000\">class = 2</text>\n</g>\n<!-- 112&#45;&gt;124 -->\n<g id=\"edge124\" class=\"edge\">\n<title>112&#45;&gt;124</title>\n<path fill=\"none\" stroke=\"#000000\" d=\"M7754.9887,-580.7134C7786.9594,-569.9358 7821.6354,-558.2461 7854.1946,-547.2701\"/>\n<polygon fill=\"#000000\" stroke=\"#000000\" points=\"7855.4121,-550.5533 7863.7701,-544.0421 7853.1759,-543.92 7855.4121,-550.5533\"/>\n</g>\n<!-- 114 -->\n<g id=\"node115\" class=\"node\">\n<title>114</title>\n<polygon fill=\"#42e687\" stroke=\"#000000\" points=\"7708,-425 7404,-425 7404,-342 7708,-342 7708,-425\"/>\n<text text-anchor=\"middle\" x=\"7556\" y=\"-409.8\" font-family=\"Times,serif\" font-size=\"14.00\" fill=\"#000000\">fBodyAccJerk&#45;bandsEnergy()&#45;17,32_2 &lt;= &#45;0.964</text>\n<text text-anchor=\"middle\" x=\"7556\" y=\"-394.8\" font-family=\"Times,serif\" font-size=\"14.00\" fill=\"#000000\">gini = 0.086</text>\n<text text-anchor=\"middle\" x=\"7556\" y=\"-379.8\" font-family=\"Times,serif\" font-size=\"14.00\" fill=\"#000000\">samples = 847</text>\n<text text-anchor=\"middle\" x=\"7556\" y=\"-364.8\" font-family=\"Times,serif\" font-size=\"14.00\" fill=\"#000000\">value = [7, 31, 809, 0, 0, 0]</text>\n<text text-anchor=\"middle\" x=\"7556\" y=\"-349.8\" font-family=\"Times,serif\" font-size=\"14.00\" fill=\"#000000\">class = 3</text>\n</g>\n<!-- 113&#45;&gt;114 -->\n<g id=\"edge114\" class=\"edge\">\n<title>113&#45;&gt;114</title>\n<path fill=\"none\" stroke=\"#000000\" d=\"M7606.7194,-460.8796C7600.9932,-452.1434 7594.8954,-442.8404 7588.9863,-433.8253\"/>\n<polygon fill=\"#000000\" stroke=\"#000000\" points=\"7591.8063,-431.7429 7583.3971,-425.2981 7585.9518,-435.5803 7591.8063,-431.7429\"/>\n</g>\n<!-- 123 -->\n<g id=\"node124\" class=\"node\">\n<title>123</title>\n<polygon fill=\"#eda774\" stroke=\"#000000\" points=\"7888,-417.5 7726,-417.5 7726,-349.5 7888,-349.5 7888,-417.5\"/>\n<text text-anchor=\"middle\" x=\"7807\" y=\"-402.3\" font-family=\"Times,serif\" font-size=\"14.00\" fill=\"#000000\">gini = 0.355</text>\n<text text-anchor=\"middle\" x=\"7807\" y=\"-387.3\" font-family=\"Times,serif\" font-size=\"14.00\" fill=\"#000000\">samples = 13</text>\n<text text-anchor=\"middle\" x=\"7807\" y=\"-372.3\" font-family=\"Times,serif\" font-size=\"14.00\" fill=\"#000000\">value = [10, 0, 3, 0, 0, 0]</text>\n<text text-anchor=\"middle\" x=\"7807\" y=\"-357.3\" font-family=\"Times,serif\" font-size=\"14.00\" fill=\"#000000\">class = 1</text>\n</g>\n<!-- 113&#45;&gt;123 -->\n<g id=\"edge123\" class=\"edge\">\n<title>113&#45;&gt;123</title>\n<path fill=\"none\" stroke=\"#000000\" d=\"M7694.507,-460.8796C7712.1752,-448.7263 7731.4385,-435.4759 7748.9509,-423.4297\"/>\n<polygon fill=\"#000000\" stroke=\"#000000\" points=\"7751.1371,-426.1741 7757.3926,-417.623 7747.1699,-420.4067 7751.1371,-426.1741\"/>\n</g>\n<!-- 115 -->\n<g id=\"node116\" class=\"node\">\n<title>115</title>\n<polygon fill=\"#f8fdf1\" stroke=\"#000000\" points=\"7681.5,-306 7430.5,-306 7430.5,-223 7681.5,-223 7681.5,-306\"/>\n<text text-anchor=\"middle\" x=\"7556\" y=\"-290.8\" font-family=\"Times,serif\" font-size=\"14.00\" fill=\"#000000\">fBodyAcc&#45;bandsEnergy()&#45;1,8 &lt;= &#45;0.387</text>\n<text text-anchor=\"middle\" x=\"7556\" y=\"-275.8\" font-family=\"Times,serif\" font-size=\"14.00\" fill=\"#000000\">gini = 0.499</text>\n<text text-anchor=\"middle\" x=\"7556\" y=\"-260.8\" font-family=\"Times,serif\" font-size=\"14.00\" fill=\"#000000\">samples = 27</text>\n<text text-anchor=\"middle\" x=\"7556\" y=\"-245.8\" font-family=\"Times,serif\" font-size=\"14.00\" fill=\"#000000\">value = [0, 14, 13, 0, 0, 0]</text>\n<text text-anchor=\"middle\" x=\"7556\" y=\"-230.8\" font-family=\"Times,serif\" font-size=\"14.00\" fill=\"#000000\">class = 2</text>\n</g>\n<!-- 114&#45;&gt;115 -->\n<g id=\"edge115\" class=\"edge\">\n<title>114&#45;&gt;115</title>\n<path fill=\"none\" stroke=\"#000000\" d=\"M7556,-341.8796C7556,-333.6838 7556,-324.9891 7556,-316.5013\"/>\n<polygon fill=\"#000000\" stroke=\"#000000\" points=\"7559.5001,-316.298 7556,-306.2981 7552.5001,-316.2981 7559.5001,-316.298\"/>\n</g>\n<!-- 118 -->\n<g id=\"node119\" class=\"node\">\n<title>118</title>\n<polygon fill=\"#3fe685\" stroke=\"#000000\" points=\"7967,-306 7753,-306 7753,-223 7967,-223 7967,-306\"/>\n<text text-anchor=\"middle\" x=\"7860\" y=\"-290.8\" font-family=\"Times,serif\" font-size=\"14.00\" fill=\"#000000\">tBodyAccJerk&#45;max()&#45;X &lt;= &#45;0.512</text>\n<text text-anchor=\"middle\" x=\"7860\" y=\"-275.8\" font-family=\"Times,serif\" font-size=\"14.00\" fill=\"#000000\">gini = 0.057</text>\n<text text-anchor=\"middle\" x=\"7860\" y=\"-260.8\" font-family=\"Times,serif\" font-size=\"14.00\" fill=\"#000000\">samples = 820</text>\n<text text-anchor=\"middle\" x=\"7860\" y=\"-245.8\" font-family=\"Times,serif\" font-size=\"14.00\" fill=\"#000000\">value = [7, 17, 796, 0, 0, 0]</text>\n<text text-anchor=\"middle\" x=\"7860\" y=\"-230.8\" font-family=\"Times,serif\" font-size=\"14.00\" fill=\"#000000\">class = 3</text>\n</g>\n<!-- 114&#45;&gt;118 -->\n<g id=\"edge118\" class=\"edge\">\n<title>114&#45;&gt;118</title>\n<path fill=\"none\" stroke=\"#000000\" d=\"M7662.3244,-341.8796C7688.8215,-331.5074 7717.3599,-320.3361 7744.2851,-309.7963\"/>\n<polygon fill=\"#000000\" stroke=\"#000000\" points=\"7745.6994,-313.0013 7753.7356,-306.0969 7743.1478,-306.4829 7745.6994,-313.0013\"/>\n</g>\n<!-- 116 -->\n<g id=\"node117\" class=\"node\">\n<title>116</title>\n<polygon fill=\"#9de539\" stroke=\"#000000\" points=\"7584,-179.5 7422,-179.5 7422,-111.5 7584,-111.5 7584,-179.5\"/>\n<text text-anchor=\"middle\" x=\"7503\" y=\"-164.3\" font-family=\"Times,serif\" font-size=\"14.00\" fill=\"#000000\">gini = 0.0</text>\n<text text-anchor=\"middle\" x=\"7503\" y=\"-149.3\" font-family=\"Times,serif\" font-size=\"14.00\" fill=\"#000000\">samples = 14</text>\n<text text-anchor=\"middle\" x=\"7503\" y=\"-134.3\" font-family=\"Times,serif\" font-size=\"14.00\" fill=\"#000000\">value = [0, 14, 0, 0, 0, 0]</text>\n<text text-anchor=\"middle\" x=\"7503\" y=\"-119.3\" font-family=\"Times,serif\" font-size=\"14.00\" fill=\"#000000\">class = 2</text>\n</g>\n<!-- 115&#45;&gt;116 -->\n<g id=\"edge116\" class=\"edge\">\n<title>115&#45;&gt;116</title>\n<path fill=\"none\" stroke=\"#000000\" d=\"M7537.4632,-222.8796C7532.6147,-211.9935 7527.3742,-200.227 7522.4783,-189.2344\"/>\n<polygon fill=\"#000000\" stroke=\"#000000\" points=\"7525.5489,-187.5259 7518.2831,-179.8149 7519.1545,-190.3739 7525.5489,-187.5259\"/>\n</g>\n<!-- 117 -->\n<g id=\"node118\" class=\"node\">\n<title>117</title>\n<polygon fill=\"#39e581\" stroke=\"#000000\" points=\"7764,-179.5 7602,-179.5 7602,-111.5 7764,-111.5 7764,-179.5\"/>\n<text text-anchor=\"middle\" x=\"7683\" y=\"-164.3\" font-family=\"Times,serif\" font-size=\"14.00\" fill=\"#000000\">gini = 0.0</text>\n<text text-anchor=\"middle\" x=\"7683\" y=\"-149.3\" font-family=\"Times,serif\" font-size=\"14.00\" fill=\"#000000\">samples = 13</text>\n<text text-anchor=\"middle\" x=\"7683\" y=\"-134.3\" font-family=\"Times,serif\" font-size=\"14.00\" fill=\"#000000\">value = [0, 0, 13, 0, 0, 0]</text>\n<text text-anchor=\"middle\" x=\"7683\" y=\"-119.3\" font-family=\"Times,serif\" font-size=\"14.00\" fill=\"#000000\">class = 3</text>\n</g>\n<!-- 115&#45;&gt;117 -->\n<g id=\"edge117\" class=\"edge\">\n<title>115&#45;&gt;117</title>\n<path fill=\"none\" stroke=\"#000000\" d=\"M7600.4184,-222.8796C7612.8579,-211.2237 7626.3743,-198.5587 7638.801,-186.9148\"/>\n<polygon fill=\"#000000\" stroke=\"#000000\" points=\"7641.4741,-189.2065 7646.3782,-179.8149 7636.6879,-184.0985 7641.4741,-189.2065\"/>\n</g>\n<!-- 119 -->\n<g id=\"node120\" class=\"node\">\n<title>119</title>\n<polygon fill=\"#def6bd\" stroke=\"#000000\" points=\"7937.5,-179.5 7782.5,-179.5 7782.5,-111.5 7937.5,-111.5 7937.5,-179.5\"/>\n<text text-anchor=\"middle\" x=\"7860\" y=\"-164.3\" font-family=\"Times,serif\" font-size=\"14.00\" fill=\"#000000\">gini = 0.48</text>\n<text text-anchor=\"middle\" x=\"7860\" y=\"-149.3\" font-family=\"Times,serif\" font-size=\"14.00\" fill=\"#000000\">samples = 5</text>\n<text text-anchor=\"middle\" x=\"7860\" y=\"-134.3\" font-family=\"Times,serif\" font-size=\"14.00\" fill=\"#000000\">value = [2, 3, 0, 0, 0, 0]</text>\n<text text-anchor=\"middle\" x=\"7860\" y=\"-119.3\" font-family=\"Times,serif\" font-size=\"14.00\" fill=\"#000000\">class = 2</text>\n</g>\n<!-- 118&#45;&gt;119 -->\n<g id=\"edge119\" class=\"edge\">\n<title>118&#45;&gt;119</title>\n<path fill=\"none\" stroke=\"#000000\" d=\"M7860,-222.8796C7860,-212.2134 7860,-200.7021 7860,-189.9015\"/>\n<polygon fill=\"#000000\" stroke=\"#000000\" points=\"7863.5001,-189.8149 7860,-179.8149 7856.5001,-189.815 7863.5001,-189.8149\"/>\n</g>\n<!-- 120 -->\n<g id=\"node121\" class=\"node\">\n<title>120</title>\n<polygon fill=\"#3ee684\" stroke=\"#000000\" points=\"8142,-187 7956,-187 7956,-104 8142,-104 8142,-187\"/>\n<text text-anchor=\"middle\" x=\"8049\" y=\"-171.8\" font-family=\"Times,serif\" font-size=\"14.00\" fill=\"#000000\">tBodyAcc&#45;max()&#45;X &lt;= 0.048</text>\n<text text-anchor=\"middle\" x=\"8049\" y=\"-156.8\" font-family=\"Times,serif\" font-size=\"14.00\" fill=\"#000000\">gini = 0.046</text>\n<text text-anchor=\"middle\" x=\"8049\" y=\"-141.8\" font-family=\"Times,serif\" font-size=\"14.00\" fill=\"#000000\">samples = 815</text>\n<text text-anchor=\"middle\" x=\"8049\" y=\"-126.8\" font-family=\"Times,serif\" font-size=\"14.00\" fill=\"#000000\">value = [5, 14, 796, 0, 0, 0]</text>\n<text text-anchor=\"middle\" x=\"8049\" y=\"-111.8\" font-family=\"Times,serif\" font-size=\"14.00\" fill=\"#000000\">class = 3</text>\n</g>\n<!-- 118&#45;&gt;120 -->\n<g id=\"edge120\" class=\"edge\">\n<title>118&#45;&gt;120</title>\n<path fill=\"none\" stroke=\"#000000\" d=\"M7926.103,-222.8796C7941.6413,-213.0962 7958.3088,-202.6019 7974.1987,-192.5971\"/>\n<polygon fill=\"#000000\" stroke=\"#000000\" points=\"7976.3368,-195.3869 7982.9343,-187.0969 7972.6071,-189.4633 7976.3368,-195.3869\"/>\n</g>\n<!-- 121 -->\n<g id=\"node122\" class=\"node\">\n<title>121</title>\n<polygon fill=\"#cef29c\" stroke=\"#000000\" points=\"8034.5,-68 7879.5,-68 7879.5,0 8034.5,0 8034.5,-68\"/>\n<text text-anchor=\"middle\" x=\"7957\" y=\"-52.8\" font-family=\"Times,serif\" font-size=\"14.00\" fill=\"#000000\">gini = 0.444</text>\n<text text-anchor=\"middle\" x=\"7957\" y=\"-37.8\" font-family=\"Times,serif\" font-size=\"14.00\" fill=\"#000000\">samples = 3</text>\n<text text-anchor=\"middle\" x=\"7957\" y=\"-22.8\" font-family=\"Times,serif\" font-size=\"14.00\" fill=\"#000000\">value = [1, 2, 0, 0, 0, 0]</text>\n<text text-anchor=\"middle\" x=\"7957\" y=\"-7.8\" font-family=\"Times,serif\" font-size=\"14.00\" fill=\"#000000\">class = 2</text>\n</g>\n<!-- 120&#45;&gt;121 -->\n<g id=\"edge121\" class=\"edge\">\n<title>120&#45;&gt;121</title>\n<path fill=\"none\" stroke=\"#000000\" d=\"M8014.7426,-103.9815C8007.2351,-94.8828 7999.2804,-85.242 7991.7536,-76.1199\"/>\n<polygon fill=\"#000000\" stroke=\"#000000\" points=\"7994.3354,-73.7495 7985.2714,-68.2637 7988.9361,-78.2045 7994.3354,-73.7495\"/>\n</g>\n<!-- 122 -->\n<g id=\"node123\" class=\"node\">\n<title>122</title>\n<polygon fill=\"#3de684\" stroke=\"#000000\" points=\"8229.5,-68 8052.5,-68 8052.5,0 8229.5,0 8229.5,-68\"/>\n<text text-anchor=\"middle\" x=\"8141\" y=\"-52.8\" font-family=\"Times,serif\" font-size=\"14.00\" fill=\"#000000\">gini = 0.039</text>\n<text text-anchor=\"middle\" x=\"8141\" y=\"-37.8\" font-family=\"Times,serif\" font-size=\"14.00\" fill=\"#000000\">samples = 812</text>\n<text text-anchor=\"middle\" x=\"8141\" y=\"-22.8\" font-family=\"Times,serif\" font-size=\"14.00\" fill=\"#000000\">value = [4, 12, 796, 0, 0, 0]</text>\n<text text-anchor=\"middle\" x=\"8141\" y=\"-7.8\" font-family=\"Times,serif\" font-size=\"14.00\" fill=\"#000000\">class = 3</text>\n</g>\n<!-- 120&#45;&gt;122 -->\n<g id=\"edge122\" class=\"edge\">\n<title>120&#45;&gt;122</title>\n<path fill=\"none\" stroke=\"#000000\" d=\"M8083.2574,-103.9815C8090.7649,-94.8828 8098.7196,-85.242 8106.2464,-76.1199\"/>\n<polygon fill=\"#000000\" stroke=\"#000000\" points=\"8109.0639,-78.2045 8112.7286,-68.2637 8103.6646,-73.7495 8109.0639,-78.2045\"/>\n</g>\n<!-- 125 -->\n<g id=\"node126\" class=\"node\">\n<title>125</title>\n<polygon fill=\"#9de539\" stroke=\"#000000\" points=\"8068,-417.5 7906,-417.5 7906,-349.5 8068,-349.5 8068,-417.5\"/>\n<text text-anchor=\"middle\" x=\"7987\" y=\"-402.3\" font-family=\"Times,serif\" font-size=\"14.00\" fill=\"#000000\">gini = 0.0</text>\n<text text-anchor=\"middle\" x=\"7987\" y=\"-387.3\" font-family=\"Times,serif\" font-size=\"14.00\" fill=\"#000000\">samples = 55</text>\n<text text-anchor=\"middle\" x=\"7987\" y=\"-372.3\" font-family=\"Times,serif\" font-size=\"14.00\" fill=\"#000000\">value = [0, 55, 0, 0, 0, 0]</text>\n<text text-anchor=\"middle\" x=\"7987\" y=\"-357.3\" font-family=\"Times,serif\" font-size=\"14.00\" fill=\"#000000\">class = 2</text>\n</g>\n<!-- 124&#45;&gt;125 -->\n<g id=\"edge125\" class=\"edge\">\n<title>124&#45;&gt;125</title>\n<path fill=\"none\" stroke=\"#000000\" d=\"M7987,-460.8796C7987,-450.2134 7987,-438.7021 7987,-427.9015\"/>\n<polygon fill=\"#000000\" stroke=\"#000000\" points=\"7990.5001,-427.8149 7987,-417.8149 7983.5001,-427.815 7990.5001,-427.8149\"/>\n</g>\n<!-- 126 -->\n<g id=\"node127\" class=\"node\">\n<title>126</title>\n<polygon fill=\"#9cf2c0\" stroke=\"#000000\" points=\"8241.5,-417.5 8086.5,-417.5 8086.5,-349.5 8241.5,-349.5 8241.5,-417.5\"/>\n<text text-anchor=\"middle\" x=\"8164\" y=\"-402.3\" font-family=\"Times,serif\" font-size=\"14.00\" fill=\"#000000\">gini = 0.444</text>\n<text text-anchor=\"middle\" x=\"8164\" y=\"-387.3\" font-family=\"Times,serif\" font-size=\"14.00\" fill=\"#000000\">samples = 6</text>\n<text text-anchor=\"middle\" x=\"8164\" y=\"-372.3\" font-family=\"Times,serif\" font-size=\"14.00\" fill=\"#000000\">value = [2, 0, 4, 0, 0, 0]</text>\n<text text-anchor=\"middle\" x=\"8164\" y=\"-357.3\" font-family=\"Times,serif\" font-size=\"14.00\" fill=\"#000000\">class = 3</text>\n</g>\n<!-- 124&#45;&gt;126 -->\n<g id=\"edge126\" class=\"edge\">\n<title>124&#45;&gt;126</title>\n<path fill=\"none\" stroke=\"#000000\" d=\"M8048.906,-460.8796C8066.9828,-448.7263 8086.6914,-435.4759 8104.6087,-423.4297\"/>\n<polygon fill=\"#000000\" stroke=\"#000000\" points=\"8106.8996,-426.1071 8113.2456,-417.623 8102.9939,-420.2979 8106.8996,-426.1071\"/>\n</g>\n</g>\n</svg>\n"
          },
          "metadata": {
            "tags": []
          },
          "execution_count": 90
        }
      ]
    },
    {
      "cell_type": "code",
      "metadata": {
        "id": "BbYlcEYQKj-m"
      },
      "source": [
        ""
      ],
      "execution_count": null,
      "outputs": []
    }
  ]
}