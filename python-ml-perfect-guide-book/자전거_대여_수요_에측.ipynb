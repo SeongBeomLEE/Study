{
  "nbformat": 4,
  "nbformat_minor": 0,
  "metadata": {
    "colab": {
      "name": "자전거 대여 수요 에측.ipynb",
      "provenance": [],
      "collapsed_sections": [],
      "mount_file_id": "1BW6EtYsfmqF9OOIR-nG0X_hy05J_02oZ",
      "authorship_tag": "ABX9TyN6vc1ciNI3Npk0b23GaU5X"
    },
    "kernelspec": {
      "name": "python3",
      "display_name": "Python 3"
    }
  },
  "cells": [
    {
      "cell_type": "code",
      "metadata": {
        "id": "4pWUOUcJPCEe"
      },
      "source": [
        "import pandas as pd\r\n",
        "import numpy as np\r\n",
        "import matplotlib.pyplot as plt\r\n",
        "import matplotlib as mpl\r\n",
        "import seaborn as sns\r\n",
        "\r\n",
        "import warnings\r\n",
        "warnings.filterwarnings(action='ignore')"
      ],
      "execution_count": 1,
      "outputs": []
    },
    {
      "cell_type": "markdown",
      "metadata": {
        "id": "TpYtzn9YOdYh"
      },
      "source": [
        "# 데이터 클렌징 및 가공"
      ]
    },
    {
      "cell_type": "code",
      "metadata": {
        "colab": {
          "base_uri": "https://localhost:8080/",
          "height": 564
        },
        "id": "gco2-Cv0NTDl",
        "outputId": "1fa55a03-a47c-44f7-853f-b454f6cafd39"
      },
      "source": [
        "df1 = pd.read_csv('/content/drive/MyDrive/Study/파이썬 머신러닝 완벽가이드/data/자전거/train.csv', parse_dates=['datetime'])\r\n",
        "print(df1.info())\r\n",
        "df1.head()"
      ],
      "execution_count": 2,
      "outputs": [
        {
          "output_type": "stream",
          "text": [
            "<class 'pandas.core.frame.DataFrame'>\n",
            "RangeIndex: 10886 entries, 0 to 10885\n",
            "Data columns (total 12 columns):\n",
            " #   Column      Non-Null Count  Dtype         \n",
            "---  ------      --------------  -----         \n",
            " 0   datetime    10886 non-null  datetime64[ns]\n",
            " 1   season      10886 non-null  int64         \n",
            " 2   holiday     10886 non-null  int64         \n",
            " 3   workingday  10886 non-null  int64         \n",
            " 4   weather     10886 non-null  int64         \n",
            " 5   temp        10886 non-null  float64       \n",
            " 6   atemp       10886 non-null  float64       \n",
            " 7   humidity    10886 non-null  int64         \n",
            " 8   windspeed   10886 non-null  float64       \n",
            " 9   casual      10886 non-null  int64         \n",
            " 10  registered  10886 non-null  int64         \n",
            " 11  count       10886 non-null  int64         \n",
            "dtypes: datetime64[ns](1), float64(3), int64(8)\n",
            "memory usage: 1020.7 KB\n",
            "None\n"
          ],
          "name": "stdout"
        },
        {
          "output_type": "execute_result",
          "data": {
            "text/html": [
              "<div>\n",
              "<style scoped>\n",
              "    .dataframe tbody tr th:only-of-type {\n",
              "        vertical-align: middle;\n",
              "    }\n",
              "\n",
              "    .dataframe tbody tr th {\n",
              "        vertical-align: top;\n",
              "    }\n",
              "\n",
              "    .dataframe thead th {\n",
              "        text-align: right;\n",
              "    }\n",
              "</style>\n",
              "<table border=\"1\" class=\"dataframe\">\n",
              "  <thead>\n",
              "    <tr style=\"text-align: right;\">\n",
              "      <th></th>\n",
              "      <th>datetime</th>\n",
              "      <th>season</th>\n",
              "      <th>holiday</th>\n",
              "      <th>workingday</th>\n",
              "      <th>weather</th>\n",
              "      <th>temp</th>\n",
              "      <th>atemp</th>\n",
              "      <th>humidity</th>\n",
              "      <th>windspeed</th>\n",
              "      <th>casual</th>\n",
              "      <th>registered</th>\n",
              "      <th>count</th>\n",
              "    </tr>\n",
              "  </thead>\n",
              "  <tbody>\n",
              "    <tr>\n",
              "      <th>0</th>\n",
              "      <td>2011-01-01 00:00:00</td>\n",
              "      <td>1</td>\n",
              "      <td>0</td>\n",
              "      <td>0</td>\n",
              "      <td>1</td>\n",
              "      <td>9.84</td>\n",
              "      <td>14.395</td>\n",
              "      <td>81</td>\n",
              "      <td>0.0</td>\n",
              "      <td>3</td>\n",
              "      <td>13</td>\n",
              "      <td>16</td>\n",
              "    </tr>\n",
              "    <tr>\n",
              "      <th>1</th>\n",
              "      <td>2011-01-01 01:00:00</td>\n",
              "      <td>1</td>\n",
              "      <td>0</td>\n",
              "      <td>0</td>\n",
              "      <td>1</td>\n",
              "      <td>9.02</td>\n",
              "      <td>13.635</td>\n",
              "      <td>80</td>\n",
              "      <td>0.0</td>\n",
              "      <td>8</td>\n",
              "      <td>32</td>\n",
              "      <td>40</td>\n",
              "    </tr>\n",
              "    <tr>\n",
              "      <th>2</th>\n",
              "      <td>2011-01-01 02:00:00</td>\n",
              "      <td>1</td>\n",
              "      <td>0</td>\n",
              "      <td>0</td>\n",
              "      <td>1</td>\n",
              "      <td>9.02</td>\n",
              "      <td>13.635</td>\n",
              "      <td>80</td>\n",
              "      <td>0.0</td>\n",
              "      <td>5</td>\n",
              "      <td>27</td>\n",
              "      <td>32</td>\n",
              "    </tr>\n",
              "    <tr>\n",
              "      <th>3</th>\n",
              "      <td>2011-01-01 03:00:00</td>\n",
              "      <td>1</td>\n",
              "      <td>0</td>\n",
              "      <td>0</td>\n",
              "      <td>1</td>\n",
              "      <td>9.84</td>\n",
              "      <td>14.395</td>\n",
              "      <td>75</td>\n",
              "      <td>0.0</td>\n",
              "      <td>3</td>\n",
              "      <td>10</td>\n",
              "      <td>13</td>\n",
              "    </tr>\n",
              "    <tr>\n",
              "      <th>4</th>\n",
              "      <td>2011-01-01 04:00:00</td>\n",
              "      <td>1</td>\n",
              "      <td>0</td>\n",
              "      <td>0</td>\n",
              "      <td>1</td>\n",
              "      <td>9.84</td>\n",
              "      <td>14.395</td>\n",
              "      <td>75</td>\n",
              "      <td>0.0</td>\n",
              "      <td>0</td>\n",
              "      <td>1</td>\n",
              "      <td>1</td>\n",
              "    </tr>\n",
              "  </tbody>\n",
              "</table>\n",
              "</div>"
            ],
            "text/plain": [
              "             datetime  season  holiday  ...  casual  registered  count\n",
              "0 2011-01-01 00:00:00       1        0  ...       3          13     16\n",
              "1 2011-01-01 01:00:00       1        0  ...       8          32     40\n",
              "2 2011-01-01 02:00:00       1        0  ...       5          27     32\n",
              "3 2011-01-01 03:00:00       1        0  ...       3          10     13\n",
              "4 2011-01-01 04:00:00       1        0  ...       0           1      1\n",
              "\n",
              "[5 rows x 12 columns]"
            ]
          },
          "metadata": {
            "tags": []
          },
          "execution_count": 2
        }
      ]
    },
    {
      "cell_type": "code",
      "metadata": {
        "colab": {
          "base_uri": "https://localhost:8080/",
          "height": 253
        },
        "id": "RxtgSVNCRqYw",
        "outputId": "77985dcb-e508-4f16-ab1c-5198d86bc436"
      },
      "source": [
        "bike_df = pd.read_csv('/content/drive/MyDrive/Study/파이썬 머신러닝 완벽가이드/data/자전거/train.csv')\r\n",
        "print(bike_df.shape)\r\n",
        "\r\n",
        "bike_df.sample(6)"
      ],
      "execution_count": 3,
      "outputs": [
        {
          "output_type": "stream",
          "text": [
            "(10886, 12)\n"
          ],
          "name": "stdout"
        },
        {
          "output_type": "execute_result",
          "data": {
            "text/html": [
              "<div>\n",
              "<style scoped>\n",
              "    .dataframe tbody tr th:only-of-type {\n",
              "        vertical-align: middle;\n",
              "    }\n",
              "\n",
              "    .dataframe tbody tr th {\n",
              "        vertical-align: top;\n",
              "    }\n",
              "\n",
              "    .dataframe thead th {\n",
              "        text-align: right;\n",
              "    }\n",
              "</style>\n",
              "<table border=\"1\" class=\"dataframe\">\n",
              "  <thead>\n",
              "    <tr style=\"text-align: right;\">\n",
              "      <th></th>\n",
              "      <th>datetime</th>\n",
              "      <th>season</th>\n",
              "      <th>holiday</th>\n",
              "      <th>workingday</th>\n",
              "      <th>weather</th>\n",
              "      <th>temp</th>\n",
              "      <th>atemp</th>\n",
              "      <th>humidity</th>\n",
              "      <th>windspeed</th>\n",
              "      <th>casual</th>\n",
              "      <th>registered</th>\n",
              "      <th>count</th>\n",
              "    </tr>\n",
              "  </thead>\n",
              "  <tbody>\n",
              "    <tr>\n",
              "      <th>9037</th>\n",
              "      <td>2012-08-18 22:00:00</td>\n",
              "      <td>3</td>\n",
              "      <td>0</td>\n",
              "      <td>0</td>\n",
              "      <td>1</td>\n",
              "      <td>27.06</td>\n",
              "      <td>31.060</td>\n",
              "      <td>61</td>\n",
              "      <td>0.0000</td>\n",
              "      <td>90</td>\n",
              "      <td>171</td>\n",
              "      <td>261</td>\n",
              "    </tr>\n",
              "    <tr>\n",
              "      <th>8863</th>\n",
              "      <td>2012-08-11 16:00:00</td>\n",
              "      <td>3</td>\n",
              "      <td>0</td>\n",
              "      <td>0</td>\n",
              "      <td>1</td>\n",
              "      <td>32.80</td>\n",
              "      <td>36.365</td>\n",
              "      <td>46</td>\n",
              "      <td>19.9995</td>\n",
              "      <td>227</td>\n",
              "      <td>304</td>\n",
              "      <td>531</td>\n",
              "    </tr>\n",
              "    <tr>\n",
              "      <th>9133</th>\n",
              "      <td>2012-09-03 22:00:00</td>\n",
              "      <td>3</td>\n",
              "      <td>1</td>\n",
              "      <td>0</td>\n",
              "      <td>2</td>\n",
              "      <td>28.70</td>\n",
              "      <td>33.335</td>\n",
              "      <td>84</td>\n",
              "      <td>8.9981</td>\n",
              "      <td>17</td>\n",
              "      <td>104</td>\n",
              "      <td>121</td>\n",
              "    </tr>\n",
              "    <tr>\n",
              "      <th>9</th>\n",
              "      <td>2011-01-01 09:00:00</td>\n",
              "      <td>1</td>\n",
              "      <td>0</td>\n",
              "      <td>0</td>\n",
              "      <td>1</td>\n",
              "      <td>13.12</td>\n",
              "      <td>17.425</td>\n",
              "      <td>76</td>\n",
              "      <td>0.0000</td>\n",
              "      <td>8</td>\n",
              "      <td>6</td>\n",
              "      <td>14</td>\n",
              "    </tr>\n",
              "    <tr>\n",
              "      <th>4034</th>\n",
              "      <td>2011-09-19 03:00:00</td>\n",
              "      <td>3</td>\n",
              "      <td>0</td>\n",
              "      <td>1</td>\n",
              "      <td>2</td>\n",
              "      <td>20.50</td>\n",
              "      <td>24.240</td>\n",
              "      <td>77</td>\n",
              "      <td>8.9981</td>\n",
              "      <td>1</td>\n",
              "      <td>4</td>\n",
              "      <td>5</td>\n",
              "    </tr>\n",
              "    <tr>\n",
              "      <th>2765</th>\n",
              "      <td>2011-07-04 03:00:00</td>\n",
              "      <td>3</td>\n",
              "      <td>1</td>\n",
              "      <td>0</td>\n",
              "      <td>1</td>\n",
              "      <td>26.24</td>\n",
              "      <td>29.545</td>\n",
              "      <td>78</td>\n",
              "      <td>0.0000</td>\n",
              "      <td>13</td>\n",
              "      <td>13</td>\n",
              "      <td>26</td>\n",
              "    </tr>\n",
              "  </tbody>\n",
              "</table>\n",
              "</div>"
            ],
            "text/plain": [
              "                 datetime  season  holiday  ...  casual  registered  count\n",
              "9037  2012-08-18 22:00:00       3        0  ...      90         171    261\n",
              "8863  2012-08-11 16:00:00       3        0  ...     227         304    531\n",
              "9133  2012-09-03 22:00:00       3        1  ...      17         104    121\n",
              "9     2011-01-01 09:00:00       1        0  ...       8           6     14\n",
              "4034  2011-09-19 03:00:00       3        0  ...       1           4      5\n",
              "2765  2011-07-04 03:00:00       3        1  ...      13          13     26\n",
              "\n",
              "[6 rows x 12 columns]"
            ]
          },
          "metadata": {
            "tags": []
          },
          "execution_count": 3
        }
      ]
    },
    {
      "cell_type": "code",
      "metadata": {
        "colab": {
          "base_uri": "https://localhost:8080/",
          "height": 204
        },
        "id": "tFvntB2SR54A",
        "outputId": "346e43af-2e71-45af-89f7-9e52f24e8590"
      },
      "source": [
        "# 데이트 타임 형태로 변환\r\n",
        "bike_df['datetime'] = bike_df['datetime'].apply(pd.to_datetime)\r\n",
        "\r\n",
        "# 년 월 일 시간 추출\r\n",
        "bike_df['year'] = bike_df.datetime.apply(lambda x : x.year)\r\n",
        "bike_df['month'] = bike_df.datetime.apply(lambda x : x.month)\r\n",
        "bike_df['day'] = bike_df.datetime.apply(lambda x : x.day)\r\n",
        "bike_df['hour'] = bike_df.datetime.apply(lambda x : x.hour)\r\n",
        "\r\n",
        "bike_df.head()"
      ],
      "execution_count": 4,
      "outputs": [
        {
          "output_type": "execute_result",
          "data": {
            "text/html": [
              "<div>\n",
              "<style scoped>\n",
              "    .dataframe tbody tr th:only-of-type {\n",
              "        vertical-align: middle;\n",
              "    }\n",
              "\n",
              "    .dataframe tbody tr th {\n",
              "        vertical-align: top;\n",
              "    }\n",
              "\n",
              "    .dataframe thead th {\n",
              "        text-align: right;\n",
              "    }\n",
              "</style>\n",
              "<table border=\"1\" class=\"dataframe\">\n",
              "  <thead>\n",
              "    <tr style=\"text-align: right;\">\n",
              "      <th></th>\n",
              "      <th>datetime</th>\n",
              "      <th>season</th>\n",
              "      <th>holiday</th>\n",
              "      <th>workingday</th>\n",
              "      <th>weather</th>\n",
              "      <th>temp</th>\n",
              "      <th>atemp</th>\n",
              "      <th>humidity</th>\n",
              "      <th>windspeed</th>\n",
              "      <th>casual</th>\n",
              "      <th>registered</th>\n",
              "      <th>count</th>\n",
              "      <th>year</th>\n",
              "      <th>month</th>\n",
              "      <th>day</th>\n",
              "      <th>hour</th>\n",
              "    </tr>\n",
              "  </thead>\n",
              "  <tbody>\n",
              "    <tr>\n",
              "      <th>0</th>\n",
              "      <td>2011-01-01 00:00:00</td>\n",
              "      <td>1</td>\n",
              "      <td>0</td>\n",
              "      <td>0</td>\n",
              "      <td>1</td>\n",
              "      <td>9.84</td>\n",
              "      <td>14.395</td>\n",
              "      <td>81</td>\n",
              "      <td>0.0</td>\n",
              "      <td>3</td>\n",
              "      <td>13</td>\n",
              "      <td>16</td>\n",
              "      <td>2011</td>\n",
              "      <td>1</td>\n",
              "      <td>1</td>\n",
              "      <td>0</td>\n",
              "    </tr>\n",
              "    <tr>\n",
              "      <th>1</th>\n",
              "      <td>2011-01-01 01:00:00</td>\n",
              "      <td>1</td>\n",
              "      <td>0</td>\n",
              "      <td>0</td>\n",
              "      <td>1</td>\n",
              "      <td>9.02</td>\n",
              "      <td>13.635</td>\n",
              "      <td>80</td>\n",
              "      <td>0.0</td>\n",
              "      <td>8</td>\n",
              "      <td>32</td>\n",
              "      <td>40</td>\n",
              "      <td>2011</td>\n",
              "      <td>1</td>\n",
              "      <td>1</td>\n",
              "      <td>1</td>\n",
              "    </tr>\n",
              "    <tr>\n",
              "      <th>2</th>\n",
              "      <td>2011-01-01 02:00:00</td>\n",
              "      <td>1</td>\n",
              "      <td>0</td>\n",
              "      <td>0</td>\n",
              "      <td>1</td>\n",
              "      <td>9.02</td>\n",
              "      <td>13.635</td>\n",
              "      <td>80</td>\n",
              "      <td>0.0</td>\n",
              "      <td>5</td>\n",
              "      <td>27</td>\n",
              "      <td>32</td>\n",
              "      <td>2011</td>\n",
              "      <td>1</td>\n",
              "      <td>1</td>\n",
              "      <td>2</td>\n",
              "    </tr>\n",
              "    <tr>\n",
              "      <th>3</th>\n",
              "      <td>2011-01-01 03:00:00</td>\n",
              "      <td>1</td>\n",
              "      <td>0</td>\n",
              "      <td>0</td>\n",
              "      <td>1</td>\n",
              "      <td>9.84</td>\n",
              "      <td>14.395</td>\n",
              "      <td>75</td>\n",
              "      <td>0.0</td>\n",
              "      <td>3</td>\n",
              "      <td>10</td>\n",
              "      <td>13</td>\n",
              "      <td>2011</td>\n",
              "      <td>1</td>\n",
              "      <td>1</td>\n",
              "      <td>3</td>\n",
              "    </tr>\n",
              "    <tr>\n",
              "      <th>4</th>\n",
              "      <td>2011-01-01 04:00:00</td>\n",
              "      <td>1</td>\n",
              "      <td>0</td>\n",
              "      <td>0</td>\n",
              "      <td>1</td>\n",
              "      <td>9.84</td>\n",
              "      <td>14.395</td>\n",
              "      <td>75</td>\n",
              "      <td>0.0</td>\n",
              "      <td>0</td>\n",
              "      <td>1</td>\n",
              "      <td>1</td>\n",
              "      <td>2011</td>\n",
              "      <td>1</td>\n",
              "      <td>1</td>\n",
              "      <td>4</td>\n",
              "    </tr>\n",
              "  </tbody>\n",
              "</table>\n",
              "</div>"
            ],
            "text/plain": [
              "             datetime  season  holiday  workingday  ...  year  month  day  hour\n",
              "0 2011-01-01 00:00:00       1        0           0  ...  2011      1    1     0\n",
              "1 2011-01-01 01:00:00       1        0           0  ...  2011      1    1     1\n",
              "2 2011-01-01 02:00:00       1        0           0  ...  2011      1    1     2\n",
              "3 2011-01-01 03:00:00       1        0           0  ...  2011      1    1     3\n",
              "4 2011-01-01 04:00:00       1        0           0  ...  2011      1    1     4\n",
              "\n",
              "[5 rows x 16 columns]"
            ]
          },
          "metadata": {
            "tags": []
          },
          "execution_count": 4
        }
      ]
    },
    {
      "cell_type": "code",
      "metadata": {
        "id": "n7YDQbUhSwjA"
      },
      "source": [
        "drop_columns = ['casual', 'registered', 'datetime']\r\n",
        "bike_df.drop(drop_columns, axis=1, inplace=True)"
      ],
      "execution_count": 5,
      "outputs": []
    },
    {
      "cell_type": "code",
      "metadata": {
        "id": "9bGjxMk6TI2_"
      },
      "source": [
        "from sklearn.metrics import mean_squared_error, mean_absolute_error\r\n",
        "\r\n",
        "def rmse(y, y_pred):\r\n",
        "  return np.sqrt(mean_squared_error(y, y_pred))\r\n",
        "\r\n",
        "# log 값 변환 시 NaN등의 이슈로 log() 가 아닌 log1p() 를 이용하여 RMSLE 계산\r\n",
        "# log1p -> log.np(1 + x)\r\n",
        "def rmsle(y, y_pred):\r\n",
        "  log_y = np.log1p(y)\r\n",
        "  log_y_pred = np.log1p(y_pred)\r\n",
        "  squred_error = (log_y - log_y_pred) ** 2\r\n",
        "  return np.sqrt(np.mean(squred_error))\r\n",
        "\r\n",
        "def evaluate_regr(y, y_pred):\r\n",
        "  rmsle_val = rmsle(y, y_pred)\r\n",
        "  rmse_val = rmse(y, y_pred)\r\n",
        "  mae_val = mean_absolute_error(y, y_pred)\r\n",
        "  print(f'RMLSE : {rmsle_val:.3f}, RMSE : {rmse_val:.3f}, MAE : {mae_val:.3f}')"
      ],
      "execution_count": 6,
      "outputs": []
    },
    {
      "cell_type": "markdown",
      "metadata": {
        "id": "4j1K3BEfOgLP"
      },
      "source": [
        "# 로그변환, 피처 인코딩\r\n",
        "\r\n",
        "타겟은 로그변환\r\n",
        "\r\n",
        "날짜 칼럼은 원핫인코딩"
      ]
    },
    {
      "cell_type": "code",
      "metadata": {
        "id": "_ocyT3Qtc17K"
      },
      "source": [
        "from sklearn.preprocessing import OneHotEncoder\r\n",
        "\r\n",
        "def oneHotEncoder(col_list, data):\r\n",
        "  ohe = OneHotEncoder(sparse=False)\r\n",
        "  enoder_df = ohe.fit_transform(data[col_list])\r\n",
        "  columns = []\r\n",
        "  for col, values in zip(col_list, ohe.categories_):\r\n",
        "    for i in values:\r\n",
        "      columns.append(col+ '_' +str(i))\r\n",
        "  \r\n",
        "  return pd.DataFrame(enoder_df, columns=columns)"
      ],
      "execution_count": 7,
      "outputs": []
    },
    {
      "cell_type": "code",
      "metadata": {
        "id": "_dMXTpuMO0Mr"
      },
      "source": [
        "from sklearn.preprocessing import OneHotEncoder\r\n",
        "\r\n",
        "# 전처리 전\r\n",
        "y_target = bike_df['count']\r\n",
        "x_features = bike_df.drop('count', axis=1, inplace=False)\r\n",
        "\r\n",
        "# 전처리 후\r\n",
        "columns = ['year', 'month','day', 'hour', 'holiday', 'workingday', 'season', 'weather']\r\n",
        "y_target_log = np.log1p(bike_df['count'])\r\n",
        "x_features_one = pd.concat([x_features, oneHotEncoder(columns, x_features)], axis=1)\r\n",
        "x_features_one = x_features_one.drop(columns, axis=1, inplace=False)"
      ],
      "execution_count": 8,
      "outputs": []
    },
    {
      "cell_type": "markdown",
      "metadata": {
        "id": "sXmXvflXO_h0"
      },
      "source": [
        "# 모델 학습 및 평가"
      ]
    },
    {
      "cell_type": "code",
      "metadata": {
        "id": "E9PXyRWhPBJu"
      },
      "source": [
        "def get_model_predict(model, X_train, X_test, y_train, y_test, is_expm1 = False):\r\n",
        "  model.fit(X_train, y_train)\r\n",
        "  pred = model.predict(X_test)\r\n",
        "  if is_expm1:\r\n",
        "    # np.expm1 -> np.exp(y_test) - 1\r\n",
        "    y_test = np.expm1(y_test)\r\n",
        "    pred = np.expm1(pred) \r\n",
        "  print(f'### {model.__class__.__name__} ###')\r\n",
        "  evaluate_regr(y_test, pred)"
      ],
      "execution_count": 9,
      "outputs": []
    },
    {
      "cell_type": "code",
      "metadata": {
        "colab": {
          "base_uri": "https://localhost:8080/"
        },
        "id": "IfZcbtjRhY5A",
        "outputId": "71d814bd-afef-4560-a3a2-45948d5519d5"
      },
      "source": [
        "from sklearn.model_selection import train_test_split\r\n",
        "from sklearn.linear_model import LinearRegression, Ridge, Lasso\r\n",
        "from sklearn.ensemble import RandomForestRegressor\r\n",
        "from xgboost import XGBRegressor\r\n",
        "from lightgbm import LGBMRegressor\r\n",
        "\r\n",
        "lr_reg = LinearRegression()\r\n",
        "ridge_reg = Ridge(alpha=10, random_state=22)\r\n",
        "lasso_reg = Lasso(alpha=0.01, random_state=22)\r\n",
        "rf_reg = RandomForestRegressor(n_estimators=500, random_state=22)\r\n",
        "xgb_reg = XGBRegressor(n_estimators=500, random_state=22)\r\n",
        "lgbm_reg = LGBMRegressor(n_estimators=500, random_state=22)\r\n",
        "\r\n",
        "models = [lr_reg, ridge_reg, lasso_reg, rf_reg, xgb_reg, lgbm_reg]\r\n",
        "\r\n",
        "print('#################### 변환 전 ##############################')\r\n",
        "X_train, X_test, y_train, y_test = train_test_split(x_features, y_target, test_size=0.3, random_state=0)\r\n",
        "for model in models:\r\n",
        "  get_model_predict(model, X_train, X_test, y_train, y_test, is_expm1 = False)\r\n",
        "\r\n",
        "print()\r\n",
        "\r\n",
        "print('#################### 픽쳐만 변환##############################')\r\n",
        "X_train, X_test, y_train, y_test = train_test_split(x_features_one, y_target, test_size=0.3, random_state=0)\r\n",
        "for model in models:\r\n",
        "  get_model_predict(model, X_train, X_test, y_train, y_test, is_expm1 = False)\r\n",
        "\r\n",
        "print()\r\n",
        "\r\n",
        "print('#################### 타겟만 변환##############################')\r\n",
        "X_train, X_test, y_train, y_test = train_test_split(x_features, y_target_log, test_size=0.3, random_state=0)\r\n",
        "for model in models:\r\n",
        "  get_model_predict(model, X_train, X_test, y_train, y_test, is_expm1 = True)\r\n",
        "\r\n",
        "print()\r\n",
        "\r\n",
        "print('#################### 픽쳐 타겟 두 개 모두 변환##############################')\r\n",
        "X_train, X_test, y_train, y_test = train_test_split(x_features_one, y_target_log, test_size=0.3, random_state=0)\r\n",
        "for model in models:\r\n",
        "  get_model_predict(model, X_train, X_test, y_train, y_test, is_expm1 = True)"
      ],
      "execution_count": 10,
      "outputs": [
        {
          "output_type": "stream",
          "text": [
            "#################### 변환 전 ##############################\n",
            "### LinearRegression ###\n",
            "RMLSE : 1.165, RMSE : 140.900, MAE : 105.924\n",
            "### Ridge ###\n",
            "RMLSE : 1.172, RMSE : 140.902, MAE : 105.909\n",
            "### Lasso ###\n",
            "RMLSE : 1.166, RMSE : 140.899, MAE : 105.918\n",
            "### RandomForestRegressor ###\n",
            "RMLSE : 0.353, RMSE : 45.508, MAE : 28.572\n",
            "[13:23:33] WARNING: /workspace/src/objective/regression_obj.cu:152: reg:linear is now deprecated in favor of reg:squarederror.\n",
            "### XGBRegressor ###\n",
            "RMLSE : 0.549, RMSE : 53.979, MAE : 36.677\n",
            "### LGBMRegressor ###\n",
            "RMLSE : 0.443, RMSE : 41.856, MAE : 26.856\n",
            "\n",
            "#################### 픽쳐만 변환##############################\n",
            "### LinearRegression ###\n",
            "RMLSE : 0.857, RMSE : 101.621, MAE : 74.889\n",
            "### Ridge ###\n",
            "RMLSE : 0.840, RMSE : 101.605, MAE : 74.796\n",
            "### Lasso ###\n",
            "RMLSE : 0.846, RMSE : 101.608, MAE : 74.857\n",
            "### RandomForestRegressor ###\n",
            "RMLSE : 0.490, RMSE : 55.723, MAE : 34.960\n",
            "[13:24:14] WARNING: /workspace/src/objective/regression_obj.cu:152: reg:linear is now deprecated in favor of reg:squarederror.\n",
            "### XGBRegressor ###\n",
            "RMLSE : 0.573, RMSE : 55.746, MAE : 39.115\n",
            "### LGBMRegressor ###\n",
            "RMLSE : 0.508, RMSE : 45.730, MAE : 30.024\n",
            "\n",
            "#################### 타겟만 변환##############################\n",
            "### LinearRegression ###\n",
            "RMLSE : 1.017, RMSE : 162.594, MAE : 109.286\n",
            "### Ridge ###\n",
            "RMLSE : 1.017, RMSE : 162.591, MAE : 109.280\n",
            "### Lasso ###\n",
            "RMLSE : 1.018, RMSE : 162.751, MAE : 109.365\n",
            "### RandomForestRegressor ###\n",
            "RMLSE : 0.333, RMSE : 48.284, MAE : 29.276\n",
            "[13:24:40] WARNING: /workspace/src/objective/regression_obj.cu:152: reg:linear is now deprecated in favor of reg:squarederror.\n",
            "### XGBRegressor ###\n",
            "RMLSE : 0.319, RMSE : 47.859, MAE : 29.546\n",
            "### LGBMRegressor ###\n",
            "RMLSE : 0.301, RMSE : 43.070, MAE : 26.025\n",
            "\n",
            "#################### 픽쳐 타겟 두 개 모두 변환##############################\n",
            "### LinearRegression ###\n",
            "RMLSE : 0.590, RMSE : 97.688, MAE : 63.382\n",
            "### Ridge ###\n",
            "RMLSE : 0.590, RMSE : 98.529, MAE : 63.893\n",
            "### Lasso ###\n",
            "RMLSE : 0.635, RMSE : 113.219, MAE : 72.803\n",
            "### RandomForestRegressor ###\n",
            "RMLSE : 0.355, RMSE : 50.180, MAE : 31.182\n",
            "[13:25:21] WARNING: /workspace/src/objective/regression_obj.cu:152: reg:linear is now deprecated in favor of reg:squarederror.\n",
            "### XGBRegressor ###\n",
            "RMLSE : 0.345, RMSE : 58.245, MAE : 35.768\n",
            "### LGBMRegressor ###\n",
            "RMLSE : 0.319, RMSE : 47.215, MAE : 29.029\n"
          ],
          "name": "stdout"
        }
      ]
    },
    {
      "cell_type": "markdown",
      "metadata": {
        "id": "SIZEtwGlnsgk"
      },
      "source": [
        "- 트리기반 모델은 feature가 적을 수록 모델의 성능이 좋아지는 경향이 있음\r\n",
        "- 선형기반 모델은 category feature를 원핫인코딩을 해주면 성능이 좋아지는 경향이 있음\r\n",
        "- 두 모델 모두 target or feature을 정규분포 형태로 변환해주면 성능이 좋아지는 경향이 있음"
      ]
    },
    {
      "cell_type": "markdown",
      "metadata": {
        "id": "CvggcU8xnC5p"
      },
      "source": [
        "# 책에 있는 방법"
      ]
    },
    {
      "cell_type": "code",
      "metadata": {
        "id": "9atMShv5Ob0o"
      },
      "source": [
        "from sklearn.metrics import mean_squared_error, mean_absolute_error\n",
        "\n",
        "# log 값 변환 시 NaN등의 이슈로 log() 가 아닌 log1p() 를 이용하여 RMSLE 계산\n",
        "def rmsle(y, pred):\n",
        "    log_y = np.log1p(y)\n",
        "    log_pred = np.log1p(pred)\n",
        "    squared_error = (log_y - log_pred) ** 2\n",
        "    rmsle = np.sqrt(np.mean(squared_error))\n",
        "    return rmsle\n",
        "\n",
        "# 사이킷런의 mean_square_error() 를 이용하여 RMSE 계산\n",
        "def rmse(y,pred):\n",
        "    return np.sqrt(mean_squared_error(y,pred))\n",
        "\n",
        "# MSE, RMSE, RMSLE 를 모두 계산 \n",
        "def evaluate_regr(y,pred):\n",
        "    rmsle_val = rmsle(y,pred)\n",
        "    rmse_val = rmse(y,pred)\n",
        "    # MAE 는 scikit learn의 mean_absolute_error() 로 계산\n",
        "    mae_val = mean_absolute_error(y,pred)\n",
        "    print('RMSLE: {0:.3f}, RMSE: {1:.3F}, MAE: {2:.3F}'.format(rmsle_val, rmse_val, mae_val))"
      ],
      "execution_count": 11,
      "outputs": []
    },
    {
      "cell_type": "markdown",
      "metadata": {
        "id": "45d0wIFbOb0_"
      },
      "source": [
        "### 로그 변환, 피처 인코딩, 모델 학습/예측/평가 "
      ]
    },
    {
      "cell_type": "code",
      "metadata": {
        "id": "HuC9aX6gOb1B",
        "colab": {
          "base_uri": "https://localhost:8080/"
        },
        "outputId": "5cad6f66-a526-4936-b739-c7e473fed91a"
      },
      "source": [
        "from sklearn.model_selection import train_test_split , GridSearchCV\n",
        "from sklearn.linear_model import LinearRegression , Ridge , Lasso\n",
        "\n",
        "y_target = bike_df['count']\n",
        "X_features = bike_df.drop(['count'],axis=1,inplace=False)\n",
        "\n",
        "X_train, X_test, y_train, y_test = train_test_split(X_features, y_target, test_size=0.3, random_state=0)\n",
        "\n",
        "lr_reg = LinearRegression()\n",
        "lr_reg.fit(X_train, y_train)\n",
        "pred = lr_reg.predict(X_test)\n",
        "\n",
        "evaluate_regr(y_test ,pred)"
      ],
      "execution_count": 12,
      "outputs": [
        {
          "output_type": "stream",
          "text": [
            "RMSLE: 1.165, RMSE: 140.900, MAE: 105.924\n"
          ],
          "name": "stdout"
        }
      ]
    },
    {
      "cell_type": "code",
      "metadata": {
        "id": "gSYhs3UrOb1E",
        "colab": {
          "base_uri": "https://localhost:8080/"
        },
        "outputId": "9f15d0cd-b58a-40ed-9a97-53068cef807f"
      },
      "source": [
        "def get_top_error_data(y_test, pred, n_tops = 5):\n",
        "    # DataFrame에 컬럼들로 실제 대여횟수(count)와 예측 값을 서로 비교 할 수 있도록 생성. \n",
        "    result_df = pd.DataFrame(y_test.values, columns=['real_count'])\n",
        "    result_df['predicted_count']= np.round(pred)\n",
        "    result_df['diff'] = np.abs(result_df['real_count'] - result_df['predicted_count'])\n",
        "    # 예측값과 실제값이 가장 큰 데이터 순으로 출력. \n",
        "    print(result_df.sort_values('diff', ascending=False)[:n_tops])\n",
        "    \n",
        "get_top_error_data(y_test,pred,n_tops=5)\n"
      ],
      "execution_count": 13,
      "outputs": [
        {
          "output_type": "stream",
          "text": [
            "      real_count  predicted_count   diff\n",
            "1618         890            322.0  568.0\n",
            "3151         798            241.0  557.0\n",
            "966          884            327.0  557.0\n",
            "412          745            194.0  551.0\n",
            "2817         856            310.0  546.0\n"
          ],
          "name": "stdout"
        }
      ]
    },
    {
      "cell_type": "code",
      "metadata": {
        "id": "ajivjC3AOb1F",
        "colab": {
          "base_uri": "https://localhost:8080/",
          "height": 283
        },
        "outputId": "5390e73a-32ec-4766-949b-85413628b923"
      },
      "source": [
        "y_target.hist()"
      ],
      "execution_count": 14,
      "outputs": [
        {
          "output_type": "execute_result",
          "data": {
            "text/plain": [
              "<matplotlib.axes._subplots.AxesSubplot at 0x7f4e5aa200f0>"
            ]
          },
          "metadata": {
            "tags": []
          },
          "execution_count": 14
        },
        {
          "output_type": "display_data",
          "data": {
            "image/png": "[encoded data removed]",
            "text/plain": [
              "<Figure size 432x288 with 1 Axes>"
            ]
          },
          "metadata": {
            "tags": [],
            "needs_background": "light"
          }
        }
      ]
    },
    {
      "cell_type": "code",
      "metadata": {
        "id": "OsCyfPbYOb1H",
        "colab": {
          "base_uri": "https://localhost:8080/",
          "height": 283
        },
        "outputId": "2efc1116-98ea-4c55-b69e-cbfe91ab7f53"
      },
      "source": [
        "y_log_transform = np.log1p(y_target)\n",
        "y_log_transform.hist()"
      ],
      "execution_count": 15,
      "outputs": [
        {
          "output_type": "execute_result",
          "data": {
            "text/plain": [
              "<matplotlib.axes._subplots.AxesSubplot at 0x7f4e5a8f3550>"
            ]
          },
          "metadata": {
            "tags": []
          },
          "execution_count": 15
        },
        {
          "output_type": "display_data",
          "data": {
            "image/png": "[encoded data removed]",
            "text/plain": [
              "<Figure size 432x288 with 1 Axes>"
            ]
          },
          "metadata": {
            "tags": [],
            "needs_background": "light"
          }
        }
      ]
    },
    {
      "cell_type": "code",
      "metadata": {
        "id": "2AGqrzIZOb1H",
        "colab": {
          "base_uri": "https://localhost:8080/"
        },
        "outputId": "2474bf5d-34ec-4f2b-bc27-1546a11ad533"
      },
      "source": [
        "# 타겟 컬럼인 count 값을 log1p 로 Log 변환\n",
        "y_target_log = np.log1p(y_target)\n",
        "\n",
        "# 로그 변환된 y_target_log를 반영하여 학습/테스트 데이터 셋 분할\n",
        "X_train, X_test, y_train, y_test = train_test_split(X_features, y_target_log, test_size=0.3, random_state=0)\n",
        "lr_reg = LinearRegression()\n",
        "lr_reg.fit(X_train, y_train)\n",
        "pred = lr_reg.predict(X_test)\n",
        "\n",
        "# 테스트 데이터 셋의 Target 값은 Log 변환되었으므로 다시 expm1를 이용하여 원래 scale로 변환\n",
        "y_test_exp = np.expm1(y_test)\n",
        "\n",
        "# 예측 값 역시 Log 변환된 타겟 기반으로 학습되어 예측되었으므로 다시 exmpl으로 scale변환\n",
        "pred_exp = np.expm1(pred)\n",
        "\n",
        "evaluate_regr(y_test_exp ,pred_exp)\n"
      ],
      "execution_count": 16,
      "outputs": [
        {
          "output_type": "stream",
          "text": [
            "RMSLE: 1.017, RMSE: 162.594, MAE: 109.286\n"
          ],
          "name": "stdout"
        }
      ]
    },
    {
      "cell_type": "code",
      "metadata": {
        "scrolled": true,
        "id": "2TJMWvwzOb1J",
        "colab": {
          "base_uri": "https://localhost:8080/",
          "height": 283
        },
        "outputId": "bb275684-ec97-446f-b07b-82af7be07dab"
      },
      "source": [
        "coef = pd.Series(lr_reg.coef_, index=X_features.columns)\n",
        "coef_sort = coef.sort_values(ascending=False)\n",
        "sns.barplot(x=coef_sort.values, y=coef_sort.index)"
      ],
      "execution_count": 17,
      "outputs": [
        {
          "output_type": "execute_result",
          "data": {
            "text/plain": [
              "<matplotlib.axes._subplots.AxesSubplot at 0x7f4e5a43eef0>"
            ]
          },
          "metadata": {
            "tags": []
          },
          "execution_count": 17
        },
        {
          "output_type": "display_data",
          "data": {
            "image/png": "[encoded data removed]",
            "text/plain": [
              "<Figure size 432x288 with 1 Axes>"
            ]
          },
          "metadata": {
            "tags": [],
            "needs_background": "light"
          }
        }
      ]
    },
    {
      "cell_type": "code",
      "metadata": {
        "id": "phB6YhtLOb1J"
      },
      "source": [
        "# 'year', month', 'day', hour'등의 피처들을 One Hot Encoding\n",
        "X_features_ohe = pd.get_dummies(X_features, columns=['year', 'month','day', 'hour', 'holiday',\n",
        "                                              'workingday','season','weather'])"
      ],
      "execution_count": 18,
      "outputs": []
    },
    {
      "cell_type": "code",
      "metadata": {
        "scrolled": true,
        "id": "816B41MlOb1K",
        "colab": {
          "base_uri": "https://localhost:8080/"
        },
        "outputId": "7bdbcb06-eb08-43b4-a3e2-3904d5cc5d3c"
      },
      "source": [
        "# 원-핫 인코딩이 적용된 feature 데이터 세트 기반으로 학습/예측 데이터 분할. \n",
        "X_train, X_test, y_train, y_test = train_test_split(X_features_ohe, y_target_log,\n",
        "                                                    test_size=0.3, random_state=0)\n",
        "\n",
        "# 모델과 학습/테스트 데이터 셋을 입력하면 성능 평가 수치를 반환\n",
        "def get_model_predict(model, X_train, X_test, y_train, y_test, is_expm1=False):\n",
        "    model.fit(X_train, y_train)\n",
        "    pred = model.predict(X_test)\n",
        "    if is_expm1 :\n",
        "        y_test = np.expm1(y_test)\n",
        "        pred = np.expm1(pred)\n",
        "    print('###',model.__class__.__name__,'###')\n",
        "    evaluate_regr(y_test, pred)\n",
        "# end of function get_model_predict    \n",
        "\n",
        "# model 별로 평가 수행\n",
        "lr_reg = LinearRegression()\n",
        "ridge_reg = Ridge(alpha=10)\n",
        "lasso_reg = Lasso(alpha=0.01)\n",
        "\n",
        "for model in [lr_reg, ridge_reg, lasso_reg]:\n",
        "    get_model_predict(model,X_train, X_test, y_train, y_test,is_expm1=True)\n"
      ],
      "execution_count": 19,
      "outputs": [
        {
          "output_type": "stream",
          "text": [
            "### LinearRegression ###\n",
            "RMSLE: 0.590, RMSE: 97.688, MAE: 63.382\n",
            "### Ridge ###\n",
            "RMSLE: 0.590, RMSE: 98.529, MAE: 63.893\n",
            "### Lasso ###\n",
            "RMSLE: 0.635, RMSE: 113.219, MAE: 72.803\n"
          ],
          "name": "stdout"
        }
      ]
    },
    {
      "cell_type": "code",
      "metadata": {
        "scrolled": true,
        "id": "X1ZKuj86Ob1L",
        "colab": {
          "base_uri": "https://localhost:8080/",
          "height": 296
        },
        "outputId": "36100115-723d-4adf-e845-62862cb06661"
      },
      "source": [
        "coef = pd.Series(lr_reg.coef_ , index=X_features_ohe.columns)\n",
        "coef_sort = coef.sort_values(ascending=False)[:20]\n",
        "sns.barplot(x=coef_sort.values , y=coef_sort.index)\n"
      ],
      "execution_count": 20,
      "outputs": [
        {
          "output_type": "execute_result",
          "data": {
            "text/plain": [
              "<matplotlib.axes._subplots.AxesSubplot at 0x7f4e5a381710>"
            ]
          },
          "metadata": {
            "tags": []
          },
          "execution_count": 20
        },
        {
          "output_type": "display_data",
          "data": {
            "image/png": "[encoded data removed]",
            "text/plain": [
              "<Figure size 432x288 with 1 Axes>"
            ]
          },
          "metadata": {
            "tags": [],
            "needs_background": "light"
          }
        }
      ]
    },
    {
      "cell_type": "code",
      "metadata": {
        "id": "UfhZy-n-Ob1M",
        "colab": {
          "base_uri": "https://localhost:8080/"
        },
        "outputId": "e71a155f-8a34-4079-cbe6-0e63528ee7eb"
      },
      "source": [
        "from sklearn.ensemble import RandomForestRegressor, GradientBoostingRegressor\n",
        "from xgboost import XGBRegressor\n",
        "from lightgbm import LGBMRegressor\n",
        "\n",
        "# 랜덤 포레스트, GBM, XGBoost, LightGBM model 별로 평가 수행\n",
        "rf_reg = RandomForestRegressor(n_estimators=500)\n",
        "gbm_reg = GradientBoostingRegressor(n_estimators=500)\n",
        "xgb_reg = XGBRegressor(n_estimators=500)\n",
        "lgbm_reg = LGBMRegressor(n_estimators=500)\n",
        "\n",
        "for model in [rf_reg, gbm_reg, xgb_reg, lgbm_reg]:\n",
        "    # XGBoost의 경우 DataFrame이 입력 될 경우 버전에 따라 오류 발생 가능. ndarray로 변환.\n",
        "    get_model_predict(model,X_train.values, X_test.values, y_train.values, y_test.values,is_expm1=True)"
      ],
      "execution_count": 21,
      "outputs": [
        {
          "output_type": "stream",
          "text": [
            "### RandomForestRegressor ###\n",
            "RMSLE: 0.355, RMSE: 50.332, MAE: 31.170\n",
            "### GradientBoostingRegressor ###\n",
            "RMSLE: 0.330, RMSE: 53.334, MAE: 32.744\n",
            "[13:26:17] WARNING: /workspace/src/objective/regression_obj.cu:152: reg:linear is now deprecated in favor of reg:squarederror.\n",
            "### XGBRegressor ###\n",
            "RMSLE: 0.345, RMSE: 58.245, MAE: 35.768\n",
            "### LGBMRegressor ###\n",
            "RMSLE: 0.319, RMSE: 47.215, MAE: 29.029\n"
          ],
          "name": "stdout"
        }
      ]
    }
  ]
}