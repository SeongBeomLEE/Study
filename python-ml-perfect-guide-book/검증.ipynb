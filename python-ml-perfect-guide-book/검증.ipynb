{
  "nbformat": 4,
  "nbformat_minor": 0,
  "metadata": {
    "colab": {
      "name": "검증.ipynb",
      "provenance": [],
      "collapsed_sections": [],
      "authorship_tag": "ABX9TyOZ0qdNH4HGmA2aQnO87WSM",
      "include_colab_link": true
    },
    "kernelspec": {
      "name": "python3",
      "display_name": "Python 3"
    },
    "widgets": {
      "application/vnd.jupyter.widget-state+json": {
        "3a4ec44f94b84ab78a925dcbe4a73779": {
          "model_module": "@jupyter-widgets/controls",
          "model_name": "HBoxModel",
          "state": {
            "_view_name": "HBoxView",
            "_dom_classes": [],
            "_model_name": "HBoxModel",
            "_view_module": "@jupyter-widgets/controls",
            "_model_module_version": "1.5.0",
            "_view_count": null,
            "_view_module_version": "1.5.0",
            "box_style": "",
            "layout": "IPY_MODEL_55c1003dfb93458d88ef1bda4742d0e1",
            "_model_module": "@jupyter-widgets/controls",
            "children": [
              "IPY_MODEL_a611f09f06584ef6966122c69d200f3d",
              "IPY_MODEL_cc83bb5d1ef44ec4be46a1979687249e"
            ]
          }
        },
        "55c1003dfb93458d88ef1bda4742d0e1": {
          "model_module": "@jupyter-widgets/base",
          "model_name": "LayoutModel",
          "state": {
            "_view_name": "LayoutView",
            "grid_template_rows": null,
            "right": null,
            "justify_content": null,
            "_view_module": "@jupyter-widgets/base",
            "overflow": null,
            "_model_module_version": "1.2.0",
            "_view_count": null,
            "flex_flow": null,
            "width": null,
            "min_width": null,
            "border": null,
            "align_items": null,
            "bottom": null,
            "_model_module": "@jupyter-widgets/base",
            "top": null,
            "grid_column": null,
            "overflow_y": null,
            "overflow_x": null,
            "grid_auto_flow": null,
            "grid_area": null,
            "grid_template_columns": null,
            "flex": null,
            "_model_name": "LayoutModel",
            "justify_items": null,
            "grid_row": null,
            "max_height": null,
            "align_content": null,
            "visibility": null,
            "align_self": null,
            "height": null,
            "min_height": null,
            "padding": null,
            "grid_auto_rows": null,
            "grid_gap": null,
            "max_width": null,
            "order": null,
            "_view_module_version": "1.2.0",
            "grid_template_areas": null,
            "object_position": null,
            "object_fit": null,
            "grid_auto_columns": null,
            "margin": null,
            "display": null,
            "left": null
          }
        },
        "a611f09f06584ef6966122c69d200f3d": {
          "model_module": "@jupyter-widgets/controls",
          "model_name": "FloatProgressModel",
          "state": {
            "_view_name": "ProgressView",
            "style": "IPY_MODEL_e19be6e7c94d4bbeab5d62862e6107aa",
            "_dom_classes": [],
            "description": "",
            "_model_name": "FloatProgressModel",
            "bar_style": "success",
            "max": 1,
            "_view_module": "@jupyter-widgets/controls",
            "_model_module_version": "1.5.0",
            "value": 1,
            "_view_count": null,
            "_view_module_version": "1.5.0",
            "orientation": "horizontal",
            "min": 0,
            "description_tooltip": null,
            "_model_module": "@jupyter-widgets/controls",
            "layout": "IPY_MODEL_64e28dc054cf4165b94cfb8c83871e20"
          }
        },
        "cc83bb5d1ef44ec4be46a1979687249e": {
          "model_module": "@jupyter-widgets/controls",
          "model_name": "HTMLModel",
          "state": {
            "_view_name": "HTMLView",
            "style": "IPY_MODEL_05ba18446650404da2b2fc58e8adf329",
            "_dom_classes": [],
            "description": "",
            "_model_name": "HTMLModel",
            "placeholder": "​",
            "_view_module": "@jupyter-widgets/controls",
            "_model_module_version": "1.5.0",
            "value": " 5/? [00:00&lt;00:00, 14.58it/s]",
            "_view_count": null,
            "_view_module_version": "1.5.0",
            "description_tooltip": null,
            "_model_module": "@jupyter-widgets/controls",
            "layout": "IPY_MODEL_e7b57909ac604ab08befcfd988ebc7e0"
          }
        },
        "e19be6e7c94d4bbeab5d62862e6107aa": {
          "model_module": "@jupyter-widgets/controls",
          "model_name": "ProgressStyleModel",
          "state": {
            "_view_name": "StyleView",
            "_model_name": "ProgressStyleModel",
            "description_width": "initial",
            "_view_module": "@jupyter-widgets/base",
            "_model_module_version": "1.5.0",
            "_view_count": null,
            "_view_module_version": "1.2.0",
            "bar_color": null,
            "_model_module": "@jupyter-widgets/controls"
          }
        },
        "64e28dc054cf4165b94cfb8c83871e20": {
          "model_module": "@jupyter-widgets/base",
          "model_name": "LayoutModel",
          "state": {
            "_view_name": "LayoutView",
            "grid_template_rows": null,
            "right": null,
            "justify_content": null,
            "_view_module": "@jupyter-widgets/base",
            "overflow": null,
            "_model_module_version": "1.2.0",
            "_view_count": null,
            "flex_flow": null,
            "width": null,
            "min_width": null,
            "border": null,
            "align_items": null,
            "bottom": null,
            "_model_module": "@jupyter-widgets/base",
            "top": null,
            "grid_column": null,
            "overflow_y": null,
            "overflow_x": null,
            "grid_auto_flow": null,
            "grid_area": null,
            "grid_template_columns": null,
            "flex": null,
            "_model_name": "LayoutModel",
            "justify_items": null,
            "grid_row": null,
            "max_height": null,
            "align_content": null,
            "visibility": null,
            "align_self": null,
            "height": null,
            "min_height": null,
            "padding": null,
            "grid_auto_rows": null,
            "grid_gap": null,
            "max_width": null,
            "order": null,
            "_view_module_version": "1.2.0",
            "grid_template_areas": null,
            "object_position": null,
            "object_fit": null,
            "grid_auto_columns": null,
            "margin": null,
            "display": null,
            "left": null
          }
        },
        "05ba18446650404da2b2fc58e8adf329": {
          "model_module": "@jupyter-widgets/controls",
          "model_name": "DescriptionStyleModel",
          "state": {
            "_view_name": "StyleView",
            "_model_name": "DescriptionStyleModel",
            "description_width": "",
            "_view_module": "@jupyter-widgets/base",
            "_model_module_version": "1.5.0",
            "_view_count": null,
            "_view_module_version": "1.2.0",
            "_model_module": "@jupyter-widgets/controls"
          }
        },
        "e7b57909ac604ab08befcfd988ebc7e0": {
          "model_module": "@jupyter-widgets/base",
          "model_name": "LayoutModel",
          "state": {
            "_view_name": "LayoutView",
            "grid_template_rows": null,
            "right": null,
            "justify_content": null,
            "_view_module": "@jupyter-widgets/base",
            "overflow": null,
            "_model_module_version": "1.2.0",
            "_view_count": null,
            "flex_flow": null,
            "width": null,
            "min_width": null,
            "border": null,
            "align_items": null,
            "bottom": null,
            "_model_module": "@jupyter-widgets/base",
            "top": null,
            "grid_column": null,
            "overflow_y": null,
            "overflow_x": null,
            "grid_auto_flow": null,
            "grid_area": null,
            "grid_template_columns": null,
            "flex": null,
            "_model_name": "LayoutModel",
            "justify_items": null,
            "grid_row": null,
            "max_height": null,
            "align_content": null,
            "visibility": null,
            "align_self": null,
            "height": null,
            "min_height": null,
            "padding": null,
            "grid_auto_rows": null,
            "grid_gap": null,
            "max_width": null,
            "order": null,
            "_view_module_version": "1.2.0",
            "grid_template_areas": null,
            "object_position": null,
            "object_fit": null,
            "grid_auto_columns": null,
            "margin": null,
            "display": null,
            "left": null
          }
        },
        "7a3f717c93694368910d91f55c8d641a": {
          "model_module": "@jupyter-widgets/controls",
          "model_name": "HBoxModel",
          "state": {
            "_view_name": "HBoxView",
            "_dom_classes": [],
            "_model_name": "HBoxModel",
            "_view_module": "@jupyter-widgets/controls",
            "_model_module_version": "1.5.0",
            "_view_count": null,
            "_view_module_version": "1.5.0",
            "box_style": "",
            "layout": "IPY_MODEL_5e5dcaa1a2684a2d9d5506a67690e242",
            "_model_module": "@jupyter-widgets/controls",
            "children": [
              "IPY_MODEL_b0ff061df70d4479866ccd839876d8a4",
              "IPY_MODEL_793e303b1306416dace5238a65d2c8aa"
            ]
          }
        },
        "5e5dcaa1a2684a2d9d5506a67690e242": {
          "model_module": "@jupyter-widgets/base",
          "model_name": "LayoutModel",
          "state": {
            "_view_name": "LayoutView",
            "grid_template_rows": null,
            "right": null,
            "justify_content": null,
            "_view_module": "@jupyter-widgets/base",
            "overflow": null,
            "_model_module_version": "1.2.0",
            "_view_count": null,
            "flex_flow": null,
            "width": null,
            "min_width": null,
            "border": null,
            "align_items": null,
            "bottom": null,
            "_model_module": "@jupyter-widgets/base",
            "top": null,
            "grid_column": null,
            "overflow_y": null,
            "overflow_x": null,
            "grid_auto_flow": null,
            "grid_area": null,
            "grid_template_columns": null,
            "flex": null,
            "_model_name": "LayoutModel",
            "justify_items": null,
            "grid_row": null,
            "max_height": null,
            "align_content": null,
            "visibility": null,
            "align_self": null,
            "height": null,
            "min_height": null,
            "padding": null,
            "grid_auto_rows": null,
            "grid_gap": null,
            "max_width": null,
            "order": null,
            "_view_module_version": "1.2.0",
            "grid_template_areas": null,
            "object_position": null,
            "object_fit": null,
            "grid_auto_columns": null,
            "margin": null,
            "display": null,
            "left": null
          }
        },
        "b0ff061df70d4479866ccd839876d8a4": {
          "model_module": "@jupyter-widgets/controls",
          "model_name": "FloatProgressModel",
          "state": {
            "_view_name": "ProgressView",
            "style": "IPY_MODEL_a4117cf0e34944abb25b71690b649270",
            "_dom_classes": [],
            "description": "",
            "_model_name": "FloatProgressModel",
            "bar_style": "success",
            "max": 1,
            "_view_module": "@jupyter-widgets/controls",
            "_model_module_version": "1.5.0",
            "value": 1,
            "_view_count": null,
            "_view_module_version": "1.5.0",
            "orientation": "horizontal",
            "min": 0,
            "description_tooltip": null,
            "_model_module": "@jupyter-widgets/controls",
            "layout": "IPY_MODEL_a02104983ab8420a9fb305029efc2e44"
          }
        },
        "793e303b1306416dace5238a65d2c8aa": {
          "model_module": "@jupyter-widgets/controls",
          "model_name": "HTMLModel",
          "state": {
            "_view_name": "HTMLView",
            "style": "IPY_MODEL_3799e6d8760e4f64a8614ec89321b5a2",
            "_dom_classes": [],
            "description": "",
            "_model_name": "HTMLModel",
            "placeholder": "​",
            "_view_module": "@jupyter-widgets/controls",
            "_model_module_version": "1.5.0",
            "value": " 5/? [00:00&lt;00:00, 51.86it/s]",
            "_view_count": null,
            "_view_module_version": "1.5.0",
            "description_tooltip": null,
            "_model_module": "@jupyter-widgets/controls",
            "layout": "IPY_MODEL_a0e39440dc364ddfa0c9fdde174cdd01"
          }
        },
        "a4117cf0e34944abb25b71690b649270": {
          "model_module": "@jupyter-widgets/controls",
          "model_name": "ProgressStyleModel",
          "state": {
            "_view_name": "StyleView",
            "_model_name": "ProgressStyleModel",
            "description_width": "initial",
            "_view_module": "@jupyter-widgets/base",
            "_model_module_version": "1.5.0",
            "_view_count": null,
            "_view_module_version": "1.2.0",
            "bar_color": null,
            "_model_module": "@jupyter-widgets/controls"
          }
        },
        "a02104983ab8420a9fb305029efc2e44": {
          "model_module": "@jupyter-widgets/base",
          "model_name": "LayoutModel",
          "state": {
            "_view_name": "LayoutView",
            "grid_template_rows": null,
            "right": null,
            "justify_content": null,
            "_view_module": "@jupyter-widgets/base",
            "overflow": null,
            "_model_module_version": "1.2.0",
            "_view_count": null,
            "flex_flow": null,
            "width": null,
            "min_width": null,
            "border": null,
            "align_items": null,
            "bottom": null,
            "_model_module": "@jupyter-widgets/base",
            "top": null,
            "grid_column": null,
            "overflow_y": null,
            "overflow_x": null,
            "grid_auto_flow": null,
            "grid_area": null,
            "grid_template_columns": null,
            "flex": null,
            "_model_name": "LayoutModel",
            "justify_items": null,
            "grid_row": null,
            "max_height": null,
            "align_content": null,
            "visibility": null,
            "align_self": null,
            "height": null,
            "min_height": null,
            "padding": null,
            "grid_auto_rows": null,
            "grid_gap": null,
            "max_width": null,
            "order": null,
            "_view_module_version": "1.2.0",
            "grid_template_areas": null,
            "object_position": null,
            "object_fit": null,
            "grid_auto_columns": null,
            "margin": null,
            "display": null,
            "left": null
          }
        },
        "3799e6d8760e4f64a8614ec89321b5a2": {
          "model_module": "@jupyter-widgets/controls",
          "model_name": "DescriptionStyleModel",
          "state": {
            "_view_name": "StyleView",
            "_model_name": "DescriptionStyleModel",
            "description_width": "",
            "_view_module": "@jupyter-widgets/base",
            "_model_module_version": "1.5.0",
            "_view_count": null,
            "_view_module_version": "1.2.0",
            "_model_module": "@jupyter-widgets/controls"
          }
        },
        "a0e39440dc364ddfa0c9fdde174cdd01": {
          "model_module": "@jupyter-widgets/base",
          "model_name": "LayoutModel",
          "state": {
            "_view_name": "LayoutView",
            "grid_template_rows": null,
            "right": null,
            "justify_content": null,
            "_view_module": "@jupyter-widgets/base",
            "overflow": null,
            "_model_module_version": "1.2.0",
            "_view_count": null,
            "flex_flow": null,
            "width": null,
            "min_width": null,
            "border": null,
            "align_items": null,
            "bottom": null,
            "_model_module": "@jupyter-widgets/base",
            "top": null,
            "grid_column": null,
            "overflow_y": null,
            "overflow_x": null,
            "grid_auto_flow": null,
            "grid_area": null,
            "grid_template_columns": null,
            "flex": null,
            "_model_name": "LayoutModel",
            "justify_items": null,
            "grid_row": null,
            "max_height": null,
            "align_content": null,
            "visibility": null,
            "align_self": null,
            "height": null,
            "min_height": null,
            "padding": null,
            "grid_auto_rows": null,
            "grid_gap": null,
            "max_width": null,
            "order": null,
            "_view_module_version": "1.2.0",
            "grid_template_areas": null,
            "object_position": null,
            "object_fit": null,
            "grid_auto_columns": null,
            "margin": null,
            "display": null,
            "left": null
          }
        }
      }
    }
  },
  "cells": [
    {
      "cell_type": "markdown",
      "metadata": {
        "id": "view-in-github",
        "colab_type": "text"
      },
      "source": [
        "<a href=\"https://colab.research.google.com/github/SeongBeomLEE/Study/blob/main/DataStudy/%EA%B2%80%EC%A6%9D.ipynb\" target=\"_parent\"><img src=\"https://colab.research.google.com/assets/colab-badge.svg\" alt=\"Open In Colab\"/></a>"
      ]
    },
    {
      "cell_type": "code",
      "metadata": {
        "id": "mkxI35srRAve"
      },
      "source": [
        "import numpy as np\r\n",
        "import pandas as pd\r\n",
        "import matplotlib.pyplot as plt\r\n",
        "import matplotlib as mpl\r\n",
        "import scipy\r\n",
        " \r\n",
        " # 데이터셋 라이브러리 로드\r\n",
        "from sklearn.datasets import load_iris\r\n",
        "# 의사결정나무 라이브러리 로드\r\n",
        "from sklearn.tree import DecisionTreeClassifier\r\n",
        "# 데이터 분리 라이브러리 로드\r\n",
        "from sklearn.model_selection import train_test_split\r\n",
        "from sklearn.model_selection import KFold\r\n",
        "from sklearn.model_selection import StratifiedKFold\r\n",
        "# 정확도 예측 라이브러리 로드\r\n",
        "from sklearn.metrics import accuracy_score"
      ],
      "execution_count": null,
      "outputs": []
    },
    {
      "cell_type": "code",
      "metadata": {
        "id": "0oDJwYPyR_r-"
      },
      "source": [
        "# 데이터셋 로드\r\n",
        "iris = load_iris()"
      ],
      "execution_count": null,
      "outputs": []
    },
    {
      "cell_type": "code",
      "metadata": {
        "id": "WDqorsEUWEIx"
      },
      "source": [
        "# target\r\n",
        "iris_label = iris.target\r\n",
        "\r\n",
        "# features\r\n",
        "iris_features = iris.data"
      ],
      "execution_count": null,
      "outputs": []
    },
    {
      "cell_type": "code",
      "metadata": {
        "colab": {
          "base_uri": "https://localhost:8080/",
          "height": 419
        },
        "id": "O44a4hrwWXoF",
        "outputId": "eee9fe28-b106-4c3d-9f8b-3d6f5d14b36d"
      },
      "source": [
        "# 데이터 확인\r\n",
        "df = pd.DataFrame(iris_features, columns=iris.feature_names)\r\n",
        "df['label'] = iris_label\r\n",
        "df"
      ],
      "execution_count": null,
      "outputs": [
        {
          "output_type": "execute_result",
          "data": {
            "text/html": [
              "<div>\n",
              "<style scoped>\n",
              "    .dataframe tbody tr th:only-of-type {\n",
              "        vertical-align: middle;\n",
              "    }\n",
              "\n",
              "    .dataframe tbody tr th {\n",
              "        vertical-align: top;\n",
              "    }\n",
              "\n",
              "    .dataframe thead th {\n",
              "        text-align: right;\n",
              "    }\n",
              "</style>\n",
              "<table border=\"1\" class=\"dataframe\">\n",
              "  <thead>\n",
              "    <tr style=\"text-align: right;\">\n",
              "      <th></th>\n",
              "      <th>sepal length (cm)</th>\n",
              "      <th>sepal width (cm)</th>\n",
              "      <th>petal length (cm)</th>\n",
              "      <th>petal width (cm)</th>\n",
              "      <th>label</th>\n",
              "    </tr>\n",
              "  </thead>\n",
              "  <tbody>\n",
              "    <tr>\n",
              "      <th>0</th>\n",
              "      <td>5.1</td>\n",
              "      <td>3.5</td>\n",
              "      <td>1.4</td>\n",
              "      <td>0.2</td>\n",
              "      <td>0</td>\n",
              "    </tr>\n",
              "    <tr>\n",
              "      <th>1</th>\n",
              "      <td>4.9</td>\n",
              "      <td>3.0</td>\n",
              "      <td>1.4</td>\n",
              "      <td>0.2</td>\n",
              "      <td>0</td>\n",
              "    </tr>\n",
              "    <tr>\n",
              "      <th>2</th>\n",
              "      <td>4.7</td>\n",
              "      <td>3.2</td>\n",
              "      <td>1.3</td>\n",
              "      <td>0.2</td>\n",
              "      <td>0</td>\n",
              "    </tr>\n",
              "    <tr>\n",
              "      <th>3</th>\n",
              "      <td>4.6</td>\n",
              "      <td>3.1</td>\n",
              "      <td>1.5</td>\n",
              "      <td>0.2</td>\n",
              "      <td>0</td>\n",
              "    </tr>\n",
              "    <tr>\n",
              "      <th>4</th>\n",
              "      <td>5.0</td>\n",
              "      <td>3.6</td>\n",
              "      <td>1.4</td>\n",
              "      <td>0.2</td>\n",
              "      <td>0</td>\n",
              "    </tr>\n",
              "    <tr>\n",
              "      <th>...</th>\n",
              "      <td>...</td>\n",
              "      <td>...</td>\n",
              "      <td>...</td>\n",
              "      <td>...</td>\n",
              "      <td>...</td>\n",
              "    </tr>\n",
              "    <tr>\n",
              "      <th>145</th>\n",
              "      <td>6.7</td>\n",
              "      <td>3.0</td>\n",
              "      <td>5.2</td>\n",
              "      <td>2.3</td>\n",
              "      <td>2</td>\n",
              "    </tr>\n",
              "    <tr>\n",
              "      <th>146</th>\n",
              "      <td>6.3</td>\n",
              "      <td>2.5</td>\n",
              "      <td>5.0</td>\n",
              "      <td>1.9</td>\n",
              "      <td>2</td>\n",
              "    </tr>\n",
              "    <tr>\n",
              "      <th>147</th>\n",
              "      <td>6.5</td>\n",
              "      <td>3.0</td>\n",
              "      <td>5.2</td>\n",
              "      <td>2.0</td>\n",
              "      <td>2</td>\n",
              "    </tr>\n",
              "    <tr>\n",
              "      <th>148</th>\n",
              "      <td>6.2</td>\n",
              "      <td>3.4</td>\n",
              "      <td>5.4</td>\n",
              "      <td>2.3</td>\n",
              "      <td>2</td>\n",
              "    </tr>\n",
              "    <tr>\n",
              "      <th>149</th>\n",
              "      <td>5.9</td>\n",
              "      <td>3.0</td>\n",
              "      <td>5.1</td>\n",
              "      <td>1.8</td>\n",
              "      <td>2</td>\n",
              "    </tr>\n",
              "  </tbody>\n",
              "</table>\n",
              "<p>150 rows × 5 columns</p>\n",
              "</div>"
            ],
            "text/plain": [
              "     sepal length (cm)  sepal width (cm)  ...  petal width (cm)  label\n",
              "0                  5.1               3.5  ...               0.2      0\n",
              "1                  4.9               3.0  ...               0.2      0\n",
              "2                  4.7               3.2  ...               0.2      0\n",
              "3                  4.6               3.1  ...               0.2      0\n",
              "4                  5.0               3.6  ...               0.2      0\n",
              "..                 ...               ...  ...               ...    ...\n",
              "145                6.7               3.0  ...               2.3      2\n",
              "146                6.3               2.5  ...               1.9      2\n",
              "147                6.5               3.0  ...               2.0      2\n",
              "148                6.2               3.4  ...               2.3      2\n",
              "149                5.9               3.0  ...               1.8      2\n",
              "\n",
              "[150 rows x 5 columns]"
            ]
          },
          "metadata": {
            "tags": []
          },
          "execution_count": 4
        }
      ]
    },
    {
      "cell_type": "code",
      "metadata": {
        "id": "4kme83SrXANu"
      },
      "source": [
        "# DecisionTreeClassifier 모델 구축\r\n",
        "dt_clf = DecisionTreeClassifier(random_state=22)"
      ],
      "execution_count": null,
      "outputs": []
    },
    {
      "cell_type": "markdown",
      "metadata": {
        "id": "tiNw-_auTdVJ"
      },
      "source": [
        "# 교차검증"
      ]
    },
    {
      "cell_type": "code",
      "metadata": {
        "id": "R2R-MhuvWp_9"
      },
      "source": [
        "# 데이터셋을 트레인 데이터와 테스트 데이터로 분리\r\n",
        "# test_size는 테스트 데이터의 전체 데이터 대비 비율\r\n",
        "# random_state는 seed 값\r\n",
        "x_train, x_test, y_train, y_test = train_test_split(iris_features, iris_label, random_state=22, test_size=0.2)"
      ],
      "execution_count": null,
      "outputs": []
    },
    {
      "cell_type": "code",
      "metadata": {
        "id": "7ABVsvSZXl08"
      },
      "source": [
        "# 모델 학습\r\n",
        "dt_clf.fit(x_train, y_train)\r\n",
        "\r\n",
        "# 모델 예측\r\n",
        "pred = dt_clf.predict(x_test)"
      ],
      "execution_count": null,
      "outputs": []
    },
    {
      "cell_type": "code",
      "metadata": {
        "colab": {
          "base_uri": "https://localhost:8080/"
        },
        "id": "yLYQS0AbXlVE",
        "outputId": "e553ed67-be46-4177-b12e-048d3d85f70b"
      },
      "source": [
        "# 모델 정확도 측정\r\n",
        "print(\"DecisionTreeClassifier의 정확도 : {0:.4f}\".format(accuracy_score(y_test, pred)))"
      ],
      "execution_count": null,
      "outputs": [
        {
          "output_type": "stream",
          "text": [
            "DecisionTreeClassifier의 정확도 : 0.9000\n"
          ],
          "name": "stdout"
        }
      ]
    },
    {
      "cell_type": "markdown",
      "metadata": {
        "id": "OnTlzKbKTilo"
      },
      "source": [
        "# KFold 교차검증 방법\r\n",
        "\r\n",
        "파쳐 값을 기준으로 데이터를 나눠서 검증을 해줌\r\n",
        "\r\n",
        "따라서 일반적으로 회귀문제에서 사용됨"
      ]
    },
    {
      "cell_type": "code",
      "metadata": {
        "colab": {
          "base_uri": "https://localhost:8080/",
          "height": 319,
          "referenced_widgets": [
            "3a4ec44f94b84ab78a925dcbe4a73779",
            "55c1003dfb93458d88ef1bda4742d0e1",
            "a611f09f06584ef6966122c69d200f3d",
            "cc83bb5d1ef44ec4be46a1979687249e",
            "e19be6e7c94d4bbeab5d62862e6107aa",
            "64e28dc054cf4165b94cfb8c83871e20",
            "05ba18446650404da2b2fc58e8adf329",
            "e7b57909ac604ab08befcfd988ebc7e0"
          ]
        },
        "id": "SuazXP42ToKI",
        "outputId": "27d94929-19a8-4837-ca09-543e3362b705"
      },
      "source": [
        "from tqdm import tqdm_notebook\r\n",
        "\r\n",
        "df_cif_oof = np.zeros_like(iris_label)\r\n",
        "kFold = KFold(n_splits=5, shuffle=True, random_state=22)\r\n",
        "\r\n",
        "for idx, (train_index, test_index) in tqdm_notebook(enumerate(kFold.split(iris_features))):\r\n",
        "  x_train, x_test = iris_features[train_index], iris_features[test_index]\r\n",
        "  y_train, y_test = iris_label[train_index], iris_label[test_index]\r\n",
        "\r\n",
        "  dt_clf.fit(x_train, y_train)\r\n",
        "  pred = dt_clf.predict(x_test)\r\n",
        "\r\n",
        "  # 모델 정확도 측정\r\n",
        "  print(\"{0}번째 DecisionTreeClassifier의 정확도 : {1:.3f}, 학습 데이터의 크기: {2}, 검증데이터의 크기: {3}\".format(idx+1 ,accuracy_score(y_test, pred), x_train.shape[0], x_test.shape[0]))\r\n",
        "  print(\"{0}번째 검증 세트의 라벨: {1}\".format(idx+1, y_test))\r\n",
        "\r\n",
        "  df_cif_oof[test_index] = pred\r\n",
        "\r\n",
        "# 모델 정확도 측정\r\n",
        "print(\"DecisionTreeClassifier의 정확도 : {0:.4f}\".format(accuracy_score(iris_label, df_cif_oof)))"
      ],
      "execution_count": null,
      "outputs": [
        {
          "output_type": "stream",
          "text": [
            "/usr/local/lib/python3.6/dist-packages/ipykernel_launcher.py:6: TqdmDeprecationWarning: This function will be removed in tqdm==5.0.0\n",
            "Please use `tqdm.notebook.tqdm` instead of `tqdm.tqdm_notebook`\n",
            "  \n"
          ],
          "name": "stderr"
        },
        {
          "output_type": "display_data",
          "data": {
            "application/vnd.jupyter.widget-view+json": {
              "model_id": "3a4ec44f94b84ab78a925dcbe4a73779",
              "version_minor": 0,
              "version_major": 2
            },
            "text/plain": [
              "HBox(children=(FloatProgress(value=1.0, bar_style='info', max=1.0), HTML(value='')))"
            ]
          },
          "metadata": {
            "tags": []
          }
        },
        {
          "output_type": "stream",
          "text": [
            "1번째 DecisionTreeClassifier의 정확도 : 0.900, 학습 데이터의 크기: 120, 검증데이터의 크기: 30\n",
            "1번째 검증 세트의 라벨: [0 0 0 0 0 0 1 1 1 1 1 1 1 1 1 1 2 2 2 2 2 2 2 2 2 2 2 2 2 2]\n",
            "2번째 DecisionTreeClassifier의 정확도 : 0.967, 학습 데이터의 크기: 120, 검증데이터의 크기: 30\n",
            "2번째 검증 세트의 라벨: [0 0 0 0 0 0 0 0 0 0 0 0 0 0 1 1 1 1 1 1 1 1 1 1 2 2 2 2 2 2]\n",
            "3번째 DecisionTreeClassifier의 정확도 : 0.933, 학습 데이터의 크기: 120, 검증데이터의 크기: 30\n",
            "3번째 검증 세트의 라벨: [0 0 0 0 0 0 0 0 0 0 1 1 1 1 1 1 1 1 1 1 1 1 1 1 1 2 2 2 2 2]\n",
            "4번째 DecisionTreeClassifier의 정확도 : 0.933, 학습 데이터의 크기: 120, 검증데이터의 크기: 30\n",
            "4번째 검증 세트의 라벨: [0 0 0 0 0 0 0 0 0 1 1 1 1 1 1 1 1 1 1 2 2 2 2 2 2 2 2 2 2 2]\n",
            "5번째 DecisionTreeClassifier의 정확도 : 0.967, 학습 데이터의 크기: 120, 검증데이터의 크기: 30\n",
            "5번째 검증 세트의 라벨: [0 0 0 0 0 0 0 0 0 0 0 1 1 1 1 1 2 2 2 2 2 2 2 2 2 2 2 2 2 2]\n",
            "\n",
            "DecisionTreeClassifier의 정확도 : 0.9400\n"
          ],
          "name": "stdout"
        }
      ]
    },
    {
      "cell_type": "markdown",
      "metadata": {
        "id": "wDvYp5luTqbh"
      },
      "source": [
        "# Stratified KFold 교차검증 방법\r\n",
        "\r\n",
        "타겟 값이 불균형 할 때 최대한 비율을 맞춰서 검증을 해줌\r\n",
        "\r\n",
        "따라서 일반적으로 분류문제에서 사용됨"
      ]
    },
    {
      "cell_type": "code",
      "metadata": {
        "colab": {
          "base_uri": "https://localhost:8080/",
          "height": 319,
          "referenced_widgets": [
            "7a3f717c93694368910d91f55c8d641a",
            "5e5dcaa1a2684a2d9d5506a67690e242",
            "b0ff061df70d4479866ccd839876d8a4",
            "793e303b1306416dace5238a65d2c8aa",
            "a4117cf0e34944abb25b71690b649270",
            "a02104983ab8420a9fb305029efc2e44",
            "3799e6d8760e4f64a8614ec89321b5a2",
            "a0e39440dc364ddfa0c9fdde174cdd01"
          ]
        },
        "id": "dRMnGsrNTpyY",
        "outputId": "214a4f33-53ec-421a-a5b4-915229fc81b9"
      },
      "source": [
        "from tqdm import tqdm_notebook\r\n",
        "\r\n",
        "df_cif_oof = np.zeros_like(iris_label)\r\n",
        "skf = StratifiedKFold(n_splits=5, shuffle=True, random_state=22)\r\n",
        "\r\n",
        "for idx, (train_index, test_index) in tqdm_notebook(enumerate(skf.split(iris_features, iris_label))):\r\n",
        "  x_train, x_test = iris_features[train_index], iris_features[test_index]\r\n",
        "  y_train, y_test = iris_label[train_index], iris_label[test_index]\r\n",
        "\r\n",
        "  dt_clf.fit(x_train, y_train)\r\n",
        "  pred = dt_clf.predict(x_test)\r\n",
        "\r\n",
        "  # 모델 정확도 측정\r\n",
        "  print(\"{0}번째 DecisionTreeClassifier의 정확도 : {1:.3f}, 학습 데이터의 크기: {2}, 검증데이터의 크기: {3}\".format(idx+1 ,accuracy_score(y_test, pred), x_train.shape[0], x_test.shape[0]))\r\n",
        "  print(\"{0}번째 검증 세트의 라벨: {1}\".format(idx+1, y_test))\r\n",
        "\r\n",
        "  df_cif_oof[test_index] = pred\r\n",
        "\r\n",
        "# 모델 정확도 측정\r\n",
        "print(\"DecisionTreeClassifier의 정확도 : {0:.4f}\".format(accuracy_score(iris_label, df_cif_oof)))"
      ],
      "execution_count": null,
      "outputs": [
        {
          "output_type": "stream",
          "text": [
            "/usr/local/lib/python3.6/dist-packages/ipykernel_launcher.py:6: TqdmDeprecationWarning: This function will be removed in tqdm==5.0.0\n",
            "Please use `tqdm.notebook.tqdm` instead of `tqdm.tqdm_notebook`\n",
            "  \n"
          ],
          "name": "stderr"
        },
        {
          "output_type": "display_data",
          "data": {
            "application/vnd.jupyter.widget-view+json": {
              "model_id": "7a3f717c93694368910d91f55c8d641a",
              "version_minor": 0,
              "version_major": 2
            },
            "text/plain": [
              "HBox(children=(FloatProgress(value=1.0, bar_style='info', max=1.0), HTML(value='')))"
            ]
          },
          "metadata": {
            "tags": []
          }
        },
        {
          "output_type": "stream",
          "text": [
            "1번째 DecisionTreeClassifier의 정확도 : 0.867, 학습 데이터의 크기: 120, 검증데이터의 크기: 30\n",
            "1번째 검증 세트의 라벨: [0 0 0 0 0 0 0 0 0 0 1 1 1 1 1 1 1 1 1 1 2 2 2 2 2 2 2 2 2 2]\n",
            "2번째 DecisionTreeClassifier의 정확도 : 0.833, 학습 데이터의 크기: 120, 검증데이터의 크기: 30\n",
            "2번째 검증 세트의 라벨: [0 0 0 0 0 0 0 0 0 0 1 1 1 1 1 1 1 1 1 1 2 2 2 2 2 2 2 2 2 2]\n",
            "3번째 DecisionTreeClassifier의 정확도 : 0.967, 학습 데이터의 크기: 120, 검증데이터의 크기: 30\n",
            "3번째 검증 세트의 라벨: [0 0 0 0 0 0 0 0 0 0 1 1 1 1 1 1 1 1 1 1 2 2 2 2 2 2 2 2 2 2]\n",
            "4번째 DecisionTreeClassifier의 정확도 : 1.000, 학습 데이터의 크기: 120, 검증데이터의 크기: 30\n",
            "4번째 검증 세트의 라벨: [0 0 0 0 0 0 0 0 0 0 1 1 1 1 1 1 1 1 1 1 2 2 2 2 2 2 2 2 2 2]\n",
            "5번째 DecisionTreeClassifier의 정확도 : 1.000, 학습 데이터의 크기: 120, 검증데이터의 크기: 30\n",
            "5번째 검증 세트의 라벨: [0 0 0 0 0 0 0 0 0 0 1 1 1 1 1 1 1 1 1 1 2 2 2 2 2 2 2 2 2 2]\n",
            "\n",
            "DecisionTreeClassifier의 정확도 : 0.9333\n"
          ],
          "name": "stdout"
        }
      ]
    },
    {
      "cell_type": "markdown",
      "metadata": {
        "id": "eG5thZ2wYKsw"
      },
      "source": [
        "# feature 중요도 출력\r\n",
        "\r\n",
        "여기서 중요도가 낮다고 해서 또 무조건 중요하지 않은 것은 아님\r\n",
        "\r\n",
        "왜나하면 모델을 돌리다보면 픽쳐 중요도가 크게 차이날때가 많음\r\n",
        "\r\n",
        "따라서 모든 픽쳐를 다 탐색해보는 것이 중요하다."
      ]
    },
    {
      "cell_type": "code",
      "metadata": {
        "colab": {
          "base_uri": "https://localhost:8080/",
          "height": 338
        },
        "id": "z24VfYz7Mak3",
        "outputId": "f2b9c94f-f6e2-40f3-9644-2c101d5ee8a3"
      },
      "source": [
        "# 모델에서 중요하게 여기는 feature를 출력\r\n",
        "plt.figure(figsize=(12,5))\r\n",
        "plt.bar(x=iris.feature_names, height=dt_clf.feature_importances_)"
      ],
      "execution_count": null,
      "outputs": [
        {
          "output_type": "execute_result",
          "data": {
            "text/plain": [
              "<BarContainer object of 4 artists>"
            ]
          },
          "metadata": {
            "tags": []
          },
          "execution_count": 11
        },
        {
          "output_type": "display_data",
          "data": {
            "image/png": "[encoded data removed]",
            "text/plain": [
              "<Figure size 864x360 with 1 Axes>"
            ]
          },
          "metadata": {
            "tags": [],
            "needs_background": "light"
          }
        }
      ]
    },
    {
      "cell_type": "markdown",
      "metadata": {
        "id": "QGTBZNI8krug"
      },
      "source": [
        "# cross_val_score을 활용한 간단한 교차검증"
      ]
    },
    {
      "cell_type": "code",
      "metadata": {
        "colab": {
          "base_uri": "https://localhost:8080/"
        },
        "id": "LkM0inNFkq74",
        "outputId": "1880b9af-6c7e-4ea8-cd23-82b4e9e9312e"
      },
      "source": [
        "from sklearn.model_selection import cross_val_score, cross_validate\r\n",
        "\r\n",
        "score = cross_val_score(dt_clf, iris_features, iris_label, scoring='accuracy', cv=5)\r\n",
        "print('교차 검증별 정확도: ', np.round(score, 4))\r\n",
        "print('교차 검증 평균 정확도: ', np.round(np.mean(score), 4))"
      ],
      "execution_count": null,
      "outputs": [
        {
          "output_type": "stream",
          "text": [
            "교차 검증별 정확도:  [0.9667 0.9667 0.9    0.9333 1.    ]\n",
            "교차 검증 평균 정확도:  0.9533\n"
          ],
          "name": "stdout"
        }
      ]
    },
    {
      "cell_type": "markdown",
      "metadata": {
        "id": "Z7KyL8pbkyhm"
      },
      "source": [
        "# GridSearchCV\r\n",
        "교차검증을 활용한 하이퍼 파라미터 튜닝"
      ]
    },
    {
      "cell_type": "code",
      "metadata": {
        "colab": {
          "base_uri": "https://localhost:8080/"
        },
        "id": "joz-z0Ktk7k3",
        "outputId": "b94ecc12-7102-4c4f-9b58-cd72d604fade"
      },
      "source": [
        "from sklearn.model_selection import GridSearchCV\r\n",
        "\r\n",
        "x_train, x_test, y_train, y_test = train_test_split(iris_features, iris_label, random_state=22, test_size=0.2, shuffle=True)\r\n",
        "\r\n",
        "dt_clf = DecisionTreeClassifier(random_state=22,)\r\n",
        "\r\n",
        "params = {'max_depth':[1,2,3],\r\n",
        "          'min_samples_split':[2,3]}\r\n",
        "\r\n",
        "grid_dt = GridSearchCV(dt_clf, param_grid=params, cv=5, refit=True)\r\n",
        "\r\n",
        "grid_dt.fit(x_train, y_train)"
      ],
      "execution_count": null,
      "outputs": [
        {
          "output_type": "execute_result",
          "data": {
            "text/plain": [
              "GridSearchCV(cv=5, error_score=nan,\n",
              "             estimator=DecisionTreeClassifier(ccp_alpha=0.0, class_weight=None,\n",
              "                                              criterion='gini', max_depth=None,\n",
              "                                              max_features=None,\n",
              "                                              max_leaf_nodes=None,\n",
              "                                              min_impurity_decrease=0.0,\n",
              "                                              min_impurity_split=None,\n",
              "                                              min_samples_leaf=1,\n",
              "                                              min_samples_split=2,\n",
              "                                              min_weight_fraction_leaf=0.0,\n",
              "                                              presort='deprecated',\n",
              "                                              random_state=22,\n",
              "                                              splitter='best'),\n",
              "             iid='deprecated', n_jobs=None,\n",
              "             param_grid={'max_depth': [1, 2, 3], 'min_samples_split': [2, 3]},\n",
              "             pre_dispatch='2*n_jobs', refit=True, return_train_score=False,\n",
              "             scoring=None, verbose=0)"
            ]
          },
          "metadata": {
            "tags": []
          },
          "execution_count": 15
        }
      ]
    },
    {
      "cell_type": "code",
      "metadata": {
        "colab": {
          "base_uri": "https://localhost:8080/",
          "height": 459
        },
        "id": "4HJ8AVPPofzg",
        "outputId": "91756167-3453-456f-b136-dab4d6be3d4c"
      },
      "source": [
        "scores_df = pd.DataFrame(grid_dt.cv_results_)\r\n",
        "scores_df"
      ],
      "execution_count": null,
      "outputs": [
        {
          "output_type": "execute_result",
          "data": {
            "text/html": [
              "<div>\n",
              "<style scoped>\n",
              "    .dataframe tbody tr th:only-of-type {\n",
              "        vertical-align: middle;\n",
              "    }\n",
              "\n",
              "    .dataframe tbody tr th {\n",
              "        vertical-align: top;\n",
              "    }\n",
              "\n",
              "    .dataframe thead th {\n",
              "        text-align: right;\n",
              "    }\n",
              "</style>\n",
              "<table border=\"1\" class=\"dataframe\">\n",
              "  <thead>\n",
              "    <tr style=\"text-align: right;\">\n",
              "      <th></th>\n",
              "      <th>mean_fit_time</th>\n",
              "      <th>std_fit_time</th>\n",
              "      <th>mean_score_time</th>\n",
              "      <th>std_score_time</th>\n",
              "      <th>param_max_depth</th>\n",
              "      <th>param_min_samples_split</th>\n",
              "      <th>params</th>\n",
              "      <th>split0_test_score</th>\n",
              "      <th>split1_test_score</th>\n",
              "      <th>split2_test_score</th>\n",
              "      <th>split3_test_score</th>\n",
              "      <th>split4_test_score</th>\n",
              "      <th>mean_test_score</th>\n",
              "      <th>std_test_score</th>\n",
              "      <th>rank_test_score</th>\n",
              "    </tr>\n",
              "  </thead>\n",
              "  <tbody>\n",
              "    <tr>\n",
              "      <th>0</th>\n",
              "      <td>0.001173</td>\n",
              "      <td>0.000311</td>\n",
              "      <td>0.000374</td>\n",
              "      <td>0.000085</td>\n",
              "      <td>1</td>\n",
              "      <td>2</td>\n",
              "      <td>{'max_depth': 1, 'min_samples_split': 2}</td>\n",
              "      <td>0.708333</td>\n",
              "      <td>0.708333</td>\n",
              "      <td>0.708333</td>\n",
              "      <td>0.708333</td>\n",
              "      <td>0.666667</td>\n",
              "      <td>0.70</td>\n",
              "      <td>0.016667</td>\n",
              "      <td>5</td>\n",
              "    </tr>\n",
              "    <tr>\n",
              "      <th>1</th>\n",
              "      <td>0.000683</td>\n",
              "      <td>0.000129</td>\n",
              "      <td>0.000267</td>\n",
              "      <td>0.000042</td>\n",
              "      <td>1</td>\n",
              "      <td>3</td>\n",
              "      <td>{'max_depth': 1, 'min_samples_split': 3}</td>\n",
              "      <td>0.708333</td>\n",
              "      <td>0.708333</td>\n",
              "      <td>0.708333</td>\n",
              "      <td>0.708333</td>\n",
              "      <td>0.666667</td>\n",
              "      <td>0.70</td>\n",
              "      <td>0.016667</td>\n",
              "      <td>5</td>\n",
              "    </tr>\n",
              "    <tr>\n",
              "      <th>2</th>\n",
              "      <td>0.000576</td>\n",
              "      <td>0.000023</td>\n",
              "      <td>0.000231</td>\n",
              "      <td>0.000005</td>\n",
              "      <td>2</td>\n",
              "      <td>2</td>\n",
              "      <td>{'max_depth': 2, 'min_samples_split': 2}</td>\n",
              "      <td>0.958333</td>\n",
              "      <td>0.958333</td>\n",
              "      <td>0.958333</td>\n",
              "      <td>0.916667</td>\n",
              "      <td>0.958333</td>\n",
              "      <td>0.95</td>\n",
              "      <td>0.016667</td>\n",
              "      <td>1</td>\n",
              "    </tr>\n",
              "    <tr>\n",
              "      <th>3</th>\n",
              "      <td>0.000581</td>\n",
              "      <td>0.000010</td>\n",
              "      <td>0.000237</td>\n",
              "      <td>0.000013</td>\n",
              "      <td>2</td>\n",
              "      <td>3</td>\n",
              "      <td>{'max_depth': 2, 'min_samples_split': 3}</td>\n",
              "      <td>0.958333</td>\n",
              "      <td>0.958333</td>\n",
              "      <td>0.958333</td>\n",
              "      <td>0.916667</td>\n",
              "      <td>0.958333</td>\n",
              "      <td>0.95</td>\n",
              "      <td>0.016667</td>\n",
              "      <td>1</td>\n",
              "    </tr>\n",
              "    <tr>\n",
              "      <th>4</th>\n",
              "      <td>0.000601</td>\n",
              "      <td>0.000028</td>\n",
              "      <td>0.000234</td>\n",
              "      <td>0.000011</td>\n",
              "      <td>3</td>\n",
              "      <td>2</td>\n",
              "      <td>{'max_depth': 3, 'min_samples_split': 2}</td>\n",
              "      <td>0.958333</td>\n",
              "      <td>0.958333</td>\n",
              "      <td>0.958333</td>\n",
              "      <td>0.916667</td>\n",
              "      <td>0.958333</td>\n",
              "      <td>0.95</td>\n",
              "      <td>0.016667</td>\n",
              "      <td>1</td>\n",
              "    </tr>\n",
              "    <tr>\n",
              "      <th>5</th>\n",
              "      <td>0.000595</td>\n",
              "      <td>0.000026</td>\n",
              "      <td>0.000231</td>\n",
              "      <td>0.000010</td>\n",
              "      <td>3</td>\n",
              "      <td>3</td>\n",
              "      <td>{'max_depth': 3, 'min_samples_split': 3}</td>\n",
              "      <td>0.958333</td>\n",
              "      <td>0.958333</td>\n",
              "      <td>0.958333</td>\n",
              "      <td>0.916667</td>\n",
              "      <td>0.958333</td>\n",
              "      <td>0.95</td>\n",
              "      <td>0.016667</td>\n",
              "      <td>1</td>\n",
              "    </tr>\n",
              "  </tbody>\n",
              "</table>\n",
              "</div>"
            ],
            "text/plain": [
              "   mean_fit_time  std_fit_time  ...  std_test_score  rank_test_score\n",
              "0       0.001173      0.000311  ...        0.016667                5\n",
              "1       0.000683      0.000129  ...        0.016667                5\n",
              "2       0.000576      0.000023  ...        0.016667                1\n",
              "3       0.000581      0.000010  ...        0.016667                1\n",
              "4       0.000601      0.000028  ...        0.016667                1\n",
              "5       0.000595      0.000026  ...        0.016667                1\n",
              "\n",
              "[6 rows x 15 columns]"
            ]
          },
          "metadata": {
            "tags": []
          },
          "execution_count": 22
        }
      ]
    },
    {
      "cell_type": "code",
      "metadata": {
        "colab": {
          "base_uri": "https://localhost:8080/",
          "height": 235
        },
        "id": "hQnUPYxZpNT2",
        "outputId": "1142d57e-ae3d-48ea-8b89-69768611b1cf"
      },
      "source": [
        "cols = ['params', 'mean_test_score', 'rank_test_score', 'split0_test_score', 'split1_test_score', 'split2_test_score', 'split3_test_score', 'split4_test_score']\r\n",
        "scores_df[cols]"
      ],
      "execution_count": null,
      "outputs": [
        {
          "output_type": "execute_result",
          "data": {
            "text/html": [
              "<div>\n",
              "<style scoped>\n",
              "    .dataframe tbody tr th:only-of-type {\n",
              "        vertical-align: middle;\n",
              "    }\n",
              "\n",
              "    .dataframe tbody tr th {\n",
              "        vertical-align: top;\n",
              "    }\n",
              "\n",
              "    .dataframe thead th {\n",
              "        text-align: right;\n",
              "    }\n",
              "</style>\n",
              "<table border=\"1\" class=\"dataframe\">\n",
              "  <thead>\n",
              "    <tr style=\"text-align: right;\">\n",
              "      <th></th>\n",
              "      <th>params</th>\n",
              "      <th>mean_test_score</th>\n",
              "      <th>rank_test_score</th>\n",
              "      <th>split0_test_score</th>\n",
              "      <th>split1_test_score</th>\n",
              "      <th>split2_test_score</th>\n",
              "      <th>split3_test_score</th>\n",
              "      <th>split4_test_score</th>\n",
              "    </tr>\n",
              "  </thead>\n",
              "  <tbody>\n",
              "    <tr>\n",
              "      <th>0</th>\n",
              "      <td>{'max_depth': 1, 'min_samples_split': 2}</td>\n",
              "      <td>0.70</td>\n",
              "      <td>5</td>\n",
              "      <td>0.708333</td>\n",
              "      <td>0.708333</td>\n",
              "      <td>0.708333</td>\n",
              "      <td>0.708333</td>\n",
              "      <td>0.666667</td>\n",
              "    </tr>\n",
              "    <tr>\n",
              "      <th>1</th>\n",
              "      <td>{'max_depth': 1, 'min_samples_split': 3}</td>\n",
              "      <td>0.70</td>\n",
              "      <td>5</td>\n",
              "      <td>0.708333</td>\n",
              "      <td>0.708333</td>\n",
              "      <td>0.708333</td>\n",
              "      <td>0.708333</td>\n",
              "      <td>0.666667</td>\n",
              "    </tr>\n",
              "    <tr>\n",
              "      <th>2</th>\n",
              "      <td>{'max_depth': 2, 'min_samples_split': 2}</td>\n",
              "      <td>0.95</td>\n",
              "      <td>1</td>\n",
              "      <td>0.958333</td>\n",
              "      <td>0.958333</td>\n",
              "      <td>0.958333</td>\n",
              "      <td>0.916667</td>\n",
              "      <td>0.958333</td>\n",
              "    </tr>\n",
              "    <tr>\n",
              "      <th>3</th>\n",
              "      <td>{'max_depth': 2, 'min_samples_split': 3}</td>\n",
              "      <td>0.95</td>\n",
              "      <td>1</td>\n",
              "      <td>0.958333</td>\n",
              "      <td>0.958333</td>\n",
              "      <td>0.958333</td>\n",
              "      <td>0.916667</td>\n",
              "      <td>0.958333</td>\n",
              "    </tr>\n",
              "    <tr>\n",
              "      <th>4</th>\n",
              "      <td>{'max_depth': 3, 'min_samples_split': 2}</td>\n",
              "      <td>0.95</td>\n",
              "      <td>1</td>\n",
              "      <td>0.958333</td>\n",
              "      <td>0.958333</td>\n",
              "      <td>0.958333</td>\n",
              "      <td>0.916667</td>\n",
              "      <td>0.958333</td>\n",
              "    </tr>\n",
              "    <tr>\n",
              "      <th>5</th>\n",
              "      <td>{'max_depth': 3, 'min_samples_split': 3}</td>\n",
              "      <td>0.95</td>\n",
              "      <td>1</td>\n",
              "      <td>0.958333</td>\n",
              "      <td>0.958333</td>\n",
              "      <td>0.958333</td>\n",
              "      <td>0.916667</td>\n",
              "      <td>0.958333</td>\n",
              "    </tr>\n",
              "  </tbody>\n",
              "</table>\n",
              "</div>"
            ],
            "text/plain": [
              "                                     params  ...  split4_test_score\n",
              "0  {'max_depth': 1, 'min_samples_split': 2}  ...           0.666667\n",
              "1  {'max_depth': 1, 'min_samples_split': 3}  ...           0.666667\n",
              "2  {'max_depth': 2, 'min_samples_split': 2}  ...           0.958333\n",
              "3  {'max_depth': 2, 'min_samples_split': 3}  ...           0.958333\n",
              "4  {'max_depth': 3, 'min_samples_split': 2}  ...           0.958333\n",
              "5  {'max_depth': 3, 'min_samples_split': 3}  ...           0.958333\n",
              "\n",
              "[6 rows x 8 columns]"
            ]
          },
          "metadata": {
            "tags": []
          },
          "execution_count": 21
        }
      ]
    },
    {
      "cell_type": "code",
      "metadata": {
        "colab": {
          "base_uri": "https://localhost:8080/"
        },
        "id": "5_cvQojzpkjc",
        "outputId": "5b1af13b-3323-4ba0-bced-849bea51112b"
      },
      "source": [
        "print('최적의 파라미터: ', grid_dt.best_params_)\r\n",
        "print('최고의 정확도: ', grid_dt.best_score_)"
      ],
      "execution_count": null,
      "outputs": [
        {
          "output_type": "stream",
          "text": [
            "최적의 파라미터:  {'max_depth': 2, 'min_samples_split': 2}\n",
            "최고의 정확도:  0.95\n"
          ],
          "name": "stdout"
        }
      ]
    },
    {
      "cell_type": "code",
      "metadata": {
        "colab": {
          "base_uri": "https://localhost:8080/"
        },
        "id": "bVj9Ej7zpwdE",
        "outputId": "78c8c8c5-9833-4274-9316-8d2a00975ca6"
      },
      "source": [
        "# 최적의 파라미터로 학습\r\n",
        "estimator = grid_dt.best_estimator_\r\n",
        "\r\n",
        "pred = estimator.predict(x_test)\r\n",
        "print('정확도: ', accuracy_score(y_test, pred))"
      ],
      "execution_count": null,
      "outputs": [
        {
          "output_type": "stream",
          "text": [
            "정확도:  0.9333333333333333\n"
          ],
          "name": "stdout"
        }
      ]
    }
  ]
}