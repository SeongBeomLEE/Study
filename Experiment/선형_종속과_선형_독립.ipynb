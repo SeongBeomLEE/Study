{
  "nbformat": 4,
  "nbformat_minor": 0,
  "metadata": {
    "colab": {
      "name": "선형 종속과 선형 독립.ipynb",
      "provenance": [],
      "collapsed_sections": [],
      "authorship_tag": "ABX9TyOh0hzJ3g5VZP3olMXzZHww"
    },
    "kernelspec": {
      "name": "python3",
      "display_name": "Python 3"
    },
    "language_info": {
      "name": "python"
    }
  },
  "cells": [
    {
      "cell_type": "markdown",
      "metadata": {
        "id": "tS8e0j9bSHR9"
      },
      "source": [
        "선형 종속과 선형 독립의 관계를 보자!\n",
        "\n",
        "선형 종속\n",
        "- x + 2x + 3x + 4x + 5x = y 라는 식을 생성하자\n",
        "\n",
        "선형 독립\n",
        "- x + x^2 + x^3 + x^4 + x^5 = y 라는 식을 생성하자\n",
        "\n",
        "다음과 같은 식을 각각 선형 모델, DT 모델, MLP 모델에 넣어 회귀 계수와 성능에 어떠한 차이가 발생하는지 알아보자!"
      ]
    },
    {
      "cell_type": "code",
      "metadata": {
        "id": "0DJ23e2NR7FX"
      },
      "source": [
        "import numpy as np\n",
        "from sklearn.linear_model import LinearRegression\n",
        "from sklearn.tree import DecisionTreeRegressor"
      ],
      "execution_count": 1,
      "outputs": []
    },
    {
      "cell_type": "code",
      "metadata": {
        "id": "cBOsds2qSGG8"
      },
      "source": [
        "x = np.random.randint(100, size = (100, 1))\n",
        "dependent_X = np.concatenate([x, 2*x, 3*x, 4*x, 5*x], axis = 1)\n",
        "dependent_Y = dependent_X.sum(axis = 1)\n",
        "\n",
        "independent_X = np.concatenate([x, x**2, x**3, x**4, x**5], axis = 1)\n",
        "independent_Y = independent_X.sum(axis = 1)"
      ],
      "execution_count": 2,
      "outputs": []
    },
    {
      "cell_type": "code",
      "metadata": {
        "id": "f0tup0efV-Y9"
      },
      "source": [
        "from sklearn.linear_model import LinearRegression\n",
        "from sklearn.tree import DecisionTreeRegressor\n",
        "from sklearn.neural_network import MLPRegressor\n",
        "\n",
        "def get_linear_result(X, Y):\n",
        "    model = LinearRegression(fit_intercept = True)\n",
        "    model.fit(X, Y)\n",
        "    score = model.score(X, Y)\n",
        "    rank = model.rank_\n",
        "    coef = model.coef_\n",
        "    intercept = model.intercept_\n",
        "\n",
        "    print('score: ', score)\n",
        "    print('rank: ', rank)\n",
        "    print('coef: ', coef)\n",
        "    print('intercept: ', intercept)\n",
        "\n",
        "\n",
        "def get_dt_result(X, Y, random_state):\n",
        "    model = DecisionTreeRegressor(random_state = random_state)\n",
        "    model.fit(X, Y)\n",
        "    score = model.score(X, Y)\n",
        "    feature_importances = model.feature_importances_\n",
        "    print('random_state: ', random_state)\n",
        "    print('score: ', score)\n",
        "    print('feature_importances: ', feature_importances)\n",
        "\n",
        "def get_nn_result(X, Y):\n",
        "    model = MLPRegressor(hidden_layer_sizes = (100, 50,))\n",
        "    model.fit(X, Y)\n",
        "    best_loss = model.best_loss_\n",
        "    coef = model.coefs_\n",
        "    intercept = model.intercepts_\n",
        "\n",
        "    print('best_loss: ', best_loss)\n",
        "    # print('coef: ', coef)\n",
        "    # print('intercept: ', intercept)"
      ],
      "execution_count": 68,
      "outputs": []
    },
    {
      "cell_type": "markdown",
      "metadata": {
        "id": "ThKiUt6nXn2_"
      },
      "source": [
        "# LinearRegression"
      ]
    },
    {
      "cell_type": "code",
      "metadata": {
        "colab": {
          "base_uri": "https://localhost:8080/"
        },
        "id": "joj8QzLMTYsK",
        "outputId": "cf4faa14-15c5-4cf9-a7a7-ebc4e38b1a84"
      },
      "source": [
        "get_linear_result(dependent_X, dependent_Y)"
      ],
      "execution_count": 36,
      "outputs": [
        {
          "output_type": "stream",
          "name": "stdout",
          "text": [
            "score:  1.0\n",
            "rank:  1\n",
            "coef:  [0.27272727 0.54545455 0.81818182 1.09090909 1.36363636]\n",
            "intercept:  2.2737367544323206e-13\n"
          ]
        }
      ]
    },
    {
      "cell_type": "code",
      "metadata": {
        "colab": {
          "base_uri": "https://localhost:8080/"
        },
        "id": "2otnJUmPfldB",
        "outputId": "e257a64c-fd52-424b-aabe-191079de9f8a"
      },
      "source": [
        "dependent_Y"
      ],
      "execution_count": 49,
      "outputs": [
        {
          "output_type": "execute_result",
          "data": {
            "text/plain": [
              "array([1110, 1425,  405,  675,  360,  105, 1095, 1440,  735, 1035,  960,\n",
              "        525,  675,  990,  435, 1200,  135, 1170,  750,  315, 1350,  915,\n",
              "         30,  345,  120, 1335, 1275,  870,  870, 1005, 1410,  180,  150,\n",
              "       1170,  240,  795,  420,  510,  390, 1155,  495,  660, 1200,  645,\n",
              "         15,  330, 1050, 1290, 1455,  555,  150,  120,  915, 1170,  915,\n",
              "        405,   90, 1155, 1350, 1110,  270,  735,  975, 1080,  375, 1425,\n",
              "       1200,  195,  975,  750, 1425,  300, 1395,  915,  615, 1410, 1050,\n",
              "        690, 1245,  510, 1125,  540,  765,  735,  120,  825,  180,  210,\n",
              "        285,  105,  630,  165, 1230,   15, 1035,  600, 1245,  705,  630,\n",
              "        720])"
            ]
          },
          "metadata": {},
          "execution_count": 49
        }
      ]
    },
    {
      "cell_type": "code",
      "metadata": {
        "colab": {
          "base_uri": "https://localhost:8080/"
        },
        "id": "QDMBxgimgjUS",
        "outputId": "53231f42-b41a-40fb-96ec-6634c807aeb2"
      },
      "source": [
        "x.reshape(-1)"
      ],
      "execution_count": 53,
      "outputs": [
        {
          "output_type": "execute_result",
          "data": {
            "text/plain": [
              "array([74, 95, 27, 45, 24,  7, 73, 96, 49, 69, 64, 35, 45, 66, 29, 80,  9,\n",
              "       78, 50, 21, 90, 61,  2, 23,  8, 89, 85, 58, 58, 67, 94, 12, 10, 78,\n",
              "       16, 53, 28, 34, 26, 77, 33, 44, 80, 43,  1, 22, 70, 86, 97, 37, 10,\n",
              "        8, 61, 78, 61, 27,  6, 77, 90, 74, 18, 49, 65, 72, 25, 95, 80, 13,\n",
              "       65, 50, 95, 20, 93, 61, 41, 94, 70, 46, 83, 34, 75, 36, 51, 49,  8,\n",
              "       55, 12, 14, 19,  7, 42, 11, 82,  1, 69, 40, 83, 47, 42, 48])"
            ]
          },
          "metadata": {},
          "execution_count": 53
        }
      ]
    },
    {
      "cell_type": "code",
      "metadata": {
        "colab": {
          "base_uri": "https://localhost:8080/"
        },
        "id": "tV_twRbNgCfj",
        "outputId": "28148726-4f88-4cf2-f37a-9a0ef24094cb"
      },
      "source": [
        "(x +  2*x + 3*x + 4*x + 5*x).reshape(-1)"
      ],
      "execution_count": 51,
      "outputs": [
        {
          "output_type": "execute_result",
          "data": {
            "text/plain": [
              "array([1110, 1425,  405,  675,  360,  105, 1095, 1440,  735, 1035,  960,\n",
              "        525,  675,  990,  435, 1200,  135, 1170,  750,  315, 1350,  915,\n",
              "         30,  345,  120, 1335, 1275,  870,  870, 1005, 1410,  180,  150,\n",
              "       1170,  240,  795,  420,  510,  390, 1155,  495,  660, 1200,  645,\n",
              "         15,  330, 1050, 1290, 1455,  555,  150,  120,  915, 1170,  915,\n",
              "        405,   90, 1155, 1350, 1110,  270,  735,  975, 1080,  375, 1425,\n",
              "       1200,  195,  975,  750, 1425,  300, 1395,  915,  615, 1410, 1050,\n",
              "        690, 1245,  510, 1125,  540,  765,  735,  120,  825,  180,  210,\n",
              "        285,  105,  630,  165, 1230,   15, 1035,  600, 1245,  705,  630,\n",
              "        720])"
            ]
          },
          "metadata": {},
          "execution_count": 51
        }
      ]
    },
    {
      "cell_type": "code",
      "metadata": {
        "colab": {
          "base_uri": "https://localhost:8080/"
        },
        "id": "Irxn7Z0TgeXi",
        "outputId": "1411bb32-b348-4328-ed2b-d3d744c04b05"
      },
      "source": [
        " _x = 0.27272727 * dependent_X[:,0]\n",
        " _x"
      ],
      "execution_count": 60,
      "outputs": [
        {
          "output_type": "execute_result",
          "data": {
            "text/plain": [
              "array([20.18181798, 25.90909065,  7.36363629, 12.27272715,  6.54545448,\n",
              "        1.90909089, 19.90909071, 26.18181792, 13.36363623, 18.81818163,\n",
              "       17.45454528,  9.54545445, 12.27272715, 17.99999982,  7.90909083,\n",
              "       21.8181816 ,  2.45454543, 21.27272706, 13.6363635 ,  5.72727267,\n",
              "       24.5454543 , 16.63636347,  0.54545454,  6.27272721,  2.18181816,\n",
              "       24.27272703, 23.18181795, 15.81818166, 15.81818166, 18.27272709,\n",
              "       25.63636338,  3.27272724,  2.7272727 , 21.27272706,  4.36363632,\n",
              "       14.45454531,  7.63636356,  9.27272718,  7.09090902, 20.99999979,\n",
              "        8.99999991, 11.99999988, 21.8181816 , 11.72727261,  0.27272727,\n",
              "        5.99999994, 19.0909089 , 23.45454522, 26.45454519, 10.09090899,\n",
              "        2.7272727 ,  2.18181816, 16.63636347, 21.27272706, 16.63636347,\n",
              "        7.36363629,  1.63636362, 20.99999979, 24.5454543 , 20.18181798,\n",
              "        4.90909086, 13.36363623, 17.72727255, 19.63636344,  6.81818175,\n",
              "       25.90909065, 21.8181816 ,  3.54545451, 17.72727255, 13.6363635 ,\n",
              "       25.90909065,  5.4545454 , 25.36363611, 16.63636347, 11.18181807,\n",
              "       25.63636338, 19.0909089 , 12.54545442, 22.63636341,  9.27272718,\n",
              "       20.45454525,  9.81818172, 13.90909077, 13.36363623,  2.18181816,\n",
              "       14.99999985,  3.27272724,  3.81818178,  5.18181813,  1.90909089,\n",
              "       11.45454534,  2.99999997, 22.36363614,  0.27272727, 18.81818163,\n",
              "       10.9090908 , 22.63636341, 12.81818169, 11.45454534, 13.09090896])"
            ]
          },
          "metadata": {},
          "execution_count": 60
        }
      ]
    },
    {
      "cell_type": "markdown",
      "metadata": {
        "id": "7dUzit0ykZyK"
      },
      "source": [
        "중심이 되는 벡터가 달라졌다는 것을 알 수 있음"
      ]
    },
    {
      "cell_type": "code",
      "metadata": {
        "colab": {
          "base_uri": "https://localhost:8080/"
        },
        "id": "D0xr9uwRgq1h",
        "outputId": "973a10db-28ba-4108-dea3-342766c08558"
      },
      "source": [
        "(_x +  4*_x + 9*_x + 16*_x + 25*_x).reshape(-1)"
      ],
      "execution_count": 61,
      "outputs": [
        {
          "output_type": "execute_result",
          "data": {
            "text/plain": [
              "array([1109.9999889 , 1424.99998575,  404.99999595,  674.99999325,\n",
              "        359.9999964 ,  104.99999895, 1094.99998905, 1439.9999856 ,\n",
              "        734.99999265, 1034.99998965,  959.9999904 ,  524.99999475,\n",
              "        674.99999325,  989.9999901 ,  434.99999565, 1199.999988  ,\n",
              "        134.99999865, 1169.9999883 ,  749.9999925 ,  314.99999685,\n",
              "       1349.9999865 ,  914.99999085,   29.9999997 ,  344.99999655,\n",
              "        119.9999988 , 1334.99998665, 1274.99998725,  869.9999913 ,\n",
              "        869.9999913 , 1004.99998995, 1409.9999859 ,  179.9999982 ,\n",
              "        149.9999985 , 1169.9999883 ,  239.9999976 ,  794.99999205,\n",
              "        419.9999958 ,  509.9999949 ,  389.9999961 , 1154.99998845,\n",
              "        494.99999505,  659.9999934 , 1199.999988  ,  644.99999355,\n",
              "         14.99999985,  329.9999967 , 1049.9999895 , 1289.9999871 ,\n",
              "       1454.99998545,  554.99999445,  149.9999985 ,  119.9999988 ,\n",
              "        914.99999085, 1169.9999883 ,  914.99999085,  404.99999595,\n",
              "         89.9999991 , 1154.99998845, 1349.9999865 , 1109.9999889 ,\n",
              "        269.9999973 ,  734.99999265,  974.99999025, 1079.9999892 ,\n",
              "        374.99999625, 1424.99998575, 1199.999988  ,  194.99999805,\n",
              "        974.99999025,  749.9999925 , 1424.99998575,  299.999997  ,\n",
              "       1394.99998605,  914.99999085,  614.99999385, 1409.9999859 ,\n",
              "       1049.9999895 ,  689.9999931 , 1244.99998755,  509.9999949 ,\n",
              "       1124.99998875,  539.9999946 ,  764.99999235,  734.99999265,\n",
              "        119.9999988 ,  824.99999175,  179.9999982 ,  209.9999979 ,\n",
              "        284.99999715,  104.99999895,  629.9999937 ,  164.99999835,\n",
              "       1229.9999877 ,   14.99999985, 1034.99998965,  599.999994  ,\n",
              "       1244.99998755,  704.99999295,  629.9999937 ,  719.9999928 ])"
            ]
          },
          "metadata": {},
          "execution_count": 61
        }
      ]
    },
    {
      "cell_type": "code",
      "metadata": {
        "colab": {
          "base_uri": "https://localhost:8080/"
        },
        "id": "k_hfTRk0eMhx",
        "outputId": "f068c5ad-85bf-4efa-fd83-4afbbdfac51e"
      },
      "source": [
        "(0.27272727 * dependent_X[:,0]) + (0.54545455 * dependent_X[:,1]) + (0.81818182 * dependent_X[:,2]) + (1.09090909  * dependent_X[:,3]) + (1.36363636 * dependent_X[:,4])"
      ],
      "execution_count": 62,
      "outputs": [
        {
          "output_type": "execute_result",
          "data": {
            "text/plain": [
              "array([1109.99999926, 1424.99999905,  404.99999973,  674.99999955,\n",
              "        359.99999976,  104.99999993, 1094.99999927, 1439.99999904,\n",
              "        734.99999951, 1034.99999931,  959.99999936,  524.99999965,\n",
              "        674.99999955,  989.99999934,  434.99999971, 1199.9999992 ,\n",
              "        134.99999991, 1169.99999922,  749.9999995 ,  314.99999979,\n",
              "       1349.9999991 ,  914.99999939,   29.99999998,  344.99999977,\n",
              "        119.99999992, 1334.99999911, 1274.99999915,  869.99999942,\n",
              "        869.99999942, 1004.99999933, 1409.99999906,  179.99999988,\n",
              "        149.9999999 , 1169.99999922,  239.99999984,  794.99999947,\n",
              "        419.99999972,  509.99999966,  389.99999974, 1154.99999923,\n",
              "        494.99999967,  659.99999956, 1199.9999992 ,  644.99999957,\n",
              "         14.99999999,  329.99999978, 1049.9999993 , 1289.99999914,\n",
              "       1454.99999903,  554.99999963,  149.9999999 ,  119.99999992,\n",
              "        914.99999939, 1169.99999922,  914.99999939,  404.99999973,\n",
              "         89.99999994, 1154.99999923, 1349.9999991 , 1109.99999926,\n",
              "        269.99999982,  734.99999951,  974.99999935, 1079.99999928,\n",
              "        374.99999975, 1424.99999905, 1199.9999992 ,  194.99999987,\n",
              "        974.99999935,  749.9999995 , 1424.99999905,  299.9999998 ,\n",
              "       1394.99999907,  914.99999939,  614.99999959, 1409.99999906,\n",
              "       1049.9999993 ,  689.99999954, 1244.99999917,  509.99999966,\n",
              "       1124.99999925,  539.99999964,  764.99999949,  734.99999951,\n",
              "        119.99999992,  824.99999945,  179.99999988,  209.99999986,\n",
              "        284.99999981,  104.99999993,  629.99999958,  164.99999989,\n",
              "       1229.99999918,   14.99999999, 1034.99999931,  599.9999996 ,\n",
              "       1244.99999917,  704.99999953,  629.99999958,  719.99999952])"
            ]
          },
          "metadata": {},
          "execution_count": 62
        }
      ]
    },
    {
      "cell_type": "code",
      "metadata": {
        "colab": {
          "base_uri": "https://localhost:8080/"
        },
        "id": "JOq4ZRY4WoH5",
        "outputId": "ee062488-7a3d-464d-e877-91a28407532c"
      },
      "source": [
        "get_linear_result(independent_X, independent_Y)"
      ],
      "execution_count": 18,
      "outputs": [
        {
          "output_type": "stream",
          "name": "stdout",
          "text": [
            "score:  1.0\n",
            "rank:  5\n",
            "coef:  [0.99999999 1.         1.         1.         1.        ]\n",
            "intercept:  0.0\n"
          ]
        }
      ]
    },
    {
      "cell_type": "markdown",
      "metadata": {
        "id": "lMh6iL1aX3o-"
      },
      "source": [
        "# DecisionTreeRegressor"
      ]
    },
    {
      "cell_type": "code",
      "metadata": {
        "colab": {
          "base_uri": "https://localhost:8080/"
        },
        "id": "ZsEtOTJ9VWvl",
        "outputId": "17bc4667-df70-445d-9b80-097d5b2d2055"
      },
      "source": [
        "for random_state in range(1, 11):\n",
        "    get_dt_result(dependent_X, dependent_Y, random_state)\n",
        "    print()"
      ],
      "execution_count": 19,
      "outputs": [
        {
          "output_type": "stream",
          "name": "stdout",
          "text": [
            "random_state:  1\n",
            "score:  1.0\n",
            "feature_importances:  [0.00252374 0.20164982 0.78987836 0.00179868 0.0041494 ]\n",
            "\n",
            "random_state:  2\n",
            "score:  1.0\n",
            "feature_importances:  [0.02507944 0.13799863 0.06311274 0.76968275 0.00412644]\n",
            "\n",
            "random_state:  3\n",
            "score:  1.0\n",
            "feature_importances:  [4.31396659e-04 1.42279637e-01 9.77387174e-03 8.33183425e-01\n",
            " 1.43316690e-02]\n",
            "\n",
            "random_state:  4\n",
            "score:  1.0\n",
            "feature_importances:  [0.14061879 0.004072   0.02107422 0.0640551  0.77017989]\n",
            "\n",
            "random_state:  5\n",
            "score:  1.0\n",
            "feature_importances:  [0.01299489 0.06463138 0.90562379 0.01114598 0.00560396]\n",
            "\n",
            "random_state:  6\n",
            "score:  1.0\n",
            "feature_importances:  [9.00707876e-02 1.72235629e-02 1.29823942e-01 7.62633321e-01\n",
            " 2.48386105e-04]\n",
            "\n",
            "random_state:  7\n",
            "score:  1.0\n",
            "feature_importances:  [0.0028127  0.0036742  0.01871088 0.90945296 0.06534926]\n",
            "\n",
            "random_state:  8\n",
            "score:  1.0\n",
            "feature_importances:  [0.00497483 0.07507906 0.75081258 0.16728954 0.00184399]\n",
            "\n",
            "random_state:  9\n",
            "score:  1.0\n",
            "feature_importances:  [0.00440544 0.19279247 0.01963767 0.77319547 0.00996895]\n",
            "\n",
            "random_state:  10\n",
            "score:  1.0\n",
            "feature_importances:  [0.7583039  0.00250429 0.17113278 0.00179019 0.06626885]\n",
            "\n"
          ]
        }
      ]
    },
    {
      "cell_type": "code",
      "metadata": {
        "colab": {
          "base_uri": "https://localhost:8080/"
        },
        "id": "DXFaC-WdYYJh",
        "outputId": "3b460ca4-69b9-4aa8-ad0c-9650ca5d4680"
      },
      "source": [
        "for random_state in range(1, 11):\n",
        "    get_dt_result(independent_X, independent_Y, random_state)\n",
        "    print()"
      ],
      "execution_count": 20,
      "outputs": [
        {
          "output_type": "stream",
          "name": "stdout",
          "text": [
            "random_state:  1\n",
            "score:  1.0\n",
            "feature_importances:  [3.07078125e-03 1.24332531e-01 7.96280487e-01 3.93294709e-04\n",
            " 7.59229069e-02]\n",
            "\n",
            "random_state:  2\n",
            "score:  1.0\n",
            "feature_importances:  [0.0157423  0.12213388 0.07481671 0.78597099 0.00133612]\n",
            "\n",
            "random_state:  3\n",
            "score:  1.0\n",
            "feature_importances:  [0.01236591 0.12262137 0.06616117 0.79493768 0.00391388]\n",
            "\n",
            "random_state:  4\n",
            "score:  1.0\n",
            "feature_importances:  [0.12562783 0.01059352 0.07848212 0.01154205 0.77375448]\n",
            "\n",
            "random_state:  5\n",
            "score:  1.0\n",
            "feature_importances:  [2.54251767e-03 1.45857339e-04 9.91118023e-01 9.56927275e-04\n",
            " 5.23667491e-03]\n",
            "\n",
            "random_state:  6\n",
            "score:  1.0\n",
            "feature_importances:  [1.27169410e-02 2.93202986e-03 1.89498355e-01 7.94801989e-01\n",
            " 5.06853702e-05]\n",
            "\n",
            "random_state:  7\n",
            "score:  1.0\n",
            "feature_importances:  [0.0038448  0.00249819 0.00207619 0.9902685  0.00131232]\n",
            "\n",
            "random_state:  8\n",
            "score:  1.0\n",
            "feature_importances:  [1.16978929e-02 4.10270908e-04 8.47898495e-01 1.36797631e-01\n",
            " 3.19571038e-03]\n",
            "\n",
            "random_state:  9\n",
            "score:  1.0\n",
            "feature_importances:  [0.01185952 0.13318734 0.07705922 0.77450055 0.00339336]\n",
            "\n",
            "random_state:  10\n",
            "score:  1.0\n",
            "feature_importances:  [8.37530472e-01 1.82883273e-04 1.36756497e-01 9.99848881e-03\n",
            " 1.55316589e-02]\n",
            "\n"
          ]
        }
      ]
    },
    {
      "cell_type": "markdown",
      "metadata": {
        "id": "vq3dc3ZxZ4sn"
      },
      "source": [
        "# MLP"
      ]
    },
    {
      "cell_type": "code",
      "metadata": {
        "colab": {
          "base_uri": "https://localhost:8080/"
        },
        "id": "Z2h59zdnYgF4",
        "outputId": "ccc9607c-6d5e-42d0-b6a7-6aad67c85bd6"
      },
      "source": [
        "get_nn_result(dependent_X, dependent_Y)"
      ],
      "execution_count": 69,
      "outputs": [
        {
          "output_type": "stream",
          "name": "stdout",
          "text": [
            "best_loss:  2.4044585392222966\n"
          ]
        }
      ]
    },
    {
      "cell_type": "code",
      "metadata": {
        "colab": {
          "base_uri": "https://localhost:8080/"
        },
        "id": "ww7_sEikaCNZ",
        "outputId": "5dbd72fa-ce76-4805-ba71-16659d24f83d"
      },
      "source": [
        "get_nn_result(dependent_X, dependent_Y)"
      ],
      "execution_count": 70,
      "outputs": [
        {
          "output_type": "stream",
          "name": "stdout",
          "text": [
            "best_loss:  0.38402544489646084\n"
          ]
        }
      ]
    },
    {
      "cell_type": "code",
      "metadata": {
        "colab": {
          "base_uri": "https://localhost:8080/"
        },
        "id": "nMeQiAEaaa44",
        "outputId": "df34ca82-5afc-45ae-a594-cae84bb06feb"
      },
      "source": [
        "get_nn_result(independent_X, independent_Y)"
      ],
      "execution_count": 71,
      "outputs": [
        {
          "output_type": "stream",
          "name": "stdout",
          "text": [
            "best_loss:  1968074374353.7734\n"
          ]
        }
      ]
    },
    {
      "cell_type": "code",
      "metadata": {
        "colab": {
          "base_uri": "https://localhost:8080/"
        },
        "id": "KZVnJuZuaY8i",
        "outputId": "188c2a3f-b97c-491d-bc3a-913504720e86"
      },
      "source": [
        "get_nn_result(independent_X, independent_Y)"
      ],
      "execution_count": 72,
      "outputs": [
        {
          "output_type": "stream",
          "name": "stdout",
          "text": [
            "best_loss:  37245179964715.17\n"
          ]
        }
      ]
    },
    {
      "cell_type": "markdown",
      "metadata": {
        "id": "ezd6nw5ma_mw"
      },
      "source": [
        "# 결론\n",
        "\n",
        "- 선형 종속\n",
        "  - LinearRegression의 경우 선형 종속일 경우 회귀 계수의 값이 우리가 지정한 값과 다르다는 것을 알 수 있다. 그러나 그 값은 모델을 아무리 돌려도 고정되는 것을 알 수 있는데, 이러한 이유가 발생한 이유는 ML이 데이터를 가지고 estimation, 즉 추정을 하기 때문인 것으로 보인다. 따라서 선형 종속일 경우 다양한 해답이 존재할 수 있기 때문에(기준이 되는 벡터가 여러개가 존재할 수 있음) 회귀 계수의 값이 불안정할 수 있다.\n",
        "  - DT는 데이터를 바탕으로 estimation, 즉 추정을 하는 모델이다. 이러한 경우 선형 종속은 feature 선택을 매우 불안정하게 한다는 것을 알 수 있다.\n",
        "  - MLP의 경우 비선형활성화 함수를 사용해 비선형결합이 가능하기 때문에 선형 종속일지라도 모든 feature를 잘 사용할 수 있을 것이다. 그러나 본 데이터의 경우 매우 단순한 함수로 이루어져 있기 때문에 복잡한 학습이 필요없어 성능이 매우 떨어진 것으로 보인다.\n",
        "\n",
        "- 선형 독립\n",
        "  - 선형 독립일 경우에는 대체로 모든 feature를 잘 활용한다는 것을 알 수 있다.또한 MLP는 단순한 데이터에서는 매우 좋지 못한 성능을 보여준다는 것도 알 수 있다.\n",
        "\n",
        "\n",
        "결국 선형 종속과 선형 독립을 의미하는 것은 모든 피쳐를 안정적이게 잘 활용할 수 있으며, 회귀 계수가 안정적이냐, 불안정적이냐로 이야기 할 수 있을 것 같다."
      ]
    }
  ]
}