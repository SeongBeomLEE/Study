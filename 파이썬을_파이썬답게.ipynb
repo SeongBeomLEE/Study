{
  "nbformat": 4,
  "nbformat_minor": 0,
  "metadata": {
    "colab": {
      "name": "파이썬을 파이썬답게.ipynb",
      "provenance": [],
      "collapsed_sections": [],
      "authorship_tag": "ABX9TyPojVpa2L74GVSsQRycfZEW",
      "include_colab_link": true
    },
    "kernelspec": {
      "name": "python3",
      "display_name": "Python 3"
    }
  },
  "cells": [
    {
      "cell_type": "markdown",
      "metadata": {
        "id": "view-in-github",
        "colab_type": "text"
      },
      "source": [
        "<a href=\"https://colab.research.google.com/github/SeongBeomLEE/Study/blob/main/%ED%8C%8C%EC%9D%B4%EC%8D%AC%EC%9D%84_%ED%8C%8C%EC%9D%B4%EC%8D%AC%EB%8B%B5%EA%B2%8C.ipynb\" target=\"_parent\"><img src=\"https://colab.research.google.com/assets/colab-badge.svg\" alt=\"Open In Colab\"/></a>"
      ]
    },
    {
      "cell_type": "markdown",
      "metadata": {
        "id": "Pe9Qfz9GdsEo"
      },
      "source": [
        "# map 함수 사용"
      ]
    },
    {
      "cell_type": "code",
      "metadata": {
        "id": "niM9MM40cyBU"
      },
      "source": [
        "def solution(mylist):\r\n",
        "  answer = []\r\n",
        "  for i in mylist:\r\n",
        "    answer.append(len(i))\r\n",
        "  \r\n",
        "  return answer"
      ],
      "execution_count": 1,
      "outputs": []
    },
    {
      "cell_type": "code",
      "metadata": {
        "colab": {
          "base_uri": "https://localhost:8080/"
        },
        "id": "j0gegwj5eNXe",
        "outputId": "ec2df000-d273-4e5c-8451-13f4d27dcccb"
      },
      "source": [
        "solution([[1],[2]])"
      ],
      "execution_count": 2,
      "outputs": [
        {
          "output_type": "execute_result",
          "data": {
            "text/plain": [
              "[1, 1]"
            ]
          },
          "metadata": {
            "tags": []
          },
          "execution_count": 2
        }
      ]
    },
    {
      "cell_type": "code",
      "metadata": {
        "id": "ZO_buO6Ud9QG"
      },
      "source": [
        "def solution(mylist):\r\n",
        "  return list(map(len, mylist))"
      ],
      "execution_count": 3,
      "outputs": []
    },
    {
      "cell_type": "code",
      "metadata": {
        "colab": {
          "base_uri": "https://localhost:8080/"
        },
        "id": "Jcu1R3dVeSu1",
        "outputId": "648c9777-6e6f-411e-97db-8babc24b1fb2"
      },
      "source": [
        "solution([[1],[2]])"
      ],
      "execution_count": 4,
      "outputs": [
        {
          "output_type": "execute_result",
          "data": {
            "text/plain": [
              "[1, 1]"
            ]
          },
          "metadata": {
            "tags": []
          },
          "execution_count": 4
        }
      ]
    },
    {
      "cell_type": "markdown",
      "metadata": {
        "id": "xoxaDeaFeUxe"
      },
      "source": [
        "# 몫과 나머지 - divmod"
      ]
    },
    {
      "cell_type": "code",
      "metadata": {
        "colab": {
          "base_uri": "https://localhost:8080/"
        },
        "id": "B-BJypH2ecSm",
        "outputId": "ba8be4a7-7fa6-4997-d99d-b3e641cc304f"
      },
      "source": [
        "a = 7\r\n",
        "b = 5\r\n",
        "print(a//b, a%b)"
      ],
      "execution_count": 5,
      "outputs": [
        {
          "output_type": "stream",
          "text": [
            "1 2\n"
          ],
          "name": "stdout"
        }
      ]
    },
    {
      "cell_type": "code",
      "metadata": {
        "colab": {
          "base_uri": "https://localhost:8080/"
        },
        "id": "OOjHrTsleeCu",
        "outputId": "5a9781f3-3dc2-449a-d56d-5c73fea08cd4"
      },
      "source": [
        "a = 7\r\n",
        "b = 5\r\n",
        "print( *divmod(a, b) )"
      ],
      "execution_count": 8,
      "outputs": [
        {
          "output_type": "stream",
          "text": [
            "1 2\n"
          ],
          "name": "stdout"
        }
      ]
    },
    {
      "cell_type": "markdown",
      "metadata": {
        "id": "_eFEOyyBfFyn"
      },
      "source": [
        "# n진법으로 표기된 string을 10진법 숫자로 변환하기 - int 함수"
      ]
    },
    {
      "cell_type": "code",
      "metadata": {
        "colab": {
          "base_uri": "https://localhost:8080/"
        },
        "id": "y22jZ4zRfFHX",
        "outputId": "bb44f6e1-176f-4b94-deb7-f1ae7011364b"
      },
      "source": [
        "num = '3212'\r\n",
        "base = 5\r\n",
        "\r\n",
        "answer = 0\r\n",
        "# enumerate 인덱스와 값을 같이 반환 해줌\r\n",
        "for idx, i in enumerate(num[::-1]):\r\n",
        "  print(idx,i)\r\n",
        "  answer += int(i) * ( base ** idx )\r\n",
        "print(answer)"
      ],
      "execution_count": 24,
      "outputs": [
        {
          "output_type": "stream",
          "text": [
            "0 2\n",
            "1 1\n",
            "2 2\n",
            "3 3\n",
            "432\n"
          ],
          "name": "stdout"
        }
      ]
    },
    {
      "cell_type": "code",
      "metadata": {
        "colab": {
          "base_uri": "https://localhost:8080/"
        },
        "id": "B15Lplo1fIpA",
        "outputId": "2a175321-9393-49b8-b2a0-901e9d546c40"
      },
      "source": [
        "num = '3212'\r\n",
        "base = 5\r\n",
        "# int는 문자형 num을 base의 진법에 맞춰서 10진수로 변환해줌\r\n",
        "answer = int(num, base)\r\n",
        "print(answer)"
      ],
      "execution_count": 23,
      "outputs": [
        {
          "output_type": "stream",
          "text": [
            "432\n"
          ],
          "name": "stdout"
        }
      ]
    },
    {
      "cell_type": "markdown",
      "metadata": {
        "id": "GRBqRYGkibcZ"
      },
      "source": [
        "# 문자열 정렬하기 - ljust, center, rjust"
      ]
    },
    {
      "cell_type": "code",
      "metadata": {
        "colab": {
          "base_uri": "https://localhost:8080/"
        },
        "id": "TEZZ9aL6idKQ",
        "outputId": "ed948e13-7c91-4029-e096-73ab4f576feb"
      },
      "source": [
        "s = '가나다라'\r\n",
        "n = 7\r\n",
        "\r\n",
        "print(s.ljust(n)) # 좌측 정렬\r\n",
        "print(s.center(n)) # 가운데 정렬\r\n",
        "print(s.rjust(n)) # 우측 정렬"
      ],
      "execution_count": 30,
      "outputs": [
        {
          "output_type": "stream",
          "text": [
            "가나다라   \n",
            "  가나다라 \n",
            "   가나다라\n"
          ],
          "name": "stdout"
        }
      ]
    },
    {
      "cell_type": "markdown",
      "metadata": {
        "id": "bT_mW0dXlCmK"
      },
      "source": [
        "# 알파벳 출력하기 - string 모듈"
      ]
    },
    {
      "cell_type": "code",
      "metadata": {
        "colab": {
          "base_uri": "https://localhost:8080/"
        },
        "id": "G3Klp6MPidQO",
        "outputId": "31c5b826-457f-4020-8884-146f92f9ae90"
      },
      "source": [
        "import string \r\n",
        "\r\n",
        "print(list(string.ascii_lowercase)) # 소문자 abcdefghijklmnopqrstuvwxyz\r\n",
        "print(string.ascii_uppercase) # 대문자 ABCDEFGHIJKLMNOPQRSTUVWXYZ\r\n",
        "print(string.ascii_letters) #대소문자 모두 abcdefghijklmnopqrstuvwxyzABCDEFGHIJKLMNOPQRSTUVWXYZ\r\n",
        "print(string.digits) # 숫자 0123456789"
      ],
      "execution_count": 38,
      "outputs": [
        {
          "output_type": "stream",
          "text": [
            "['a', 'b', 'c', 'd', 'e', 'f', 'g', 'h', 'i', 'j', 'k', 'l', 'm', 'n', 'o', 'p', 'q', 'r', 's', 't', 'u', 'v', 'w', 'x', 'y', 'z']\n",
            "ABCDEFGHIJKLMNOPQRSTUVWXYZ\n",
            "abcdefghijklmnopqrstuvwxyzABCDEFGHIJKLMNOPQRSTUVWXYZ\n",
            "0123456789\n"
          ],
          "name": "stdout"
        }
      ]
    },
    {
      "cell_type": "markdown",
      "metadata": {
        "id": "BUIfZJLYlt4S"
      },
      "source": [
        "# 원본을 유지한채, 정렬된 리스트 구하기 - sorted"
      ]
    },
    {
      "cell_type": "code",
      "metadata": {
        "colab": {
          "base_uri": "https://localhost:8080/"
        },
        "id": "LGfCjX2qlwGv",
        "outputId": "488421f7-adb5-4b1c-cfbc-53126f4e7bb9"
      },
      "source": [
        "list1 = [3, 2, 1]\r\n",
        "list2 = [i for i in list1] # 또는 copy.deepcopy를 사용\r\n",
        "list2.sort()\r\n",
        "print(list2)"
      ],
      "execution_count": 36,
      "outputs": [
        {
          "output_type": "stream",
          "text": [
            "[1, 2, 3]\n"
          ],
          "name": "stdout"
        }
      ]
    },
    {
      "cell_type": "code",
      "metadata": {
        "colab": {
          "base_uri": "https://localhost:8080/"
        },
        "id": "wJTjPv_DmAIA",
        "outputId": "304efe75-c216-41f1-d3ab-0a14a49b484f"
      },
      "source": [
        "list1 = [3, 2, 1]\r\n",
        "list2 = sorted(list1)\r\n",
        "print(list2)"
      ],
      "execution_count": 37,
      "outputs": [
        {
          "output_type": "stream",
          "text": [
            "[1, 2, 3]\n"
          ],
          "name": "stdout"
        }
      ]
    },
    {
      "cell_type": "markdown",
      "metadata": {
        "id": "5NFHIRrYmHyn"
      },
      "source": [
        "# 2차원 리스트 뒤집기 - ⭐️zip⭐️"
      ]
    },
    {
      "cell_type": "code",
      "metadata": {
        "colab": {
          "base_uri": "https://localhost:8080/"
        },
        "id": "FbxgrvcvmJZJ",
        "outputId": "aafc7cf9-015f-4062-f854-611689479a22"
      },
      "source": [
        "mylist = [ [1,2,3], [4,5,6], [7,8,9] ]\r\n",
        "new_list = [[],[],[]]\r\n",
        "\r\n",
        "for i in range(3):\r\n",
        "    for j in range(3):\r\n",
        "        new_list[i].append( mylist[j][i] )\r\n",
        "new_list"
      ],
      "execution_count": 39,
      "outputs": [
        {
          "output_type": "execute_result",
          "data": {
            "text/plain": [
              "[[1, 4, 7], [2, 5, 8], [3, 6, 9]]"
            ]
          },
          "metadata": {
            "tags": []
          },
          "execution_count": 39
        }
      ]
    },
    {
      "cell_type": "code",
      "metadata": {
        "colab": {
          "base_uri": "https://localhost:8080/"
        },
        "id": "dhokSFiznLbo",
        "outputId": "16049b9c-3fc8-45df-b636-99d468c1c103"
      },
      "source": [
        "mylist = [ [1,2,3], [4,5,6], [7,8,9] ]\r\n",
        "new_list = list(map(list, zip(*mylist)))\r\n",
        "\r\n",
        "new_list"
      ],
      "execution_count": 40,
      "outputs": [
        {
          "output_type": "execute_result",
          "data": {
            "text/plain": [
              "[[1, 4, 7], [2, 5, 8], [3, 6, 9]]"
            ]
          },
          "metadata": {
            "tags": []
          },
          "execution_count": 40
        }
      ]
    },
    {
      "cell_type": "code",
      "metadata": {
        "colab": {
          "base_uri": "https://localhost:8080/"
        },
        "id": "eGPcEnk9nZYH",
        "outputId": "666f9ea1-e62e-4a66-b511-ece921c2cb9c"
      },
      "source": [
        "list1 = [1, 2, 3, 4]\r\n",
        "list2 = [100, 120, 30, 300]\r\n",
        "list3 = [392, 2, 33, 1]\r\n",
        "answer = []\r\n",
        "for i, j, k in zip(list1, list2, list3):\r\n",
        "   answer.append([i,j,k] )\r\n",
        "answer"
      ],
      "execution_count": 44,
      "outputs": [
        {
          "output_type": "execute_result",
          "data": {
            "text/plain": [
              "[[1, 100, 392], [2, 120, 2], [3, 30, 33], [4, 300, 1]]"
            ]
          },
          "metadata": {
            "tags": []
          },
          "execution_count": 44
        }
      ]
    },
    {
      "cell_type": "code",
      "metadata": {
        "colab": {
          "base_uri": "https://localhost:8080/"
        },
        "id": "TolCn_fHnvWT",
        "outputId": "8b3dde11-d591-4b0c-a568-27842e43f72c"
      },
      "source": [
        "animals = ['cat', 'dog', 'lion']\r\n",
        "sounds = ['meow', 'woof', 'roar']\r\n",
        "answer = dict(zip(animals, sounds))\r\n",
        "answer"
      ],
      "execution_count": 45,
      "outputs": [
        {
          "output_type": "execute_result",
          "data": {
            "text/plain": [
              "{'cat': 'meow', 'dog': 'woof', 'lion': 'roar'}"
            ]
          },
          "metadata": {
            "tags": []
          },
          "execution_count": 45
        }
      ]
    },
    {
      "cell_type": "markdown",
      "metadata": {
        "id": "t5GjqpK4oFxx"
      },
      "source": [
        "# 모든 멤버의 type 변환하기 - map"
      ]
    },
    {
      "cell_type": "code",
      "metadata": {
        "colab": {
          "base_uri": "https://localhost:8080/"
        },
        "id": "L78u6Ds4oHAI",
        "outputId": "444f797d-e668-48ba-974c-55ccaa0cd4be"
      },
      "source": [
        "list1 = ['1', '100', '33']\r\n",
        "list2 = []\r\n",
        "for i in list1:\r\n",
        "    list2.append(int(i))\r\n",
        "\r\n",
        "list2"
      ],
      "execution_count": 47,
      "outputs": [
        {
          "output_type": "execute_result",
          "data": {
            "text/plain": [
              "[1, 100, 33]"
            ]
          },
          "metadata": {
            "tags": []
          },
          "execution_count": 47
        }
      ]
    },
    {
      "cell_type": "code",
      "metadata": {
        "colab": {
          "base_uri": "https://localhost:8080/"
        },
        "id": "1yZ4psaLoHF6",
        "outputId": "7e049ef2-2169-4a40-e0e2-584f18495cdd"
      },
      "source": [
        "list1 = ['1', '100', '33']\r\n",
        "list2 = list(map(int, list1))\r\n",
        "list2"
      ],
      "execution_count": 48,
      "outputs": [
        {
          "output_type": "execute_result",
          "data": {
            "text/plain": [
              "[1, 100, 33]"
            ]
          },
          "metadata": {
            "tags": []
          },
          "execution_count": 48
        }
      ]
    },
    {
      "cell_type": "markdown",
      "metadata": {
        "id": "EQTWPe1toskC"
      },
      "source": [
        "# sequence 멤버를 하나로 이어붙이기 - join"
      ]
    },
    {
      "cell_type": "code",
      "metadata": {
        "colab": {
          "base_uri": "https://localhost:8080/",
          "height": 35
        },
        "id": "PhHE3j3JotyQ",
        "outputId": "cb26eb40-c730-46e1-c181-079d452d2b1f"
      },
      "source": [
        "my_list = ['1', '100', '33']\r\n",
        "answer = ''\r\n",
        "for i in my_list:\r\n",
        "    answer += i\r\n",
        "answer"
      ],
      "execution_count": 49,
      "outputs": [
        {
          "output_type": "execute_result",
          "data": {
            "application/vnd.google.colaboratory.intrinsic+json": {
              "type": "string"
            },
            "text/plain": [
              "'110033'"
            ]
          },
          "metadata": {
            "tags": []
          },
          "execution_count": 49
        }
      ]
    },
    {
      "cell_type": "code",
      "metadata": {
        "colab": {
          "base_uri": "https://localhost:8080/",
          "height": 35
        },
        "id": "pJBFEc9howX4",
        "outputId": "717469a8-dc61-43b2-e344-64393d467f86"
      },
      "source": [
        "my_list = ['1', '100', '33']\r\n",
        "answer = ''.join(my_list)\r\n",
        "answer"
      ],
      "execution_count": 50,
      "outputs": [
        {
          "output_type": "execute_result",
          "data": {
            "application/vnd.google.colaboratory.intrinsic+json": {
              "type": "string"
            },
            "text/plain": [
              "'110033'"
            ]
          },
          "metadata": {
            "tags": []
          },
          "execution_count": 50
        }
      ]
    },
    {
      "cell_type": "markdown",
      "metadata": {
        "id": "ZUE6ibtfpNMZ"
      },
      "source": [
        "# 삼각형 별찍기 - sequence type의 * 연산"
      ]
    },
    {
      "cell_type": "code",
      "metadata": {
        "colab": {
          "base_uri": "https://localhost:8080/"
        },
        "id": "VtWaFumFpMkq",
        "outputId": "ba3f87d3-7ed3-4cff-fd61-5260c2602d0f"
      },
      "source": [
        "n = 3\r\n",
        "answer= [123, 456]*n\r\n",
        "answer"
      ],
      "execution_count": 51,
      "outputs": [
        {
          "output_type": "execute_result",
          "data": {
            "text/plain": [
              "[123, 456, 123, 456, 123, 456]"
            ]
          },
          "metadata": {
            "tags": []
          },
          "execution_count": 51
        }
      ]
    },
    {
      "cell_type": "markdown",
      "metadata": {
        "id": "vtWJOK49pf6R"
      },
      "source": [
        "# 곱집합(Cartesian product) 구하기 - product"
      ]
    },
    {
      "cell_type": "code",
      "metadata": {
        "colab": {
          "base_uri": "https://localhost:8080/"
        },
        "id": "Tytcj5TnpgsZ",
        "outputId": "3b425875-df48-44a1-fdd3-90c5d3c6b5ce"
      },
      "source": [
        "iterable1 = 'ABCD'\r\n",
        "iterable2 = 'xy'\r\n",
        "iterable3 = '1234'\r\n",
        "\r\n",
        "for i in iterable1:\r\n",
        "    for j in iterable2:\r\n",
        "        for k in iterable3:\r\n",
        "            print(i+j+k,end = \" \")"
      ],
      "execution_count": 54,
      "outputs": [
        {
          "output_type": "stream",
          "text": [
            "Ax1 Ax2 Ax3 Ax4 Ay1 Ay2 Ay3 Ay4 Bx1 Bx2 Bx3 Bx4 By1 By2 By3 By4 Cx1 Cx2 Cx3 Cx4 Cy1 Cy2 Cy3 Cy4 Dx1 Dx2 Dx3 Dx4 Dy1 Dy2 Dy3 Dy4 "
          ],
          "name": "stdout"
        }
      ]
    },
    {
      "cell_type": "code",
      "metadata": {
        "colab": {
          "base_uri": "https://localhost:8080/"
        },
        "id": "-qKJ5-wupsxF",
        "outputId": "1dd5a78b-3ccb-408e-b26a-f672c2d05bbc"
      },
      "source": [
        "import itertools\r\n",
        "\r\n",
        "iterable1 = 'ABCD'\r\n",
        "iterable2 = 'xy'\r\n",
        "iterable3 = '1234'\r\n",
        "for i in itertools.product(iterable1, iterable2, iterable3):\r\n",
        "  print(i, end=' ')"
      ],
      "execution_count": 61,
      "outputs": [
        {
          "output_type": "stream",
          "text": [
            "('A', 'x', '1') ('A', 'x', '2') ('A', 'x', '3') ('A', 'x', '4') ('A', 'y', '1') ('A', 'y', '2') ('A', 'y', '3') ('A', 'y', '4') ('B', 'x', '1') ('B', 'x', '2') ('B', 'x', '3') ('B', 'x', '4') ('B', 'y', '1') ('B', 'y', '2') ('B', 'y', '3') ('B', 'y', '4') ('C', 'x', '1') ('C', 'x', '2') ('C', 'x', '3') ('C', 'x', '4') ('C', 'y', '1') ('C', 'y', '2') ('C', 'y', '3') ('C', 'y', '4') ('D', 'x', '1') ('D', 'x', '2') ('D', 'x', '3') ('D', 'x', '4') ('D', 'y', '1') ('D', 'y', '2') ('D', 'y', '3') ('D', 'y', '4') "
          ],
          "name": "stdout"
        }
      ]
    },
    {
      "cell_type": "markdown",
      "metadata": {
        "id": "hVyu04wiqNhb"
      },
      "source": [
        "# 2차원 리스트를 1차원 리스트로 만들기 - from_iterable"
      ]
    },
    {
      "cell_type": "code",
      "metadata": {
        "colab": {
          "base_uri": "https://localhost:8080/"
        },
        "id": "8YH8mdh4qOuR",
        "outputId": "da6b1293-1e6b-4cc7-825b-7c39fb09804b"
      },
      "source": [
        "my_list = [[1, 2], [3, 4], [5, 6]]\r\n",
        "answer = []\r\n",
        "for i in my_list:\r\n",
        "    answer += i\r\n",
        "answer"
      ],
      "execution_count": 62,
      "outputs": [
        {
          "output_type": "execute_result",
          "data": {
            "text/plain": [
              "[1, 2, 3, 4, 5, 6]"
            ]
          },
          "metadata": {
            "tags": []
          },
          "execution_count": 62
        }
      ]
    },
    {
      "cell_type": "code",
      "metadata": {
        "id": "qyCJ4K3Zq9ii"
      },
      "source": [
        "# 내가 제일 선호\r\n",
        "# 방법4 - list comprehension 이용\r\n",
        "answer = [element for array in my_list for element in array]\r\n",
        "print(answer)"
      ],
      "execution_count": null,
      "outputs": []
    },
    {
      "cell_type": "code",
      "metadata": {
        "colab": {
          "base_uri": "https://localhost:8080/"
        },
        "id": "MREa53urqRzy",
        "outputId": "ecc00a0d-1793-492c-a975-480d6f681582"
      },
      "source": [
        "my_list = [[1, 2], [3, 4], [5, 6]]\r\n",
        "\r\n",
        "# 방법 1 - sum 함수\r\n",
        "answer = sum(my_list, [])\r\n",
        "print(answer)\r\n",
        "\r\n",
        "# 방법 2 - itertools.chain\r\n",
        "import itertools\r\n",
        "answer = list(itertools.chain.from_iterable(my_list))\r\n",
        "print(answer)\r\n",
        "\r\n",
        "# 방법 3 - itertools와 unpacking\r\n",
        "import itertools\r\n",
        "answer = list(itertools.chain(*my_list))\r\n",
        "print(answer)\r\n",
        "\r\n",
        "# 방법4 - list comprehension 이용\r\n",
        "answer = [element for array in my_list for element in array]\r\n",
        "print(answer)\r\n",
        "\r\n",
        "# 방법 5 - reduce 함수 이용1\r\n",
        "from functools import reduce\r\n",
        "answer = list(reduce(lambda x, y: x+y, my_list))\r\n",
        "print(answer)\r\n",
        "\r\n",
        "# 방법 6 - reduce 함수 이용2\r\n",
        "from functools import reduce\r\n",
        "import operator\r\n",
        "answer = list(reduce(operator.add, my_list))\r\n",
        "print(answer)\r\n",
        "\r\n",
        "# 방법 7 - numpy 라이브러리의 flatten 이용\r\n",
        "import numpy as np\r\n",
        "answer = np.array(my_list).flatten().tolist()\r\n",
        "print(answer)"
      ],
      "execution_count": 64,
      "outputs": [
        {
          "output_type": "stream",
          "text": [
            "[1, 2, 3, 4, 5, 6]\n",
            "[1, 2, 3, 4, 5, 6]\n",
            "[1, 2, 3, 4, 5, 6]\n",
            "[1, 2, 3, 4, 5, 6]\n",
            "[1, 2, 3, 4, 5, 6]\n",
            "[1, 2, 3, 4, 5, 6]\n",
            "[1, 2, 3, 4, 5, 6]\n"
          ],
          "name": "stdout"
        }
      ]
    },
    {
      "cell_type": "markdown",
      "metadata": {
        "id": "vaiiXXHfqwGM"
      },
      "source": [
        "# 순열과 조합 - combinations, permutations"
      ]
    },
    {
      "cell_type": "code",
      "metadata": {
        "colab": {
          "base_uri": "https://localhost:8080/"
        },
        "id": "KRwhCvfSrTuG",
        "outputId": "ccb69ee8-7c1e-4078-8f88-55ba7d9d879d"
      },
      "source": [
        "import itertools\r\n",
        "\r\n",
        "pool = ['A', 'B', 'C']\r\n",
        "print(list(map(''.join, itertools.permutations(pool)))) # 3개의 원소로 수열 만들기\r\n",
        "print(list(map(''.join, itertools.permutations(pool, 2)))) # 2개의 원소로 수열 만들기\r\n",
        "\r\n",
        "print(list(map(''.join, itertools.combinations(pool, 3)))) # 3개의 원소로 조합 만들기\r\n",
        "print(list(map(''.join, itertools.combinations(pool, 2)))) # 2개의 원소로 조합 만들기"
      ],
      "execution_count": 71,
      "outputs": [
        {
          "output_type": "stream",
          "text": [
            "['ABC', 'ACB', 'BAC', 'BCA', 'CAB', 'CBA']\n",
            "['AB', 'AC', 'BA', 'BC', 'CA', 'CB']\n",
            "['ABC']\n",
            "['AB', 'AC', 'BC']\n"
          ],
          "name": "stdout"
        }
      ]
    },
    {
      "cell_type": "code",
      "metadata": {
        "colab": {
          "base_uri": "https://localhost:8080/"
        },
        "id": "8D_DpR5nsYiC",
        "outputId": "f023d2d2-54f7-4117-8e08-96140501ca0a"
      },
      "source": [
        "mylist = [2,1]\r\n",
        "answer = list(map(list, itertools.permutations(mylist, len(mylist))))\r\n",
        "answer.sort()\r\n",
        "answer"
      ],
      "execution_count": 96,
      "outputs": [
        {
          "output_type": "execute_result",
          "data": {
            "text/plain": [
              "[[1, 2], [2, 1]]"
            ]
          },
          "metadata": {
            "tags": []
          },
          "execution_count": 96
        }
      ]
    },
    {
      "cell_type": "markdown",
      "metadata": {
        "id": "iS8VmVXOvDZL"
      },
      "source": [
        "# 가장 많이 등장하는 알파벳 찾기 - Counter"
      ]
    },
    {
      "cell_type": "code",
      "metadata": {
        "colab": {
          "base_uri": "https://localhost:8080/"
        },
        "id": "HdjD7X3zvEhd",
        "outputId": "2f62165a-15cf-4d44-8a3f-b0070c09df48"
      },
      "source": [
        "my_list = [1, 2, 3, 4, 5, 6, 7, 8, 7, 9, 1, 2, 3, 3, 5, 2, 6, 8, 9, 0, 1, 1, 4, 7, 0]\r\n",
        "answer = {}\r\n",
        "for number in my_list:\r\n",
        "    try:\r\n",
        "        answer[number] += 1\r\n",
        "    except KeyError:\r\n",
        "        answer[number] = 1\r\n",
        "\r\n",
        "print(answer[1]) # 1는 4번 등장\r\n",
        "print(answer[3])  # 3은 3번 등장\r\n",
        "print(answer[0])  # 0은 2번 등장"
      ],
      "execution_count": 98,
      "outputs": [
        {
          "output_type": "stream",
          "text": [
            "4\n",
            "3\n",
            "2\n"
          ],
          "name": "stdout"
        }
      ]
    },
    {
      "cell_type": "code",
      "metadata": {
        "colab": {
          "base_uri": "https://localhost:8080/"
        },
        "id": "NxfsiHfh0T2w",
        "outputId": "842d4111-5dcf-441b-aa23-b0981f86c1e1"
      },
      "source": [
        "import collections\r\n",
        "my_list = [1, 2, 3, 4, 5, 6, 7, 8, 7, 9, 1, 2, 3, 3, 5, 2, 6, 8, 9, 0, 1, 1, 4, 7, 0]\r\n",
        "answer = collections.Counter(my_list)\r\n",
        "\r\n",
        "print(answer[1]) # 1는 4번 등장\r\n",
        "print(answer[3])  # 3은 3번 등장\r\n",
        "print(answer[0])  # 0은 2번 등장"
      ],
      "execution_count": 127,
      "outputs": [
        {
          "output_type": "stream",
          "text": [
            "4\n",
            "3\n",
            "2\n"
          ],
          "name": "stdout"
        }
      ]
    },
    {
      "cell_type": "code",
      "metadata": {
        "colab": {
          "base_uri": "https://localhost:8080/"
        },
        "id": "T_7k_rg1vOqK",
        "outputId": "1d33dff4-2ad8-4e2a-8d8b-2d7ba1db2729"
      },
      "source": [
        "import collections\r\n",
        "my_str = 'dfdefdgf'\r\n",
        "my_str_num = collections.Counter(my_str)\r\n",
        "my_str = list(set(my_str))\r\n",
        "\r\n",
        "# 최댓값 찾기\r\n",
        "max = my_str_num[my_str[0]]\r\n",
        "for i in my_str:\r\n",
        "  if max <= my_str_num[i]:\r\n",
        "    max = my_str_num[i]\r\n",
        "\r\n",
        "# 최댓값인 문자 찾기\r\n",
        "answer = []\r\n",
        "for i in my_str:\r\n",
        "  if max <= my_str_num[i]:\r\n",
        "    answer.append(i)\r\n",
        "answer.sort()\r\n",
        "print(''.join(answer))"
      ],
      "execution_count": 125,
      "outputs": [
        {
          "output_type": "stream",
          "text": [
            "df\n"
          ],
          "name": "stdout"
        }
      ]
    },
    {
      "cell_type": "markdown",
      "metadata": {
        "id": "YYZGc_j67cuD"
      },
      "source": [
        "# for 문과 if문을 한번에 - List comprehension의 if 문"
      ]
    },
    {
      "cell_type": "code",
      "metadata": {
        "colab": {
          "base_uri": "https://localhost:8080/"
        },
        "id": "XEOBp_Hg7lo3",
        "outputId": "5b5fd5b1-59f3-4f98-e1f6-876a07d0b2e7"
      },
      "source": [
        "mylist = [1,2,3,4,5,6]\r\n",
        "[i**2 for i in mylist if i % 2 == 0]"
      ],
      "execution_count": 128,
      "outputs": [
        {
          "output_type": "execute_result",
          "data": {
            "text/plain": [
              "[4, 16, 36]"
            ]
          },
          "metadata": {
            "tags": []
          },
          "execution_count": 128
        }
      ]
    },
    {
      "cell_type": "markdown",
      "metadata": {
        "id": "GPKl6LsO8fFY"
      },
      "source": [
        "# flag OR for-else"
      ]
    },
    {
      "cell_type": "code",
      "metadata": {
        "colab": {
          "base_uri": "https://localhost:8080/"
        },
        "id": "HNizrd3C8gQd",
        "outputId": "171a2232-6c5f-42a5-bf5b-19043896d904"
      },
      "source": [
        "import math\r\n",
        "\r\n",
        "numbers = [int(input()) for _ in range(5)]\r\n",
        "multiplied = 1\r\n",
        "flag = True\r\n",
        "for number in numbers:\r\n",
        "    multiplied *= number\r\n",
        "    # 제곱수 판별 \r\n",
        "    if math.sqrt(multiplied) == int(math.sqrt(multiplied)):\r\n",
        "        flag = False\r\n",
        "        print('found')\r\n",
        "        break\r\n",
        "\r\n",
        "if flag:\r\n",
        "    print('not found')"
      ],
      "execution_count": 129,
      "outputs": [
        {
          "output_type": "stream",
          "text": [
            "1\n",
            "2\n",
            "3\n",
            "4\n",
            "5\n",
            "found\n"
          ],
          "name": "stdout"
        }
      ]
    },
    {
      "cell_type": "code",
      "metadata": {
        "id": "nHAAeM7X8gS_"
      },
      "source": [
        "import math\r\n",
        "\r\n",
        "numbers = [int(input()) for _ in range(5)]\r\n",
        "multiplied = 1\r\n",
        "for number in numbers:\r\n",
        "    multiplied *= number\r\n",
        "    if math.sqrt(multiplied) == int(math.sqrt(multiplied)):\r\n",
        "        print('found')\r\n",
        "        break\r\n",
        "else:\r\n",
        "    print('not found')"
      ],
      "execution_count": null,
      "outputs": []
    },
    {
      "cell_type": "markdown",
      "metadata": {
        "id": "QMNboW4z9PHu"
      },
      "source": [
        "# 두 변수의 값 바꾸기 - swap"
      ]
    },
    {
      "cell_type": "code",
      "metadata": {
        "id": "V0KA8aXx9QGB"
      },
      "source": [
        "a = 3\r\n",
        "b = 'abc'\r\n",
        "\r\n",
        "temp = a\r\n",
        "a = b\r\n",
        "b = temp"
      ],
      "execution_count": null,
      "outputs": []
    },
    {
      "cell_type": "code",
      "metadata": {
        "id": "NMhBar7K9QIv"
      },
      "source": [
        "a = 3\r\n",
        "b = 'abc'\r\n",
        "\r\n",
        "a, b = b, a "
      ],
      "execution_count": null,
      "outputs": []
    },
    {
      "cell_type": "markdown",
      "metadata": {
        "id": "VUAvJEs49m9r"
      },
      "source": [
        "# 이진 탐색하기 - binary search"
      ]
    },
    {
      "cell_type": "code",
      "metadata": {
        "colab": {
          "base_uri": "https://localhost:8080/"
        },
        "id": "njYfI6gz9l4_",
        "outputId": "95b858b5-f353-466d-b916-ce12c7485970"
      },
      "source": [
        "def bisect(a, x, lo=0, hi=None):\r\n",
        "    if lo < 0:\r\n",
        "        raise ValueError('lo must be non-negative')\r\n",
        "    if hi is None:\r\n",
        "        hi = len(a)\r\n",
        "    while lo < hi:\r\n",
        "        mid = (lo + hi) // 2\r\n",
        "        if a[mid] < x:\r\n",
        "            lo = mid + 1\r\n",
        "        else:\r\n",
        "            hi = mid\r\n",
        "    return lo\r\n",
        "\r\n",
        "# 찾는 값의 인덱스를 반환\r\n",
        "mylist = [1, 2, 3, 7, 9, 11, 33]\r\n",
        "print(bisect(mylist, 3))"
      ],
      "execution_count": 130,
      "outputs": [
        {
          "output_type": "stream",
          "text": [
            "2\n"
          ],
          "name": "stdout"
        }
      ]
    },
    {
      "cell_type": "code",
      "metadata": {
        "colab": {
          "base_uri": "https://localhost:8080/"
        },
        "id": "sY2WGq6V9wKB",
        "outputId": "19215c98-50fe-4429-c2dc-d774104ceadc"
      },
      "source": [
        "import bisect\r\n",
        "mylist = [1, 2, 3, 7, 9, 11, 33]\r\n",
        "print(bisect.bisect(mylist, 3))"
      ],
      "execution_count": 131,
      "outputs": [
        {
          "output_type": "stream",
          "text": [
            "3\n"
          ],
          "name": "stdout"
        }
      ]
    },
    {
      "cell_type": "markdown",
      "metadata": {
        "id": "UuN2VqsP-B-l"
      },
      "source": [
        "# 클래스 인스턴스 출력하기 - class의 자동 string casting"
      ]
    },
    {
      "cell_type": "code",
      "metadata": {
        "colab": {
          "base_uri": "https://localhost:8080/"
        },
        "id": "OwE2UhAc-DB3",
        "outputId": "fd8fdc40-e632-439b-88d7-210a88e13df0"
      },
      "source": [
        "class Coord(object):\r\n",
        "    def __init__ (self, x, y):\r\n",
        "        self.x, self.y = x, y\r\n",
        "\r\n",
        "point = Coord(1, 2)\r\n",
        "print( '({}, {})'.format(point.x, point.y) )"
      ],
      "execution_count": 132,
      "outputs": [
        {
          "output_type": "stream",
          "text": [
            "(1, 2)\n"
          ],
          "name": "stdout"
        }
      ]
    },
    {
      "cell_type": "code",
      "metadata": {
        "colab": {
          "base_uri": "https://localhost:8080/"
        },
        "id": "bxC-WGVg-DHX",
        "outputId": "5bcf6b29-b711-4d59-aa45-bddb0927f8ca"
      },
      "source": [
        "def print_coord(coord):\r\n",
        "    print( '({}, {})'.format(coord.x, coord.y) )\r\n",
        "print_coord(point)"
      ],
      "execution_count": 133,
      "outputs": [
        {
          "output_type": "stream",
          "text": [
            "(1, 2)\n"
          ],
          "name": "stdout"
        }
      ]
    },
    {
      "cell_type": "code",
      "metadata": {
        "colab": {
          "base_uri": "https://localhost:8080/"
        },
        "id": "i5sgw8KZ-IWU",
        "outputId": "ac7b8193-762d-4ee4-fc24-564769fed96b"
      },
      "source": [
        "class Coord(object):\r\n",
        "    def __init__ (self, x, y):\r\n",
        "        self.x, self.y = x, y\r\n",
        "    def __str__ (self):\r\n",
        "        return '({}, {})'.format(self.x, self.y)\r\n",
        "\r\n",
        "point = Coord(1, 2)\r\n",
        "print(point)"
      ],
      "execution_count": 135,
      "outputs": [
        {
          "output_type": "stream",
          "text": [
            "(1, 2)\n"
          ],
          "name": "stdout"
        }
      ]
    },
    {
      "cell_type": "markdown",
      "metadata": {
        "id": "SEscs5hl-WBD"
      },
      "source": [
        "# 가장 큰 수, inf"
      ]
    },
    {
      "cell_type": "code",
      "metadata": {
        "colab": {
          "base_uri": "https://localhost:8080/"
        },
        "id": "8Un6nEQU-XUs",
        "outputId": "cb99516a-b1dd-4d84-fc34-4261ec18d5f6"
      },
      "source": [
        "min_val = 99999\r\n",
        "min_val > 100000000"
      ],
      "execution_count": 136,
      "outputs": [
        {
          "output_type": "execute_result",
          "data": {
            "text/plain": [
              "False"
            ]
          },
          "metadata": {
            "tags": []
          },
          "execution_count": 136
        }
      ]
    },
    {
      "cell_type": "code",
      "metadata": {
        "colab": {
          "base_uri": "https://localhost:8080/"
        },
        "id": "ppQ2SjG4-Xen",
        "outputId": "69c2a42a-adb3-4794-ae15-23f6f79ae5d4"
      },
      "source": [
        "min_val = float('inf')\r\n",
        "min_val > 10000000000"
      ],
      "execution_count": 137,
      "outputs": [
        {
          "output_type": "execute_result",
          "data": {
            "text/plain": [
              "True"
            ]
          },
          "metadata": {
            "tags": []
          },
          "execution_count": 137
        }
      ]
    },
    {
      "cell_type": "code",
      "metadata": {
        "colab": {
          "base_uri": "https://localhost:8080/"
        },
        "id": "FCvZQoAO-Xrk",
        "outputId": "065ed501-9d95-4d2e-948c-9b678f8f7e2b"
      },
      "source": [
        "max_val = float('-inf')\r\n",
        "max_val > 10000000000"
      ],
      "execution_count": 139,
      "outputs": [
        {
          "output_type": "execute_result",
          "data": {
            "text/plain": [
              "False"
            ]
          },
          "metadata": {
            "tags": []
          },
          "execution_count": 139
        }
      ]
    },
    {
      "cell_type": "code",
      "metadata": {
        "colab": {
          "base_uri": "https://localhost:8080/"
        },
        "id": "bWbiLQ5G-gal",
        "outputId": "a26b1993-33c6-4375-f69e-074839b7cf47"
      },
      "source": [
        "max_val = float('-inf')\r\n",
        "max_val < 10000000000"
      ],
      "execution_count": 140,
      "outputs": [
        {
          "output_type": "execute_result",
          "data": {
            "text/plain": [
              "True"
            ]
          },
          "metadata": {
            "tags": []
          },
          "execution_count": 140
        }
      ]
    },
    {
      "cell_type": "markdown",
      "metadata": {
        "id": "enmeIlox-vMV"
      },
      "source": [
        "# 파일 입출력 간단하게 하기"
      ]
    },
    {
      "cell_type": "code",
      "metadata": {
        "id": "GmOL4tAi-wKI"
      },
      "source": [
        "f = open('myfile.txt', 'r')\r\n",
        "while True:\r\n",
        "    line = f.readline()\r\n",
        "    if not line: break\r\n",
        "    raw = line.split()\r\n",
        "    print(raw)\r\n",
        "f.close()"
      ],
      "execution_count": null,
      "outputs": []
    },
    {
      "cell_type": "code",
      "metadata": {
        "id": "FRE7KAF6-wRX"
      },
      "source": [
        "with open('myfile.txt') as file:\r\n",
        "  for line in file.readlines():\r\n",
        "    print(line.strip().split('\\t'))"
      ],
      "execution_count": null,
      "outputs": []
    }
  ]
}