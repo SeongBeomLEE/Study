{
  "nbformat": 4,
  "nbformat_minor": 0,
  "metadata": {
    "colab": {
      "name": "Stacking Example.ipynb",
      "provenance": [],
      "collapsed_sections": [],
      "mount_file_id": "1VkHviIePzuNnH8FpozftbR0rgHPVDPh4",
      "authorship_tag": "ABX9TyMfEqP6hnHJqDYWTPHA3xAd"
    },
    "kernelspec": {
      "name": "python3",
      "display_name": "Python 3"
    },
    "widgets": {
      "application/vnd.jupyter.widget-state+json": {
        "97a92d5a6d7b40aebbdd3a277a00f450": {
          "model_module": "@jupyter-widgets/controls",
          "model_name": "HBoxModel",
          "state": {
            "_view_name": "HBoxView",
            "_dom_classes": [],
            "_model_name": "HBoxModel",
            "_view_module": "@jupyter-widgets/controls",
            "_model_module_version": "1.5.0",
            "_view_count": null,
            "_view_module_version": "1.5.0",
            "box_style": "",
            "layout": "IPY_MODEL_a91f16eb22f04494ab3ddaaf9b9f35c4",
            "_model_module": "@jupyter-widgets/controls",
            "children": [
              "IPY_MODEL_a760e326b23942d58a3ba9ef25474740",
              "IPY_MODEL_6ba98cc4c05d4543a64028f330f64318"
            ]
          }
        },
        "a91f16eb22f04494ab3ddaaf9b9f35c4": {
          "model_module": "@jupyter-widgets/base",
          "model_name": "LayoutModel",
          "state": {
            "_view_name": "LayoutView",
            "grid_template_rows": null,
            "right": null,
            "justify_content": null,
            "_view_module": "@jupyter-widgets/base",
            "overflow": null,
            "_model_module_version": "1.2.0",
            "_view_count": null,
            "flex_flow": null,
            "width": null,
            "min_width": null,
            "border": null,
            "align_items": null,
            "bottom": null,
            "_model_module": "@jupyter-widgets/base",
            "top": null,
            "grid_column": null,
            "overflow_y": null,
            "overflow_x": null,
            "grid_auto_flow": null,
            "grid_area": null,
            "grid_template_columns": null,
            "flex": null,
            "_model_name": "LayoutModel",
            "justify_items": null,
            "grid_row": null,
            "max_height": null,
            "align_content": null,
            "visibility": null,
            "align_self": null,
            "height": null,
            "min_height": null,
            "padding": null,
            "grid_auto_rows": null,
            "grid_gap": null,
            "max_width": null,
            "order": null,
            "_view_module_version": "1.2.0",
            "grid_template_areas": null,
            "object_position": null,
            "object_fit": null,
            "grid_auto_columns": null,
            "margin": null,
            "display": null,
            "left": null
          }
        },
        "a760e326b23942d58a3ba9ef25474740": {
          "model_module": "@jupyter-widgets/controls",
          "model_name": "FloatProgressModel",
          "state": {
            "_view_name": "ProgressView",
            "style": "IPY_MODEL_c73767c2c114431ebaef127a00a3d2e1",
            "_dom_classes": [],
            "description": "",
            "_model_name": "FloatProgressModel",
            "bar_style": "success",
            "max": 1,
            "_view_module": "@jupyter-widgets/controls",
            "_model_module_version": "1.5.0",
            "value": 1,
            "_view_count": null,
            "_view_module_version": "1.5.0",
            "orientation": "horizontal",
            "min": 0,
            "description_tooltip": null,
            "_model_module": "@jupyter-widgets/controls",
            "layout": "IPY_MODEL_b96493c175bb49089ad5812b2fe9b90e"
          }
        },
        "6ba98cc4c05d4543a64028f330f64318": {
          "model_module": "@jupyter-widgets/controls",
          "model_name": "HTMLModel",
          "state": {
            "_view_name": "HTMLView",
            "style": "IPY_MODEL_34ff1958cfe141da92b70e26dd38e291",
            "_dom_classes": [],
            "description": "",
            "_model_name": "HTMLModel",
            "placeholder": "​",
            "_view_module": "@jupyter-widgets/controls",
            "_model_module_version": "1.5.0",
            "value": " 5/? [04:27&lt;00:00, 53.51s/it]",
            "_view_count": null,
            "_view_module_version": "1.5.0",
            "description_tooltip": null,
            "_model_module": "@jupyter-widgets/controls",
            "layout": "IPY_MODEL_13a6a0713ad7427fb783c4b11a6e193b"
          }
        },
        "c73767c2c114431ebaef127a00a3d2e1": {
          "model_module": "@jupyter-widgets/controls",
          "model_name": "ProgressStyleModel",
          "state": {
            "_view_name": "StyleView",
            "_model_name": "ProgressStyleModel",
            "description_width": "initial",
            "_view_module": "@jupyter-widgets/base",
            "_model_module_version": "1.5.0",
            "_view_count": null,
            "_view_module_version": "1.2.0",
            "bar_color": null,
            "_model_module": "@jupyter-widgets/controls"
          }
        },
        "b96493c175bb49089ad5812b2fe9b90e": {
          "model_module": "@jupyter-widgets/base",
          "model_name": "LayoutModel",
          "state": {
            "_view_name": "LayoutView",
            "grid_template_rows": null,
            "right": null,
            "justify_content": null,
            "_view_module": "@jupyter-widgets/base",
            "overflow": null,
            "_model_module_version": "1.2.0",
            "_view_count": null,
            "flex_flow": null,
            "width": null,
            "min_width": null,
            "border": null,
            "align_items": null,
            "bottom": null,
            "_model_module": "@jupyter-widgets/base",
            "top": null,
            "grid_column": null,
            "overflow_y": null,
            "overflow_x": null,
            "grid_auto_flow": null,
            "grid_area": null,
            "grid_template_columns": null,
            "flex": null,
            "_model_name": "LayoutModel",
            "justify_items": null,
            "grid_row": null,
            "max_height": null,
            "align_content": null,
            "visibility": null,
            "align_self": null,
            "height": null,
            "min_height": null,
            "padding": null,
            "grid_auto_rows": null,
            "grid_gap": null,
            "max_width": null,
            "order": null,
            "_view_module_version": "1.2.0",
            "grid_template_areas": null,
            "object_position": null,
            "object_fit": null,
            "grid_auto_columns": null,
            "margin": null,
            "display": null,
            "left": null
          }
        },
        "34ff1958cfe141da92b70e26dd38e291": {
          "model_module": "@jupyter-widgets/controls",
          "model_name": "DescriptionStyleModel",
          "state": {
            "_view_name": "StyleView",
            "_model_name": "DescriptionStyleModel",
            "description_width": "",
            "_view_module": "@jupyter-widgets/base",
            "_model_module_version": "1.5.0",
            "_view_count": null,
            "_view_module_version": "1.2.0",
            "_model_module": "@jupyter-widgets/controls"
          }
        },
        "13a6a0713ad7427fb783c4b11a6e193b": {
          "model_module": "@jupyter-widgets/base",
          "model_name": "LayoutModel",
          "state": {
            "_view_name": "LayoutView",
            "grid_template_rows": null,
            "right": null,
            "justify_content": null,
            "_view_module": "@jupyter-widgets/base",
            "overflow": null,
            "_model_module_version": "1.2.0",
            "_view_count": null,
            "flex_flow": null,
            "width": null,
            "min_width": null,
            "border": null,
            "align_items": null,
            "bottom": null,
            "_model_module": "@jupyter-widgets/base",
            "top": null,
            "grid_column": null,
            "overflow_y": null,
            "overflow_x": null,
            "grid_auto_flow": null,
            "grid_area": null,
            "grid_template_columns": null,
            "flex": null,
            "_model_name": "LayoutModel",
            "justify_items": null,
            "grid_row": null,
            "max_height": null,
            "align_content": null,
            "visibility": null,
            "align_self": null,
            "height": null,
            "min_height": null,
            "padding": null,
            "grid_auto_rows": null,
            "grid_gap": null,
            "max_width": null,
            "order": null,
            "_view_module_version": "1.2.0",
            "grid_template_areas": null,
            "object_position": null,
            "object_fit": null,
            "grid_auto_columns": null,
            "margin": null,
            "display": null,
            "left": null
          }
        }
      }
    }
  },
  "cells": [
    {
      "cell_type": "code",
      "metadata": {
        "id": "I7xINkKHv4W5"
      },
      "source": [
        "import pandas as pd\r\n",
        "import numpy as np\r\n",
        "import matplotlib.pyplot as plt\r\n",
        "import matplotlib as mpl\r\n",
        "import seaborn as sns\r\n",
        "import warnings\r\n",
        "\r\n",
        "warnings.filterwarnings(action='ignore')\r\n",
        "%matplotlib inline"
      ],
      "execution_count": 1,
      "outputs": []
    },
    {
      "cell_type": "markdown",
      "metadata": {
        "id": "YmMt-xdgvkrB"
      },
      "source": [
        "# 데이터 불러오기"
      ]
    },
    {
      "cell_type": "code",
      "metadata": {
        "id": "UlWvFiXhu58k"
      },
      "source": [
        "train_features = pd.read_csv('/content/drive/MyDrive/DataAnalysis/운동 동작 분류 AI 경진대회/data/train_features.csv')\r\n",
        "train_labels = pd.read_csv('/content/drive/MyDrive/DataAnalysis/운동 동작 분류 AI 경진대회/data/train_labels.csv')"
      ],
      "execution_count": 2,
      "outputs": []
    },
    {
      "cell_type": "markdown",
      "metadata": {
        "id": "4Z9chHS_vmMg"
      },
      "source": [
        "# 데이터 전처리\r\n",
        "\r\n",
        "간단하게 만들기 위해서 평균, 최대, 최소, 중앙 값만을 활용함"
      ]
    },
    {
      "cell_type": "code",
      "metadata": {
        "id": "pteLpNFJvvRQ"
      },
      "source": [
        "train_val = train_features.drop('time', axis=1).groupby('id').agg(['mean', 'min', 'max', 'median']).values\r\n",
        "\r\n",
        "ag_cols = ['acc_x',\t'acc_y',\t'acc_z',\t'gy_x',\t'gy_y',\t'gy_z']\r\n",
        "des_cols = ['mean', 'min', 'max', 'median']\r\n",
        "result_cols = []\r\n",
        "\r\n",
        "for ag_col in ag_cols:\r\n",
        "  for des_col in des_cols:\r\n",
        "    result_cols.append(ag_col+'_'+des_col)\r\n",
        "\r\n",
        "X = pd.DataFrame(data = train_val, columns = result_cols)\r\n",
        "y = train_labels[['label']]"
      ],
      "execution_count": 3,
      "outputs": []
    },
    {
      "cell_type": "code",
      "metadata": {
        "id": "9uJipLIVwo9t"
      },
      "source": [
        "from sklearn.model_selection import train_test_split\r\n",
        "\r\n",
        "X_train, X_test, y_train, y_test = train_test_split(X, y, test_size = 0.2, random_state = 22, shuffle = True, stratify = y)"
      ],
      "execution_count": 4,
      "outputs": []
    },
    {
      "cell_type": "code",
      "metadata": {
        "id": "60Es9UxQ58T1"
      },
      "source": [
        "train_dummy = pd.get_dummies(y_train['label'])\r\n",
        "test_dummy = pd.get_dummies(y_test['label'])"
      ],
      "execution_count": 5,
      "outputs": []
    },
    {
      "cell_type": "markdown",
      "metadata": {
        "id": "JeoJba2lvnJn"
      },
      "source": [
        "# 개별 모델 만들기"
      ]
    },
    {
      "cell_type": "code",
      "metadata": {
        "colab": {
          "base_uri": "https://localhost:8080/",
          "height": 67,
          "referenced_widgets": [
            "97a92d5a6d7b40aebbdd3a277a00f450",
            "a91f16eb22f04494ab3ddaaf9b9f35c4",
            "a760e326b23942d58a3ba9ef25474740",
            "6ba98cc4c05d4543a64028f330f64318",
            "c73767c2c114431ebaef127a00a3d2e1",
            "b96493c175bb49089ad5812b2fe9b90e",
            "34ff1958cfe141da92b70e26dd38e291",
            "13a6a0713ad7427fb783c4b11a6e193b"
          ]
        },
        "id": "fFaVllScvvmT",
        "outputId": "138375de-8426-49d9-f0de-8ba405453d81"
      },
      "source": [
        "from sklearn.ensemble import RandomForestClassifier\r\n",
        "from sklearn.linear_model import LogisticRegression\r\n",
        "import lightgbm as lgbm\r\n",
        "import xgboost as xgb\r\n",
        "\r\n",
        "from tqdm import tqdm_notebook\r\n",
        "\r\n",
        "from sklearn.model_selection import StratifiedKFold\r\n",
        "\r\n",
        "n_split = 5\r\n",
        "skf = StratifiedKFold(n_splits = n_split, shuffle=True, random_state=22)\r\n",
        "\r\n",
        "rf_train_proba = np.zeros(train_dummy.shape)\r\n",
        "lgr_train_proba = np.zeros(train_dummy.shape)\r\n",
        "lg_train_proba = np.zeros(train_dummy.shape)\r\n",
        "xg_train_proba = np.zeros(train_dummy.shape)\r\n",
        "\r\n",
        "rf_test_proba = np.zeros(test_dummy.shape)\r\n",
        "lgr_test_proba = np.zeros(test_dummy.shape)\r\n",
        "lg_test_proba = np.zeros(test_dummy.shape)\r\n",
        "xg_test_proba = np.zeros(test_dummy.shape)\r\n",
        "\r\n",
        "for trn_idx, val_idx in tqdm_notebook(skf.split(X_train, y_train)):\r\n",
        "  trn_data, trn_label = X_train.iloc[trn_idx], y_train.iloc[trn_idx]\r\n",
        "  val_data, val_label = X_train.iloc[val_idx], y_train.iloc[val_idx]\r\n",
        "\r\n",
        "  # 랜덤포레스트\r\n",
        "  rf = RandomForestClassifier(random_state=22)\r\n",
        "  rf.fit(X_train, y_train)\r\n",
        "\r\n",
        "  rf_train_proba[val_idx] = rf.predict_proba(val_data)\r\n",
        "  rf_test_proba += rf.predict_proba(X_test) / n_split\r\n",
        "\r\n",
        "  # 로지스틱\r\n",
        "  lgr = LogisticRegression(random_state=22)\r\n",
        "  lgr.fit(X_train, y_train)\r\n",
        "\r\n",
        "  lgr_train_proba[val_idx] = lgr.predict_proba(val_data)\r\n",
        "  lgr_test_proba += lgr.predict_proba(X_test) / n_split\r\n",
        "\r\n",
        "  # lightgbm\r\n",
        "  lg = lgbm.LGBMClassifier(random_state=22)\r\n",
        "  lg.fit(X_train, y_train)\r\n",
        "\r\n",
        "  lg_train_proba[val_idx] = lg.predict_proba(val_data)\r\n",
        "  lg_test_proba += lg.predict_proba(X_test) / n_split\r\n",
        "\r\n",
        "  # xgboost\r\n",
        "  xg = xgb.XGBClassifier(random_state=22)\r\n",
        "  xg.fit(X_train, y_train)\r\n",
        "\r\n",
        "  xg_train_proba[val_idx] = xg.predict_proba(val_data)\r\n",
        "  xg_test_proba += xg.predict_proba(X_test) / n_split"
      ],
      "execution_count": 7,
      "outputs": [
        {
          "output_type": "display_data",
          "data": {
            "application/vnd.jupyter.widget-view+json": {
              "model_id": "97a92d5a6d7b40aebbdd3a277a00f450",
              "version_minor": 0,
              "version_major": 2
            },
            "text/plain": [
              "HBox(children=(FloatProgress(value=1.0, bar_style='info', max=1.0), HTML(value='')))"
            ]
          },
          "metadata": {
            "tags": []
          }
        },
        {
          "output_type": "stream",
          "text": [
            "\n"
          ],
          "name": "stdout"
        }
      ]
    },
    {
      "cell_type": "markdown",
      "metadata": {
        "id": "nwju6ua5votg"
      },
      "source": [
        "# 개별 모델 평가"
      ]
    },
    {
      "cell_type": "code",
      "metadata": {
        "colab": {
          "base_uri": "https://localhost:8080/"
        },
        "id": "fcxEzClGvv6B",
        "outputId": "de8df48a-f72f-4837-8adb-60496784a548"
      },
      "source": [
        "from sklearn.metrics import log_loss\r\n",
        "\r\n",
        "print(\"RandomForestClassifier        :{} \".format(log_loss(test_dummy, rf_test_proba)))\r\n",
        "print(\"LogisticRegression            :{} \".format(log_loss(test_dummy, lgr_test_proba)))\r\n",
        "print(\"lightgbm                      :{} \".format(log_loss(test_dummy, lg_test_proba)))\r\n",
        "print(\"xgboost                       :{} \".format(log_loss(test_dummy, xg_test_proba)))"
      ],
      "execution_count": 8,
      "outputs": [
        {
          "output_type": "stream",
          "text": [
            "RandomForestClassifier        :2.0356720182080115 \n",
            "LogisticRegression            :2.5661370099627994 \n",
            "lightgbm                      :1.5651821756741704 \n",
            "xgboost                       :1.1922718353375807 \n"
          ],
          "name": "stdout"
        }
      ]
    },
    {
      "cell_type": "markdown",
      "metadata": {
        "id": "5r-1jwVN98GT"
      },
      "source": [
        "성능이 좋지 않은 모델도 스택킹을 하는 것이기 때문에 스택깅을 통한 성능 향상은 어려울 것으로 판단됨"
      ]
    },
    {
      "cell_type": "markdown",
      "metadata": {
        "id": "SeYV5Cx0vq5J"
      },
      "source": [
        "# 메타 모델 만들기\r\n",
        "\r\n",
        "predict_proba를 사용하는 이유는 스택킹을 할때 데이터를 쌓아야 하는데\r\n",
        "\r\n",
        "이미 예측된 값인 경우에는 쌓을 수 없기 때문에 획률 값을 사용하는 것!"
      ]
    },
    {
      "cell_type": "code",
      "metadata": {
        "id": "AMZsIqaFzaI5"
      },
      "source": [
        "meta_train_proba = np.concatenate([rf_train_proba, lgr_train_proba, lg_train_proba, xg_train_proba], axis=1)\r\n",
        "meta_test_proba = np.concatenate([rf_test_proba, lgr_test_proba, lg_test_proba, xg_test_proba], axis=1)"
      ],
      "execution_count": 9,
      "outputs": []
    },
    {
      "cell_type": "code",
      "metadata": {
        "id": "LfMts3xEzZqg"
      },
      "source": [
        "from sklearn.ensemble import RandomForestClassifier\r\n",
        "from sklearn.linear_model import LogisticRegression\r\n",
        "import lightgbm as lgbm\r\n",
        "import xgboost as xgb\r\n",
        "\r\n",
        "# 랜덤포레스트\r\n",
        "rf = RandomForestClassifier(random_state=22)\r\n",
        "rf.fit(meta_train_proba, y_train)\r\n",
        "\r\n",
        "rf_proba = rf.predict_proba(meta_test_proba)\r\n",
        "\r\n",
        "# 로지스틱\r\n",
        "lgr = LogisticRegression(random_state=22)\r\n",
        "lgr.fit(meta_train_proba, y_train)\r\n",
        "\r\n",
        "lgr_proba = lgr.predict_proba(meta_test_proba)\r\n",
        "\r\n",
        "# lightgbm\r\n",
        "lg = lgbm.LGBMClassifier(random_state=22)\r\n",
        "lg.fit(meta_train_proba, y_train)\r\n",
        "\r\n",
        "lg_proba = lg.predict_proba(meta_test_proba)\r\n",
        "\r\n",
        "# xgboost\r\n",
        "xg = xgb.XGBClassifier(random_state=22)\r\n",
        "xg.fit(meta_train_proba, y_train)\r\n",
        "\r\n",
        "xg_proba = xg.predict_proba(meta_test_proba)"
      ],
      "execution_count": 10,
      "outputs": []
    },
    {
      "cell_type": "markdown",
      "metadata": {
        "id": "HCN9oY69vsdJ"
      },
      "source": [
        "# 메타 모델 평가"
      ]
    },
    {
      "cell_type": "code",
      "metadata": {
        "colab": {
          "base_uri": "https://localhost:8080/"
        },
        "id": "uXeqRh2UvwM4",
        "outputId": "f995b51d-b794-45c7-ac11-b75708b963ba"
      },
      "source": [
        "from sklearn.metrics import log_loss\r\n",
        "\r\n",
        "print(\"RandomForestClassifier        :{} \".format(log_loss(test_dummy, rf_proba)))\r\n",
        "print(\"LogisticRegression            :{} \".format(log_loss(test_dummy, lgr_proba)))\r\n",
        "print(\"lightgbm                      :{} \".format(log_loss(test_dummy, lg_proba)))\r\n",
        "print(\"xgboost                       :{} \".format(log_loss(test_dummy, xg_proba)))"
      ],
      "execution_count": 11,
      "outputs": [
        {
          "output_type": "stream",
          "text": [
            "RandomForestClassifier        :5.530570709349575 \n",
            "LogisticRegression            :1.62275361301259 \n",
            "lightgbm                      :2.6617930803017216 \n",
            "xgboost                       :2.105178712350875 \n"
          ],
          "name": "stdout"
        }
      ]
    },
    {
      "cell_type": "markdown",
      "metadata": {
        "id": "LeOOn8eS-hED"
      },
      "source": [
        "LogisticRegression은 향상되었지만 다른 모델은 성능이 더 하락했다는 것을 알 수 있음"
      ]
    }
  ]
}