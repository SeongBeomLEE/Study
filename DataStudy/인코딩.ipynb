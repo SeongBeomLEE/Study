{
  "nbformat": 4,
  "nbformat_minor": 0,
  "metadata": {
    "colab": {
      "name": "인코딩.ipynb",
      "provenance": [],
      "collapsed_sections": [],
      "authorship_tag": "ABX9TyMUTx59KschSO9ps+Gf6ViB",
      "include_colab_link": true
    },
    "kernelspec": {
      "name": "python3",
      "display_name": "Python 3"
    }
  },
  "cells": [
    {
      "cell_type": "markdown",
      "metadata": {
        "id": "view-in-github",
        "colab_type": "text"
      },
      "source": [
        "<a href=\"https://colab.research.google.com/github/SeongBeomLEE/Study/blob/main/DataStudy/%EC%9D%B8%EC%BD%94%EB%94%A9.ipynb\" target=\"_parent\"><img src=\"https://colab.research.google.com/assets/colab-badge.svg\" alt=\"Open In Colab\"/></a>"
      ]
    },
    {
      "cell_type": "code",
      "metadata": {
        "colab": {
          "base_uri": "https://localhost:8080/",
          "height": 297
        },
        "id": "5Vtr7QbXzBWS",
        "outputId": "6c68492b-f88c-45b0-c1c9-d9bd0bdef243"
      },
      "source": [
        "import pandas as pd\r\n",
        "import numpy as np\r\n",
        "\r\n",
        "items = ['TV', '냉장고', '전자레인지', '컴퓨터', '선풍기', '선풍기', '믹서', '믹서']\r\n",
        "df = pd.DataFrame(\r\n",
        "    {\"label\":items}\r\n",
        ")\r\n",
        "df"
      ],
      "execution_count": 20,
      "outputs": [
        {
          "output_type": "execute_result",
          "data": {
            "text/html": [
              "<div>\n",
              "<style scoped>\n",
              "    .dataframe tbody tr th:only-of-type {\n",
              "        vertical-align: middle;\n",
              "    }\n",
              "\n",
              "    .dataframe tbody tr th {\n",
              "        vertical-align: top;\n",
              "    }\n",
              "\n",
              "    .dataframe thead th {\n",
              "        text-align: right;\n",
              "    }\n",
              "</style>\n",
              "<table border=\"1\" class=\"dataframe\">\n",
              "  <thead>\n",
              "    <tr style=\"text-align: right;\">\n",
              "      <th></th>\n",
              "      <th>label</th>\n",
              "    </tr>\n",
              "  </thead>\n",
              "  <tbody>\n",
              "    <tr>\n",
              "      <th>0</th>\n",
              "      <td>TV</td>\n",
              "    </tr>\n",
              "    <tr>\n",
              "      <th>1</th>\n",
              "      <td>냉장고</td>\n",
              "    </tr>\n",
              "    <tr>\n",
              "      <th>2</th>\n",
              "      <td>전자레인지</td>\n",
              "    </tr>\n",
              "    <tr>\n",
              "      <th>3</th>\n",
              "      <td>컴퓨터</td>\n",
              "    </tr>\n",
              "    <tr>\n",
              "      <th>4</th>\n",
              "      <td>선풍기</td>\n",
              "    </tr>\n",
              "    <tr>\n",
              "      <th>5</th>\n",
              "      <td>선풍기</td>\n",
              "    </tr>\n",
              "    <tr>\n",
              "      <th>6</th>\n",
              "      <td>믹서</td>\n",
              "    </tr>\n",
              "    <tr>\n",
              "      <th>7</th>\n",
              "      <td>믹서</td>\n",
              "    </tr>\n",
              "  </tbody>\n",
              "</table>\n",
              "</div>"
            ],
            "text/plain": [
              "   label\n",
              "0     TV\n",
              "1    냉장고\n",
              "2  전자레인지\n",
              "3    컴퓨터\n",
              "4    선풍기\n",
              "5    선풍기\n",
              "6     믹서\n",
              "7     믹서"
            ]
          },
          "metadata": {
            "tags": []
          },
          "execution_count": 20
        }
      ]
    },
    {
      "cell_type": "markdown",
      "metadata": {
        "id": "c-x7BVcUyTr8"
      },
      "source": [
        "# 라벨 인코딩\r\n",
        "\r\n",
        "카테고리 범주를 0 ~...까지의 숫자로 변환하는 것"
      ]
    },
    {
      "cell_type": "code",
      "metadata": {
        "colab": {
          "base_uri": "https://localhost:8080/",
          "height": 351
        },
        "id": "wwbgLqVkyzM5",
        "outputId": "24a145ea-bb10-4c70-c972-b649396a3bd3"
      },
      "source": [
        "from sklearn.preprocessing import LabelEncoder\r\n",
        "\r\n",
        "encoder = LabelEncoder()\r\n",
        "\r\n",
        "encoder.fit(df['label'])\r\n",
        "labels = encoder.transform(df['label'])\r\n",
        "\r\n",
        "print('인코팅 변환 값:  ', labels)\r\n",
        "print('인코팅 클래스 :  ', encoder.classes_)\r\n",
        "print('디코딩 원본 값:  ', encoder.inverse_transform(labels))\r\n",
        "\r\n",
        "df['LabelEncoder'] = labels\r\n",
        "df['Decoding'] = encoder.inverse_transform(labels)\r\n",
        "\r\n",
        "df"
      ],
      "execution_count": 21,
      "outputs": [
        {
          "output_type": "stream",
          "text": [
            "인코팅 변환 값:   [0 1 4 5 3 3 2 2]\n",
            "인코팅 클래스 :   ['TV' '냉장고' '믹서' '선풍기' '전자레인지' '컴퓨터']\n",
            "디코딩 원본 값:   ['TV' '냉장고' '전자레인지' '컴퓨터' '선풍기' '선풍기' '믹서' '믹서']\n"
          ],
          "name": "stdout"
        },
        {
          "output_type": "execute_result",
          "data": {
            "text/html": [
              "<div>\n",
              "<style scoped>\n",
              "    .dataframe tbody tr th:only-of-type {\n",
              "        vertical-align: middle;\n",
              "    }\n",
              "\n",
              "    .dataframe tbody tr th {\n",
              "        vertical-align: top;\n",
              "    }\n",
              "\n",
              "    .dataframe thead th {\n",
              "        text-align: right;\n",
              "    }\n",
              "</style>\n",
              "<table border=\"1\" class=\"dataframe\">\n",
              "  <thead>\n",
              "    <tr style=\"text-align: right;\">\n",
              "      <th></th>\n",
              "      <th>label</th>\n",
              "      <th>LabelEncoder</th>\n",
              "      <th>Decoding</th>\n",
              "    </tr>\n",
              "  </thead>\n",
              "  <tbody>\n",
              "    <tr>\n",
              "      <th>0</th>\n",
              "      <td>TV</td>\n",
              "      <td>0</td>\n",
              "      <td>TV</td>\n",
              "    </tr>\n",
              "    <tr>\n",
              "      <th>1</th>\n",
              "      <td>냉장고</td>\n",
              "      <td>1</td>\n",
              "      <td>냉장고</td>\n",
              "    </tr>\n",
              "    <tr>\n",
              "      <th>2</th>\n",
              "      <td>전자레인지</td>\n",
              "      <td>4</td>\n",
              "      <td>전자레인지</td>\n",
              "    </tr>\n",
              "    <tr>\n",
              "      <th>3</th>\n",
              "      <td>컴퓨터</td>\n",
              "      <td>5</td>\n",
              "      <td>컴퓨터</td>\n",
              "    </tr>\n",
              "    <tr>\n",
              "      <th>4</th>\n",
              "      <td>선풍기</td>\n",
              "      <td>3</td>\n",
              "      <td>선풍기</td>\n",
              "    </tr>\n",
              "    <tr>\n",
              "      <th>5</th>\n",
              "      <td>선풍기</td>\n",
              "      <td>3</td>\n",
              "      <td>선풍기</td>\n",
              "    </tr>\n",
              "    <tr>\n",
              "      <th>6</th>\n",
              "      <td>믹서</td>\n",
              "      <td>2</td>\n",
              "      <td>믹서</td>\n",
              "    </tr>\n",
              "    <tr>\n",
              "      <th>7</th>\n",
              "      <td>믹서</td>\n",
              "      <td>2</td>\n",
              "      <td>믹서</td>\n",
              "    </tr>\n",
              "  </tbody>\n",
              "</table>\n",
              "</div>"
            ],
            "text/plain": [
              "   label  LabelEncoder Decoding\n",
              "0     TV             0       TV\n",
              "1    냉장고             1      냉장고\n",
              "2  전자레인지             4    전자레인지\n",
              "3    컴퓨터             5      컴퓨터\n",
              "4    선풍기             3      선풍기\n",
              "5    선풍기             3      선풍기\n",
              "6     믹서             2       믹서\n",
              "7     믹서             2       믹서"
            ]
          },
          "metadata": {
            "tags": []
          },
          "execution_count": 21
        }
      ]
    },
    {
      "cell_type": "markdown",
      "metadata": {
        "id": "kxpGhfIDyZ1h"
      },
      "source": [
        "# 원핫 인코딩\r\n",
        "칼럼 속 존재하는 n개의 카테고리에 각 카테고리에 해당하면 1 아니면 0으로 변환하여 n개의 컬럼을 만드는 것"
      ]
    },
    {
      "cell_type": "markdown",
      "metadata": {
        "id": "LEC1u5uo0vFp"
      },
      "source": [
        "## 방법 1"
      ]
    },
    {
      "cell_type": "code",
      "metadata": {
        "colab": {
          "base_uri": "https://localhost:8080/"
        },
        "id": "fZmvqnUGyzfp",
        "outputId": "61ac42b7-3e75-4540-a457-13736bacd11e"
      },
      "source": [
        "items = df['label'].values\r\n",
        "\r\n",
        "encoder = LabelEncoder()\r\n",
        "encoder.fit(items)\r\n",
        "labels = encoder.transform(items)\r\n",
        "print(\"변환 전: \", labels)\r\n",
        "\r\n",
        "# 2차원으로 변환\r\n",
        "labels = labels.reshape(-1,1)\r\n",
        "print(\"변환 후: \", labels)"
      ],
      "execution_count": 22,
      "outputs": [
        {
          "output_type": "stream",
          "text": [
            "변환 전:  [0 1 4 5 3 3 2 2]\n",
            "변환 후:  [[0]\n",
            " [1]\n",
            " [4]\n",
            " [5]\n",
            " [3]\n",
            " [3]\n",
            " [2]\n",
            " [2]]\n"
          ],
          "name": "stdout"
        }
      ]
    },
    {
      "cell_type": "code",
      "metadata": {
        "colab": {
          "base_uri": "https://localhost:8080/"
        },
        "id": "P7kE7bWY0ppk",
        "outputId": "0d7b9942-e1ba-427f-dbb9-3e8d3049098d"
      },
      "source": [
        "from sklearn.preprocessing import OneHotEncoder\r\n",
        "oh_encoder = OneHotEncoder()\r\n",
        "oh_encoder.fit(labels)\r\n",
        "oh_labels = oh_encoder.transform(labels)\r\n",
        "\r\n",
        "print(\"원핫 인코딩 데이터\")\r\n",
        "print(oh_labels.toarray())"
      ],
      "execution_count": 23,
      "outputs": [
        {
          "output_type": "stream",
          "text": [
            "원핫 인코딩 데이터\n",
            "[[1. 0. 0. 0. 0. 0.]\n",
            " [0. 1. 0. 0. 0. 0.]\n",
            " [0. 0. 0. 0. 1. 0.]\n",
            " [0. 0. 0. 0. 0. 1.]\n",
            " [0. 0. 0. 1. 0. 0.]\n",
            " [0. 0. 0. 1. 0. 0.]\n",
            " [0. 0. 1. 0. 0. 0.]\n",
            " [0. 0. 1. 0. 0. 0.]]\n"
          ],
          "name": "stdout"
        }
      ]
    },
    {
      "cell_type": "markdown",
      "metadata": {
        "id": "TkFOyw9a1v0B"
      },
      "source": [
        "## 방법2"
      ]
    },
    {
      "cell_type": "code",
      "metadata": {
        "id": "cK8lI-5E1vE6"
      },
      "source": [
        "on_hot_df = pd.get_dummies(df[['label']])\r\n",
        "df = pd.concat([df, on_hot_df], axis=1)"
      ],
      "execution_count": 24,
      "outputs": []
    },
    {
      "cell_type": "code",
      "metadata": {
        "colab": {
          "base_uri": "https://localhost:8080/",
          "height": 297
        },
        "id": "6hAlE3MS2eS4",
        "outputId": "32b1d058-ed1c-47a1-cdab-d640031d9bf5"
      },
      "source": [
        "df"
      ],
      "execution_count": 25,
      "outputs": [
        {
          "output_type": "execute_result",
          "data": {
            "text/html": [
              "<div>\n",
              "<style scoped>\n",
              "    .dataframe tbody tr th:only-of-type {\n",
              "        vertical-align: middle;\n",
              "    }\n",
              "\n",
              "    .dataframe tbody tr th {\n",
              "        vertical-align: top;\n",
              "    }\n",
              "\n",
              "    .dataframe thead th {\n",
              "        text-align: right;\n",
              "    }\n",
              "</style>\n",
              "<table border=\"1\" class=\"dataframe\">\n",
              "  <thead>\n",
              "    <tr style=\"text-align: right;\">\n",
              "      <th></th>\n",
              "      <th>label</th>\n",
              "      <th>LabelEncoder</th>\n",
              "      <th>Decoding</th>\n",
              "      <th>label_TV</th>\n",
              "      <th>label_냉장고</th>\n",
              "      <th>label_믹서</th>\n",
              "      <th>label_선풍기</th>\n",
              "      <th>label_전자레인지</th>\n",
              "      <th>label_컴퓨터</th>\n",
              "    </tr>\n",
              "  </thead>\n",
              "  <tbody>\n",
              "    <tr>\n",
              "      <th>0</th>\n",
              "      <td>TV</td>\n",
              "      <td>0</td>\n",
              "      <td>TV</td>\n",
              "      <td>1</td>\n",
              "      <td>0</td>\n",
              "      <td>0</td>\n",
              "      <td>0</td>\n",
              "      <td>0</td>\n",
              "      <td>0</td>\n",
              "    </tr>\n",
              "    <tr>\n",
              "      <th>1</th>\n",
              "      <td>냉장고</td>\n",
              "      <td>1</td>\n",
              "      <td>냉장고</td>\n",
              "      <td>0</td>\n",
              "      <td>1</td>\n",
              "      <td>0</td>\n",
              "      <td>0</td>\n",
              "      <td>0</td>\n",
              "      <td>0</td>\n",
              "    </tr>\n",
              "    <tr>\n",
              "      <th>2</th>\n",
              "      <td>전자레인지</td>\n",
              "      <td>4</td>\n",
              "      <td>전자레인지</td>\n",
              "      <td>0</td>\n",
              "      <td>0</td>\n",
              "      <td>0</td>\n",
              "      <td>0</td>\n",
              "      <td>1</td>\n",
              "      <td>0</td>\n",
              "    </tr>\n",
              "    <tr>\n",
              "      <th>3</th>\n",
              "      <td>컴퓨터</td>\n",
              "      <td>5</td>\n",
              "      <td>컴퓨터</td>\n",
              "      <td>0</td>\n",
              "      <td>0</td>\n",
              "      <td>0</td>\n",
              "      <td>0</td>\n",
              "      <td>0</td>\n",
              "      <td>1</td>\n",
              "    </tr>\n",
              "    <tr>\n",
              "      <th>4</th>\n",
              "      <td>선풍기</td>\n",
              "      <td>3</td>\n",
              "      <td>선풍기</td>\n",
              "      <td>0</td>\n",
              "      <td>0</td>\n",
              "      <td>0</td>\n",
              "      <td>1</td>\n",
              "      <td>0</td>\n",
              "      <td>0</td>\n",
              "    </tr>\n",
              "    <tr>\n",
              "      <th>5</th>\n",
              "      <td>선풍기</td>\n",
              "      <td>3</td>\n",
              "      <td>선풍기</td>\n",
              "      <td>0</td>\n",
              "      <td>0</td>\n",
              "      <td>0</td>\n",
              "      <td>1</td>\n",
              "      <td>0</td>\n",
              "      <td>0</td>\n",
              "    </tr>\n",
              "    <tr>\n",
              "      <th>6</th>\n",
              "      <td>믹서</td>\n",
              "      <td>2</td>\n",
              "      <td>믹서</td>\n",
              "      <td>0</td>\n",
              "      <td>0</td>\n",
              "      <td>1</td>\n",
              "      <td>0</td>\n",
              "      <td>0</td>\n",
              "      <td>0</td>\n",
              "    </tr>\n",
              "    <tr>\n",
              "      <th>7</th>\n",
              "      <td>믹서</td>\n",
              "      <td>2</td>\n",
              "      <td>믹서</td>\n",
              "      <td>0</td>\n",
              "      <td>0</td>\n",
              "      <td>1</td>\n",
              "      <td>0</td>\n",
              "      <td>0</td>\n",
              "      <td>0</td>\n",
              "    </tr>\n",
              "  </tbody>\n",
              "</table>\n",
              "</div>"
            ],
            "text/plain": [
              "   label  LabelEncoder Decoding  ...  label_선풍기  label_전자레인지  label_컴퓨터\n",
              "0     TV             0       TV  ...          0            0          0\n",
              "1    냉장고             1      냉장고  ...          0            0          0\n",
              "2  전자레인지             4    전자레인지  ...          0            1          0\n",
              "3    컴퓨터             5      컴퓨터  ...          0            0          1\n",
              "4    선풍기             3      선풍기  ...          1            0          0\n",
              "5    선풍기             3      선풍기  ...          1            0          0\n",
              "6     믹서             2       믹서  ...          0            0          0\n",
              "7     믹서             2       믹서  ...          0            0          0\n",
              "\n",
              "[8 rows x 9 columns]"
            ]
          },
          "metadata": {
            "tags": []
          },
          "execution_count": 25
        }
      ]
    }
  ]
}