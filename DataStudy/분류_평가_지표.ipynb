{
  "nbformat": 4,
  "nbformat_minor": 0,
  "metadata": {
    "colab": {
      "name": "분류 평가 지표.ipynb",
      "provenance": [],
      "collapsed_sections": [],
      "mount_file_id": "138z3bXfv9dLs9fS11U8mgd0SeS735kDi",
      "authorship_tag": "ABX9TyPirTzXB9duqCj9PRww3iaZ"
    },
    "kernelspec": {
      "name": "python3",
      "display_name": "Python 3"
    }
  },
  "cells": [
    {
      "cell_type": "code",
      "metadata": {
        "id": "IdZyHOkBD_11"
      },
      "source": [
        "import pandas as pd\r\n",
        "import numpy as np\r\n",
        "import matplotlib.pyplot as plt\r\n",
        "import matplotlib as mpl\r\n",
        "import seaborn as sns\r\n",
        "\r\n",
        "# 경고무시\r\n",
        "import warnings\r\n",
        "warnings.filterwarnings(action='ignore')\r\n",
        "\r\n",
        "%matplotlib inline"
      ],
      "execution_count": 1,
      "outputs": []
    },
    {
      "cell_type": "code",
      "metadata": {
        "id": "EGsIToZLGVF2"
      },
      "source": [
        "df = pd.read_csv('/content/drive/MyDrive/Study/파이썬 머신러닝 완벽가이드/data/titanic_train.csv')"
      ],
      "execution_count": 2,
      "outputs": []
    },
    {
      "cell_type": "code",
      "metadata": {
        "id": "StWiXaKYUKKr"
      },
      "source": [
        "from sklearn.preprocessing import LabelEncoder\r\n",
        "\r\n",
        "def get_category(age):\r\n",
        "  cat = ''\r\n",
        "  if age <= -1: cat = 'Unknown'\r\n",
        "  elif age <= 5: cat = 'Baby'\r\n",
        "  elif age <= 12: cat = 'Child'\r\n",
        "  elif age <= 18: cat = 'Teenager'\r\n",
        "  elif age <= 25: cat = 'Student'\r\n",
        "  elif age <= 35: cat = 'Young Adult'\r\n",
        "  elif age <= 60: cat = 'Adult'\r\n",
        "  else: cat = 'Elderly'\r\n",
        "\r\n",
        "  return cat\r\n",
        "\r\n",
        "# 결측치 채우기\r\n",
        "def fillna(df):\r\n",
        "  df['Age'].fillna(df['Age'].mean(), inplace = True)\r\n",
        "  df['Embarked'].fillna('S', inplace = True)\r\n",
        "  df['Cabin'].fillna('N', inplace = True)\r\n",
        "  df['Age_cat'] = df['Age'].apply(lambda x : get_category(x))\r\n",
        "\r\n",
        "  return df\r\n",
        "\r\n",
        "# 불필요한 속성 제거\r\n",
        "def drop_features(df):\r\n",
        "  df.drop(['PassengerId', 'Name', 'Ticket'], axis=1, inplace=True)\r\n",
        "  return df\r\n",
        "\r\n",
        "# 레이블 인코딩 수행\r\n",
        "def format_features(df):\r\n",
        "  cols = ['Sex', 'Cabin', 'Embarked', 'Age_cat']\r\n",
        "  for col in cols:\r\n",
        "    le = LabelEncoder()\r\n",
        "    le = le.fit(df[col])\r\n",
        "    df[col] = le.transform(df[col])\r\n",
        "  \r\n",
        "  return df\r\n",
        "\r\n",
        "# 전체 전처리 함수\r\n",
        "def transform_features(df):\r\n",
        "  df = fillna(df)\r\n",
        "  df = drop_features(df)\r\n",
        "  df = format_features(df)\r\n",
        "  return df"
      ],
      "execution_count": 3,
      "outputs": []
    },
    {
      "cell_type": "code",
      "metadata": {
        "id": "IZo2hAymWQyc"
      },
      "source": [
        "target = df['Survived']\r\n",
        "features = df.drop('Survived', axis=1)\r\n",
        "features = transform_features(features)"
      ],
      "execution_count": 4,
      "outputs": []
    },
    {
      "cell_type": "code",
      "metadata": {
        "colab": {
          "base_uri": "https://localhost:8080/"
        },
        "id": "zz31pi88-rqz",
        "outputId": "a85437e0-f5f6-4b01-d2cc-40b3a4bd490f"
      },
      "source": [
        "target.head()"
      ],
      "execution_count": 5,
      "outputs": [
        {
          "output_type": "execute_result",
          "data": {
            "text/plain": [
              "0    0\n",
              "1    1\n",
              "2    1\n",
              "3    1\n",
              "4    0\n",
              "Name: Survived, dtype: int64"
            ]
          },
          "metadata": {
            "tags": []
          },
          "execution_count": 5
        }
      ]
    },
    {
      "cell_type": "code",
      "metadata": {
        "colab": {
          "base_uri": "https://localhost:8080/",
          "height": 204
        },
        "id": "WMQY9K2P-tcb",
        "outputId": "3b4de793-8ffe-42c9-b346-5f31a08adebd"
      },
      "source": [
        "features.head()"
      ],
      "execution_count": 6,
      "outputs": [
        {
          "output_type": "execute_result",
          "data": {
            "text/html": [
              "<div>\n",
              "<style scoped>\n",
              "    .dataframe tbody tr th:only-of-type {\n",
              "        vertical-align: middle;\n",
              "    }\n",
              "\n",
              "    .dataframe tbody tr th {\n",
              "        vertical-align: top;\n",
              "    }\n",
              "\n",
              "    .dataframe thead th {\n",
              "        text-align: right;\n",
              "    }\n",
              "</style>\n",
              "<table border=\"1\" class=\"dataframe\">\n",
              "  <thead>\n",
              "    <tr style=\"text-align: right;\">\n",
              "      <th></th>\n",
              "      <th>Pclass</th>\n",
              "      <th>Sex</th>\n",
              "      <th>Age</th>\n",
              "      <th>SibSp</th>\n",
              "      <th>Parch</th>\n",
              "      <th>Fare</th>\n",
              "      <th>Cabin</th>\n",
              "      <th>Embarked</th>\n",
              "      <th>Age_cat</th>\n",
              "    </tr>\n",
              "  </thead>\n",
              "  <tbody>\n",
              "    <tr>\n",
              "      <th>0</th>\n",
              "      <td>3</td>\n",
              "      <td>1</td>\n",
              "      <td>22.0</td>\n",
              "      <td>1</td>\n",
              "      <td>0</td>\n",
              "      <td>7.2500</td>\n",
              "      <td>146</td>\n",
              "      <td>2</td>\n",
              "      <td>4</td>\n",
              "    </tr>\n",
              "    <tr>\n",
              "      <th>1</th>\n",
              "      <td>1</td>\n",
              "      <td>0</td>\n",
              "      <td>38.0</td>\n",
              "      <td>1</td>\n",
              "      <td>0</td>\n",
              "      <td>71.2833</td>\n",
              "      <td>81</td>\n",
              "      <td>0</td>\n",
              "      <td>0</td>\n",
              "    </tr>\n",
              "    <tr>\n",
              "      <th>2</th>\n",
              "      <td>3</td>\n",
              "      <td>0</td>\n",
              "      <td>26.0</td>\n",
              "      <td>0</td>\n",
              "      <td>0</td>\n",
              "      <td>7.9250</td>\n",
              "      <td>146</td>\n",
              "      <td>2</td>\n",
              "      <td>6</td>\n",
              "    </tr>\n",
              "    <tr>\n",
              "      <th>3</th>\n",
              "      <td>1</td>\n",
              "      <td>0</td>\n",
              "      <td>35.0</td>\n",
              "      <td>1</td>\n",
              "      <td>0</td>\n",
              "      <td>53.1000</td>\n",
              "      <td>55</td>\n",
              "      <td>2</td>\n",
              "      <td>6</td>\n",
              "    </tr>\n",
              "    <tr>\n",
              "      <th>4</th>\n",
              "      <td>3</td>\n",
              "      <td>1</td>\n",
              "      <td>35.0</td>\n",
              "      <td>0</td>\n",
              "      <td>0</td>\n",
              "      <td>8.0500</td>\n",
              "      <td>146</td>\n",
              "      <td>2</td>\n",
              "      <td>6</td>\n",
              "    </tr>\n",
              "  </tbody>\n",
              "</table>\n",
              "</div>"
            ],
            "text/plain": [
              "   Pclass  Sex   Age  SibSp  Parch     Fare  Cabin  Embarked  Age_cat\n",
              "0       3    1  22.0      1      0   7.2500    146         2        4\n",
              "1       1    0  38.0      1      0  71.2833     81         0        0\n",
              "2       3    0  26.0      0      0   7.9250    146         2        6\n",
              "3       1    0  35.0      1      0  53.1000     55         2        6\n",
              "4       3    1  35.0      0      0   8.0500    146         2        6"
            ]
          },
          "metadata": {
            "tags": []
          },
          "execution_count": 6
        }
      ]
    },
    {
      "cell_type": "code",
      "metadata": {
        "id": "Jlk1DEFRXSWB"
      },
      "source": [
        "from sklearn.model_selection import train_test_split\r\n",
        "x_train, x_test, y_train, y_test = train_test_split(features, target, test_size=0.2, random_state = 0)"
      ],
      "execution_count": 7,
      "outputs": []
    },
    {
      "cell_type": "markdown",
      "metadata": {
        "id": "Qsw1Azz27u5G"
      },
      "source": [
        "# 정확도(Accuracy)\r\n",
        "\r\n",
        "TP + TN / TP + FN + FP + TN"
      ]
    },
    {
      "cell_type": "markdown",
      "metadata": {
        "id": "tQ7GD9gkB9s3"
      },
      "source": [
        "## 타이타닉 데이터셋"
      ]
    },
    {
      "cell_type": "code",
      "metadata": {
        "colab": {
          "base_uri": "https://localhost:8080/",
          "height": 297
        },
        "id": "tXsoHQZlBeIE",
        "outputId": "65342fb8-5234-4bc9-8b45-7452877e6493"
      },
      "source": [
        "# 0의 비중이 조금 더 높은 불균형 레이블\r\n",
        "sns.countplot(target)"
      ],
      "execution_count": 8,
      "outputs": [
        {
          "output_type": "execute_result",
          "data": {
            "text/plain": [
              "<matplotlib.axes._subplots.AxesSubplot at 0x7ff9220b2940>"
            ]
          },
          "metadata": {
            "tags": []
          },
          "execution_count": 8
        },
        {
          "output_type": "display_data",
          "data": {
            "image/png": "[encoded data removed]",
            "text/plain": [
              "<Figure size 432x288 with 1 Axes>"
            ]
          },
          "metadata": {
            "tags": [],
            "needs_background": "light"
          }
        }
      ]
    },
    {
      "cell_type": "code",
      "metadata": {
        "id": "Skj7zdd57u5I"
      },
      "source": [
        "from sklearn.base import BaseEstimator\r\n",
        "\r\n",
        "class MyDummyClassifier(BaseEstimator):\r\n",
        "  # fit 메서드는 실행 X\r\n",
        "  def fit(self, X, y=None):\r\n",
        "    pass\r\n",
        "\r\n",
        "  # 남자면 0, 여자면 1인 간단한 예측 모형을 만듬  \r\n",
        "  def predict(self, X):\r\n",
        "    pred = np.zeros((X.shape[0], 1))\r\n",
        "    for i in range(X.shape[0]):\r\n",
        "      if X['Sex'].iloc[i] == 1: pred[i] = 0\r\n",
        "      else: pred[i] = 1\r\n",
        "\r\n",
        "    return pred"
      ],
      "execution_count": 9,
      "outputs": []
    },
    {
      "cell_type": "code",
      "metadata": {
        "colab": {
          "base_uri": "https://localhost:8080/"
        },
        "id": "GA1RA7kl_t0O",
        "outputId": "ad4961f3-2520-40eb-873d-7c853aa08e66"
      },
      "source": [
        "# 타이타닉 데이터\r\n",
        "\r\n",
        "from sklearn.metrics import accuracy_score\r\n",
        "\r\n",
        "myclf = MyDummyClassifier()\r\n",
        "myclf.fit(x_train, y_train)\r\n",
        "pred = myclf.predict(x_test)\r\n",
        "\r\n",
        "print('Dummy Classifier의 정확도: {:0.4f}'.format(accuracy_score(y_test, pred)))"
      ],
      "execution_count": 10,
      "outputs": [
        {
          "output_type": "stream",
          "text": [
            "Dummy Classifier의 정확도: 0.7877\n"
          ],
          "name": "stdout"
        }
      ]
    },
    {
      "cell_type": "markdown",
      "metadata": {
        "id": "N-cM_KQ2BFYX"
      },
      "source": [
        "단순히 여자는 1 남자는 0으로 예측한게 만든 정말 간단한 모델이지만 불균형 레이블의 경우 정확도가 상당히 높게 나온다는 것을 알 수 있음\r\n",
        "\r\n",
        "따라서 불균형 레이블인 경우 정확도 지표가 좋은 평가지표는 아니라는 것을 알 수 있음"
      ]
    },
    {
      "cell_type": "markdown",
      "metadata": {
        "id": "LZ0cW_DfCBgK"
      },
      "source": [
        "## MNIST 데이터셋"
      ]
    },
    {
      "cell_type": "code",
      "metadata": {
        "id": "VpXMsi9bB7qI"
      },
      "source": [
        "from sklearn.datasets import load_digits\r\n",
        "from sklearn.base import BaseEstimator\r\n",
        "\r\n",
        "class MyFakeClassifier(BaseEstimator):\r\n",
        "  def fit(self, X, y):\r\n",
        "    pass\r\n",
        "  # 입력값으로 들어오는 모든 데이터를 0으로 반환\r\n",
        "  def predict(self, X):\r\n",
        "    return np.zeros((len(X), 1), dtype=bool)"
      ],
      "execution_count": 11,
      "outputs": []
    },
    {
      "cell_type": "code",
      "metadata": {
        "id": "aio_AsQ2GhJQ"
      },
      "source": [
        "digits = load_digits()\r\n",
        "seven = (digits.target == 7).astype(int)"
      ],
      "execution_count": 12,
      "outputs": []
    },
    {
      "cell_type": "code",
      "metadata": {
        "colab": {
          "base_uri": "https://localhost:8080/",
          "height": 283
        },
        "id": "QSWd0v2tG6Sd",
        "outputId": "a00129df-35e8-4336-a30d-d049cf29a4e7"
      },
      "source": [
        "sns.countplot(seven)"
      ],
      "execution_count": 13,
      "outputs": [
        {
          "output_type": "execute_result",
          "data": {
            "text/plain": [
              "<matplotlib.axes._subplots.AxesSubplot at 0x7ff920e142b0>"
            ]
          },
          "metadata": {
            "tags": []
          },
          "execution_count": 13
        },
        {
          "output_type": "display_data",
          "data": {
            "image/png": "[encoded data removed]",
            "text/plain": [
              "<Figure size 432x288 with 1 Axes>"
            ]
          },
          "metadata": {
            "tags": [],
            "needs_background": "light"
          }
        }
      ]
    },
    {
      "cell_type": "code",
      "metadata": {
        "id": "xqqTfBrfG-oh"
      },
      "source": [
        "from sklearn.model_selection import train_test_split\r\n",
        "x_train, x_test, y_train, y_test = train_test_split(digits.data, seven, random_state = 11)"
      ],
      "execution_count": 14,
      "outputs": []
    },
    {
      "cell_type": "code",
      "metadata": {
        "colab": {
          "base_uri": "https://localhost:8080/",
          "height": 319
        },
        "id": "guMXd31gHZdV",
        "outputId": "4c9d35d2-9934-4d9c-fe01-223fc745165c"
      },
      "source": [
        "# 불균형 레이블 데이터 분포도 확인\r\n",
        "print('레이블 테스트 세트 크기:', y_test.shape)\r\n",
        "print('테스트 세트 0과 1의 분포도')\r\n",
        "sns.countplot(y_test)"
      ],
      "execution_count": 15,
      "outputs": [
        {
          "output_type": "stream",
          "text": [
            "레이블 테스트 세트 크기: (450,)\n",
            "테스트 세트 0과 1의 분포도\n"
          ],
          "name": "stdout"
        },
        {
          "output_type": "execute_result",
          "data": {
            "text/plain": [
              "<matplotlib.axes._subplots.AxesSubplot at 0x7ff920d05cc0>"
            ]
          },
          "metadata": {
            "tags": []
          },
          "execution_count": 15
        },
        {
          "output_type": "display_data",
          "data": {
            "image/png": "[encoded data removed]",
            "text/plain": [
              "<Figure size 432x288 with 1 Axes>"
            ]
          },
          "metadata": {
            "tags": [],
            "needs_background": "light"
          }
        }
      ]
    },
    {
      "cell_type": "code",
      "metadata": {
        "colab": {
          "base_uri": "https://localhost:8080/"
        },
        "id": "NhHNRMD1HwdR",
        "outputId": "238f2fb9-6ac2-4841-da63-e2ac4338413b"
      },
      "source": [
        "fakeclf = MyFakeClassifier()\r\n",
        "fakeclf.fit(x_train, y_train)\r\n",
        "pred = fakeclf.predict(x_test)\r\n",
        "\r\n",
        "print('모든 예측을 0으로 하여도 정확도: {:0.4f}'.format(accuracy_score(y_test, pred)))"
      ],
      "execution_count": 16,
      "outputs": [
        {
          "output_type": "stream",
          "text": [
            "모든 예측을 0으로 하여도 정확도: 0.9000\n"
          ],
          "name": "stdout"
        }
      ]
    },
    {
      "cell_type": "markdown",
      "metadata": {
        "id": "cz2-Hx0bILgW"
      },
      "source": [
        "이처럼 정확도 평가 지표는 불균형한 레이블 데이터 세트에서는 성능 측정 수치로 사용돼서는 안된다."
      ]
    },
    {
      "cell_type": "markdown",
      "metadata": {
        "id": "yW6FLcOoI1J4"
      },
      "source": [
        "# 오차행렬(Confusion Matrix)"
      ]
    },
    {
      "cell_type": "code",
      "metadata": {
        "colab": {
          "base_uri": "https://localhost:8080/",
          "height": 665
        },
        "id": "67nTz9A07vD6",
        "outputId": "a13a1bf7-97f6-4f13-cc67-96bcd6c4810a"
      },
      "source": [
        "from IPython.display import Image\r\n",
        "\r\n",
        "Image('https://img1.daumcdn.net/thumb/R1280x0/?scode=mtistory2&fname=https%3A%2F%2Fblog.kakaocdn.net%2Fdn%2FEojHI%2FbtqBuwXbsUN%2F1Tt2KW49Zp8ZM7tpBWHUcK%2Fimg.png')"
      ],
      "execution_count": 17,
      "outputs": [
        {
          "output_type": "execute_result",
          "data": {
            "image/png": "[encoded data removed]",
            "text/plain": [
              "<IPython.core.display.Image object>"
            ]
          },
          "metadata": {
            "tags": []
          },
          "execution_count": 17
        }
      ]
    },
    {
      "cell_type": "code",
      "metadata": {
        "colab": {
          "base_uri": "https://localhost:8080/"
        },
        "id": "E3rFx682JTnV",
        "outputId": "a1e49f27-8b83-43d6-f821-b68d16d37855"
      },
      "source": [
        "from sklearn.metrics import confusion_matrix\r\n",
        "\r\n",
        "cf_m = confusion_matrix(y_test, pred)\r\n",
        "cf_m"
      ],
      "execution_count": 18,
      "outputs": [
        {
          "output_type": "execute_result",
          "data": {
            "text/plain": [
              "array([[405,   0],\n",
              "       [ 45,   0]])"
            ]
          },
          "metadata": {
            "tags": []
          },
          "execution_count": 18
        }
      ]
    },
    {
      "cell_type": "code",
      "metadata": {
        "colab": {
          "base_uri": "https://localhost:8080/"
        },
        "id": "RLaf0rsUbKmv",
        "outputId": "632e8bae-c60a-458d-fb52-c6aba281f449"
      },
      "source": [
        "TN = cf_m[0,0]\r\n",
        "FP = cf_m[0,1]\r\n",
        "FN = cf_m[1,0]\r\n",
        "TP = cf_m[1,1]\r\n",
        "\r\n",
        "print('TN : {}, FP : {}, FN : {}, TP : {}'.format(TN, FP, FN, TP))"
      ],
      "execution_count": 19,
      "outputs": [
        {
          "output_type": "stream",
          "text": [
            "TN : 405, FP : 0, FN : 45, TP : 0\n"
          ],
          "name": "stdout"
        }
      ]
    },
    {
      "cell_type": "code",
      "metadata": {
        "colab": {
          "base_uri": "https://localhost:8080/"
        },
        "id": "rw6yNSfUci7Z",
        "outputId": "3a9c72e0-9cd1-45a1-e9e0-6baf1fc6b76d"
      },
      "source": [
        "from sklearn.metrics import accuracy_score, precision_score, recall_score, confusion_matrix\r\n",
        "print('정확도: ', accuracy_score(y_test, pred))\r\n",
        "print('정밀도: ',  precision_score(y_test, pred))\r\n",
        "print('재현율: ',  recall_score(y_test, pred))\r\n",
        "print('오차 행렬')\r\n",
        "confusion_matrix(y_test, pred)"
      ],
      "execution_count": 20,
      "outputs": [
        {
          "output_type": "stream",
          "text": [
            "정확도:  0.9\n",
            "정밀도:  0.0\n",
            "재현율:  0.0\n",
            "오차 행렬\n"
          ],
          "name": "stdout"
        },
        {
          "output_type": "execute_result",
          "data": {
            "text/plain": [
              "array([[405,   0],\n",
              "       [ 45,   0]])"
            ]
          },
          "metadata": {
            "tags": []
          },
          "execution_count": 20
        }
      ]
    },
    {
      "cell_type": "code",
      "metadata": {
        "colab": {
          "base_uri": "https://localhost:8080/"
        },
        "id": "s_0L_-qRbv1O",
        "outputId": "9c017605-3c9f-469a-ccba-db2626511871"
      },
      "source": [
        "print('정확도: ', (TP + TN) / (TP + FN + FP + TN))\r\n",
        "print('정밀도: ',  TP / (TP + FP))\r\n",
        "print('재현율: ',  TP / (TP + FN))"
      ],
      "execution_count": 21,
      "outputs": [
        {
          "output_type": "stream",
          "text": [
            "정확도:  0.9\n",
            "정밀도:  nan\n",
            "재현율:  0.0\n"
          ],
          "name": "stdout"
        }
      ]
    },
    {
      "cell_type": "markdown",
      "metadata": {
        "id": "t0cyqhEK7vMz"
      },
      "source": [
        "# 정밀도(Precision)\r\n",
        "\r\n",
        "TP / (TP + FP)\r\n",
        "\r\n",
        "\r\n",
        "# 재현율(Recall)\r\n",
        "\r\n",
        "TP / (TP + FN)"
      ]
    },
    {
      "cell_type": "code",
      "metadata": {
        "id": "hi1LXWJS7vM1"
      },
      "source": [
        "from sklearn.metrics import accuracy_score, precision_score, recall_score, confusion_matrix\r\n",
        "\r\n",
        "def get_clf_eval(y_test, pred):\r\n",
        "  confusion = confusion_matrix(y_test, pred)\r\n",
        "  accuracy = accuracy_score(y_test, pred)\r\n",
        "  precision = precision_score(y_test, pred)\r\n",
        "  recall = recall_score(y_test, pred)\r\n",
        "  print('오차 행렬')\r\n",
        "  print(confusion)\r\n",
        "  print('정확도 : {0:.4f}, 정밀도 : {1:.4f}, 재현율 : {2:.4f}'.format(accuracy, precision, recall))"
      ],
      "execution_count": 22,
      "outputs": []
    },
    {
      "cell_type": "code",
      "metadata": {
        "id": "KYTbWOUZevin"
      },
      "source": [
        "# 타이타닉 데이터셋 사용\r\n",
        "from sklearn.model_selection import train_test_split\r\n",
        "x_train, x_test, y_train, y_test = train_test_split(features, target, test_size=0.2, random_state = 11)"
      ],
      "execution_count": 23,
      "outputs": []
    },
    {
      "cell_type": "code",
      "metadata": {
        "colab": {
          "base_uri": "https://localhost:8080/"
        },
        "id": "8cxlnrIZeHO8",
        "outputId": "c3a5aae3-a190-4760-9cf0-547ade338194"
      },
      "source": [
        "from sklearn.linear_model import LogisticRegression\r\n",
        "\r\n",
        "lr_clf = LogisticRegression()\r\n",
        "\r\n",
        "lr_clf.fit(x_train, y_train)\r\n",
        "pred = lr_clf.predict(x_test)\r\n",
        "get_clf_eval(y_test, pred)"
      ],
      "execution_count": 24,
      "outputs": [
        {
          "output_type": "stream",
          "text": [
            "오차 행렬\n",
            "[[109   9]\n",
            " [ 16  45]]\n",
            "정확도 : 0.8603, 정밀도 : 0.8333, 재현율 : 0.7377\n"
          ],
          "name": "stdout"
        }
      ]
    },
    {
      "cell_type": "markdown",
      "metadata": {
        "id": "pwyo5C4df8JQ"
      },
      "source": [
        "정밀도와 재현율을 트레이드 오프 관계"
      ]
    },
    {
      "cell_type": "code",
      "metadata": {
        "colab": {
          "base_uri": "https://localhost:8080/"
        },
        "id": "EuIvxfFcf-zh",
        "outputId": "ceb031d6-4884-4b89-cacf-845e1f44fbbf"
      },
      "source": [
        "from sklearn.linear_model import LogisticRegression\r\n",
        "\r\n",
        "lr_clf = LogisticRegression()\r\n",
        "\r\n",
        "lr_clf.fit(x_train, y_train)\r\n",
        "pred = lr_clf.predict(x_test)\r\n",
        "pred_proba = lr_clf.predict_proba(x_test)\r\n",
        "\r\n",
        "pred_proba_result = np.concatenate([pred_proba, pred.reshape(-1,1)], axis=1)\r\n",
        "print('두개의 클래스 중 확률이 높은 값으로 예측 \\n', pred_proba_result[:3])"
      ],
      "execution_count": 25,
      "outputs": [
        {
          "output_type": "stream",
          "text": [
            "두개의 클래스 중 확률이 높은 값으로 예측 \n",
            " [[0.39385414 0.60614586 1.        ]\n",
            " [0.8701051  0.1298949  0.        ]\n",
            " [0.84648986 0.15351014 0.        ]]\n"
          ],
          "name": "stdout"
        }
      ]
    },
    {
      "cell_type": "markdown",
      "metadata": {
        "id": "g7DI961wg51B"
      },
      "source": [
        "원리\r\n",
        "\r\n",
        "임계치를 설정해서 해당 임계치를 넘으면 클래스를 반환"
      ]
    },
    {
      "cell_type": "code",
      "metadata": {
        "colab": {
          "base_uri": "https://localhost:8080/"
        },
        "id": "PYR3Zk4kg7Y_",
        "outputId": "9a1a963d-9e6c-4c1d-f5a8-3387ac4db383"
      },
      "source": [
        "from sklearn.preprocessing import Binarizer\r\n",
        "\r\n",
        "X = [[1, -1, 2],\r\n",
        "     [2, 0, 0],\r\n",
        "     [0, 1.1, 1.2]]\r\n",
        "\r\n",
        "# threshold -> 임계치\r\n",
        "# threshold 보다 같거나 작으면 0을 반환, 크면 1을 반환\r\n",
        "binarizer = Binarizer(threshold= 1.1)\r\n",
        "print(binarizer.fit_transform(X))"
      ],
      "execution_count": 26,
      "outputs": [
        {
          "output_type": "stream",
          "text": [
            "[[0. 0. 1.]\n",
            " [1. 0. 0.]\n",
            " [0. 0. 1.]]\n"
          ],
          "name": "stdout"
        }
      ]
    },
    {
      "cell_type": "code",
      "metadata": {
        "colab": {
          "base_uri": "https://localhost:8080/"
        },
        "id": "Uu8eX6_rhjXU",
        "outputId": "c319fea1-7822-40d4-b76a-9189b2e62d50"
      },
      "source": [
        "from sklearn.preprocessing import Binarizer\r\n",
        "\r\n",
        "lr_clf = LogisticRegression()\r\n",
        "\r\n",
        "lr_clf.fit(x_train, y_train)\r\n",
        "pred_proba = lr_clf.predict_proba(x_test)\r\n",
        "pred_proba_1 = pred_proba[:, 1].reshape(-1,1)\r\n",
        "\r\n",
        "custom_threshold = 0.5\r\n",
        "\r\n",
        "# 두번째 칼럼을 꺼내서 Binarizer를 적용\r\n",
        "binarizer = Binarizer(threshold= custom_threshold).fit(pred_proba_1)\r\n",
        "custom_predict = binarizer.transform(pred_proba_1)\r\n",
        "\r\n",
        "# 기존 모델의 임계치는 0.5 임을 알 수 있음\r\n",
        "get_clf_eval(y_test, custom_predict)"
      ],
      "execution_count": 27,
      "outputs": [
        {
          "output_type": "stream",
          "text": [
            "오차 행렬\n",
            "[[109   9]\n",
            " [ 16  45]]\n",
            "정확도 : 0.8603, 정밀도 : 0.8333, 재현율 : 0.7377\n"
          ],
          "name": "stdout"
        }
      ]
    },
    {
      "cell_type": "code",
      "metadata": {
        "colab": {
          "base_uri": "https://localhost:8080/"
        },
        "id": "97KD4IQ3iwMu",
        "outputId": "ea286415-d527-421b-dd23-eeb8c5277d31"
      },
      "source": [
        "custom_threshold = 0.4\r\n",
        "\r\n",
        "# 두번째 칼럼을 꺼내서 Binarizer를 적용\r\n",
        "binarizer = Binarizer(threshold= custom_threshold).fit(pred_proba_1)\r\n",
        "custom_predict = binarizer.transform(pred_proba_1)\r\n",
        "\r\n",
        "# 임계치를 0.4 로 낮춤\r\n",
        "get_clf_eval(y_test, custom_predict)"
      ],
      "execution_count": 28,
      "outputs": [
        {
          "output_type": "stream",
          "text": [
            "오차 행렬\n",
            "[[102  16]\n",
            " [ 14  47]]\n",
            "정확도 : 0.8324, 정밀도 : 0.7460, 재현율 : 0.7705\n"
          ],
          "name": "stdout"
        }
      ]
    },
    {
      "cell_type": "code",
      "metadata": {
        "colab": {
          "base_uri": "https://localhost:8080/"
        },
        "id": "ImhBDDTXjk19",
        "outputId": "5971d791-8bab-4df0-c362-393c962d7a43"
      },
      "source": [
        "thresholds = [0.4, 0.45, 0.5, 0.55, 0.6]\r\n",
        "\r\n",
        "def get_eval_by_threshold(y_test, pred_proba_c1, thresholds):\r\n",
        "  for custom_threshold in thresholds:\r\n",
        "    binarizer = Binarizer(threshold= custom_threshold).fit(pred_proba_c1)\r\n",
        "    custom_predict = binarizer.transform(pred_proba_c1)\r\n",
        "    print('='*50)\r\n",
        "    print('임계값:', custom_threshold)\r\n",
        "    get_clf_eval(y_test, custom_predict)\r\n",
        "    print('='*50)\r\n",
        "\r\n",
        "get_eval_by_threshold(y_test, pred_proba[:, 1].reshape(-1,1), thresholds)"
      ],
      "execution_count": 29,
      "outputs": [
        {
          "output_type": "stream",
          "text": [
            "==================================================\n",
            "임계값: 0.4\n",
            "오차 행렬\n",
            "[[102  16]\n",
            " [ 14  47]]\n",
            "정확도 : 0.8324, 정밀도 : 0.7460, 재현율 : 0.7705\n",
            "==================================================\n",
            "==================================================\n",
            "임계값: 0.45\n",
            "오차 행렬\n",
            "[[108  10]\n",
            " [ 15  46]]\n",
            "정확도 : 0.8603, 정밀도 : 0.8214, 재현율 : 0.7541\n",
            "==================================================\n",
            "==================================================\n",
            "임계값: 0.5\n",
            "오차 행렬\n",
            "[[109   9]\n",
            " [ 16  45]]\n",
            "정확도 : 0.8603, 정밀도 : 0.8333, 재현율 : 0.7377\n",
            "==================================================\n",
            "==================================================\n",
            "임계값: 0.55\n",
            "오차 행렬\n",
            "[[111   7]\n",
            " [ 17  44]]\n",
            "정확도 : 0.8659, 정밀도 : 0.8627, 재현율 : 0.7213\n",
            "==================================================\n",
            "==================================================\n",
            "임계값: 0.6\n",
            "오차 행렬\n",
            "[[111   7]\n",
            " [ 18  43]]\n",
            "정확도 : 0.8603, 정밀도 : 0.8600, 재현율 : 0.7049\n",
            "==================================================\n"
          ],
          "name": "stdout"
        }
      ]
    },
    {
      "cell_type": "markdown",
      "metadata": {
        "id": "42LcJ_3ci-iL"
      },
      "source": [
        "임계치를 낮추니 재현율은 증가하고 정밀도는 감소함\r\n",
        "\r\n",
        "이렇듯 두 요소는 트레이트 오프 관게임"
      ]
    },
    {
      "cell_type": "code",
      "metadata": {
        "colab": {
          "base_uri": "https://localhost:8080/"
        },
        "id": "8y2UftWUkZ7v",
        "outputId": "01f84272-1e23-4fba-9bc4-3531ab437000"
      },
      "source": [
        "from sklearn.metrics import precision_recall_curve\r\n",
        "\r\n",
        "# 레이블 값이 1일 때의 예측 확률을 추출\r\n",
        "pred_proba_c1 = pred_proba[:, 1].reshape(-1,1)\r\n",
        "\r\n",
        "precisions, recalls, thresholds = precision_recall_curve(y_test, pred_proba_c1)\r\n",
        "print('임계 값의 크기      : ', thresholds.shape)\r\n",
        "\r\n",
        "thr_idx = np.arange(0, thresholds.shape[0], 15)\r\n",
        "print('샘플 임계값의 인덱스: ', thr_idx)\r\n",
        "print('샘플 임계값         : ', np.round(thresholds[thr_idx], 2))\r\n",
        "\r\n",
        "print('샘플 임계값의 정밀도: ', np.round(precisions[thr_idx], 3))\r\n",
        "print('샘플 임계값의 재현율: ', np.round(recalls[thr_idx], 3))"
      ],
      "execution_count": 30,
      "outputs": [
        {
          "output_type": "stream",
          "text": [
            "임계 값의 크기      :  (144,)\n",
            "샘플 임계값의 인덱스:  [  0  15  30  45  60  75  90 105 120 135]\n",
            "샘플 임계값         :  [0.12 0.14 0.15 0.19 0.21 0.3  0.46 0.66 0.74 0.92]\n",
            "샘플 임계값의 정밀도:  [0.386 0.422 0.471 0.535 0.616 0.704 0.821 0.927 0.96  1.   ]\n",
            "샘플 임계값의 재현율:  [1.    0.934 0.918 0.885 0.869 0.82  0.754 0.623 0.393 0.148]\n"
          ],
          "name": "stdout"
        }
      ]
    },
    {
      "cell_type": "markdown",
      "metadata": {
        "id": "JZ2l4Kq0m0GG"
      },
      "source": [
        "그래프로 나타내기"
      ]
    },
    {
      "cell_type": "code",
      "metadata": {
        "id": "UMVV6psrm1Od",
        "colab": {
          "base_uri": "https://localhost:8080/",
          "height": 497
        },
        "outputId": "e4a5b26a-1740-4b51-b65d-52919891c067"
      },
      "source": [
        "import matplotlib.ticker as ticker\r\n",
        "\r\n",
        "def precision_recall_curve_plot(y_test, pred_proba_c1):\r\n",
        "  precisions, recalls, thresholds = precision_recall_curve(y_test, pred_proba_c1)\r\n",
        "\r\n",
        "  plt.figure(figsize=(10,8))\r\n",
        "  threshold_boundary = thresholds.shape[0]\r\n",
        "  plt.plot(thresholds, precisions[0:threshold_boundary], linestyle='--', label='precision')\r\n",
        "  plt.plot(thresholds, recalls[0:threshold_boundary], label='recall')\r\n",
        "\r\n",
        "  start, end = plt.xlim()\r\n",
        "  plt.xticks(np.round(np.arange(start, end, 0.1), 2))\r\n",
        "\r\n",
        "  plt.xlabel('Threshold value')\r\n",
        "  plt.ylabel('Precision and Recalls value')\r\n",
        "  plt.legend()\r\n",
        "  plt.grid()\r\n",
        "  plt.show()\r\n",
        "\r\n",
        "precision_recall_curve_plot(y_test, pred_proba_c1)"
      ],
      "execution_count": 31,
      "outputs": [
        {
          "output_type": "display_data",
          "data": {
            "image/png": "[encoded data removed]",
            "text/plain": [
              "<Figure size 720x576 with 1 Axes>"
            ]
          },
          "metadata": {
            "tags": [],
            "needs_background": "light"
          }
        }
      ]
    },
    {
      "cell_type": "markdown",
      "metadata": {
        "id": "eqLRwbAcp1-o"
      },
      "source": [
        "정밀도를 1로 만들기 위해서는 임계치 값을 높이고\r\n",
        "\r\n",
        "재현율을 1로 만들기 위해서는 임계치 값을 낮추면 된다.\r\n",
        "\r\n",
        "따라서 정밀도와 재현율 수치가 적절하게 조합돼 분류의 종합적인 성능 평가에 사용할 수 있는 평가 지표가 필요하다. \r\n",
        "\r\n",
        "**이것이 바로 F1 Score 이다.**\r\n",
        "\r\n",
        "기술의 발전은 트레이드 오프 상의 곡선을 상향 시키기는데\r\n",
        "\r\n",
        "이를 통해서 보면 두 측정 값을 모두 상향 시키기 위해서는 모델을 발전 시키는 것이다."
      ]
    },
    {
      "cell_type": "markdown",
      "metadata": {
        "id": "HXsj8KTt7pSd"
      },
      "source": [
        "# F1 score\r\n",
        "\r\n",
        "2 * (Precision * Recall) / (Precision + Recall)\r\n",
        "\r\n",
        "= 2 * ((TP / (TP + FP)) * (TP / (TP + FN))) / ((TP / (TP + FP)) + (TP / (TP + FN)))"
      ]
    },
    {
      "cell_type": "code",
      "metadata": {
        "id": "4mTPjdLs7teU",
        "colab": {
          "base_uri": "https://localhost:8080/"
        },
        "outputId": "794e11f5-c053-4034-9035-4a089f9a491c"
      },
      "source": [
        "from sklearn.metrics import f1_score\r\n",
        "\r\n",
        "f1 = f1_score(y_test, pred)\r\n",
        "print('F1 Score: ', f1)"
      ],
      "execution_count": 32,
      "outputs": [
        {
          "output_type": "stream",
          "text": [
            "F1 Score:  0.782608695652174\n"
          ],
          "name": "stdout"
        }
      ]
    },
    {
      "cell_type": "code",
      "metadata": {
        "id": "EOz2IPUPr1Bc"
      },
      "source": [
        "from sklearn.metrics import accuracy_score, precision_score, recall_score, confusion_matrix, f1_score\r\n",
        "\r\n",
        "def get_clf_eval(y_test, pred):\r\n",
        "  confusion = confusion_matrix(y_test, pred)\r\n",
        "  accuracy = accuracy_score(y_test, pred)\r\n",
        "  precision = precision_score(y_test, pred)\r\n",
        "  recall = recall_score(y_test, pred)\r\n",
        "  f1 = f1_score(y_test, pred)\r\n",
        "  print('오차 행렬')\r\n",
        "  print(confusion)\r\n",
        "  print('정확도 : {0:.4f}, 정밀도 : {1:.4f}, 재현율 : {2:.4f}, F1 스코어: {3:.4f}'.format(accuracy, precision, recall, f1))"
      ],
      "execution_count": 33,
      "outputs": []
    },
    {
      "cell_type": "code",
      "metadata": {
        "colab": {
          "base_uri": "https://localhost:8080/"
        },
        "id": "qBFduIvWsGfI",
        "outputId": "c92c44e6-0c58-4c4e-8412-2e3a1c176f4f"
      },
      "source": [
        "get_clf_eval(y_test, pred)"
      ],
      "execution_count": 34,
      "outputs": [
        {
          "output_type": "stream",
          "text": [
            "오차 행렬\n",
            "[[109   9]\n",
            " [ 16  45]]\n",
            "정확도 : 0.8603, 정밀도 : 0.8333, 재현율 : 0.7377, F1 스코어: 0.7826\n"
          ],
          "name": "stdout"
        }
      ]
    },
    {
      "cell_type": "code",
      "metadata": {
        "colab": {
          "base_uri": "https://localhost:8080/"
        },
        "id": "hof11YaXsMd5",
        "outputId": "f6ae6e15-e19b-4b6c-9f50-6606d1e1a28b"
      },
      "source": [
        "thresholds = [0.4, 0.45, 0.5, 0.55, 0.6]\r\n",
        "\r\n",
        "def get_eval_by_threshold(y_test, pred_proba_c1, thresholds):\r\n",
        "  for custom_threshold in thresholds:\r\n",
        "    binarizer = Binarizer(threshold= custom_threshold).fit(pred_proba_c1)\r\n",
        "    custom_predict = binarizer.transform(pred_proba_c1)\r\n",
        "    print('='*50)\r\n",
        "    print('임계값:', custom_threshold)\r\n",
        "    get_clf_eval(y_test, custom_predict)\r\n",
        "    print('='*50)\r\n",
        "\r\n",
        "get_eval_by_threshold(y_test, pred_proba[:, 1].reshape(-1,1), thresholds)"
      ],
      "execution_count": 35,
      "outputs": [
        {
          "output_type": "stream",
          "text": [
            "==================================================\n",
            "임계값: 0.4\n",
            "오차 행렬\n",
            "[[102  16]\n",
            " [ 14  47]]\n",
            "정확도 : 0.8324, 정밀도 : 0.7460, 재현율 : 0.7705, F1 스코어: 0.7581\n",
            "==================================================\n",
            "==================================================\n",
            "임계값: 0.45\n",
            "오차 행렬\n",
            "[[108  10]\n",
            " [ 15  46]]\n",
            "정확도 : 0.8603, 정밀도 : 0.8214, 재현율 : 0.7541, F1 스코어: 0.7863\n",
            "==================================================\n",
            "==================================================\n",
            "임계값: 0.5\n",
            "오차 행렬\n",
            "[[109   9]\n",
            " [ 16  45]]\n",
            "정확도 : 0.8603, 정밀도 : 0.8333, 재현율 : 0.7377, F1 스코어: 0.7826\n",
            "==================================================\n",
            "==================================================\n",
            "임계값: 0.55\n",
            "오차 행렬\n",
            "[[111   7]\n",
            " [ 17  44]]\n",
            "정확도 : 0.8659, 정밀도 : 0.8627, 재현율 : 0.7213, F1 스코어: 0.7857\n",
            "==================================================\n",
            "==================================================\n",
            "임계값: 0.6\n",
            "오차 행렬\n",
            "[[111   7]\n",
            " [ 18  43]]\n",
            "정확도 : 0.8603, 정밀도 : 0.8600, 재현율 : 0.7049, F1 스코어: 0.7748\n",
            "==================================================\n"
          ],
          "name": "stdout"
        }
      ]
    },
    {
      "cell_type": "code",
      "metadata": {
        "colab": {
          "base_uri": "https://localhost:8080/",
          "height": 497
        },
        "id": "rwRo4P8As0NK",
        "outputId": "d0e8b586-0170-4c71-dece-14a871d78cc8"
      },
      "source": [
        "import matplotlib.ticker as ticker\r\n",
        "\r\n",
        "def precision_recall_curve_plot_and_f1(y_test, pred_proba_c1):\r\n",
        "  precisions, recalls, thresholds = precision_recall_curve(y_test, pred_proba_c1)\r\n",
        "  f1 = 2 * (precisions * recalls) / (precisions + recalls)\r\n",
        "\r\n",
        "  plt.figure(figsize=(10,8))\r\n",
        "  threshold_boundary = thresholds.shape[0]\r\n",
        "  plt.plot(thresholds, precisions[0:threshold_boundary], linestyle='--', label='precision')\r\n",
        "  plt.plot(thresholds, recalls[0:threshold_boundary], label='recall')\r\n",
        "  plt.plot(thresholds, f1[0:threshold_boundary], linestyle='-', label='f1')\r\n",
        "\r\n",
        "  start, end = plt.xlim()\r\n",
        "  plt.xticks(np.round(np.arange(start, end, 0.1), 2))\r\n",
        "\r\n",
        "  plt.xlabel('Threshold value')\r\n",
        "  plt.ylabel('Precision and Recalls and F1 value')\r\n",
        "  plt.legend()\r\n",
        "  plt.grid()\r\n",
        "  plt.show()\r\n",
        "\r\n",
        "precision_recall_curve_plot_and_f1(y_test, pred_proba_c1)"
      ],
      "execution_count": 36,
      "outputs": [
        {
          "output_type": "display_data",
          "data": {
            "image/png": "[encoded data removed]",
            "text/plain": [
              "<Figure size 720x576 with 1 Axes>"
            ]
          },
          "metadata": {
            "tags": [],
            "needs_background": "light"
          }
        }
      ]
    },
    {
      "cell_type": "markdown",
      "metadata": {
        "id": "FgJwc3zxterz"
      },
      "source": [
        "F1 Scroe 는 정밀도와 재현율의 값이 서로 비슷할때 값이 가장 높다는 것을 알 수 있음"
      ]
    },
    {
      "cell_type": "markdown",
      "metadata": {
        "id": "lTPEjjJ-9ofS"
      },
      "source": [
        "# ROC curve and AUC Score\r\n",
        "\r\n",
        "ROC curve의 넓이를 구한 값이 AUC Score 이다.\r\n",
        "\r\n",
        "따라서 그 값이 비율이기 때문에 다른 성능 지표와 다르게 확률을 통해서 구해야 한다.\r\n",
        "\r\n",
        "1에 가까울 수록 성능 좋다고 할 수 있다.\r\n",
        "\r\n",
        "ROC curve는 FPR(1 - 특이성)이 변할 때 TPR(민감도 == 재현율)이 어떻게 변화하는 지를 나타낸 곡선이다.\r\n",
        "\r\n",
        "- FPR(1 - 특이성) : FP / (FP + TN) or 1 - TNR = 1 - (TN / (FP + TN))\r\n",
        "- TNR(특이성) : TN / (FP + TN)\r\n",
        "- TPR(민감도 == 재현율) : TP / (TP + FN)"
      ]
    },
    {
      "cell_type": "code",
      "metadata": {
        "colab": {
          "base_uri": "https://localhost:8080/"
        },
        "id": "mZtyk8Nsys3W",
        "outputId": "c63d8bd2-f661-438b-e21a-4b9abf8472a0"
      },
      "source": [
        "from sklearn.metrics import roc_curve\r\n",
        "\r\n",
        "# 레이블 값이 1일 때의 예측 확률을 추출\r\n",
        "pred_proba_c1 = pred_proba[:, 1].reshape(-1,1)\r\n",
        "\r\n",
        "FPRs, TPRs, thresholds = roc_curve(y_test, pred_proba_c1)\r\n",
        "print('임계 값의 크기      : ', thresholds.shape)\r\n",
        "\r\n",
        "thr_idx = np.arange(1, thresholds.shape[0], 5)\r\n",
        "print('샘플 임계값의 인덱스: ', thr_idx)\r\n",
        "print('샘플 임계값         : ', np.round(thresholds[thr_idx], 2))\r\n",
        "\r\n",
        "print('샘플 임계값의 FPRs: ', np.round(FPRs[thr_idx], 3))\r\n",
        "print('샘플 임계값의 TPRs: ', np.round(TPRs[thr_idx], 3))"
      ],
      "execution_count": 37,
      "outputs": [
        {
          "output_type": "stream",
          "text": [
            "임계 값의 크기      :  (58,)\n",
            "샘플 임계값의 인덱스:  [ 1  6 11 16 21 26 31 36 41 46 51 56]\n",
            "샘플 임계값         :  [0.97 0.71 0.66 0.61 0.46 0.31 0.29 0.19 0.17 0.13 0.13 0.12]\n",
            "샘플 임계값의 FPRs:  [0.    0.008 0.025 0.059 0.085 0.153 0.186 0.407 0.534 0.661 0.763 0.822]\n",
            "샘플 임계값의 TPRs:  [0.016 0.508 0.639 0.672 0.754 0.803 0.852 0.885 0.902 0.951 0.967 1.   ]\n"
          ],
          "name": "stdout"
        }
      ]
    },
    {
      "cell_type": "markdown",
      "metadata": {
        "id": "ziYCa1EIys32"
      },
      "source": [
        "그래프로 나타내기"
      ]
    },
    {
      "cell_type": "code",
      "metadata": {
        "colab": {
          "base_uri": "https://localhost:8080/",
          "height": 501
        },
        "id": "0FskmVJLys33",
        "outputId": "e7a70edf-7b86-4b9e-d492-bfebd9abe24d"
      },
      "source": [
        "import matplotlib.ticker as ticker\r\n",
        "\r\n",
        "def roc_curve_plot(y_test, pred_proba_c1):\r\n",
        "  FPRs, TPRs, thresholds = roc_curve(y_test, pred_proba_c1)\r\n",
        "\r\n",
        "  plt.figure(figsize=(10,8))\r\n",
        "  # ROC 곡선을 그림\r\n",
        "  plt.plot(FPRs, TPRs, label='ROC')\r\n",
        "  # 가운데 대각선을 그림\r\n",
        "  plt.plot([0,1], [0,1], 'k--', label = 'Random')\r\n",
        "\r\n",
        "  start, end = plt.xlim()\r\n",
        "  plt.xticks(np.round(np.arange(start, end, 0.1), 2))\r\n",
        "  plt.xlim(0, 1)\r\n",
        "  plt.ylim(0, 1)\r\n",
        "  plt.xlabel('FPR(1 - Sensitivity)')\r\n",
        "  plt.ylabel('TPR(Recall)')\r\n",
        "  plt.legend()\r\n",
        "  plt.show()\r\n",
        "\r\n",
        "roc_curve_plot(y_test, pred_proba_c1)"
      ],
      "execution_count": 38,
      "outputs": [
        {
          "output_type": "display_data",
          "data": {
            "image/png": "[encoded data removed]",
            "text/plain": [
              "<Figure size 720x576 with 1 Axes>"
            ]
          },
          "metadata": {
            "tags": [],
            "needs_background": "light"
          }
        }
      ]
    },
    {
      "cell_type": "code",
      "metadata": {
        "id": "X_gvpmib9ofe",
        "colab": {
          "base_uri": "https://localhost:8080/"
        },
        "outputId": "6fb49851-6b51-4378-fcd1-f452c760e781"
      },
      "source": [
        "from sklearn.metrics import roc_auc_score\r\n",
        "\r\n",
        "print(\"AUC 값: \", roc_auc_score(y_test, pred_proba_c1))"
      ],
      "execution_count": 39,
      "outputs": [
        {
          "output_type": "stream",
          "text": [
            "AUC 값:  0.8908724645734927\n"
          ],
          "name": "stdout"
        }
      ]
    },
    {
      "cell_type": "markdown",
      "metadata": {
        "id": "Oi1PO_VB0eLD"
      },
      "source": [
        "# 정리"
      ]
    },
    {
      "cell_type": "code",
      "metadata": {
        "id": "EZepCvS28KX1"
      },
      "source": [
        "df = pd.read_csv('/content/drive/MyDrive/Study/파이썬 머신러닝 완벽가이드/data/titanic_train.csv')"
      ],
      "execution_count": 40,
      "outputs": []
    },
    {
      "cell_type": "code",
      "metadata": {
        "id": "w-2cPa0z8KX5"
      },
      "source": [
        "from sklearn.preprocessing import LabelEncoder\r\n",
        "\r\n",
        "def get_category(age):\r\n",
        "  cat = ''\r\n",
        "  if age <= -1: cat = 'Unknown'\r\n",
        "  elif age <= 5: cat = 'Baby'\r\n",
        "  elif age <= 12: cat = 'Child'\r\n",
        "  elif age <= 18: cat = 'Teenager'\r\n",
        "  elif age <= 25: cat = 'Student'\r\n",
        "  elif age <= 35: cat = 'Young Adult'\r\n",
        "  elif age <= 60: cat = 'Adult'\r\n",
        "  else: cat = 'Elderly'\r\n",
        "\r\n",
        "  return cat\r\n",
        "\r\n",
        "# 결측치 채우기\r\n",
        "def fillna(df):\r\n",
        "  df['Age'].fillna(df['Age'].mean(), inplace = True)\r\n",
        "  df['Embarked'].fillna('S', inplace = True)\r\n",
        "  df['Cabin'].fillna('N', inplace = True)\r\n",
        "  df['Age_cat'] = df['Age'].apply(lambda x : get_category(x))\r\n",
        "\r\n",
        "  return df\r\n",
        "\r\n",
        "# 불필요한 속성 제거\r\n",
        "def drop_features(df):\r\n",
        "  df.drop(['PassengerId', 'Name', 'Ticket'], axis=1, inplace=True)\r\n",
        "  return df\r\n",
        "\r\n",
        "# 레이블 인코딩 수행\r\n",
        "def format_features(df):\r\n",
        "  cols = ['Sex', 'Cabin', 'Embarked', 'Age_cat']\r\n",
        "  for col in cols:\r\n",
        "    le = LabelEncoder()\r\n",
        "    le = le.fit(df[col])\r\n",
        "    df[col] = le.transform(df[col])\r\n",
        "  \r\n",
        "  return df\r\n",
        "\r\n",
        "# 전체 전처리 함수\r\n",
        "def transform_features(df):\r\n",
        "  df = fillna(df)\r\n",
        "  df = drop_features(df)\r\n",
        "  df = format_features(df)\r\n",
        "  return df"
      ],
      "execution_count": 41,
      "outputs": []
    },
    {
      "cell_type": "code",
      "metadata": {
        "id": "UjjwOxVC8KX6"
      },
      "source": [
        "target = df['Survived']\r\n",
        "features = df.drop('Survived', axis=1)\r\n",
        "features = transform_features(features)"
      ],
      "execution_count": 42,
      "outputs": []
    },
    {
      "cell_type": "code",
      "metadata": {
        "id": "LTi9zi8d8KX7"
      },
      "source": [
        "from sklearn.model_selection import train_test_split\r\n",
        "x_train, x_test, y_train, y_test = train_test_split(features, target, test_size=0.2, random_state = 11)"
      ],
      "execution_count": 43,
      "outputs": []
    },
    {
      "cell_type": "code",
      "metadata": {
        "id": "AURuFGBXya15"
      },
      "source": [
        "from sklearn.metrics import accuracy_score, precision_score, recall_score, confusion_matrix, f1_score, roc_auc_score\r\n",
        "\r\n",
        "def get_clf_eval(y_test, pred = None, pred_proba = None):\r\n",
        "  confusion = confusion_matrix(y_test, pred)\r\n",
        "  accuracy = accuracy_score(y_test, pred)\r\n",
        "  precision = precision_score(y_test, pred)\r\n",
        "  recall = recall_score(y_test, pred)\r\n",
        "  f1 = f1_score(y_test, pred)\r\n",
        "  roc_auc = roc_auc_score(y_test, pred_proba)\r\n",
        "  print('오차 행렬')\r\n",
        "  print(confusion)\r\n",
        "  print('정확도 : {0:.4f}, 정밀도 : {1:.4f}, 재현율 : {2:.4f}, F1 스코어: {3:.4f}, AUC: {4:.4f}'.format(accuracy, precision, recall, f1, roc_auc))"
      ],
      "execution_count": 44,
      "outputs": []
    },
    {
      "cell_type": "code",
      "metadata": {
        "colab": {
          "base_uri": "https://localhost:8080/"
        },
        "id": "VQb4R-GN0qMV",
        "outputId": "b9774c35-1de2-413b-df66-989c77c61f6e"
      },
      "source": [
        "from sklearn.linear_model import LogisticRegression\r\n",
        "\r\n",
        "lr_clf = LogisticRegression(random_state=11)\r\n",
        "\r\n",
        "lr_clf.fit(x_train, y_train)\r\n",
        "pred = lr_clf.predict(x_test)\r\n",
        "pred_proba = lr_clf.predict_proba(x_test)\r\n",
        "pred_proba_c1 = pred_proba[:, 1].reshape(-1,1)\r\n",
        "\r\n",
        "get_clf_eval(y_test, pred, pred_proba_c1)"
      ],
      "execution_count": 45,
      "outputs": [
        {
          "output_type": "stream",
          "text": [
            "오차 행렬\n",
            "[[109   9]\n",
            " [ 16  45]]\n",
            "정확도 : 0.8603, 정밀도 : 0.8333, 재현율 : 0.7377, F1 스코어: 0.7826, AUC: 0.8909\n"
          ],
          "name": "stdout"
        }
      ]
    }
  ]
}